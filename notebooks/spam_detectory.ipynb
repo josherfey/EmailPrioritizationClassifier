{
 "cells": [
  {
   "cell_type": "code",
   "execution_count": 2,
   "id": "babf3911",
   "metadata": {},
   "outputs": [],
   "source": [
    "# test_email_model.ipynb\n",
    "import sys\n",
    "import os \n",
    "import pandas as pd\n",
    "\n",
    "module_path = os.path.abspath(os.path.join(os.getcwd(), \"../email_prioritizer\"))\n",
    "sys.path.append(module_path)\n",
    "\n",
    "from email_prioritizer import EmailPrioritizer\n",
    "from sklearn.model_selection import train_test_split"
   ]
  },
  {
   "cell_type": "code",
   "execution_count": 4,
   "id": "cf26184d",
   "metadata": {},
   "outputs": [
    {
     "data": {
      "application/vnd.microsoft.datawrangler.viewer.v0+json": {
       "columns": [
        {
         "name": "index",
         "rawType": "int64",
         "type": "integer"
        },
        {
         "name": "id",
         "rawType": "int64",
         "type": "integer"
        },
        {
         "name": "email",
         "rawType": "object",
         "type": "string"
        },
        {
         "name": "label",
         "rawType": "object",
         "type": "string"
        },
        {
         "name": "Label",
         "rawType": "bool",
         "type": "boolean"
        }
       ],
       "ref": "828be30d-809a-4319-bf4a-820b7c57a91f",
       "rows": [
        [
         "0",
         "2685",
         "From: support@legitcompany.com\nSubject: Regarding Your Recent Inquiry\n\nThank you for reaching out regarding [your inquiry]. We have reviewed your request and will get back to you within 24 hours with a detailed response. Sincerely, Customer Service Team",
         "ham",
         "False"
        ],
        [
         "1",
         "5857",
         "From: noreply@softwareupdates.com\nSubject: Weekly Newsletter - Latest Updates\n\nPlease find attached your invoice for the services rendered in June. The total amount due is $X.XX. Payment is due by [Date]. If you have any questions, please reply to this email. Thank you, Accounts Department",
         "ham",
         "False"
        ],
        [
         "2",
         "2399",
         "From: noreply@softwareupdates.com\nSubject: Important: Software Update Notification\n\nThank you for your order #6789. Your items will be shipped within 2 business days. You can track your order here: [link to legitimate tracking page]. Best regards, Legit Company Support",
         "ham",
         "False"
        ],
        [
         "3",
         "3244",
         "From: info@customerservice.co\nSubject: Team Stand-up at 10 AM\n\nPlease find attached your invoice for the services rendered in June. The total amount due is $X.XX. Payment is due by [Date]. If you have any questions, please reply to this email. Thank you, Accounts Department",
         "ham",
         "False"
        ],
        [
         "4",
         "2844",
         "From: info@customerservice.co\nSubject: Team Stand-up at 10 AM\n\nHere's your weekly dose of news and updates from our community. This week, we cover [topic 1] and [topic 2]. Read more on our blog: [link to blog]. Sincerely, The Newsletter Team",
         "ham",
         "False"
        ],
        [
         "5",
         "9740",
         "From: survey@retailfeedback.com\nSubject: Invoice for Services Rendered\n\nHey [Friend's Name], it's been a while! How have you been? I was thinking about [recent event/topic]. Let's catch up soon! Cheers, [Your Name]",
         "ham",
         "False"
        ],
        [
         "6",
         "9126",
         "From: info@customerservice.co\nSubject: Invoice for Services Rendered\n\nHi team, just a reminder about our Project Alpha meeting tomorrow at 10 AM in Conference Room 3. Please come prepared to discuss the Q3 roadmap. Best, John",
         "ham",
         "False"
        ],
        [
         "7",
         "5188",
         "From: noreply@softwareupdates.com\nSubject: Feedback Request: Your Recent Purchase\n\nHi everyone, I've uploaded the photos from our weekend trip to the shared drive. You can view them here: [link to cloud storage]. Let me know what you think! Best, [Your Name]",
         "ham",
         "False"
        ],
        [
         "8",
         "9823",
         "From: survey@retailfeedback.com\nSubject: Your Order #6789 Confirmed\n\nThis is an automated notification regarding an important software update for your system. Please ensure your software is updated to the latest version to maintain security and performance. Learn more: [link to official update page]. Regards, Software Updates",
         "ham",
         "False"
        ],
        [
         "9",
         "3726",
         "From: family@homemail.net\nSubject: Important: Software Update Notification\n\nThank you for your order #6789. Your items will be shipped within 2 business days. You can track your order here: [link to legitimate tracking page]. Best regards, Legit Company Support",
         "ham",
         "False"
        ],
        [
         "10",
         "3490",
         "From: noreply@softwareupdates.com\nSubject: Feedback Request: Your Recent Purchase\n\nThank you for reaching out regarding [your inquiry]. We have reviewed your request and will get back to you within 24 hours with a detailed response. Sincerely, Customer Service Team",
         "ham",
         "False"
        ],
        [
         "11",
         "9526",
         "From: noreply@softwareupdates.com\nSubject: Invoice for Services Rendered\n\nGood morning, everyone. Just a quick reminder for our daily stand-up meeting at 10 AM. Please be ready to share your progress and any blockers. Thanks, Project Manager",
         "ham",
         "False"
        ],
        [
         "12",
         "8992",
         "From: john.doe@example.com\nSubject: Catching Up - How are you?\n\nPlease find attached your invoice for the services rendered in June. The total amount due is $X.XX. Payment is due by [Date]. If you have any questions, please reply to this email. Thank you, Accounts Department",
         "ham",
         "False"
        ],
        [
         "13",
         "8850",
         "From: friend@personalmail.net\nSubject: Catching Up - How are you?\n\nPlease find attached your invoice for the services rendered in June. The total amount due is $X.XX. Payment is due by [Date]. If you have any questions, please reply to this email. Thank you, Accounts Department",
         "ham",
         "False"
        ],
        [
         "14",
         "5424",
         "From: support@legitcompany.com\nSubject: Photos from the Weekend Trip\n\nPlease find attached your invoice for the services rendered in June. The total amount due is $X.XX. Payment is due by [Date]. If you have any questions, please reply to this email. Thank you, Accounts Department",
         "ham",
         "False"
        ],
        [
         "15",
         "5870",
         "From: support@legitcompany.com\nSubject: Meeting Reminder: Project Alpha\n\nHi team, just a reminder about our Project Alpha meeting tomorrow at 10 AM in Conference Room 3. Please come prepared to discuss the Q3 roadmap. Best, John",
         "ham",
         "False"
        ],
        [
         "16",
         "7360",
         "From: info@customerservice.co\nSubject: Invoice for Services Rendered\n\nWe value your feedback! Please take a few moments to complete a short survey about your recent purchase from us. Your input helps us improve. Take survey: [link to survey]. Thank you, Retail Feedback Team",
         "ham",
         "False"
        ],
        [
         "17",
         "5808",
         "From: info@customerservice.co\nSubject: Regarding Your Recent Inquiry\n\nThank you for your order #6789. Your items will be shipped within 2 business days. You can track your order here: [link to legitimate tracking page]. Best regards, Legit Company Support",
         "ham",
         "False"
        ],
        [
         "18",
         "9441",
         "From: accounts@billingcorp.com\nSubject: Your Order #6789 Confirmed\n\nPlease find attached your invoice for the services rendered in June. The total amount due is $X.XX. Payment is due by [Date]. If you have any questions, please reply to this email. Thank you, Accounts Department",
         "ham",
         "False"
        ],
        [
         "19",
         "129",
         "From: social@media-boost.online\nSubject: Your Package Is Delayed - Action Required\n\nInvest in our revolutionary new platform and earn guaranteed high returns. Learn more: [link]",
         "spam",
         "True"
        ],
        [
         "20",
         "6291",
         "From: support@legitcompany.com\nSubject: Regarding Your Recent Inquiry\n\nWe value your feedback! Please take a few moments to complete a short survey about your recent purchase from us. Your input helps us improve. Take survey: [link to survey]. Thank you, Retail Feedback Team",
         "ham",
         "False"
        ],
        [
         "21",
         "9698",
         "From: team@projectmanagement.com\nSubject: Invoice for Services Rendered\n\nHere's your weekly dose of news and updates from our community. This week, we cover [topic 1] and [topic 2]. Read more on our blog: [link to blog]. Sincerely, The Newsletter Team",
         "ham",
         "False"
        ],
        [
         "22",
         "5788",
         "From: team@projectmanagement.com\nSubject: Feedback Request: Your Recent Purchase\n\nHi team, just a reminder about our Project Alpha meeting tomorrow at 10 AM in Conference Room 3. Please come prepared to discuss the Q3 roadmap. Best, John",
         "ham",
         "False"
        ],
        [
         "23",
         "881",
         "From: info@unclaimed-funds.co\nSubject: Important Security Alert: Login from New Device\n\nWe detected suspicious login attempts on your account. For your security, please update your password immediately: [link]",
         "spam",
         "True"
        ],
        [
         "24",
         "1837",
         "From: survey@retailfeedback.com\nSubject: Important: Software Update Notification\n\nThank you for your order #6789. Your items will be shipped within 2 business days. You can track your order here: [link to legitimate tracking page]. Best regards, Legit Company Support",
         "ham",
         "False"
        ],
        [
         "25",
         "3795",
         "From: info@customerservice.co\nSubject: Important: Software Update Notification\n\nHey [Friend's Name], it's been a while! How have you been? I was thinking about [recent event/topic]. Let's catch up soon! Cheers, [Your Name]",
         "ham",
         "False"
        ],
        [
         "26",
         "5831",
         "From: accounts@billingcorp.com\nSubject: Photos from the Weekend Trip\n\nHi team, just a reminder about our Project Alpha meeting tomorrow at 10 AM in Conference Room 3. Please come prepared to discuss the Q3 roadmap. Best, John",
         "ham",
         "False"
        ],
        [
         "27",
         "9359",
         "From: accounts@billingcorp.com\nSubject: Regarding Your Recent Inquiry\n\nWe value your feedback! Please take a few moments to complete a short survey about your recent purchase from us. Your input helps us improve. Take survey: [link to survey]. Thank you, Retail Feedback Team",
         "ham",
         "False"
        ],
        [
         "28",
         "6367",
         "From: support@legitcompany.com\nSubject: Photos from the Weekend Trip\n\nPlease find attached your invoice for the services rendered in June. The total amount due is $X.XX. Payment is due by [Date]. If you have any questions, please reply to this email. Thank you, Accounts Department",
         "ham",
         "False"
        ],
        [
         "29",
         "2767",
         "From: survey@retailfeedback.com\nSubject: Your Order #6789 Confirmed\n\nWe value your feedback! Please take a few moments to complete a short survey about your recent purchase from us. Your input helps us improve. Take survey: [link to survey]. Thank you, Retail Feedback Team",
         "ham",
         "False"
        ],
        [
         "30",
         "8135",
         "From: john.doe@example.com\nSubject: Feedback Request: Your Recent Purchase\n\nHere's your weekly dose of news and updates from our community. This week, we cover [topic 1] and [topic 2]. Read more on our blog: [link to blog]. Sincerely, The Newsletter Team",
         "ham",
         "False"
        ],
        [
         "31",
         "112",
         "From: money@easy-cash.top\nSubject: Unclaimed Funds Await You\n\nA large sum of money is waiting for you. Contact us to claim your inheritance: [email]",
         "spam",
         "True"
        ],
        [
         "32",
         "1228",
         "From: social@media-boost.online\nSubject: URGENT: Your Account Has Been Compromised!\n\nInvest in our revolutionary new platform and earn guaranteed high returns. Learn more: [link]",
         "spam",
         "True"
        ],
        [
         "33",
         "348",
         "From: security@alert-system.ru\nSubject: Unclaimed Funds Await You\n\nDear customer, your account has been temporarily suspended due to unusual activity. Please click here to verify your details: [link]",
         "spam",
         "True"
        ],
        [
         "34",
         "9837",
         "From: john.doe@example.com\nSubject: Weekly Newsletter - Latest Updates\n\nThis is an automated notification regarding an important software update for your system. Please ensure your software is updated to the latest version to maintain security and performance. Learn more: [link to official update page]. Regards, Software Updates",
         "ham",
         "False"
        ],
        [
         "35",
         "257",
         "From: admin@bank-verify.org\nSubject: Important Security Alert: Login from New Device\n\nInvest in our revolutionary new platform and earn guaranteed high returns. Learn more: [link]",
         "spam",
         "True"
        ],
        [
         "36",
         "140",
         "From: admin@bank-verify.org\nSubject: Verify Your Bank Details Immediately\n\nA large sum of money is waiting for you. Contact us to claim your inheritance: [email]",
         "spam",
         "True"
        ],
        [
         "37",
         "362",
         "From: delivery@package-update.info\nSubject: Verify Your Bank Details Immediately\n\nInvest in our revolutionary new platform and earn guaranteed high returns. Learn more: [link]",
         "spam",
         "True"
        ],
        [
         "38",
         "5330",
         "From: survey@retailfeedback.com\nSubject: Photos from the Weekend Trip\n\nHey [Friend's Name], it's been a while! How have you been? I was thinking about [recent event/topic]. Let's catch up soon! Cheers, [Your Name]",
         "ham",
         "False"
        ],
        [
         "39",
         "1706",
         "From: team@projectmanagement.com\nSubject: Invoice for Services Rendered\n\nThank you for reaching out regarding [your inquiry]. We have reviewed your request and will get back to you within 24 hours with a detailed response. Sincerely, Customer Service Team",
         "ham",
         "False"
        ],
        [
         "40",
         "7773",
         "From: noreply@softwareupdates.com\nSubject: Regarding Your Recent Inquiry\n\nHi team, just a reminder about our Project Alpha meeting tomorrow at 10 AM in Conference Room 3. Please come prepared to discuss the Q3 roadmap. Best, John",
         "ham",
         "False"
        ],
        [
         "41",
         "1251",
         "From: social@media-boost.online\nSubject: Congratulations! You've Won a Free iPhone!\n\nYou have been selected as the lucky winner of our annual lottery! To claim your prize, please provide your banking information: [link]",
         "spam",
         "True"
        ],
        [
         "42",
         "4079",
         "From: support@legitcompany.com\nSubject: Invoice for Services Rendered\n\nHi team, just a reminder about our Project Alpha meeting tomorrow at 10 AM in Conference Room 3. Please come prepared to discuss the Q3 roadmap. Best, John",
         "ham",
         "False"
        ],
        [
         "43",
         "4869",
         "From: noreply@softwareupdates.com\nSubject: Photos from the Weekend Trip\n\nHey [Friend's Name], it's been a while! How have you been? I was thinking about [recent event/topic]. Let's catch up soon! Cheers, [Your Name]",
         "ham",
         "False"
        ],
        [
         "44",
         "8148",
         "From: info@customerservice.co\nSubject: Catching Up - How are you?\n\nHi everyone, I've uploaded the photos from our weekend trip to the shared drive. You can view them here: [link to cloud storage]. Let me know what you think! Best, [Your Name]",
         "ham",
         "False"
        ],
        [
         "45",
         "2755",
         "From: support@legitcompany.com\nSubject: Your Order #6789 Confirmed\n\nGood morning, everyone. Just a quick reminder for our daily stand-up meeting at 10 AM. Please be ready to share your progress and any blockers. Thanks, Project Manager",
         "ham",
         "False"
        ],
        [
         "46",
         "9466",
         "From: info@customerservice.co\nSubject: Team Stand-up at 10 AM\n\nWe value your feedback! Please take a few moments to complete a short survey about your recent purchase from us. Your input helps us improve. Take survey: [link to survey]. Thank you, Retail Feedback Team",
         "ham",
         "False"
        ],
        [
         "47",
         "5438",
         "From: john.doe@example.com\nSubject: Important: Software Update Notification\n\nThis is an automated notification regarding an important software update for your system. Please ensure your software is updated to the latest version to maintain security and performance. Learn more: [link to official update page]. Regards, Software Updates",
         "ham",
         "False"
        ],
        [
         "48",
         "3053",
         "From: friend@personalmail.net\nSubject: Invoice for Services Rendered\n\nThank you for reaching out regarding [your inquiry]. We have reviewed your request and will get back to you within 24 hours with a detailed response. Sincerely, Customer Service Team",
         "ham",
         "False"
        ],
        [
         "49",
         "8550",
         "From: newsletter@info.org\nSubject: Important: Software Update Notification\n\nHey [Friend's Name], it's been a while! How have you been? I was thinking about [recent event/topic]. Let's catch up soon! Cheers, [Your Name]",
         "ham",
         "False"
        ]
       ],
       "shape": {
        "columns": 4,
        "rows": 10000
       }
      },
      "text/html": [
       "<div>\n",
       "<style scoped>\n",
       "    .dataframe tbody tr th:only-of-type {\n",
       "        vertical-align: middle;\n",
       "    }\n",
       "\n",
       "    .dataframe tbody tr th {\n",
       "        vertical-align: top;\n",
       "    }\n",
       "\n",
       "    .dataframe thead th {\n",
       "        text-align: right;\n",
       "    }\n",
       "</style>\n",
       "<table border=\"1\" class=\"dataframe\">\n",
       "  <thead>\n",
       "    <tr style=\"text-align: right;\">\n",
       "      <th></th>\n",
       "      <th>id</th>\n",
       "      <th>email</th>\n",
       "      <th>label</th>\n",
       "      <th>Label</th>\n",
       "    </tr>\n",
       "  </thead>\n",
       "  <tbody>\n",
       "    <tr>\n",
       "      <th>0</th>\n",
       "      <td>2685</td>\n",
       "      <td>From: support@legitcompany.com\\nSubject: Regar...</td>\n",
       "      <td>ham</td>\n",
       "      <td>False</td>\n",
       "    </tr>\n",
       "    <tr>\n",
       "      <th>1</th>\n",
       "      <td>5857</td>\n",
       "      <td>From: noreply@softwareupdates.com\\nSubject: We...</td>\n",
       "      <td>ham</td>\n",
       "      <td>False</td>\n",
       "    </tr>\n",
       "    <tr>\n",
       "      <th>2</th>\n",
       "      <td>2399</td>\n",
       "      <td>From: noreply@softwareupdates.com\\nSubject: Im...</td>\n",
       "      <td>ham</td>\n",
       "      <td>False</td>\n",
       "    </tr>\n",
       "    <tr>\n",
       "      <th>3</th>\n",
       "      <td>3244</td>\n",
       "      <td>From: info@customerservice.co\\nSubject: Team S...</td>\n",
       "      <td>ham</td>\n",
       "      <td>False</td>\n",
       "    </tr>\n",
       "    <tr>\n",
       "      <th>4</th>\n",
       "      <td>2844</td>\n",
       "      <td>From: info@customerservice.co\\nSubject: Team S...</td>\n",
       "      <td>ham</td>\n",
       "      <td>False</td>\n",
       "    </tr>\n",
       "    <tr>\n",
       "      <th>...</th>\n",
       "      <td>...</td>\n",
       "      <td>...</td>\n",
       "      <td>...</td>\n",
       "      <td>...</td>\n",
       "    </tr>\n",
       "    <tr>\n",
       "      <th>9995</th>\n",
       "      <td>6397</td>\n",
       "      <td>From: noreply@softwareupdates.com\\nSubject: Ca...</td>\n",
       "      <td>ham</td>\n",
       "      <td>False</td>\n",
       "    </tr>\n",
       "    <tr>\n",
       "      <th>9996</th>\n",
       "      <td>7470</td>\n",
       "      <td>From: family@homemail.net\\nSubject: Weekly New...</td>\n",
       "      <td>ham</td>\n",
       "      <td>False</td>\n",
       "    </tr>\n",
       "    <tr>\n",
       "      <th>9997</th>\n",
       "      <td>9273</td>\n",
       "      <td>From: team@projectmanagement.com\\nSubject: Fee...</td>\n",
       "      <td>ham</td>\n",
       "      <td>False</td>\n",
       "    </tr>\n",
       "    <tr>\n",
       "      <th>9998</th>\n",
       "      <td>3192</td>\n",
       "      <td>From: accounts@billingcorp.com\\nSubject: Photo...</td>\n",
       "      <td>ham</td>\n",
       "      <td>False</td>\n",
       "    </tr>\n",
       "    <tr>\n",
       "      <th>9999</th>\n",
       "      <td>979</td>\n",
       "      <td>From: support@secure-login.com\\nSubject: Uncla...</td>\n",
       "      <td>spam</td>\n",
       "      <td>True</td>\n",
       "    </tr>\n",
       "  </tbody>\n",
       "</table>\n",
       "<p>10000 rows × 4 columns</p>\n",
       "</div>"
      ],
      "text/plain": [
       "        id                                              email label  Label\n",
       "0     2685  From: support@legitcompany.com\\nSubject: Regar...   ham  False\n",
       "1     5857  From: noreply@softwareupdates.com\\nSubject: We...   ham  False\n",
       "2     2399  From: noreply@softwareupdates.com\\nSubject: Im...   ham  False\n",
       "3     3244  From: info@customerservice.co\\nSubject: Team S...   ham  False\n",
       "4     2844  From: info@customerservice.co\\nSubject: Team S...   ham  False\n",
       "...    ...                                                ...   ...    ...\n",
       "9995  6397  From: noreply@softwareupdates.com\\nSubject: Ca...   ham  False\n",
       "9996  7470  From: family@homemail.net\\nSubject: Weekly New...   ham  False\n",
       "9997  9273  From: team@projectmanagement.com\\nSubject: Fee...   ham  False\n",
       "9998  3192  From: accounts@billingcorp.com\\nSubject: Photo...   ham  False\n",
       "9999   979  From: support@secure-login.com\\nSubject: Uncla...  spam   True\n",
       "\n",
       "[10000 rows x 4 columns]"
      ]
     },
     "execution_count": 4,
     "metadata": {},
     "output_type": "execute_result"
    }
   ],
   "source": [
    "df_emails_data = pd.read_csv(\"../data/email_classification_dataset.csv\")\n",
    "df_emails_data[\"Label\"] = df_emails_data['label'] == 'spam'\n",
    "df_emails_data"
   ]
  },
  {
   "cell_type": "code",
   "execution_count": 5,
   "id": "2fbafb5d",
   "metadata": {},
   "outputs": [
    {
     "data": {
      "application/vnd.microsoft.datawrangler.viewer.v0+json": {
       "columns": [
        {
         "name": "index",
         "rawType": "int64",
         "type": "integer"
        },
        {
         "name": "id",
         "rawType": "int64",
         "type": "integer"
        },
        {
         "name": "email",
         "rawType": "object",
         "type": "string"
        },
        {
         "name": "label",
         "rawType": "object",
         "type": "string"
        },
        {
         "name": "Label",
         "rawType": "bool",
         "type": "boolean"
        }
       ],
       "ref": "32b69401-84f2-432c-aa33-f523f04762c1",
       "rows": [
        [
         "764",
         "175",
         "From: noreply@winner-prize.net\nSubject: Exclusive Investment Opportunity - High Returns!\n\nInvest in our revolutionary new platform and earn guaranteed high returns. Learn more: [link]",
         "spam",
         "True"
        ],
        [
         "5019",
         "7411",
         "From: newsletter@info.org\nSubject: Regarding Your Recent Inquiry\n\nGood morning, everyone. Just a quick reminder for our daily stand-up meeting at 10 AM. Please be ready to share your progress and any blockers. Thanks, Project Manager",
         "ham",
         "False"
        ],
        [
         "4903",
         "9541",
         "From: survey@retailfeedback.com\nSubject: Regarding Your Recent Inquiry\n\nHi team, just a reminder about our Project Alpha meeting tomorrow at 10 AM in Conference Room 3. Please come prepared to discuss the Q3 roadmap. Best, John",
         "ham",
         "False"
        ],
        [
         "8093",
         "2428",
         "From: newsletter@info.org\nSubject: Meeting Reminder: Project Alpha\n\nThank you for your order #6789. Your items will be shipped within 2 business days. You can track your order here: [link to legitimate tracking page]. Best regards, Legit Company Support",
         "ham",
         "False"
        ],
        [
         "6843",
         "8676",
         "From: friend@personalmail.net\nSubject: Team Stand-up at 10 AM\n\nPlease find attached your invoice for the services rendered in June. The total amount due is $X.XX. Payment is due by [Date]. If you have any questions, please reply to this email. Thank you, Accounts Department",
         "ham",
         "False"
        ],
        [
         "2165",
         "7459",
         "From: family@homemail.net\nSubject: Important: Software Update Notification\n\nPlease find attached your invoice for the services rendered in June. The total amount due is $X.XX. Payment is due by [Date]. If you have any questions, please reply to this email. Thank you, Accounts Department",
         "ham",
         "False"
        ],
        [
         "1862",
         "8288",
         "From: friend@personalmail.net\nSubject: Invoice for Services Rendered\n\nHi team, just a reminder about our Project Alpha meeting tomorrow at 10 AM in Conference Room 3. Please come prepared to discuss the Q3 roadmap. Best, John",
         "ham",
         "False"
        ],
        [
         "7850",
         "6361",
         "From: survey@retailfeedback.com\nSubject: Photos from the Weekend Trip\n\nThank you for your order #6789. Your items will be shipped within 2 business days. You can track your order here: [link to legitimate tracking page]. Best regards, Legit Company Support",
         "ham",
         "False"
        ],
        [
         "9123",
         "7634",
         "From: noreply@softwareupdates.com\nSubject: Photos from the Weekend Trip\n\nThank you for reaching out regarding [your inquiry]. We have reviewed your request and will get back to you within 24 hours with a detailed response. Sincerely, Customer Service Team",
         "ham",
         "False"
        ],
        [
         "2340",
         "5172",
         "From: friend@personalmail.net\nSubject: Your Order #6789 Confirmed\n\nHi everyone, I've uploaded the photos from our weekend trip to the shared drive. You can view them here: [link to cloud storage]. Let me know what you think! Best, [Your Name]",
         "ham",
         "False"
        ],
        [
         "5527",
         "8600",
         "From: friend@personalmail.net\nSubject: Your Order #6789 Confirmed\n\nPlease find attached your invoice for the services rendered in June. The total amount due is $X.XX. Payment is due by [Date]. If you have any questions, please reply to this email. Thank you, Accounts Department",
         "ham",
         "False"
        ],
        [
         "6743",
         "4422",
         "From: team@projectmanagement.com\nSubject: Photos from the Weekend Trip\n\nWe value your feedback! Please take a few moments to complete a short survey about your recent purchase from us. Your input helps us improve. Take survey: [link to survey]. Thank you, Retail Feedback Team",
         "ham",
         "False"
        ],
        [
         "4003",
         "7147",
         "From: noreply@softwareupdates.com\nSubject: Weekly Newsletter - Latest Updates\n\nGood morning, everyone. Just a quick reminder for our daily stand-up meeting at 10 AM. Please be ready to share your progress and any blockers. Thanks, Project Manager",
         "ham",
         "False"
        ],
        [
         "1123",
         "6344",
         "From: support@legitcompany.com\nSubject: Photos from the Weekend Trip\n\nHi team, just a reminder about our Project Alpha meeting tomorrow at 10 AM in Conference Room 3. Please come prepared to discuss the Q3 roadmap. Best, John",
         "ham",
         "False"
        ],
        [
         "8709",
         "2972",
         "From: john.doe@example.com\nSubject: Regarding Your Recent Inquiry\n\nWe value your feedback! Please take a few moments to complete a short survey about your recent purchase from us. Your input helps us improve. Take survey: [link to survey]. Thank you, Retail Feedback Team",
         "ham",
         "False"
        ],
        [
         "4049",
         "3757",
         "From: john.doe@example.com\nSubject: Invoice for Services Rendered\n\nThis is an automated notification regarding an important software update for your system. Please ensure your software is updated to the latest version to maintain security and performance. Learn more: [link to official update page]. Regards, Software Updates",
         "ham",
         "False"
        ],
        [
         "7640",
         "1363",
         "From: deals@best-offers.xyz\nSubject: New Followers on Your Social Media!\n\nDear customer, your account has been temporarily suspended due to unusual activity. Please click here to verify your details: [link]",
         "spam",
         "True"
        ],
        [
         "765",
         "9077",
         "From: family@homemail.net\nSubject: Photos from the Weekend Trip\n\nGood morning, everyone. Just a quick reminder for our daily stand-up meeting at 10 AM. Please be ready to share your progress and any blockers. Thanks, Project Manager",
         "ham",
         "False"
        ],
        [
         "2344",
         "6679",
         "From: info@customerservice.co\nSubject: Feedback Request: Your Recent Purchase\n\nHey [Friend's Name], it's been a while! How have you been? I was thinking about [recent event/topic]. Let's catch up soon! Cheers, [Your Name]",
         "ham",
         "False"
        ],
        [
         "4071",
         "3549",
         "From: friend@personalmail.net\nSubject: Regarding Your Recent Inquiry\n\nHi everyone, I've uploaded the photos from our weekend trip to the shared drive. You can view them here: [link to cloud storage]. Let me know what you think! Best, [Your Name]",
         "ham",
         "False"
        ],
        [
         "7216",
         "2546",
         "From: john.doe@example.com\nSubject: Photos from the Weekend Trip\n\nHere's your weekly dose of news and updates from our community. This week, we cover [topic 1] and [topic 2]. Read more on our blog: [link to blog]. Sincerely, The Newsletter Team",
         "ham",
         "False"
        ],
        [
         "4216",
         "306",
         "From: social@media-boost.online\nSubject: Verify Your Bank Details Immediately\n\nUrgent security notification! A login from an unrecognized device was detected. Review activity: [link]",
         "spam",
         "True"
        ],
        [
         "7952",
         "3058",
         "From: noreply@softwareupdates.com\nSubject: Important: Software Update Notification\n\nGood morning, everyone. Just a quick reminder for our daily stand-up meeting at 10 AM. Please be ready to share your progress and any blockers. Thanks, Project Manager",
         "ham",
         "False"
        ],
        [
         "5970",
         "9955",
         "From: survey@retailfeedback.com\nSubject: Invoice for Services Rendered\n\nThank you for your order #6789. Your items will be shipped within 2 business days. You can track your order here: [link to legitimate tracking page]. Best regards, Legit Company Support",
         "ham",
         "False"
        ],
        [
         "3350",
         "174",
         "From: money@easy-cash.top\nSubject: Act Now: Limited Time Offer - 90% Off All Products!\n\nUrgent security notification! A login from an unrecognized device was detected. Review activity: [link]",
         "spam",
         "True"
        ],
        [
         "4695",
         "2109",
         "From: accounts@billingcorp.com\nSubject: Photos from the Weekend Trip\n\nPlease find attached your invoice for the services rendered in June. The total amount due is $X.XX. Payment is due by [Date]. If you have any questions, please reply to this email. Thank you, Accounts Department",
         "ham",
         "False"
        ],
        [
         "3399",
         "1802",
         "From: noreply@softwareupdates.com\nSubject: Meeting Reminder: Project Alpha\n\nWe value your feedback! Please take a few moments to complete a short survey about your recent purchase from us. Your input helps us improve. Take survey: [link to survey]. Thank you, Retail Feedback Team",
         "ham",
         "False"
        ],
        [
         "4081",
         "652",
         "From: noreply@winner-prize.net\nSubject: Exclusive Investment Opportunity - High Returns!\n\nYou have been selected as the lucky winner of our annual lottery! To claim your prize, please provide your banking information: [link]",
         "spam",
         "True"
        ],
        [
         "9149",
         "8716",
         "From: support@legitcompany.com\nSubject: Important: Software Update Notification\n\nHi everyone, I've uploaded the photos from our weekend trip to the shared drive. You can view them here: [link to cloud storage]. Let me know what you think! Best, [Your Name]",
         "ham",
         "False"
        ],
        [
         "1224",
         "2432",
         "From: friend@personalmail.net\nSubject: Weekly Newsletter - Latest Updates\n\nThis is an automated notification regarding an important software update for your system. Please ensure your software is updated to the latest version to maintain security and performance. Learn more: [link to official update page]. Regards, Software Updates",
         "ham",
         "False"
        ],
        [
         "6292",
         "6959",
         "From: accounts@billingcorp.com\nSubject: Meeting Reminder: Project Alpha\n\nThank you for reaching out regarding [your inquiry]. We have reviewed your request and will get back to you within 24 hours with a detailed response. Sincerely, Customer Service Team",
         "ham",
         "False"
        ],
        [
         "3122",
         "2421",
         "From: info@customerservice.co\nSubject: Weekly Newsletter - Latest Updates\n\nHi everyone, I've uploaded the photos from our weekend trip to the shared drive. You can view them here: [link to cloud storage]. Let me know what you think! Best, [Your Name]",
         "ham",
         "False"
        ],
        [
         "510",
         "8418",
         "From: john.doe@example.com\nSubject: Invoice for Services Rendered\n\nWe value your feedback! Please take a few moments to complete a short survey about your recent purchase from us. Your input helps us improve. Take survey: [link to survey]. Thank you, Retail Feedback Team",
         "ham",
         "False"
        ],
        [
         "5794",
         "3336",
         "From: family@homemail.net\nSubject: Team Stand-up at 10 AM\n\nHere's your weekly dose of news and updates from our community. This week, we cover [topic 1] and [topic 2]. Read more on our blog: [link to blog]. Sincerely, The Newsletter Team",
         "ham",
         "False"
        ],
        [
         "8181",
         "5827",
         "From: john.doe@example.com\nSubject: Your Order #6789 Confirmed\n\nGood morning, everyone. Just a quick reminder for our daily stand-up meeting at 10 AM. Please be ready to share your progress and any blockers. Thanks, Project Manager",
         "ham",
         "False"
        ],
        [
         "9417",
         "5534",
         "From: info@customerservice.co\nSubject: Meeting Reminder: Project Alpha\n\nHere's your weekly dose of news and updates from our community. This week, we cover [topic 1] and [topic 2]. Read more on our blog: [link to blog]. Sincerely, The Newsletter Team",
         "ham",
         "False"
        ],
        [
         "96",
         "9215",
         "From: family@homemail.net\nSubject: Weekly Newsletter - Latest Updates\n\nHere's your weekly dose of news and updates from our community. This week, we cover [topic 1] and [topic 2]. Read more on our blog: [link to blog]. Sincerely, The Newsletter Team",
         "ham",
         "False"
        ],
        [
         "6681",
         "368",
         "From: money@easy-cash.top\nSubject: Verify Your Bank Details Immediately\n\nInvest in our revolutionary new platform and earn guaranteed high returns. Learn more: [link]",
         "spam",
         "True"
        ],
        [
         "1512",
         "9618",
         "From: family@homemail.net\nSubject: Team Stand-up at 10 AM\n\nThank you for reaching out regarding [your inquiry]. We have reviewed your request and will get back to you within 24 hours with a detailed response. Sincerely, Customer Service Team",
         "ham",
         "False"
        ],
        [
         "8791",
         "798",
         "From: support@secure-login.com\nSubject: Unclaimed Funds Await You\n\nYou have been selected as the lucky winner of our annual lottery! To claim your prize, please provide your banking information: [link]",
         "spam",
         "True"
        ],
        [
         "119",
         "4764",
         "From: noreply@softwareupdates.com\nSubject: Weekly Newsletter - Latest Updates\n\nHere's your weekly dose of news and updates from our community. This week, we cover [topic 1] and [topic 2]. Read more on our blog: [link to blog]. Sincerely, The Newsletter Team",
         "ham",
         "False"
        ],
        [
         "7791",
         "8797",
         "From: team@projectmanagement.com\nSubject: Important: Software Update Notification\n\nHi everyone, I've uploaded the photos from our weekend trip to the shared drive. You can view them here: [link to cloud storage]. Let me know what you think! Best, [Your Name]",
         "ham",
         "False"
        ],
        [
         "6517",
         "212",
         "From: invest@global-finance.biz\nSubject: Get Rich Quick Scheme - No Experience Needed\n\nYour recent order #12345 is delayed. Click here to track your shipment and resolve the issue: [link]",
         "spam",
         "True"
        ],
        [
         "33",
         "348",
         "From: security@alert-system.ru\nSubject: Unclaimed Funds Await You\n\nDear customer, your account has been temporarily suspended due to unusual activity. Please click here to verify your details: [link]",
         "spam",
         "True"
        ],
        [
         "7887",
         "1503",
         "From: noreply@softwareupdates.com\nSubject: Regarding Your Recent Inquiry\n\nGood morning, everyone. Just a quick reminder for our daily stand-up meeting at 10 AM. Please be ready to share your progress and any blockers. Thanks, Project Manager",
         "ham",
         "False"
        ],
        [
         "6830",
         "6772",
         "From: family@homemail.net\nSubject: Weekly Newsletter - Latest Updates\n\nWe value your feedback! Please take a few moments to complete a short survey about your recent purchase from us. Your input helps us improve. Take survey: [link to survey]. Thank you, Retail Feedback Team",
         "ham",
         "False"
        ],
        [
         "5421",
         "9814",
         "From: newsletter@info.org\nSubject: Important: Software Update Notification\n\nHey [Friend's Name], it's been a while! How have you been? I was thinking about [recent event/topic]. Let's catch up soon! Cheers, [Your Name]",
         "ham",
         "False"
        ],
        [
         "1068",
         "9065",
         "From: noreply@softwareupdates.com\nSubject: Meeting Reminder: Project Alpha\n\nPlease find attached your invoice for the services rendered in June. The total amount due is $X.XX. Payment is due by [Date]. If you have any questions, please reply to this email. Thank you, Accounts Department",
         "ham",
         "False"
        ],
        [
         "1347",
         "3374",
         "From: john.doe@example.com\nSubject: Your Order #6789 Confirmed\n\nGood morning, everyone. Just a quick reminder for our daily stand-up meeting at 10 AM. Please be ready to share your progress and any blockers. Thanks, Project Manager",
         "ham",
         "False"
        ],
        [
         "4747",
         "7339",
         "From: newsletter@info.org\nSubject: Feedback Request: Your Recent Purchase\n\nThank you for reaching out regarding [your inquiry]. We have reviewed your request and will get back to you within 24 hours with a detailed response. Sincerely, Customer Service Team",
         "ham",
         "False"
        ]
       ],
       "shape": {
        "columns": 4,
        "rows": 9900
       }
      },
      "text/html": [
       "<div>\n",
       "<style scoped>\n",
       "    .dataframe tbody tr th:only-of-type {\n",
       "        vertical-align: middle;\n",
       "    }\n",
       "\n",
       "    .dataframe tbody tr th {\n",
       "        vertical-align: top;\n",
       "    }\n",
       "\n",
       "    .dataframe thead th {\n",
       "        text-align: right;\n",
       "    }\n",
       "</style>\n",
       "<table border=\"1\" class=\"dataframe\">\n",
       "  <thead>\n",
       "    <tr style=\"text-align: right;\">\n",
       "      <th></th>\n",
       "      <th>id</th>\n",
       "      <th>email</th>\n",
       "      <th>label</th>\n",
       "      <th>Label</th>\n",
       "    </tr>\n",
       "  </thead>\n",
       "  <tbody>\n",
       "    <tr>\n",
       "      <th>764</th>\n",
       "      <td>175</td>\n",
       "      <td>From: noreply@winner-prize.net\\nSubject: Exclu...</td>\n",
       "      <td>spam</td>\n",
       "      <td>True</td>\n",
       "    </tr>\n",
       "    <tr>\n",
       "      <th>5019</th>\n",
       "      <td>7411</td>\n",
       "      <td>From: newsletter@info.org\\nSubject: Regarding ...</td>\n",
       "      <td>ham</td>\n",
       "      <td>False</td>\n",
       "    </tr>\n",
       "    <tr>\n",
       "      <th>4903</th>\n",
       "      <td>9541</td>\n",
       "      <td>From: survey@retailfeedback.com\\nSubject: Rega...</td>\n",
       "      <td>ham</td>\n",
       "      <td>False</td>\n",
       "    </tr>\n",
       "    <tr>\n",
       "      <th>8093</th>\n",
       "      <td>2428</td>\n",
       "      <td>From: newsletter@info.org\\nSubject: Meeting Re...</td>\n",
       "      <td>ham</td>\n",
       "      <td>False</td>\n",
       "    </tr>\n",
       "    <tr>\n",
       "      <th>6843</th>\n",
       "      <td>8676</td>\n",
       "      <td>From: friend@personalmail.net\\nSubject: Team S...</td>\n",
       "      <td>ham</td>\n",
       "      <td>False</td>\n",
       "    </tr>\n",
       "    <tr>\n",
       "      <th>...</th>\n",
       "      <td>...</td>\n",
       "      <td>...</td>\n",
       "      <td>...</td>\n",
       "      <td>...</td>\n",
       "    </tr>\n",
       "    <tr>\n",
       "      <th>5734</th>\n",
       "      <td>8128</td>\n",
       "      <td>From: john.doe@example.com\\nSubject: Feedback ...</td>\n",
       "      <td>ham</td>\n",
       "      <td>False</td>\n",
       "    </tr>\n",
       "    <tr>\n",
       "      <th>5191</th>\n",
       "      <td>3891</td>\n",
       "      <td>From: noreply@softwareupdates.com\\nSubject: Fe...</td>\n",
       "      <td>ham</td>\n",
       "      <td>False</td>\n",
       "    </tr>\n",
       "    <tr>\n",
       "      <th>5390</th>\n",
       "      <td>3096</td>\n",
       "      <td>From: friend@personalmail.net\\nSubject: Regard...</td>\n",
       "      <td>ham</td>\n",
       "      <td>False</td>\n",
       "    </tr>\n",
       "    <tr>\n",
       "      <th>860</th>\n",
       "      <td>5645</td>\n",
       "      <td>From: noreply@softwareupdates.com\\nSubject: In...</td>\n",
       "      <td>ham</td>\n",
       "      <td>False</td>\n",
       "    </tr>\n",
       "    <tr>\n",
       "      <th>7270</th>\n",
       "      <td>3877</td>\n",
       "      <td>From: support@legitcompany.com\\nSubject: Your ...</td>\n",
       "      <td>ham</td>\n",
       "      <td>False</td>\n",
       "    </tr>\n",
       "  </tbody>\n",
       "</table>\n",
       "<p>9900 rows × 4 columns</p>\n",
       "</div>"
      ],
      "text/plain": [
       "        id                                              email label  Label\n",
       "764    175  From: noreply@winner-prize.net\\nSubject: Exclu...  spam   True\n",
       "5019  7411  From: newsletter@info.org\\nSubject: Regarding ...   ham  False\n",
       "4903  9541  From: survey@retailfeedback.com\\nSubject: Rega...   ham  False\n",
       "8093  2428  From: newsletter@info.org\\nSubject: Meeting Re...   ham  False\n",
       "6843  8676  From: friend@personalmail.net\\nSubject: Team S...   ham  False\n",
       "...    ...                                                ...   ...    ...\n",
       "5734  8128  From: john.doe@example.com\\nSubject: Feedback ...   ham  False\n",
       "5191  3891  From: noreply@softwareupdates.com\\nSubject: Fe...   ham  False\n",
       "5390  3096  From: friend@personalmail.net\\nSubject: Regard...   ham  False\n",
       "860   5645  From: noreply@softwareupdates.com\\nSubject: In...   ham  False\n",
       "7270  3877  From: support@legitcompany.com\\nSubject: Your ...   ham  False\n",
       "\n",
       "[9900 rows x 4 columns]"
      ]
     },
     "execution_count": 5,
     "metadata": {},
     "output_type": "execute_result"
    }
   ],
   "source": [
    "num_holdout = 100\n",
    "df_emails_train, df_emails_holdout = train_test_split(df_emails_data, test_size=(num_holdout*1./df_emails_data.shape[0]), random_state=42)\n",
    "df_emails_train"
   ]
  },
  {
   "cell_type": "code",
   "execution_count": 49,
   "id": "3b85045f",
   "metadata": {},
   "outputs": [],
   "source": [
    "x_col = 'email'\n",
    "y_col = 'Label'\n",
    "X = df_emails_train[x_col]\n",
    "y = df_emails_train[y_col]\n",
    "X_holdout = df_emails_holdout[x_col]\n",
    "y_holdout = df_emails_holdout[y_col]\n",
    "X_train, X_test, y_train, y_test = train_test_split(X, y, test_size=0.99, random_state=42)"
   ]
  },
  {
   "cell_type": "code",
   "execution_count": 50,
   "id": "e0b3511a",
   "metadata": {},
   "outputs": [
    {
     "name": "stdout",
     "output_type": "stream",
     "text": [
      "Running GridSearchCV for logistic...\n",
      "Fitting 3 folds for each of 4 candidates, totalling 12 fits\n"
     ]
    },
    {
     "name": "stderr",
     "output_type": "stream",
     "text": [
      "/Users/joshsherfey/.pyenv/versions/3.12.12/lib/python3.12/multiprocessing/queues.py:122: UserWarning: pkg_resources is deprecated as an API. See https://setuptools.pypa.io/en/latest/pkg_resources.html. The pkg_resources package is slated for removal as early as 2025-11-30. Refrain from using this package or pin to Setuptools<81.\n",
      "  return _ForkingPickler.loads(res)\n",
      "/Users/joshsherfey/.pyenv/versions/3.12.12/lib/python3.12/multiprocessing/queues.py:122: UserWarning: pkg_resources is deprecated as an API. See https://setuptools.pypa.io/en/latest/pkg_resources.html. The pkg_resources package is slated for removal as early as 2025-11-30. Refrain from using this package or pin to Setuptools<81.\n",
      "  return _ForkingPickler.loads(res)\n",
      "/Users/joshsherfey/.pyenv/versions/3.12.12/lib/python3.12/multiprocessing/queues.py:122: UserWarning: pkg_resources is deprecated as an API. See https://setuptools.pypa.io/en/latest/pkg_resources.html. The pkg_resources package is slated for removal as early as 2025-11-30. Refrain from using this package or pin to Setuptools<81.\n",
      "  return _ForkingPickler.loads(res)\n",
      "/Users/joshsherfey/.pyenv/versions/3.12.12/lib/python3.12/multiprocessing/queues.py:122: UserWarning: pkg_resources is deprecated as an API. See https://setuptools.pypa.io/en/latest/pkg_resources.html. The pkg_resources package is slated for removal as early as 2025-11-30. Refrain from using this package or pin to Setuptools<81.\n",
      "  return _ForkingPickler.loads(res)\n",
      "/Users/joshsherfey/.pyenv/versions/3.12.12/lib/python3.12/multiprocessing/queues.py:122: UserWarning: pkg_resources is deprecated as an API. See https://setuptools.pypa.io/en/latest/pkg_resources.html. The pkg_resources package is slated for removal as early as 2025-11-30. Refrain from using this package or pin to Setuptools<81.\n",
      "  return _ForkingPickler.loads(res)\n",
      "/Users/joshsherfey/.pyenv/versions/3.12.12/lib/python3.12/multiprocessing/queues.py:122: UserWarning: pkg_resources is deprecated as an API. See https://setuptools.pypa.io/en/latest/pkg_resources.html. The pkg_resources package is slated for removal as early as 2025-11-30. Refrain from using this package or pin to Setuptools<81.\n",
      "  return _ForkingPickler.loads(res)\n",
      "/Users/joshsherfey/.pyenv/versions/3.12.12/lib/python3.12/multiprocessing/queues.py:122: UserWarning: pkg_resources is deprecated as an API. See https://setuptools.pypa.io/en/latest/pkg_resources.html. The pkg_resources package is slated for removal as early as 2025-11-30. Refrain from using this package or pin to Setuptools<81.\n",
      "  return _ForkingPickler.loads(res)\n",
      "/Users/joshsherfey/.pyenv/versions/3.12.12/lib/python3.12/multiprocessing/queues.py:122: UserWarning: pkg_resources is deprecated as an API. See https://setuptools.pypa.io/en/latest/pkg_resources.html. The pkg_resources package is slated for removal as early as 2025-11-30. Refrain from using this package or pin to Setuptools<81.\n",
      "  return _ForkingPickler.loads(res)\n",
      "/Users/joshsherfey/.pyenv/versions/3.12.12/lib/python3.12/multiprocessing/queues.py:122: UserWarning: pkg_resources is deprecated as an API. See https://setuptools.pypa.io/en/latest/pkg_resources.html. The pkg_resources package is slated for removal as early as 2025-11-30. Refrain from using this package or pin to Setuptools<81.\n",
      "  return _ForkingPickler.loads(res)\n",
      "/Users/joshsherfey/.pyenv/versions/3.12.12/lib/python3.12/multiprocessing/queues.py:122: UserWarning: pkg_resources is deprecated as an API. See https://setuptools.pypa.io/en/latest/pkg_resources.html. The pkg_resources package is slated for removal as early as 2025-11-30. Refrain from using this package or pin to Setuptools<81.\n",
      "  return _ForkingPickler.loads(res)\n",
      "/Users/joshsherfey/Documents/interview/resend/takehome_problem/venv/lib/python3.12/site-packages/sklearn/linear_model/_logistic.py:1262: FutureWarning: 'multi_class' was deprecated in version 1.5 and will be removed in 1.8. From then on, binary problems will be fit as proper binary  logistic regression models (as if multi_class='ovr' were set). Leave it to its default value to avoid this warning.\n",
      "  warnings.warn(\n",
      "/Users/joshsherfey/Documents/interview/resend/takehome_problem/venv/lib/python3.12/site-packages/sklearn/linear_model/_logistic.py:1262: FutureWarning: 'multi_class' was deprecated in version 1.5 and will be removed in 1.8. From then on, binary problems will be fit as proper binary  logistic regression models (as if multi_class='ovr' were set). Leave it to its default value to avoid this warning.\n",
      "  warnings.warn(\n",
      "/Users/joshsherfey/Documents/interview/resend/takehome_problem/venv/lib/python3.12/site-packages/sklearn/linear_model/_logistic.py:1262: FutureWarning: 'multi_class' was deprecated in version 1.5 and will be removed in 1.8. From then on, binary problems will be fit as proper binary  logistic regression models (as if multi_class='ovr' were set). Leave it to its default value to avoid this warning.\n",
      "  warnings.warn(\n",
      "/Users/joshsherfey/Documents/interview/resend/takehome_problem/venv/lib/python3.12/site-packages/sklearn/linear_model/_logistic.py:1262: FutureWarning: 'multi_class' was deprecated in version 1.5 and will be removed in 1.8. From then on, binary problems will be fit as proper binary  logistic regression models (as if multi_class='ovr' were set). Leave it to its default value to avoid this warning.\n",
      "  warnings.warn(\n",
      "/Users/joshsherfey/Documents/interview/resend/takehome_problem/venv/lib/python3.12/site-packages/sklearn/linear_model/_logistic.py:1262: FutureWarning: 'multi_class' was deprecated in version 1.5 and will be removed in 1.8. From then on, binary problems will be fit as proper binary  logistic regression models (as if multi_class='ovr' were set). Leave it to its default value to avoid this warning.\n",
      "  warnings.warn(\n",
      "/Users/joshsherfey/Documents/interview/resend/takehome_problem/venv/lib/python3.12/site-packages/sklearn/linear_model/_logistic.py:1262: FutureWarning: 'multi_class' was deprecated in version 1.5 and will be removed in 1.8. From then on, binary problems will be fit as proper binary  logistic regression models (as if multi_class='ovr' were set). Leave it to its default value to avoid this warning.\n",
      "  warnings.warn(\n",
      "/Users/joshsherfey/Documents/interview/resend/takehome_problem/venv/lib/python3.12/site-packages/sklearn/linear_model/_logistic.py:1262: FutureWarning: 'multi_class' was deprecated in version 1.5 and will be removed in 1.8. From then on, binary problems will be fit as proper binary  logistic regression models (as if multi_class='ovr' were set). Leave it to its default value to avoid this warning.\n",
      "  warnings.warn(\n",
      "/Users/joshsherfey/Documents/interview/resend/takehome_problem/venv/lib/python3.12/site-packages/sklearn/linear_model/_logistic.py:1262: FutureWarning: 'multi_class' was deprecated in version 1.5 and will be removed in 1.8. From then on, binary problems will be fit as proper binary  logistic regression models (as if multi_class='ovr' were set). Leave it to its default value to avoid this warning.\n",
      "  warnings.warn(\n",
      "/Users/joshsherfey/Documents/interview/resend/takehome_problem/venv/lib/python3.12/site-packages/sklearn/linear_model/_logistic.py:1262: FutureWarning: 'multi_class' was deprecated in version 1.5 and will be removed in 1.8. From then on, binary problems will be fit as proper binary  logistic regression models (as if multi_class='ovr' were set). Leave it to its default value to avoid this warning.\n",
      "  warnings.warn(\n",
      "/Users/joshsherfey/Documents/interview/resend/takehome_problem/venv/lib/python3.12/site-packages/sklearn/linear_model/_logistic.py:1262: FutureWarning: 'multi_class' was deprecated in version 1.5 and will be removed in 1.8. From then on, binary problems will be fit as proper binary  logistic regression models (as if multi_class='ovr' were set). Leave it to its default value to avoid this warning.\n",
      "  warnings.warn(\n",
      "/Users/joshsherfey/Documents/interview/resend/takehome_problem/venv/lib/python3.12/site-packages/sklearn/linear_model/_logistic.py:1262: FutureWarning: 'multi_class' was deprecated in version 1.5 and will be removed in 1.8. From then on, binary problems will be fit as proper binary  logistic regression models (as if multi_class='ovr' were set). Leave it to its default value to avoid this warning.\n",
      "  warnings.warn(\n",
      "/Users/joshsherfey/Documents/interview/resend/takehome_problem/venv/lib/python3.12/site-packages/sklearn/linear_model/_logistic.py:1262: FutureWarning: 'multi_class' was deprecated in version 1.5 and will be removed in 1.8. From then on, binary problems will be fit as proper binary  logistic regression models (as if multi_class='ovr' were set). Leave it to its default value to avoid this warning.\n",
      "  warnings.warn(\n",
      "/Users/joshsherfey/Documents/interview/resend/takehome_problem/venv/lib/python3.12/site-packages/sklearn/linear_model/_logistic.py:1262: FutureWarning: 'multi_class' was deprecated in version 1.5 and will be removed in 1.8. From then on, binary problems will be fit as proper binary  logistic regression models (as if multi_class='ovr' were set). Leave it to its default value to avoid this warning.\n",
      "  warnings.warn(\n"
     ]
    },
    {
     "name": "stdout",
     "output_type": "stream",
     "text": [
      "\n",
      "Best cross-val accuracy: 0.966\n",
      "Best parameters: {'model__C': 10}\n",
      "\n",
      "Evaluation Report:\n",
      "              precision    recall  f1-score   support\n",
      "\n",
      "       False       0.94      1.00      0.97      8328\n",
      "        True       1.00      0.64      0.78      1473\n",
      "\n",
      "    accuracy                           0.95      9801\n",
      "   macro avg       0.97      0.82      0.87      9801\n",
      "weighted avg       0.95      0.95      0.94      9801\n",
      "\n",
      "Accuracy: 0.9456177941026426\n"
     ]
    },
    {
     "data": {
      "application/vnd.microsoft.datawrangler.viewer.v0+json": {
       "columns": [
        {
         "name": "index",
         "rawType": "int64",
         "type": "integer"
        },
        {
         "name": "email",
         "rawType": "object",
         "type": "string"
        },
        {
         "name": "prediction",
         "rawType": "bool",
         "type": "boolean"
        },
        {
         "name": "true_label",
         "rawType": "bool",
         "type": "boolean"
        },
        {
         "name": "correct",
         "rawType": "bool",
         "type": "boolean"
        },
        {
         "name": "score",
         "rawType": "float64",
         "type": "float"
        }
       ],
       "ref": "e56a2f7f-ebc4-49b0-9a96-d19de64109c6",
       "rows": [
        [
         "6252",
         "From: friend@personalmail.net\nSubject: Catching Up - How are you?\n\nThank you for your order #6789. Your items will be shipped within 2 business days. You can track your order here: [link to legitimate tracking page]. Best regards, Legit Company Support",
         "False",
         "False",
         "True",
         "0.005183871879106106"
        ],
        [
         "4684",
         "From: noreply@softwareupdates.com\nSubject: Meeting Reminder: Project Alpha\n\nWe value your feedback! Please take a few moments to complete a short survey about your recent purchase from us. Your input helps us improve. Take survey: [link to survey]. Thank you, Retail Feedback Team",
         "False",
         "False",
         "True",
         "0.003892156578991974"
        ],
        [
         "1731",
         "From: friend@personalmail.net\nSubject: Photos from the Weekend Trip\n\nHi everyone, I've uploaded the photos from our weekend trip to the shared drive. You can view them here: [link to cloud storage]. Let me know what you think! Best, [Your Name]",
         "False",
         "False",
         "True",
         "0.003075595886210281"
        ],
        [
         "4742",
         "From: deals@best-offers.xyz\nSubject: Verify Your Bank Details Immediately\n\nInvest in our revolutionary new platform and earn guaranteed high returns. Learn more: [link]",
         "True",
         "True",
         "True",
         "0.9063279961705608"
        ],
        [
         "4521",
         "From: team@projectmanagement.com\nSubject: Meeting Reminder: Project Alpha\n\nThank you for your order #6789. Your items will be shipped within 2 business days. You can track your order here: [link to legitimate tracking page]. Best regards, Legit Company Support",
         "False",
         "False",
         "True",
         "0.00713332926778437"
        ],
        [
         "6340",
         "From: family@homemail.net\nSubject: Catching Up - How are you?\n\nWe value your feedback! Please take a few moments to complete a short survey about your recent purchase from us. Your input helps us improve. Take survey: [link to survey]. Thank you, Retail Feedback Team",
         "False",
         "False",
         "True",
         "0.0038281493126347634"
        ],
        [
         "576",
         "From: info@customerservice.co\nSubject: Catching Up - How are you?\n\nHi team, just a reminder about our Project Alpha meeting tomorrow at 10 AM in Conference Room 3. Please come prepared to discuss the Q3 roadmap. Best, John",
         "False",
         "False",
         "True",
         "0.006074358822525018"
        ],
        [
         "5202",
         "From: social@media-boost.online\nSubject: Unclaimed Funds Await You\n\nUrgent security notification! A login from an unrecognized device was detected. Review activity: [link]",
         "True",
         "True",
         "True",
         "0.8104485634557829"
        ],
        [
         "6363",
         "From: survey@retailfeedback.com\nSubject: Team Stand-up at 10 AM\n\nHi everyone, I've uploaded the photos from our weekend trip to the shared drive. You can view them here: [link to cloud storage]. Let me know what you think! Best, [Your Name]",
         "False",
         "False",
         "True",
         "0.006776663227557045"
        ],
        [
         "439",
         "From: info@customerservice.co\nSubject: Meeting Reminder: Project Alpha\n\nGood morning, everyone. Just a quick reminder for our daily stand-up meeting at 10 AM. Please be ready to share your progress and any blockers. Thanks, Project Manager",
         "False",
         "False",
         "True",
         "0.007405975262704343"
        ],
        [
         "2750",
         "From: accounts@billingcorp.com\nSubject: Your Order #6789 Confirmed\n\nHere's your weekly dose of news and updates from our community. This week, we cover [topic 1] and [topic 2]. Read more on our blog: [link to blog]. Sincerely, The Newsletter Team",
         "False",
         "False",
         "True",
         "0.004968273863564921"
        ],
        [
         "7487",
         "From: accounts@billingcorp.com\nSubject: Feedback Request: Your Recent Purchase\n\nHere's your weekly dose of news and updates from our community. This week, we cover [topic 1] and [topic 2]. Read more on our blog: [link to blog]. Sincerely, The Newsletter Team",
         "False",
         "False",
         "True",
         "0.0033044564814275652"
        ],
        [
         "5272",
         "From: accounts@billingcorp.com\nSubject: Important: Software Update Notification\n\nGood morning, everyone. Just a quick reminder for our daily stand-up meeting at 10 AM. Please be ready to share your progress and any blockers. Thanks, Project Manager",
         "False",
         "False",
         "True",
         "0.008373335912555329"
        ],
        [
         "5653",
         "From: info@customerservice.co\nSubject: Weekly Newsletter - Latest Updates\n\nHi team, just a reminder about our Project Alpha meeting tomorrow at 10 AM in Conference Room 3. Please come prepared to discuss the Q3 roadmap. Best, John",
         "False",
         "False",
         "True",
         "0.005727206797484547"
        ],
        [
         "3999",
         "From: social@media-boost.online\nSubject: Verify Your Bank Details Immediately\n\nA large sum of money is waiting for you. Contact us to claim your inheritance: [email]",
         "True",
         "True",
         "True",
         "0.8967864647450721"
        ],
        [
         "6033",
         "From: family@homemail.net\nSubject: Meeting Reminder: Project Alpha\n\nThank you for your order #6789. Your items will be shipped within 2 business days. You can track your order here: [link to legitimate tracking page]. Best regards, Legit Company Support",
         "False",
         "False",
         "True",
         "0.007844330028019495"
        ],
        [
         "582",
         "From: deals@best-offers.xyz\nSubject: Exclusive Investment Opportunity - High Returns!\n\nBoost your social media presence! Get thousands of new followers instantly. Visit: [link]",
         "True",
         "True",
         "True",
         "0.9769879935196674"
        ],
        [
         "9930",
         "From: newsletter@info.org\nSubject: Invoice for Services Rendered\n\nHere's your weekly dose of news and updates from our community. This week, we cover [topic 1] and [topic 2]. Read more on our blog: [link to blog]. Sincerely, The Newsletter Team",
         "False",
         "False",
         "True",
         "0.00799430380235819"
        ],
        [
         "7051",
         "From: survey@retailfeedback.com\nSubject: Meeting Reminder: Project Alpha\n\nHi team, just a reminder about our Project Alpha meeting tomorrow at 10 AM in Conference Room 3. Please come prepared to discuss the Q3 roadmap. Best, John",
         "False",
         "False",
         "True",
         "0.006846608640465369"
        ],
        [
         "8158",
         "From: support@secure-login.com\nSubject: Congratulations! You've Won a Free iPhone!\n\nUrgent security notification! A login from an unrecognized device was detected. Review activity: [link]",
         "True",
         "True",
         "True",
         "0.9817605693160546"
        ],
        [
         "9896",
         "From: info@customerservice.co\nSubject: Important: Software Update Notification\n\nHi everyone, I've uploaded the photos from our weekend trip to the shared drive. You can view them here: [link to cloud storage]. Let me know what you think! Best, [Your Name]",
         "False",
         "False",
         "True",
         "0.007850429277887734"
        ],
        [
         "2249",
         "From: survey@retailfeedback.com\nSubject: Your Order #6789 Confirmed\n\nWe value your feedback! Please take a few moments to complete a short survey about your recent purchase from us. Your input helps us improve. Take survey: [link to survey]. Thank you, Retail Feedback Team",
         "False",
         "False",
         "True",
         "0.0042214245703874045"
        ],
        [
         "4640",
         "From: survey@retailfeedback.com\nSubject: Photos from the Weekend Trip\n\nPlease find attached your invoice for the services rendered in June. The total amount due is $X.XX. Payment is due by [Date]. If you have any questions, please reply to this email. Thank you, Accounts Department",
         "False",
         "False",
         "True",
         "0.006308092627752464"
        ],
        [
         "9485",
         "From: survey@retailfeedback.com\nSubject: Team Stand-up at 10 AM\n\nHey [Friend's Name], it's been a while! How have you been? I was thinking about [recent event/topic]. Let's catch up soon! Cheers, [Your Name]",
         "False",
         "False",
         "True",
         "0.01236893182818644"
        ],
        [
         "4947",
         "From: john.doe@example.com\nSubject: Feedback Request: Your Recent Purchase\n\nGood morning, everyone. Just a quick reminder for our daily stand-up meeting at 10 AM. Please be ready to share your progress and any blockers. Thanks, Project Manager",
         "False",
         "False",
         "True",
         "0.004008599291296047"
        ],
        [
         "9920",
         "From: team@projectmanagement.com\nSubject: Weekly Newsletter - Latest Updates\n\nWe value your feedback! Please take a few moments to complete a short survey about your recent purchase from us. Your input helps us improve. Take survey: [link to survey]. Thank you, Retail Feedback Team",
         "False",
         "False",
         "True",
         "0.003280526932915252"
        ],
        [
         "1963",
         "From: support@legitcompany.com\nSubject: Photos from the Weekend Trip\n\nHere's your weekly dose of news and updates from our community. This week, we cover [topic 1] and [topic 2]. Read more on our blog: [link to blog]. Sincerely, The Newsletter Team",
         "False",
         "False",
         "True",
         "0.005646216399317485"
        ],
        [
         "8243",
         "From: family@homemail.net\nSubject: Important: Software Update Notification\n\nHey [Friend's Name], it's been a while! How have you been? I was thinking about [recent event/topic]. Let's catch up soon! Cheers, [Your Name]",
         "False",
         "False",
         "True",
         "0.013399945911321636"
        ],
        [
         "6590",
         "From: newsletter@info.org\nSubject: Team Stand-up at 10 AM\n\nThis is an automated notification regarding an important software update for your system. Please ensure your software is updated to the latest version to maintain security and performance. Learn more: [link to official update page]. Regards, Software Updates",
         "False",
         "False",
         "True",
         "0.005795909909126997"
        ],
        [
         "8847",
         "From: team@projectmanagement.com\nSubject: Important: Software Update Notification\n\nWe value your feedback! Please take a few moments to complete a short survey about your recent purchase from us. Your input helps us improve. Take survey: [link to survey]. Thank you, Retail Feedback Team",
         "False",
         "False",
         "True",
         "0.005027590141190595"
        ],
        [
         "321",
         "From: family@homemail.net\nSubject: Weekly Newsletter - Latest Updates\n\nHey [Friend's Name], it's been a while! How have you been? I was thinking about [recent event/topic]. Let's catch up soon! Cheers, [Your Name]",
         "False",
         "False",
         "True",
         "0.00876917117889245"
        ],
        [
         "2678",
         "From: noreply@softwareupdates.com\nSubject: Team Stand-up at 10 AM\n\nHi everyone, I've uploaded the photos from our weekend trip to the shared drive. You can view them here: [link to cloud storage]. Let me know what you think! Best, [Your Name]",
         "False",
         "False",
         "True",
         "0.005718370728422806"
        ],
        [
         "4625",
         "From: noreply@softwareupdates.com\nSubject: Weekly Newsletter - Latest Updates\n\nHi team, just a reminder about our Project Alpha meeting tomorrow at 10 AM in Conference Room 3. Please come prepared to discuss the Q3 roadmap. Best, John",
         "False",
         "False",
         "True",
         "0.004397495633988438"
        ],
        [
         "4949",
         "From: newsletter@info.org\nSubject: Important: Software Update Notification\n\nThank you for reaching out regarding [your inquiry]. We have reviewed your request and will get back to you within 24 hours with a detailed response. Sincerely, Customer Service Team",
         "False",
         "False",
         "True",
         "0.009294415625677309"
        ],
        [
         "8328",
         "From: info@unclaimed-funds.co\nSubject: Act Now: Limited Time Offer - 90% Off All Products!\n\nBoost your social media presence! Get thousands of new followers instantly. Visit: [link]",
         "False",
         "True",
         "False",
         "0.48491909833601726"
        ],
        [
         "3337",
         "From: noreply@softwareupdates.com\nSubject: Meeting Reminder: Project Alpha\n\nHey [Friend's Name], it's been a while! How have you been? I was thinking about [recent event/topic]. Let's catch up soon! Cheers, [Your Name]",
         "False",
         "False",
         "True",
         "0.009453598447334515"
        ],
        [
         "5589",
         "From: deals@best-offers.xyz\nSubject: Congratulations! You've Won a Free iPhone!\n\nMake thousands of dollars from home with our proven system. No experience required. Sign up today: [link]",
         "True",
         "True",
         "True",
         "0.9825142035252065"
        ],
        [
         "251",
         "From: newsletter@info.org\nSubject: Your Order #6789 Confirmed\n\nHi team, just a reminder about our Project Alpha meeting tomorrow at 10 AM in Conference Room 3. Please come prepared to discuss the Q3 roadmap. Best, John",
         "False",
         "False",
         "True",
         "0.006455213105477364"
        ],
        [
         "3973",
         "From: noreply@winner-prize.net\nSubject: Verify Your Bank Details Immediately\n\nInvest in our revolutionary new platform and earn guaranteed high returns. Learn more: [link]",
         "False",
         "True",
         "False",
         "0.249604663455185"
        ],
        [
         "6630",
         "From: noreply@softwareupdates.com\nSubject: Weekly Newsletter - Latest Updates\n\nPlease find attached your invoice for the services rendered in June. The total amount due is $X.XX. Payment is due by [Date]. If you have any questions, please reply to this email. Thank you, Accounts Department",
         "False",
         "False",
         "True",
         "0.006785646706462713"
        ],
        [
         "5547",
         "From: team@projectmanagement.com\nSubject: Catching Up - How are you?\n\nWe value your feedback! Please take a few moments to complete a short survey about your recent purchase from us. Your input helps us improve. Take survey: [link to survey]. Thank you, Retail Feedback Team",
         "False",
         "False",
         "True",
         "0.003479893631315713"
        ],
        [
         "35",
         "From: admin@bank-verify.org\nSubject: Important Security Alert: Login from New Device\n\nInvest in our revolutionary new platform and earn guaranteed high returns. Learn more: [link]",
         "False",
         "True",
         "False",
         "0.41831855014785674"
        ],
        [
         "8362",
         "From: john.doe@example.com\nSubject: Team Stand-up at 10 AM\n\nThank you for reaching out regarding [your inquiry]. We have reviewed your request and will get back to you within 24 hours with a detailed response. Sincerely, Customer Service Team",
         "False",
         "False",
         "True",
         "0.00835608955361232"
        ],
        [
         "1513",
         "From: family@homemail.net\nSubject: Weekly Newsletter - Latest Updates\n\nHey [Friend's Name], it's been a while! How have you been? I was thinking about [recent event/topic]. Let's catch up soon! Cheers, [Your Name]",
         "False",
         "False",
         "True",
         "0.00876917117889245"
        ],
        [
         "9317",
         "From: deals@best-offers.xyz\nSubject: New Followers on Your Social Media!\n\nMake thousands of dollars from home with our proven system. No experience required. Sign up today: [link]",
         "True",
         "True",
         "True",
         "0.9174943225285512"
        ],
        [
         "39",
         "From: team@projectmanagement.com\nSubject: Invoice for Services Rendered\n\nThank you for reaching out regarding [your inquiry]. We have reviewed your request and will get back to you within 24 hours with a detailed response. Sincerely, Customer Service Team",
         "False",
         "False",
         "True",
         "0.011006174250171842"
        ],
        [
         "4819",
         "From: delivery@package-update.info\nSubject: Unclaimed Funds Await You\n\nWe detected suspicious login attempts on your account. For your security, please update your password immediately: [link]",
         "False",
         "True",
         "False",
         "0.1038316542416617"
        ],
        [
         "3465",
         "From: noreply@softwareupdates.com\nSubject: Catching Up - How are you?\n\nHere's your weekly dose of news and updates from our community. This week, we cover [topic 1] and [topic 2]. Read more on our blog: [link to blog]. Sincerely, The Newsletter Team",
         "False",
         "False",
         "True",
         "0.0034690909514184794"
        ],
        [
         "1760",
         "From: john.doe@example.com\nSubject: Invoice for Services Rendered\n\nGood morning, everyone. Just a quick reminder for our daily stand-up meeting at 10 AM. Please be ready to share your progress and any blockers. Thanks, Project Manager",
         "False",
         "False",
         "True",
         "0.010019404902618895"
        ],
        [
         "2304",
         "From: noreply@softwareupdates.com\nSubject: Weekly Newsletter - Latest Updates\n\nThank you for your order #6789. Your items will be shipped within 2 business days. You can track your order here: [link to legitimate tracking page]. Best regards, Legit Company Support",
         "False",
         "False",
         "True",
         "0.004903571392895698"
        ]
       ],
       "shape": {
        "columns": 5,
        "rows": 100
       }
      },
      "text/html": [
       "<div>\n",
       "<style scoped>\n",
       "    .dataframe tbody tr th:only-of-type {\n",
       "        vertical-align: middle;\n",
       "    }\n",
       "\n",
       "    .dataframe tbody tr th {\n",
       "        vertical-align: top;\n",
       "    }\n",
       "\n",
       "    .dataframe thead th {\n",
       "        text-align: right;\n",
       "    }\n",
       "</style>\n",
       "<table border=\"1\" class=\"dataframe\">\n",
       "  <thead>\n",
       "    <tr style=\"text-align: right;\">\n",
       "      <th></th>\n",
       "      <th>email</th>\n",
       "      <th>prediction</th>\n",
       "      <th>true_label</th>\n",
       "      <th>correct</th>\n",
       "      <th>score</th>\n",
       "    </tr>\n",
       "  </thead>\n",
       "  <tbody>\n",
       "    <tr>\n",
       "      <th>6252</th>\n",
       "      <td>From: friend@personalmail.net\\nSubject: Catchi...</td>\n",
       "      <td>False</td>\n",
       "      <td>False</td>\n",
       "      <td>True</td>\n",
       "      <td>0.005184</td>\n",
       "    </tr>\n",
       "    <tr>\n",
       "      <th>4684</th>\n",
       "      <td>From: noreply@softwareupdates.com\\nSubject: Me...</td>\n",
       "      <td>False</td>\n",
       "      <td>False</td>\n",
       "      <td>True</td>\n",
       "      <td>0.003892</td>\n",
       "    </tr>\n",
       "    <tr>\n",
       "      <th>1731</th>\n",
       "      <td>From: friend@personalmail.net\\nSubject: Photos...</td>\n",
       "      <td>False</td>\n",
       "      <td>False</td>\n",
       "      <td>True</td>\n",
       "      <td>0.003076</td>\n",
       "    </tr>\n",
       "    <tr>\n",
       "      <th>4742</th>\n",
       "      <td>From: deals@best-offers.xyz\\nSubject: Verify Y...</td>\n",
       "      <td>True</td>\n",
       "      <td>True</td>\n",
       "      <td>True</td>\n",
       "      <td>0.906328</td>\n",
       "    </tr>\n",
       "    <tr>\n",
       "      <th>4521</th>\n",
       "      <td>From: team@projectmanagement.com\\nSubject: Mee...</td>\n",
       "      <td>False</td>\n",
       "      <td>False</td>\n",
       "      <td>True</td>\n",
       "      <td>0.007133</td>\n",
       "    </tr>\n",
       "    <tr>\n",
       "      <th>...</th>\n",
       "      <td>...</td>\n",
       "      <td>...</td>\n",
       "      <td>...</td>\n",
       "      <td>...</td>\n",
       "      <td>...</td>\n",
       "    </tr>\n",
       "    <tr>\n",
       "      <th>3787</th>\n",
       "      <td>From: john.doe@example.com\\nSubject: Regarding...</td>\n",
       "      <td>False</td>\n",
       "      <td>False</td>\n",
       "      <td>True</td>\n",
       "      <td>0.006839</td>\n",
       "    </tr>\n",
       "    <tr>\n",
       "      <th>9189</th>\n",
       "      <td>From: accounts@billingcorp.com\\nSubject: Regar...</td>\n",
       "      <td>False</td>\n",
       "      <td>False</td>\n",
       "      <td>True</td>\n",
       "      <td>0.005554</td>\n",
       "    </tr>\n",
       "    <tr>\n",
       "      <th>7825</th>\n",
       "      <td>From: deals@best-offers.xyz\\nSubject: Verify Y...</td>\n",
       "      <td>True</td>\n",
       "      <td>True</td>\n",
       "      <td>True</td>\n",
       "      <td>0.963681</td>\n",
       "    </tr>\n",
       "    <tr>\n",
       "      <th>7539</th>\n",
       "      <td>From: family@homemail.net\\nSubject: Invoice fo...</td>\n",
       "      <td>False</td>\n",
       "      <td>False</td>\n",
       "      <td>True</td>\n",
       "      <td>0.016463</td>\n",
       "    </tr>\n",
       "    <tr>\n",
       "      <th>7231</th>\n",
       "      <td>From: friend@personalmail.net\\nSubject: Meetin...</td>\n",
       "      <td>False</td>\n",
       "      <td>False</td>\n",
       "      <td>True</td>\n",
       "      <td>0.004278</td>\n",
       "    </tr>\n",
       "  </tbody>\n",
       "</table>\n",
       "<p>100 rows × 5 columns</p>\n",
       "</div>"
      ],
      "text/plain": [
       "                                                  email  prediction  \\\n",
       "6252  From: friend@personalmail.net\\nSubject: Catchi...       False   \n",
       "4684  From: noreply@softwareupdates.com\\nSubject: Me...       False   \n",
       "1731  From: friend@personalmail.net\\nSubject: Photos...       False   \n",
       "4742  From: deals@best-offers.xyz\\nSubject: Verify Y...        True   \n",
       "4521  From: team@projectmanagement.com\\nSubject: Mee...       False   \n",
       "...                                                 ...         ...   \n",
       "3787  From: john.doe@example.com\\nSubject: Regarding...       False   \n",
       "9189  From: accounts@billingcorp.com\\nSubject: Regar...       False   \n",
       "7825  From: deals@best-offers.xyz\\nSubject: Verify Y...        True   \n",
       "7539  From: family@homemail.net\\nSubject: Invoice fo...       False   \n",
       "7231  From: friend@personalmail.net\\nSubject: Meetin...       False   \n",
       "\n",
       "      true_label  correct     score  \n",
       "6252       False     True  0.005184  \n",
       "4684       False     True  0.003892  \n",
       "1731       False     True  0.003076  \n",
       "4742        True     True  0.906328  \n",
       "4521       False     True  0.007133  \n",
       "...          ...      ...       ...  \n",
       "3787       False     True  0.006839  \n",
       "9189       False     True  0.005554  \n",
       "7825        True     True  0.963681  \n",
       "7539       False     True  0.016463  \n",
       "7231       False     True  0.004278  \n",
       "\n",
       "[100 rows x 5 columns]"
      ]
     },
     "execution_count": 50,
     "metadata": {},
     "output_type": "execute_result"
    }
   ],
   "source": [
    "detector = EmailPrioritizer(model_type=\"logistic\")\n",
    "detector.fit(X_train, y_train, cv=3)\n",
    "detector.evaluate(X_test, y_test)\n",
    "df_results = pd.DataFrame({\n",
    "    'email': X_holdout,\n",
    "    'prediction': detector.predict(X_holdout),\n",
    "    'true_label': y_holdout,\n",
    "    'correct': detector.predict(X_holdout) == y_holdout,\n",
    "    'score': detector.predict_proba(X_holdout)[:,1],\n",
    "})\n",
    "df_results"
   ]
  },
  {
   "cell_type": "code",
   "execution_count": 38,
   "id": "3a15f97f",
   "metadata": {},
   "outputs": [
    {
     "name": "stdout",
     "output_type": "stream",
     "text": [
      "Running GridSearchCV for random_forest...\n",
      "Fitting 3 folds for each of 12 candidates, totalling 36 fits\n",
      "\n",
      "Best cross-val accuracy: 1.000\n",
      "Best parameters: {'model__max_depth': None, 'model__min_samples_split': 2, 'model__n_estimators': 100}\n",
      "\n",
      "Evaluation Report:\n",
      "              precision    recall  f1-score   support\n",
      "\n",
      "       False       1.00      1.00      1.00      2515\n",
      "        True       1.00      1.00      1.00       455\n",
      "\n",
      "    accuracy                           1.00      2970\n",
      "   macro avg       1.00      1.00      1.00      2970\n",
      "weighted avg       1.00      1.00      1.00      2970\n",
      "\n",
      "Accuracy: 1.0\n"
     ]
    },
    {
     "data": {
      "application/vnd.microsoft.datawrangler.viewer.v0+json": {
       "columns": [
        {
         "name": "index",
         "rawType": "int64",
         "type": "integer"
        },
        {
         "name": "email",
         "rawType": "object",
         "type": "string"
        },
        {
         "name": "prediction",
         "rawType": "bool",
         "type": "boolean"
        },
        {
         "name": "true_label",
         "rawType": "bool",
         "type": "boolean"
        },
        {
         "name": "correct",
         "rawType": "bool",
         "type": "boolean"
        },
        {
         "name": "score",
         "rawType": "float64",
         "type": "float"
        }
       ],
       "ref": "145abe65-1fc3-406a-b2e9-c22548277cb3",
       "rows": [
        [
         "6252",
         "From: friend@personalmail.net\nSubject: Catching Up - How are you?\n\nThank you for your order #6789. Your items will be shipped within 2 business days. You can track your order here: [link to legitimate tracking page]. Best regards, Legit Company Support",
         "False",
         "False",
         "True",
         "0.05583962715675325"
        ],
        [
         "4684",
         "From: noreply@softwareupdates.com\nSubject: Meeting Reminder: Project Alpha\n\nWe value your feedback! Please take a few moments to complete a short survey about your recent purchase from us. Your input helps us improve. Take survey: [link to survey]. Thank you, Retail Feedback Team",
         "False",
         "False",
         "True",
         "0.05331328179045311"
        ],
        [
         "1731",
         "From: friend@personalmail.net\nSubject: Photos from the Weekend Trip\n\nHi everyone, I've uploaded the photos from our weekend trip to the shared drive. You can view them here: [link to cloud storage]. Let me know what you think! Best, [Your Name]",
         "False",
         "False",
         "True",
         "0.049914748007303486"
        ],
        [
         "4742",
         "From: deals@best-offers.xyz\nSubject: Verify Your Bank Details Immediately\n\nInvest in our revolutionary new platform and earn guaranteed high returns. Learn more: [link]",
         "True",
         "True",
         "True",
         "0.7392590100411432"
        ],
        [
         "4521",
         "From: team@projectmanagement.com\nSubject: Meeting Reminder: Project Alpha\n\nThank you for your order #6789. Your items will be shipped within 2 business days. You can track your order here: [link to legitimate tracking page]. Best regards, Legit Company Support",
         "False",
         "False",
         "True",
         "0.05022908811476"
        ],
        [
         "6340",
         "From: family@homemail.net\nSubject: Catching Up - How are you?\n\nWe value your feedback! Please take a few moments to complete a short survey about your recent purchase from us. Your input helps us improve. Take survey: [link to survey]. Thank you, Retail Feedback Team",
         "False",
         "False",
         "True",
         "0.05473680300662746"
        ],
        [
         "576",
         "From: info@customerservice.co\nSubject: Catching Up - How are you?\n\nHi team, just a reminder about our Project Alpha meeting tomorrow at 10 AM in Conference Room 3. Please come prepared to discuss the Q3 roadmap. Best, John",
         "False",
         "False",
         "True",
         "0.06082880873081997"
        ],
        [
         "5202",
         "From: social@media-boost.online\nSubject: Unclaimed Funds Await You\n\nUrgent security notification! A login from an unrecognized device was detected. Review activity: [link]",
         "True",
         "True",
         "True",
         "0.7533627285480419"
        ],
        [
         "6363",
         "From: survey@retailfeedback.com\nSubject: Team Stand-up at 10 AM\n\nHi everyone, I've uploaded the photos from our weekend trip to the shared drive. You can view them here: [link to cloud storage]. Let me know what you think! Best, [Your Name]",
         "False",
         "False",
         "True",
         "0.04598955535038548"
        ],
        [
         "439",
         "From: info@customerservice.co\nSubject: Meeting Reminder: Project Alpha\n\nGood morning, everyone. Just a quick reminder for our daily stand-up meeting at 10 AM. Please be ready to share your progress and any blockers. Thanks, Project Manager",
         "False",
         "False",
         "True",
         "0.05884954168517177"
        ],
        [
         "2750",
         "From: accounts@billingcorp.com\nSubject: Your Order #6789 Confirmed\n\nHere's your weekly dose of news and updates from our community. This week, we cover [topic 1] and [topic 2]. Read more on our blog: [link to blog]. Sincerely, The Newsletter Team",
         "False",
         "False",
         "True",
         "0.045764164877203355"
        ],
        [
         "7487",
         "From: accounts@billingcorp.com\nSubject: Feedback Request: Your Recent Purchase\n\nHere's your weekly dose of news and updates from our community. This week, we cover [topic 1] and [topic 2]. Read more on our blog: [link to blog]. Sincerely, The Newsletter Team",
         "False",
         "False",
         "True",
         "0.04315774282723282"
        ],
        [
         "5272",
         "From: accounts@billingcorp.com\nSubject: Important: Software Update Notification\n\nGood morning, everyone. Just a quick reminder for our daily stand-up meeting at 10 AM. Please be ready to share your progress and any blockers. Thanks, Project Manager",
         "False",
         "False",
         "True",
         "0.042495526770373715"
        ],
        [
         "5653",
         "From: info@customerservice.co\nSubject: Weekly Newsletter - Latest Updates\n\nHi team, just a reminder about our Project Alpha meeting tomorrow at 10 AM in Conference Room 3. Please come prepared to discuss the Q3 roadmap. Best, John",
         "False",
         "False",
         "True",
         "0.05709885379853819"
        ],
        [
         "3999",
         "From: social@media-boost.online\nSubject: Verify Your Bank Details Immediately\n\nA large sum of money is waiting for you. Contact us to claim your inheritance: [email]",
         "True",
         "True",
         "True",
         "0.7271182397062442"
        ],
        [
         "6033",
         "From: family@homemail.net\nSubject: Meeting Reminder: Project Alpha\n\nThank you for your order #6789. Your items will be shipped within 2 business days. You can track your order here: [link to legitimate tracking page]. Best regards, Legit Company Support",
         "False",
         "False",
         "True",
         "0.05668074929146994"
        ],
        [
         "582",
         "From: deals@best-offers.xyz\nSubject: Exclusive Investment Opportunity - High Returns!\n\nBoost your social media presence! Get thousands of new followers instantly. Visit: [link]",
         "True",
         "True",
         "True",
         "0.7260154130471089"
        ],
        [
         "9930",
         "From: newsletter@info.org\nSubject: Invoice for Services Rendered\n\nHere's your weekly dose of news and updates from our community. This week, we cover [topic 1] and [topic 2]. Read more on our blog: [link to blog]. Sincerely, The Newsletter Team",
         "False",
         "False",
         "True",
         "0.058920449652576784"
        ],
        [
         "7051",
         "From: survey@retailfeedback.com\nSubject: Meeting Reminder: Project Alpha\n\nHi team, just a reminder about our Project Alpha meeting tomorrow at 10 AM in Conference Room 3. Please come prepared to discuss the Q3 roadmap. Best, John",
         "False",
         "False",
         "True",
         "0.04628209990207074"
        ],
        [
         "8158",
         "From: support@secure-login.com\nSubject: Congratulations! You've Won a Free iPhone!\n\nUrgent security notification! A login from an unrecognized device was detected. Review activity: [link]",
         "True",
         "True",
         "True",
         "0.6848172082945885"
        ],
        [
         "9896",
         "From: info@customerservice.co\nSubject: Important: Software Update Notification\n\nHi everyone, I've uploaded the photos from our weekend trip to the shared drive. You can view them here: [link to cloud storage]. Let me know what you think! Best, [Your Name]",
         "False",
         "False",
         "True",
         "0.058620335370205966"
        ],
        [
         "2249",
         "From: survey@retailfeedback.com\nSubject: Your Order #6789 Confirmed\n\nWe value your feedback! Please take a few moments to complete a short survey about your recent purchase from us. Your input helps us improve. Take survey: [link to survey]. Thank you, Retail Feedback Team",
         "False",
         "False",
         "True",
         "0.04862090780269972"
        ],
        [
         "4640",
         "From: survey@retailfeedback.com\nSubject: Photos from the Weekend Trip\n\nPlease find attached your invoice for the services rendered in June. The total amount due is $X.XX. Payment is due by [Date]. If you have any questions, please reply to this email. Thank you, Accounts Department",
         "False",
         "False",
         "True",
         "0.05404576158472619"
        ],
        [
         "9485",
         "From: survey@retailfeedback.com\nSubject: Team Stand-up at 10 AM\n\nHey [Friend's Name], it's been a while! How have you been? I was thinking about [recent event/topic]. Let's catch up soon! Cheers, [Your Name]",
         "False",
         "False",
         "True",
         "0.047303416308532915"
        ],
        [
         "4947",
         "From: john.doe@example.com\nSubject: Feedback Request: Your Recent Purchase\n\nGood morning, everyone. Just a quick reminder for our daily stand-up meeting at 10 AM. Please be ready to share your progress and any blockers. Thanks, Project Manager",
         "False",
         "False",
         "True",
         "0.0413053839854763"
        ],
        [
         "9920",
         "From: team@projectmanagement.com\nSubject: Weekly Newsletter - Latest Updates\n\nWe value your feedback! Please take a few moments to complete a short survey about your recent purchase from us. Your input helps us improve. Take survey: [link to survey]. Thank you, Retail Feedback Team",
         "False",
         "False",
         "True",
         "0.045484745959969757"
        ],
        [
         "1963",
         "From: support@legitcompany.com\nSubject: Photos from the Weekend Trip\n\nHere's your weekly dose of news and updates from our community. This week, we cover [topic 1] and [topic 2]. Read more on our blog: [link to blog]. Sincerely, The Newsletter Team",
         "False",
         "False",
         "True",
         "0.054234754148999094"
        ],
        [
         "8243",
         "From: family@homemail.net\nSubject: Important: Software Update Notification\n\nHey [Friend's Name], it's been a while! How have you been? I was thinking about [recent event/topic]. Let's catch up soon! Cheers, [Your Name]",
         "False",
         "False",
         "True",
         "0.05032712063922919"
        ],
        [
         "6590",
         "From: newsletter@info.org\nSubject: Team Stand-up at 10 AM\n\nThis is an automated notification regarding an important software update for your system. Please ensure your software is updated to the latest version to maintain security and performance. Learn more: [link to official update page]. Regards, Software Updates",
         "False",
         "False",
         "True",
         "0.06625137722385407"
        ],
        [
         "8847",
         "From: team@projectmanagement.com\nSubject: Important: Software Update Notification\n\nWe value your feedback! Please take a few moments to complete a short survey about your recent purchase from us. Your input helps us improve. Take survey: [link to survey]. Thank you, Retail Feedback Team",
         "False",
         "False",
         "True",
         "0.04733046529869251"
        ],
        [
         "321",
         "From: family@homemail.net\nSubject: Weekly Newsletter - Latest Updates\n\nHey [Friend's Name], it's been a while! How have you been? I was thinking about [recent event/topic]. Let's catch up soon! Cheers, [Your Name]",
         "False",
         "False",
         "True",
         "0.04837047577728817"
        ],
        [
         "2678",
         "From: noreply@softwareupdates.com\nSubject: Team Stand-up at 10 AM\n\nHi everyone, I've uploaded the photos from our weekend trip to the shared drive. You can view them here: [link to cloud storage]. Let me know what you think! Best, [Your Name]",
         "False",
         "False",
         "True",
         "0.04915873815315642"
        ],
        [
         "4625",
         "From: noreply@softwareupdates.com\nSubject: Weekly Newsletter - Latest Updates\n\nHi team, just a reminder about our Project Alpha meeting tomorrow at 10 AM in Conference Room 3. Please come prepared to discuss the Q3 roadmap. Best, John",
         "False",
         "False",
         "True",
         "0.04623702120676109"
        ],
        [
         "4949",
         "From: newsletter@info.org\nSubject: Important: Software Update Notification\n\nThank you for reaching out regarding [your inquiry]. We have reviewed your request and will get back to you within 24 hours with a detailed response. Sincerely, Customer Service Team",
         "False",
         "False",
         "True",
         "0.06038512196078681"
        ],
        [
         "8328",
         "From: info@unclaimed-funds.co\nSubject: Act Now: Limited Time Offer - 90% Off All Products!\n\nBoost your social media presence! Get thousands of new followers instantly. Visit: [link]",
         "True",
         "True",
         "True",
         "0.6963100990416684"
        ],
        [
         "3337",
         "From: noreply@softwareupdates.com\nSubject: Meeting Reminder: Project Alpha\n\nHey [Friend's Name], it's been a while! How have you been? I was thinking about [recent event/topic]. Let's catch up soon! Cheers, [Your Name]",
         "False",
         "False",
         "True",
         "0.050216105628225094"
        ],
        [
         "5589",
         "From: deals@best-offers.xyz\nSubject: Congratulations! You've Won a Free iPhone!\n\nMake thousands of dollars from home with our proven system. No experience required. Sign up today: [link]",
         "True",
         "True",
         "True",
         "0.7230259520673973"
        ],
        [
         "251",
         "From: newsletter@info.org\nSubject: Your Order #6789 Confirmed\n\nHi team, just a reminder about our Project Alpha meeting tomorrow at 10 AM in Conference Room 3. Please come prepared to discuss the Q3 roadmap. Best, John",
         "False",
         "False",
         "True",
         "0.0556045820538135"
        ],
        [
         "3973",
         "From: noreply@winner-prize.net\nSubject: Verify Your Bank Details Immediately\n\nInvest in our revolutionary new platform and earn guaranteed high returns. Learn more: [link]",
         "True",
         "True",
         "True",
         "0.698800675888042"
        ],
        [
         "6630",
         "From: noreply@softwareupdates.com\nSubject: Weekly Newsletter - Latest Updates\n\nPlease find attached your invoice for the services rendered in June. The total amount due is $X.XX. Payment is due by [Date]. If you have any questions, please reply to this email. Thank you, Accounts Department",
         "False",
         "False",
         "True",
         "0.05380469214111513"
        ],
        [
         "5547",
         "From: team@projectmanagement.com\nSubject: Catching Up - How are you?\n\nWe value your feedback! Please take a few moments to complete a short survey about your recent purchase from us. Your input helps us improve. Take survey: [link to survey]. Thank you, Retail Feedback Team",
         "False",
         "False",
         "True",
         "0.0484950354605416"
        ],
        [
         "35",
         "From: admin@bank-verify.org\nSubject: Important Security Alert: Login from New Device\n\nInvest in our revolutionary new platform and earn guaranteed high returns. Learn more: [link]",
         "True",
         "True",
         "True",
         "0.7028654026333077"
        ],
        [
         "8362",
         "From: john.doe@example.com\nSubject: Team Stand-up at 10 AM\n\nThank you for reaching out regarding [your inquiry]. We have reviewed your request and will get back to you within 24 hours with a detailed response. Sincerely, Customer Service Team",
         "False",
         "False",
         "True",
         "0.05115913302984871"
        ],
        [
         "1513",
         "From: family@homemail.net\nSubject: Weekly Newsletter - Latest Updates\n\nHey [Friend's Name], it's been a while! How have you been? I was thinking about [recent event/topic]. Let's catch up soon! Cheers, [Your Name]",
         "False",
         "False",
         "True",
         "0.04837047577728817"
        ],
        [
         "9317",
         "From: deals@best-offers.xyz\nSubject: New Followers on Your Social Media!\n\nMake thousands of dollars from home with our proven system. No experience required. Sign up today: [link]",
         "True",
         "True",
         "True",
         "0.7222677021076356"
        ],
        [
         "39",
         "From: team@projectmanagement.com\nSubject: Invoice for Services Rendered\n\nThank you for reaching out regarding [your inquiry]. We have reviewed your request and will get back to you within 24 hours with a detailed response. Sincerely, Customer Service Team",
         "False",
         "False",
         "True",
         "0.0490757228280621"
        ],
        [
         "4819",
         "From: delivery@package-update.info\nSubject: Unclaimed Funds Await You\n\nWe detected suspicious login attempts on your account. For your security, please update your password immediately: [link]",
         "True",
         "True",
         "True",
         "0.7067774810644182"
        ],
        [
         "3465",
         "From: noreply@softwareupdates.com\nSubject: Catching Up - How are you?\n\nHere's your weekly dose of news and updates from our community. This week, we cover [topic 1] and [topic 2]. Read more on our blog: [link to blog]. Sincerely, The Newsletter Team",
         "False",
         "False",
         "True",
         "0.051029750188085206"
        ],
        [
         "1760",
         "From: john.doe@example.com\nSubject: Invoice for Services Rendered\n\nGood morning, everyone. Just a quick reminder for our daily stand-up meeting at 10 AM. Please be ready to share your progress and any blockers. Thanks, Project Manager",
         "False",
         "False",
         "True",
         "0.0448649780391393"
        ],
        [
         "2304",
         "From: noreply@softwareupdates.com\nSubject: Weekly Newsletter - Latest Updates\n\nThank you for your order #6789. Your items will be shipped within 2 business days. You can track your order here: [link to legitimate tracking page]. Best regards, Legit Company Support",
         "False",
         "False",
         "True",
         "0.051438403169546974"
        ]
       ],
       "shape": {
        "columns": 5,
        "rows": 100
       }
      },
      "text/html": [
       "<div>\n",
       "<style scoped>\n",
       "    .dataframe tbody tr th:only-of-type {\n",
       "        vertical-align: middle;\n",
       "    }\n",
       "\n",
       "    .dataframe tbody tr th {\n",
       "        vertical-align: top;\n",
       "    }\n",
       "\n",
       "    .dataframe thead th {\n",
       "        text-align: right;\n",
       "    }\n",
       "</style>\n",
       "<table border=\"1\" class=\"dataframe\">\n",
       "  <thead>\n",
       "    <tr style=\"text-align: right;\">\n",
       "      <th></th>\n",
       "      <th>email</th>\n",
       "      <th>prediction</th>\n",
       "      <th>true_label</th>\n",
       "      <th>correct</th>\n",
       "      <th>score</th>\n",
       "    </tr>\n",
       "  </thead>\n",
       "  <tbody>\n",
       "    <tr>\n",
       "      <th>6252</th>\n",
       "      <td>From: friend@personalmail.net\\nSubject: Catchi...</td>\n",
       "      <td>False</td>\n",
       "      <td>False</td>\n",
       "      <td>True</td>\n",
       "      <td>0.055840</td>\n",
       "    </tr>\n",
       "    <tr>\n",
       "      <th>4684</th>\n",
       "      <td>From: noreply@softwareupdates.com\\nSubject: Me...</td>\n",
       "      <td>False</td>\n",
       "      <td>False</td>\n",
       "      <td>True</td>\n",
       "      <td>0.053313</td>\n",
       "    </tr>\n",
       "    <tr>\n",
       "      <th>1731</th>\n",
       "      <td>From: friend@personalmail.net\\nSubject: Photos...</td>\n",
       "      <td>False</td>\n",
       "      <td>False</td>\n",
       "      <td>True</td>\n",
       "      <td>0.049915</td>\n",
       "    </tr>\n",
       "    <tr>\n",
       "      <th>4742</th>\n",
       "      <td>From: deals@best-offers.xyz\\nSubject: Verify Y...</td>\n",
       "      <td>True</td>\n",
       "      <td>True</td>\n",
       "      <td>True</td>\n",
       "      <td>0.739259</td>\n",
       "    </tr>\n",
       "    <tr>\n",
       "      <th>4521</th>\n",
       "      <td>From: team@projectmanagement.com\\nSubject: Mee...</td>\n",
       "      <td>False</td>\n",
       "      <td>False</td>\n",
       "      <td>True</td>\n",
       "      <td>0.050229</td>\n",
       "    </tr>\n",
       "    <tr>\n",
       "      <th>...</th>\n",
       "      <td>...</td>\n",
       "      <td>...</td>\n",
       "      <td>...</td>\n",
       "      <td>...</td>\n",
       "      <td>...</td>\n",
       "    </tr>\n",
       "    <tr>\n",
       "      <th>3787</th>\n",
       "      <td>From: john.doe@example.com\\nSubject: Regarding...</td>\n",
       "      <td>False</td>\n",
       "      <td>False</td>\n",
       "      <td>True</td>\n",
       "      <td>0.042184</td>\n",
       "    </tr>\n",
       "    <tr>\n",
       "      <th>9189</th>\n",
       "      <td>From: accounts@billingcorp.com\\nSubject: Regar...</td>\n",
       "      <td>False</td>\n",
       "      <td>False</td>\n",
       "      <td>True</td>\n",
       "      <td>0.042463</td>\n",
       "    </tr>\n",
       "    <tr>\n",
       "      <th>7825</th>\n",
       "      <td>From: deals@best-offers.xyz\\nSubject: Verify Y...</td>\n",
       "      <td>True</td>\n",
       "      <td>True</td>\n",
       "      <td>True</td>\n",
       "      <td>0.694179</td>\n",
       "    </tr>\n",
       "    <tr>\n",
       "      <th>7539</th>\n",
       "      <td>From: family@homemail.net\\nSubject: Invoice fo...</td>\n",
       "      <td>False</td>\n",
       "      <td>False</td>\n",
       "      <td>True</td>\n",
       "      <td>0.059157</td>\n",
       "    </tr>\n",
       "    <tr>\n",
       "      <th>7231</th>\n",
       "      <td>From: friend@personalmail.net\\nSubject: Meetin...</td>\n",
       "      <td>False</td>\n",
       "      <td>False</td>\n",
       "      <td>True</td>\n",
       "      <td>0.058202</td>\n",
       "    </tr>\n",
       "  </tbody>\n",
       "</table>\n",
       "<p>100 rows × 5 columns</p>\n",
       "</div>"
      ],
      "text/plain": [
       "                                                  email  prediction  \\\n",
       "6252  From: friend@personalmail.net\\nSubject: Catchi...       False   \n",
       "4684  From: noreply@softwareupdates.com\\nSubject: Me...       False   \n",
       "1731  From: friend@personalmail.net\\nSubject: Photos...       False   \n",
       "4742  From: deals@best-offers.xyz\\nSubject: Verify Y...        True   \n",
       "4521  From: team@projectmanagement.com\\nSubject: Mee...       False   \n",
       "...                                                 ...         ...   \n",
       "3787  From: john.doe@example.com\\nSubject: Regarding...       False   \n",
       "9189  From: accounts@billingcorp.com\\nSubject: Regar...       False   \n",
       "7825  From: deals@best-offers.xyz\\nSubject: Verify Y...        True   \n",
       "7539  From: family@homemail.net\\nSubject: Invoice fo...       False   \n",
       "7231  From: friend@personalmail.net\\nSubject: Meetin...       False   \n",
       "\n",
       "      true_label  correct     score  \n",
       "6252       False     True  0.055840  \n",
       "4684       False     True  0.053313  \n",
       "1731       False     True  0.049915  \n",
       "4742        True     True  0.739259  \n",
       "4521       False     True  0.050229  \n",
       "...          ...      ...       ...  \n",
       "3787       False     True  0.042184  \n",
       "9189       False     True  0.042463  \n",
       "7825        True     True  0.694179  \n",
       "7539       False     True  0.059157  \n",
       "7231       False     True  0.058202  \n",
       "\n",
       "[100 rows x 5 columns]"
      ]
     },
     "execution_count": 38,
     "metadata": {},
     "output_type": "execute_result"
    }
   ],
   "source": [
    "detector_rf = EmailPrioritizer(model_type=\"random_forest\")\n",
    "detector_rf.fit(X_train, y_train, cv=3)\n",
    "detector_rf.evaluate(X_test, y_test)\n",
    "df_results_rf = pd.DataFrame({\n",
    "    'email': X_holdout,\n",
    "    'prediction': detector.predict(X_holdout),\n",
    "    'true_label': y_holdout,\n",
    "    'correct': detector.predict(X_holdout) == y_holdout,\n",
    "    'score': detector.predict_proba(X_holdout)[:,1],\n",
    "})\n",
    "df_results_rf"
   ]
  },
  {
   "cell_type": "code",
   "execution_count": 39,
   "id": "0e2c49c3",
   "metadata": {},
   "outputs": [
    {
     "name": "stdout",
     "output_type": "stream",
     "text": [
      "Running GridSearchCV for catboost...\n",
      "Fitting 3 folds for each of 8 candidates, totalling 24 fits\n",
      "\n",
      "Best cross-val accuracy: 1.000\n",
      "Best parameters: {'model__depth': 4, 'model__iterations': 200, 'model__learning_rate': 0.05}\n",
      "\n",
      "Evaluation Report:\n",
      "              precision    recall  f1-score   support\n",
      "\n",
      "       False       1.00      1.00      1.00      2515\n",
      "        True       1.00      1.00      1.00       455\n",
      "\n",
      "    accuracy                           1.00      2970\n",
      "   macro avg       1.00      1.00      1.00      2970\n",
      "weighted avg       1.00      1.00      1.00      2970\n",
      "\n",
      "Accuracy: 1.0\n"
     ]
    },
    {
     "data": {
      "application/vnd.microsoft.datawrangler.viewer.v0+json": {
       "columns": [
        {
         "name": "index",
         "rawType": "int64",
         "type": "integer"
        },
        {
         "name": "email",
         "rawType": "object",
         "type": "string"
        },
        {
         "name": "prediction",
         "rawType": "bool",
         "type": "boolean"
        },
        {
         "name": "true_label",
         "rawType": "bool",
         "type": "boolean"
        },
        {
         "name": "correct",
         "rawType": "bool",
         "type": "boolean"
        },
        {
         "name": "score",
         "rawType": "float64",
         "type": "float"
        }
       ],
       "ref": "3c1cb6c8-ff66-4d6e-af96-50b6c760c66c",
       "rows": [
        [
         "6252",
         "From: friend@personalmail.net\nSubject: Catching Up - How are you?\n\nThank you for your order #6789. Your items will be shipped within 2 business days. You can track your order here: [link to legitimate tracking page]. Best regards, Legit Company Support",
         "False",
         "False",
         "True",
         "0.05583962715675325"
        ],
        [
         "4684",
         "From: noreply@softwareupdates.com\nSubject: Meeting Reminder: Project Alpha\n\nWe value your feedback! Please take a few moments to complete a short survey about your recent purchase from us. Your input helps us improve. Take survey: [link to survey]. Thank you, Retail Feedback Team",
         "False",
         "False",
         "True",
         "0.05331328179045311"
        ],
        [
         "1731",
         "From: friend@personalmail.net\nSubject: Photos from the Weekend Trip\n\nHi everyone, I've uploaded the photos from our weekend trip to the shared drive. You can view them here: [link to cloud storage]. Let me know what you think! Best, [Your Name]",
         "False",
         "False",
         "True",
         "0.049914748007303486"
        ],
        [
         "4742",
         "From: deals@best-offers.xyz\nSubject: Verify Your Bank Details Immediately\n\nInvest in our revolutionary new platform and earn guaranteed high returns. Learn more: [link]",
         "True",
         "True",
         "True",
         "0.7392590100411432"
        ],
        [
         "4521",
         "From: team@projectmanagement.com\nSubject: Meeting Reminder: Project Alpha\n\nThank you for your order #6789. Your items will be shipped within 2 business days. You can track your order here: [link to legitimate tracking page]. Best regards, Legit Company Support",
         "False",
         "False",
         "True",
         "0.05022908811476"
        ],
        [
         "6340",
         "From: family@homemail.net\nSubject: Catching Up - How are you?\n\nWe value your feedback! Please take a few moments to complete a short survey about your recent purchase from us. Your input helps us improve. Take survey: [link to survey]. Thank you, Retail Feedback Team",
         "False",
         "False",
         "True",
         "0.05473680300662746"
        ],
        [
         "576",
         "From: info@customerservice.co\nSubject: Catching Up - How are you?\n\nHi team, just a reminder about our Project Alpha meeting tomorrow at 10 AM in Conference Room 3. Please come prepared to discuss the Q3 roadmap. Best, John",
         "False",
         "False",
         "True",
         "0.06082880873081997"
        ],
        [
         "5202",
         "From: social@media-boost.online\nSubject: Unclaimed Funds Await You\n\nUrgent security notification! A login from an unrecognized device was detected. Review activity: [link]",
         "True",
         "True",
         "True",
         "0.7533627285480419"
        ],
        [
         "6363",
         "From: survey@retailfeedback.com\nSubject: Team Stand-up at 10 AM\n\nHi everyone, I've uploaded the photos from our weekend trip to the shared drive. You can view them here: [link to cloud storage]. Let me know what you think! Best, [Your Name]",
         "False",
         "False",
         "True",
         "0.04598955535038548"
        ],
        [
         "439",
         "From: info@customerservice.co\nSubject: Meeting Reminder: Project Alpha\n\nGood morning, everyone. Just a quick reminder for our daily stand-up meeting at 10 AM. Please be ready to share your progress and any blockers. Thanks, Project Manager",
         "False",
         "False",
         "True",
         "0.05884954168517177"
        ],
        [
         "2750",
         "From: accounts@billingcorp.com\nSubject: Your Order #6789 Confirmed\n\nHere's your weekly dose of news and updates from our community. This week, we cover [topic 1] and [topic 2]. Read more on our blog: [link to blog]. Sincerely, The Newsletter Team",
         "False",
         "False",
         "True",
         "0.045764164877203355"
        ],
        [
         "7487",
         "From: accounts@billingcorp.com\nSubject: Feedback Request: Your Recent Purchase\n\nHere's your weekly dose of news and updates from our community. This week, we cover [topic 1] and [topic 2]. Read more on our blog: [link to blog]. Sincerely, The Newsletter Team",
         "False",
         "False",
         "True",
         "0.04315774282723282"
        ],
        [
         "5272",
         "From: accounts@billingcorp.com\nSubject: Important: Software Update Notification\n\nGood morning, everyone. Just a quick reminder for our daily stand-up meeting at 10 AM. Please be ready to share your progress and any blockers. Thanks, Project Manager",
         "False",
         "False",
         "True",
         "0.042495526770373715"
        ],
        [
         "5653",
         "From: info@customerservice.co\nSubject: Weekly Newsletter - Latest Updates\n\nHi team, just a reminder about our Project Alpha meeting tomorrow at 10 AM in Conference Room 3. Please come prepared to discuss the Q3 roadmap. Best, John",
         "False",
         "False",
         "True",
         "0.05709885379853819"
        ],
        [
         "3999",
         "From: social@media-boost.online\nSubject: Verify Your Bank Details Immediately\n\nA large sum of money is waiting for you. Contact us to claim your inheritance: [email]",
         "True",
         "True",
         "True",
         "0.7271182397062442"
        ],
        [
         "6033",
         "From: family@homemail.net\nSubject: Meeting Reminder: Project Alpha\n\nThank you for your order #6789. Your items will be shipped within 2 business days. You can track your order here: [link to legitimate tracking page]. Best regards, Legit Company Support",
         "False",
         "False",
         "True",
         "0.05668074929146994"
        ],
        [
         "582",
         "From: deals@best-offers.xyz\nSubject: Exclusive Investment Opportunity - High Returns!\n\nBoost your social media presence! Get thousands of new followers instantly. Visit: [link]",
         "True",
         "True",
         "True",
         "0.7260154130471089"
        ],
        [
         "9930",
         "From: newsletter@info.org\nSubject: Invoice for Services Rendered\n\nHere's your weekly dose of news and updates from our community. This week, we cover [topic 1] and [topic 2]. Read more on our blog: [link to blog]. Sincerely, The Newsletter Team",
         "False",
         "False",
         "True",
         "0.058920449652576784"
        ],
        [
         "7051",
         "From: survey@retailfeedback.com\nSubject: Meeting Reminder: Project Alpha\n\nHi team, just a reminder about our Project Alpha meeting tomorrow at 10 AM in Conference Room 3. Please come prepared to discuss the Q3 roadmap. Best, John",
         "False",
         "False",
         "True",
         "0.04628209990207074"
        ],
        [
         "8158",
         "From: support@secure-login.com\nSubject: Congratulations! You've Won a Free iPhone!\n\nUrgent security notification! A login from an unrecognized device was detected. Review activity: [link]",
         "True",
         "True",
         "True",
         "0.6848172082945885"
        ],
        [
         "9896",
         "From: info@customerservice.co\nSubject: Important: Software Update Notification\n\nHi everyone, I've uploaded the photos from our weekend trip to the shared drive. You can view them here: [link to cloud storage]. Let me know what you think! Best, [Your Name]",
         "False",
         "False",
         "True",
         "0.058620335370205966"
        ],
        [
         "2249",
         "From: survey@retailfeedback.com\nSubject: Your Order #6789 Confirmed\n\nWe value your feedback! Please take a few moments to complete a short survey about your recent purchase from us. Your input helps us improve. Take survey: [link to survey]. Thank you, Retail Feedback Team",
         "False",
         "False",
         "True",
         "0.04862090780269972"
        ],
        [
         "4640",
         "From: survey@retailfeedback.com\nSubject: Photos from the Weekend Trip\n\nPlease find attached your invoice for the services rendered in June. The total amount due is $X.XX. Payment is due by [Date]. If you have any questions, please reply to this email. Thank you, Accounts Department",
         "False",
         "False",
         "True",
         "0.05404576158472619"
        ],
        [
         "9485",
         "From: survey@retailfeedback.com\nSubject: Team Stand-up at 10 AM\n\nHey [Friend's Name], it's been a while! How have you been? I was thinking about [recent event/topic]. Let's catch up soon! Cheers, [Your Name]",
         "False",
         "False",
         "True",
         "0.047303416308532915"
        ],
        [
         "4947",
         "From: john.doe@example.com\nSubject: Feedback Request: Your Recent Purchase\n\nGood morning, everyone. Just a quick reminder for our daily stand-up meeting at 10 AM. Please be ready to share your progress and any blockers. Thanks, Project Manager",
         "False",
         "False",
         "True",
         "0.0413053839854763"
        ],
        [
         "9920",
         "From: team@projectmanagement.com\nSubject: Weekly Newsletter - Latest Updates\n\nWe value your feedback! Please take a few moments to complete a short survey about your recent purchase from us. Your input helps us improve. Take survey: [link to survey]. Thank you, Retail Feedback Team",
         "False",
         "False",
         "True",
         "0.045484745959969757"
        ],
        [
         "1963",
         "From: support@legitcompany.com\nSubject: Photos from the Weekend Trip\n\nHere's your weekly dose of news and updates from our community. This week, we cover [topic 1] and [topic 2]. Read more on our blog: [link to blog]. Sincerely, The Newsletter Team",
         "False",
         "False",
         "True",
         "0.054234754148999094"
        ],
        [
         "8243",
         "From: family@homemail.net\nSubject: Important: Software Update Notification\n\nHey [Friend's Name], it's been a while! How have you been? I was thinking about [recent event/topic]. Let's catch up soon! Cheers, [Your Name]",
         "False",
         "False",
         "True",
         "0.05032712063922919"
        ],
        [
         "6590",
         "From: newsletter@info.org\nSubject: Team Stand-up at 10 AM\n\nThis is an automated notification regarding an important software update for your system. Please ensure your software is updated to the latest version to maintain security and performance. Learn more: [link to official update page]. Regards, Software Updates",
         "False",
         "False",
         "True",
         "0.06625137722385407"
        ],
        [
         "8847",
         "From: team@projectmanagement.com\nSubject: Important: Software Update Notification\n\nWe value your feedback! Please take a few moments to complete a short survey about your recent purchase from us. Your input helps us improve. Take survey: [link to survey]. Thank you, Retail Feedback Team",
         "False",
         "False",
         "True",
         "0.04733046529869251"
        ],
        [
         "321",
         "From: family@homemail.net\nSubject: Weekly Newsletter - Latest Updates\n\nHey [Friend's Name], it's been a while! How have you been? I was thinking about [recent event/topic]. Let's catch up soon! Cheers, [Your Name]",
         "False",
         "False",
         "True",
         "0.04837047577728817"
        ],
        [
         "2678",
         "From: noreply@softwareupdates.com\nSubject: Team Stand-up at 10 AM\n\nHi everyone, I've uploaded the photos from our weekend trip to the shared drive. You can view them here: [link to cloud storage]. Let me know what you think! Best, [Your Name]",
         "False",
         "False",
         "True",
         "0.04915873815315642"
        ],
        [
         "4625",
         "From: noreply@softwareupdates.com\nSubject: Weekly Newsletter - Latest Updates\n\nHi team, just a reminder about our Project Alpha meeting tomorrow at 10 AM in Conference Room 3. Please come prepared to discuss the Q3 roadmap. Best, John",
         "False",
         "False",
         "True",
         "0.04623702120676109"
        ],
        [
         "4949",
         "From: newsletter@info.org\nSubject: Important: Software Update Notification\n\nThank you for reaching out regarding [your inquiry]. We have reviewed your request and will get back to you within 24 hours with a detailed response. Sincerely, Customer Service Team",
         "False",
         "False",
         "True",
         "0.06038512196078681"
        ],
        [
         "8328",
         "From: info@unclaimed-funds.co\nSubject: Act Now: Limited Time Offer - 90% Off All Products!\n\nBoost your social media presence! Get thousands of new followers instantly. Visit: [link]",
         "True",
         "True",
         "True",
         "0.6963100990416684"
        ],
        [
         "3337",
         "From: noreply@softwareupdates.com\nSubject: Meeting Reminder: Project Alpha\n\nHey [Friend's Name], it's been a while! How have you been? I was thinking about [recent event/topic]. Let's catch up soon! Cheers, [Your Name]",
         "False",
         "False",
         "True",
         "0.050216105628225094"
        ],
        [
         "5589",
         "From: deals@best-offers.xyz\nSubject: Congratulations! You've Won a Free iPhone!\n\nMake thousands of dollars from home with our proven system. No experience required. Sign up today: [link]",
         "True",
         "True",
         "True",
         "0.7230259520673973"
        ],
        [
         "251",
         "From: newsletter@info.org\nSubject: Your Order #6789 Confirmed\n\nHi team, just a reminder about our Project Alpha meeting tomorrow at 10 AM in Conference Room 3. Please come prepared to discuss the Q3 roadmap. Best, John",
         "False",
         "False",
         "True",
         "0.0556045820538135"
        ],
        [
         "3973",
         "From: noreply@winner-prize.net\nSubject: Verify Your Bank Details Immediately\n\nInvest in our revolutionary new platform and earn guaranteed high returns. Learn more: [link]",
         "True",
         "True",
         "True",
         "0.698800675888042"
        ],
        [
         "6630",
         "From: noreply@softwareupdates.com\nSubject: Weekly Newsletter - Latest Updates\n\nPlease find attached your invoice for the services rendered in June. The total amount due is $X.XX. Payment is due by [Date]. If you have any questions, please reply to this email. Thank you, Accounts Department",
         "False",
         "False",
         "True",
         "0.05380469214111513"
        ],
        [
         "5547",
         "From: team@projectmanagement.com\nSubject: Catching Up - How are you?\n\nWe value your feedback! Please take a few moments to complete a short survey about your recent purchase from us. Your input helps us improve. Take survey: [link to survey]. Thank you, Retail Feedback Team",
         "False",
         "False",
         "True",
         "0.0484950354605416"
        ],
        [
         "35",
         "From: admin@bank-verify.org\nSubject: Important Security Alert: Login from New Device\n\nInvest in our revolutionary new platform and earn guaranteed high returns. Learn more: [link]",
         "True",
         "True",
         "True",
         "0.7028654026333077"
        ],
        [
         "8362",
         "From: john.doe@example.com\nSubject: Team Stand-up at 10 AM\n\nThank you for reaching out regarding [your inquiry]. We have reviewed your request and will get back to you within 24 hours with a detailed response. Sincerely, Customer Service Team",
         "False",
         "False",
         "True",
         "0.05115913302984871"
        ],
        [
         "1513",
         "From: family@homemail.net\nSubject: Weekly Newsletter - Latest Updates\n\nHey [Friend's Name], it's been a while! How have you been? I was thinking about [recent event/topic]. Let's catch up soon! Cheers, [Your Name]",
         "False",
         "False",
         "True",
         "0.04837047577728817"
        ],
        [
         "9317",
         "From: deals@best-offers.xyz\nSubject: New Followers on Your Social Media!\n\nMake thousands of dollars from home with our proven system. No experience required. Sign up today: [link]",
         "True",
         "True",
         "True",
         "0.7222677021076356"
        ],
        [
         "39",
         "From: team@projectmanagement.com\nSubject: Invoice for Services Rendered\n\nThank you for reaching out regarding [your inquiry]. We have reviewed your request and will get back to you within 24 hours with a detailed response. Sincerely, Customer Service Team",
         "False",
         "False",
         "True",
         "0.0490757228280621"
        ],
        [
         "4819",
         "From: delivery@package-update.info\nSubject: Unclaimed Funds Await You\n\nWe detected suspicious login attempts on your account. For your security, please update your password immediately: [link]",
         "True",
         "True",
         "True",
         "0.7067774810644182"
        ],
        [
         "3465",
         "From: noreply@softwareupdates.com\nSubject: Catching Up - How are you?\n\nHere's your weekly dose of news and updates from our community. This week, we cover [topic 1] and [topic 2]. Read more on our blog: [link to blog]. Sincerely, The Newsletter Team",
         "False",
         "False",
         "True",
         "0.051029750188085206"
        ],
        [
         "1760",
         "From: john.doe@example.com\nSubject: Invoice for Services Rendered\n\nGood morning, everyone. Just a quick reminder for our daily stand-up meeting at 10 AM. Please be ready to share your progress and any blockers. Thanks, Project Manager",
         "False",
         "False",
         "True",
         "0.0448649780391393"
        ],
        [
         "2304",
         "From: noreply@softwareupdates.com\nSubject: Weekly Newsletter - Latest Updates\n\nThank you for your order #6789. Your items will be shipped within 2 business days. You can track your order here: [link to legitimate tracking page]. Best regards, Legit Company Support",
         "False",
         "False",
         "True",
         "0.051438403169546974"
        ]
       ],
       "shape": {
        "columns": 5,
        "rows": 100
       }
      },
      "text/html": [
       "<div>\n",
       "<style scoped>\n",
       "    .dataframe tbody tr th:only-of-type {\n",
       "        vertical-align: middle;\n",
       "    }\n",
       "\n",
       "    .dataframe tbody tr th {\n",
       "        vertical-align: top;\n",
       "    }\n",
       "\n",
       "    .dataframe thead th {\n",
       "        text-align: right;\n",
       "    }\n",
       "</style>\n",
       "<table border=\"1\" class=\"dataframe\">\n",
       "  <thead>\n",
       "    <tr style=\"text-align: right;\">\n",
       "      <th></th>\n",
       "      <th>email</th>\n",
       "      <th>prediction</th>\n",
       "      <th>true_label</th>\n",
       "      <th>correct</th>\n",
       "      <th>score</th>\n",
       "    </tr>\n",
       "  </thead>\n",
       "  <tbody>\n",
       "    <tr>\n",
       "      <th>6252</th>\n",
       "      <td>From: friend@personalmail.net\\nSubject: Catchi...</td>\n",
       "      <td>False</td>\n",
       "      <td>False</td>\n",
       "      <td>True</td>\n",
       "      <td>0.055840</td>\n",
       "    </tr>\n",
       "    <tr>\n",
       "      <th>4684</th>\n",
       "      <td>From: noreply@softwareupdates.com\\nSubject: Me...</td>\n",
       "      <td>False</td>\n",
       "      <td>False</td>\n",
       "      <td>True</td>\n",
       "      <td>0.053313</td>\n",
       "    </tr>\n",
       "    <tr>\n",
       "      <th>1731</th>\n",
       "      <td>From: friend@personalmail.net\\nSubject: Photos...</td>\n",
       "      <td>False</td>\n",
       "      <td>False</td>\n",
       "      <td>True</td>\n",
       "      <td>0.049915</td>\n",
       "    </tr>\n",
       "    <tr>\n",
       "      <th>4742</th>\n",
       "      <td>From: deals@best-offers.xyz\\nSubject: Verify Y...</td>\n",
       "      <td>True</td>\n",
       "      <td>True</td>\n",
       "      <td>True</td>\n",
       "      <td>0.739259</td>\n",
       "    </tr>\n",
       "    <tr>\n",
       "      <th>4521</th>\n",
       "      <td>From: team@projectmanagement.com\\nSubject: Mee...</td>\n",
       "      <td>False</td>\n",
       "      <td>False</td>\n",
       "      <td>True</td>\n",
       "      <td>0.050229</td>\n",
       "    </tr>\n",
       "    <tr>\n",
       "      <th>...</th>\n",
       "      <td>...</td>\n",
       "      <td>...</td>\n",
       "      <td>...</td>\n",
       "      <td>...</td>\n",
       "      <td>...</td>\n",
       "    </tr>\n",
       "    <tr>\n",
       "      <th>3787</th>\n",
       "      <td>From: john.doe@example.com\\nSubject: Regarding...</td>\n",
       "      <td>False</td>\n",
       "      <td>False</td>\n",
       "      <td>True</td>\n",
       "      <td>0.042184</td>\n",
       "    </tr>\n",
       "    <tr>\n",
       "      <th>9189</th>\n",
       "      <td>From: accounts@billingcorp.com\\nSubject: Regar...</td>\n",
       "      <td>False</td>\n",
       "      <td>False</td>\n",
       "      <td>True</td>\n",
       "      <td>0.042463</td>\n",
       "    </tr>\n",
       "    <tr>\n",
       "      <th>7825</th>\n",
       "      <td>From: deals@best-offers.xyz\\nSubject: Verify Y...</td>\n",
       "      <td>True</td>\n",
       "      <td>True</td>\n",
       "      <td>True</td>\n",
       "      <td>0.694179</td>\n",
       "    </tr>\n",
       "    <tr>\n",
       "      <th>7539</th>\n",
       "      <td>From: family@homemail.net\\nSubject: Invoice fo...</td>\n",
       "      <td>False</td>\n",
       "      <td>False</td>\n",
       "      <td>True</td>\n",
       "      <td>0.059157</td>\n",
       "    </tr>\n",
       "    <tr>\n",
       "      <th>7231</th>\n",
       "      <td>From: friend@personalmail.net\\nSubject: Meetin...</td>\n",
       "      <td>False</td>\n",
       "      <td>False</td>\n",
       "      <td>True</td>\n",
       "      <td>0.058202</td>\n",
       "    </tr>\n",
       "  </tbody>\n",
       "</table>\n",
       "<p>100 rows × 5 columns</p>\n",
       "</div>"
      ],
      "text/plain": [
       "                                                  email  prediction  \\\n",
       "6252  From: friend@personalmail.net\\nSubject: Catchi...       False   \n",
       "4684  From: noreply@softwareupdates.com\\nSubject: Me...       False   \n",
       "1731  From: friend@personalmail.net\\nSubject: Photos...       False   \n",
       "4742  From: deals@best-offers.xyz\\nSubject: Verify Y...        True   \n",
       "4521  From: team@projectmanagement.com\\nSubject: Mee...       False   \n",
       "...                                                 ...         ...   \n",
       "3787  From: john.doe@example.com\\nSubject: Regarding...       False   \n",
       "9189  From: accounts@billingcorp.com\\nSubject: Regar...       False   \n",
       "7825  From: deals@best-offers.xyz\\nSubject: Verify Y...        True   \n",
       "7539  From: family@homemail.net\\nSubject: Invoice fo...       False   \n",
       "7231  From: friend@personalmail.net\\nSubject: Meetin...       False   \n",
       "\n",
       "      true_label  correct     score  \n",
       "6252       False     True  0.055840  \n",
       "4684       False     True  0.053313  \n",
       "1731       False     True  0.049915  \n",
       "4742        True     True  0.739259  \n",
       "4521       False     True  0.050229  \n",
       "...          ...      ...       ...  \n",
       "3787       False     True  0.042184  \n",
       "9189       False     True  0.042463  \n",
       "7825        True     True  0.694179  \n",
       "7539       False     True  0.059157  \n",
       "7231       False     True  0.058202  \n",
       "\n",
       "[100 rows x 5 columns]"
      ]
     },
     "execution_count": 39,
     "metadata": {},
     "output_type": "execute_result"
    }
   ],
   "source": [
    "detector_cb = EmailPrioritizer(model_type=\"catboost\")\n",
    "detector_cb.fit(X_train, y_train, cv=3)\n",
    "detector_cb.evaluate(X_test, y_test)\n",
    "df_results_cb = pd.DataFrame({\n",
    "    'email': X_holdout,\n",
    "    'prediction': detector.predict(X_holdout),\n",
    "    'true_label': y_holdout,\n",
    "    'correct': detector.predict(X_holdout) == y_holdout,\n",
    "    'score': detector.predict_proba(X_holdout)[:,1],\n",
    "})\n",
    "df_results_cb"
   ]
  },
  {
   "cell_type": "code",
   "execution_count": 40,
   "id": "6660fd3f",
   "metadata": {},
   "outputs": [
    {
     "data": {
      "application/vnd.microsoft.datawrangler.viewer.v0+json": {
       "columns": [
        {
         "name": "index",
         "rawType": "int64",
         "type": "integer"
        },
        {
         "name": "file",
         "rawType": "object",
         "type": "string"
        },
        {
         "name": "message",
         "rawType": "object",
         "type": "string"
        }
       ],
       "ref": "36458bf9-902a-423f-8d1f-a5c155747831",
       "rows": [
        [
         "0",
         "allen-p/_sent_mail/1.",
         "Message-ID: <18782981.1075855378110.JavaMail.evans@thyme>\nDate: Mon, 14 May 2001 16:39:00 -0700 (PDT)\nFrom: phillip.allen@enron.com\nTo: tim.belden@enron.com\nSubject: \nMime-Version: 1.0\nContent-Type: text/plain; charset=us-ascii\nContent-Transfer-Encoding: 7bit\nX-From: Phillip K Allen\nX-To: Tim Belden <Tim Belden/Enron@EnronXGate>\nX-cc: \nX-bcc: \nX-Folder: \\Phillip_Allen_Jan2002_1\\Allen, Phillip K.\\'Sent Mail\nX-Origin: Allen-P\nX-FileName: pallen (Non-Privileged).pst\n\nHere is our forecast\n\n "
        ],
        [
         "1",
         "allen-p/_sent_mail/10.",
         "Message-ID: <15464986.1075855378456.JavaMail.evans@thyme>\nDate: Fri, 4 May 2001 13:51:00 -0700 (PDT)\nFrom: phillip.allen@enron.com\nTo: john.lavorato@enron.com\nSubject: Re:\nMime-Version: 1.0\nContent-Type: text/plain; charset=us-ascii\nContent-Transfer-Encoding: 7bit\nX-From: Phillip K Allen\nX-To: John J Lavorato <John J Lavorato/ENRON@enronXgate@ENRON>\nX-cc: \nX-bcc: \nX-Folder: \\Phillip_Allen_Jan2002_1\\Allen, Phillip K.\\'Sent Mail\nX-Origin: Allen-P\nX-FileName: pallen (Non-Privileged).pst\n\nTraveling to have a business meeting takes the fun out of the trip.  Especially if you have to prepare a presentation.  I would suggest holding the business plan meetings here then take a trip without any formal business meetings.  I would even try and get some honest opinions on whether a trip is even desired or necessary.\n\nAs far as the business meetings, I think it would be more productive to try and stimulate discussions across the different groups about what is working and what is not.  Too often the presenter speaks and the others are quiet just waiting for their turn.   The meetings might be better if held in a round table discussion format.  \n\nMy suggestion for where to go is Austin.  Play golf and rent a ski boat and jet ski's.  Flying somewhere takes too much time.\n"
        ],
        [
         "2",
         "allen-p/_sent_mail/100.",
         "Message-ID: <24216240.1075855687451.JavaMail.evans@thyme>\nDate: Wed, 18 Oct 2000 03:00:00 -0700 (PDT)\nFrom: phillip.allen@enron.com\nTo: leah.arsdall@enron.com\nSubject: Re: test\nMime-Version: 1.0\nContent-Type: text/plain; charset=us-ascii\nContent-Transfer-Encoding: 7bit\nX-From: Phillip K Allen\nX-To: Leah Van Arsdall\nX-cc: \nX-bcc: \nX-Folder: \\Phillip_Allen_Dec2000\\Notes Folders\\'sent mail\nX-Origin: Allen-P\nX-FileName: pallen.nsf\n\ntest successful.  way to go!!!"
        ],
        [
         "3",
         "allen-p/_sent_mail/1000.",
         "Message-ID: <13505866.1075863688222.JavaMail.evans@thyme>\nDate: Mon, 23 Oct 2000 06:13:00 -0700 (PDT)\nFrom: phillip.allen@enron.com\nTo: randall.gay@enron.com\nSubject: \nMime-Version: 1.0\nContent-Type: text/plain; charset=us-ascii\nContent-Transfer-Encoding: 7bit\nX-From: Phillip K Allen\nX-To: Randall L Gay\nX-cc: \nX-bcc: \nX-Folder: \\Phillip_Allen_Dec2000\\Notes Folders\\'sent mail\nX-Origin: Allen-P\nX-FileName: pallen.nsf\n\nRandy,\n\n Can you send me a schedule of the salary and level of everyone in the \nscheduling group.  Plus your thoughts on any changes that need to be made.  \n(Patti S for example)\n\nPhillip"
        ],
        [
         "4",
         "allen-p/_sent_mail/1001.",
         "Message-ID: <30922949.1075863688243.JavaMail.evans@thyme>\nDate: Thu, 31 Aug 2000 05:07:00 -0700 (PDT)\nFrom: phillip.allen@enron.com\nTo: greg.piper@enron.com\nSubject: Re: Hello\nMime-Version: 1.0\nContent-Type: text/plain; charset=us-ascii\nContent-Transfer-Encoding: 7bit\nX-From: Phillip K Allen\nX-To: Greg Piper\nX-cc: \nX-bcc: \nX-Folder: \\Phillip_Allen_Dec2000\\Notes Folders\\'sent mail\nX-Origin: Allen-P\nX-FileName: pallen.nsf\n\nLet's shoot for Tuesday at 11:45.  "
        ],
        [
         "5",
         "allen-p/_sent_mail/1002.",
         "Message-ID: <30965995.1075863688265.JavaMail.evans@thyme>\nDate: Thu, 31 Aug 2000 04:17:00 -0700 (PDT)\nFrom: phillip.allen@enron.com\nTo: greg.piper@enron.com\nSubject: Re: Hello\nMime-Version: 1.0\nContent-Type: text/plain; charset=us-ascii\nContent-Transfer-Encoding: 7bit\nX-From: Phillip K Allen\nX-To: Greg Piper\nX-cc: \nX-bcc: \nX-Folder: \\Phillip_Allen_Dec2000\\Notes Folders\\'sent mail\nX-Origin: Allen-P\nX-FileName: pallen.nsf\n\nGreg,\n\n How about either next Tuesday or Thursday?\n\nPhillip"
        ],
        [
         "6",
         "allen-p/_sent_mail/1003.",
         "Message-ID: <16254169.1075863688286.JavaMail.evans@thyme>\nDate: Tue, 22 Aug 2000 07:44:00 -0700 (PDT)\nFrom: phillip.allen@enron.com\nTo: david.l.johnson@enron.com, john.shafer@enron.com\nSubject: \nMime-Version: 1.0\nContent-Type: text/plain; charset=us-ascii\nContent-Transfer-Encoding: 7bit\nX-From: Phillip K Allen\nX-To: david.l.johnson@enron.com, John Shafer\nX-cc: \nX-bcc: \nX-Folder: \\Phillip_Allen_Dec2000\\Notes Folders\\'sent mail\nX-Origin: Allen-P\nX-FileName: pallen.nsf\n\nPlease cc the following distribution list with updates:\n\nPhillip Allen (pallen@enron.com)\nMike Grigsby (mike.grigsby@enron.com)\nKeith Holst (kholst@enron.com)\nMonique Sanchez\nFrank Ermis\nJohn Lavorato\n\n\nThank you for your help\n\nPhillip Allen\n"
        ],
        [
         "7",
         "allen-p/_sent_mail/1004.",
         "Message-ID: <17189699.1075863688308.JavaMail.evans@thyme>\nDate: Fri, 14 Jul 2000 06:59:00 -0700 (PDT)\nFrom: phillip.allen@enron.com\nTo: joyce.teixeira@enron.com\nSubject: Re: PRC review - phone calls\nMime-Version: 1.0\nContent-Type: text/plain; charset=us-ascii\nContent-Transfer-Encoding: 7bit\nX-From: Phillip K Allen\nX-To: Joyce Teixeira\nX-cc: \nX-bcc: \nX-Folder: \\Phillip_Allen_Dec2000\\Notes Folders\\'sent mail\nX-Origin: Allen-P\nX-FileName: pallen.nsf\n\nany morning between 10 and 11:30"
        ],
        [
         "8",
         "allen-p/_sent_mail/101.",
         "Message-ID: <20641191.1075855687472.JavaMail.evans@thyme>\nDate: Tue, 17 Oct 2000 02:26:00 -0700 (PDT)\nFrom: phillip.allen@enron.com\nTo: mark.scott@enron.com\nSubject: Re: High Speed Internet Access\nMime-Version: 1.0\nContent-Type: text/plain; charset=us-ascii\nContent-Transfer-Encoding: 7bit\nX-From: Phillip K Allen\nX-To: Mark Scott\nX-cc: \nX-bcc: \nX-Folder: \\Phillip_Allen_Dec2000\\Notes Folders\\'sent mail\nX-Origin: Allen-P\nX-FileName: pallen.nsf\n\n1. login:  pallen pw: ke9davis\n\n I don't think these are required by the ISP \n\n  2.  static IP address\n\n IP: 64.216.90.105\n Sub: 255.255.255.248\n gate: 64.216.90.110\n DNS: 151.164.1.8\n\n  3.  Company: 0413\n        RC:  105891"
        ],
        [
         "9",
         "allen-p/_sent_mail/102.",
         "Message-ID: <30795301.1075855687494.JavaMail.evans@thyme>\nDate: Mon, 16 Oct 2000 06:44:00 -0700 (PDT)\nFrom: phillip.allen@enron.com\nTo: zimam@enron.com\nSubject: FW: fixed forward or other Collar floor gas price terms\nMime-Version: 1.0\nContent-Type: text/plain; charset=us-ascii\nContent-Transfer-Encoding: 7bit\nX-From: Phillip K Allen\nX-To: zimam@enron.com\nX-cc: \nX-bcc: \nX-Folder: \\Phillip_Allen_Dec2000\\Notes Folders\\'sent mail\nX-Origin: Allen-P\nX-FileName: pallen.nsf\n\n---------------------- Forwarded by Phillip K Allen/HOU/ECT on 10/16/2000 \n01:42 PM ---------------------------\n\n\n\"Buckner, Buck\" <buck.buckner@honeywell.com> on 10/12/2000 01:12:21 PM\nTo: \"'Pallen@Enron.com'\" <Pallen@Enron.com>\ncc:  \nSubject: FW: fixed forward or other Collar floor gas price terms\n\n\nPhillip,\n\n> As discussed  during our phone conversation, In a Parallon 75 microturbine\n> power generation deal for a national accounts customer, I am developing a\n> proposal to sell power to customer at fixed or collar/floor price. To do\n> so I need a corresponding term gas price for same. Microturbine is an\n> onsite generation product developed by Honeywell to generate electricity\n> on customer site (degen). using natural gas. In doing so,  I need your\n> best fixed price forward gas price deal for 1, 3, 5, 7 and 10 years for\n> annual/seasonal supply to microturbines to generate fixed kWh for\n> customer. We have the opportunity to sell customer kWh 's using\n> microturbine or sell them turbines themselves. kWh deal must have limited/\n> no risk forward gas price to make deal work. Therein comes Sempra energy\n> gas trading, truly you.\n>\n> We are proposing installing 180 - 240 units across a large number of\n> stores (60-100) in San Diego.\n> Store number varies because of installation hurdles face at small percent.\n>\n> For 6-8 hours a day  Microturbine run time:\n> Gas requirement for 180 microturbines 227 - 302 MMcf per year\n> Gas requirement for 240 microturbines 302 - 403 MMcf per year\n>\n> Gas will likely be consumed from May through September, during peak\n> electric period.\n> Gas price required: Burnertip price behind (LDC) San Diego Gas & Electric\n> Need detail breakout of commodity and transport cost (firm or\n> interruptible).\n>\n> Should you have additional questions, give me a call.\n> Let me assure you, this is real deal!!\n>\n> Buck Buckner, P.E., MBA\n> Manager, Business Development and Planning\n> Big Box Retail Sales\n> Honeywell Power Systems, Inc.\n> 8725 Pan American Frwy\n> Albuquerque, NM 87113\n> 505-798-6424\n> 505-798-6050x\n> 505-220-4129\n> 888/501-3145\n> \n"
        ],
        [
         "10",
         "allen-p/_sent_mail/103.",
         "Message-ID: <33076797.1075855687515.JavaMail.evans@thyme>\nDate: Mon, 16 Oct 2000 06:42:00 -0700 (PDT)\nFrom: phillip.allen@enron.com\nTo: buck.buckner@honeywell.com\nSubject: Re: FW: fixed forward or other Collar floor gas price terms\nMime-Version: 1.0\nContent-Type: text/plain; charset=us-ascii\nContent-Transfer-Encoding: 7bit\nX-From: Phillip K Allen\nX-To: \"Buckner, Buck\" <buck.buckner@honeywell.com> @ ENRON\nX-cc: \nX-bcc: \nX-Folder: \\Phillip_Allen_Dec2000\\Notes Folders\\'sent mail\nX-Origin: Allen-P\nX-FileName: pallen.nsf\n\nMr. Buckner,\n\n For delivered gas behind San Diego, Enron Energy Services is the appropriate \nEnron entity.  I have forwarded your request to Zarin Imam at EES.  Her phone \nnumber is 713-853-7107.  \n\nPhillip Allen"
        ],
        [
         "11",
         "allen-p/_sent_mail/104.",
         "Message-ID: <25459584.1075855687536.JavaMail.evans@thyme>\nDate: Fri, 13 Oct 2000 06:45:00 -0700 (PDT)\nFrom: phillip.allen@enron.com\nTo: stagecoachmama@hotmail.com\nSubject: \nMime-Version: 1.0\nContent-Type: text/plain; charset=us-ascii\nContent-Transfer-Encoding: 7bit\nX-From: Phillip K Allen\nX-To: stagecoachmama@hotmail.com\nX-cc: \nX-bcc: \nX-Folder: \\Phillip_Allen_Dec2000\\Notes Folders\\'sent mail\nX-Origin: Allen-P\nX-FileName: pallen.nsf\n\nLucy,\n\n Here are the rentrolls:\n\n\n\n Open them and save in the rentroll folder.  Follow these steps so you don't \nmisplace these files.\n\n 1.  Click on Save As\n 2.  Click on the drop down triangle under Save in:\n 3.  Click on the  (C): drive\n 4.  Click on the appropriate folder\n 5.  Click on Save:\n\nPhillip"
        ],
        [
         "12",
         "allen-p/_sent_mail/105.",
         "Message-ID: <13116875.1075855687561.JavaMail.evans@thyme>\nDate: Mon, 9 Oct 2000 07:16:00 -0700 (PDT)\nFrom: phillip.allen@enron.com\nTo: keith.holst@enron.com\nSubject: Consolidated positions: Issues & To Do list\nMime-Version: 1.0\nContent-Type: text/plain; charset=us-ascii\nContent-Transfer-Encoding: 7bit\nX-From: Phillip K Allen\nX-To: Keith Holst\nX-cc: \nX-bcc: \nX-Folder: \\Phillip_Allen_Dec2000\\Notes Folders\\'sent mail\nX-Origin: Allen-P\nX-FileName: pallen.nsf\n\n---------------------- Forwarded by Phillip K Allen/HOU/ECT on 10/09/2000 \n02:16 PM ---------------------------\n\n\nRichard Burchfield\n10/06/2000 06:59 AM\nTo: Phillip K Allen/HOU/ECT@ECT\ncc: Beth Perlman/HOU/ECT@ECT \nSubject: Consolidated positions: Issues & To Do list\n\nPhillip,\n Below is the issues & to do list as we go forward with documenting the \nrequirements for consolidated physical/financial positions and transport \ntrade capture. What we need to focus on is the first bullet in Allan's list; \nthe need for a single set of requirements. Although the meeting with Keith, \non Wednesday,  was informative the solution of creating a infinitely dynamic \nconsolidated position screen, will be extremely difficult and time \nconsuming.  Throughout the meeting on Wednesday, Keith alluded to the \ninability to get consensus amongst the traders on the presentation of the \nconsolidated position, so the solution was to make it so that a trader can \narrange the position screen to their liking (much like Excel). What needs to \nhappen on Monday from 3 - 5 is a effort to design a desired layout for the \nconsolidated position screen, this is critical. This does not exclude \nbuilding a capability to create a more flexible position presentation for the \nfuture, but in order to create a plan that can be measured we need firm \nrequirements. Also, to reiterate that the goals of this project is a project \nplan on consolidate physical/financial positions and transport trade capture. \nThe other issues that have been raised will be capture as projects on to \nthemselves, and will need to be prioritised as efforts outside of this \nproject.\n\nI have been involved in most of the meetings and the discussions have been \ngood. I believe there has been good communication between the teams, but now \nwe need to have focus on the objectives we set out to solve.\n\nRichard  \n---------------------- Forwarded by Richard Burchfield/HOU/ECT on 10/06/2000 \n08:34 AM ---------------------------\n\n\nAllan Severude\n10/05/2000 06:03 PM\nTo: Richard Burchfield/HOU/ECT@ECT\ncc: Peggy Alix/HOU/ECT@ECT, Russ Severson/HOU/ECT@ECT, Scott \nMills/HOU/ECT@ECT, Kenny Ha/HOU/ECT@ECT \nSubject: Consolidated positions: Issues & To Do list\n\n\nFrom our initial set of meetings with the traders regarding consolidated \npositions, I think we still have the following issues:\nWe don't have a single point of contact from the trading group.  We've had \nthree meetings which brought out very different issues from different \ntraders.  We really need a single point of contact to help drive the trader \nrequirements and help come to a consensus regarding the requirements.\nWe're getting hit with a lot of different requests, many of which appear to \nbe outside the scope of position consolidation.\n\nThings left to do:\nI think it may be useful to try to formulate a high level project goal to \nmake it as clear as possible what we're trying to accomplish with this \nproject.  It'll help determine which requests fall under the project scope.\nGo through the list of requests to determine which are in scope for this \nproject and which fall out of scope.\nFor those in scope, work to define relative importance (priority) of each and \nwork with traders to define the exact requirements of each.\nDefine the desired lay out of the position manager screen: main view and all \ndrill downs.\nUse the above to formulate a project plan.\n\nThings requested thus far (no particular order):\nInclusion of Sitara physical deals into the TDS position manager and deal \nticker.\nCustomized rows and columns in the position manager (ad hoc rows/columns that \nadd up existing position manager rows/columns).\nNew drill down in the position manager to break out positions by: physical, \ntransport, swaps, options, ...\nAddition of a curve tab to the position manager to show the real-time values \nof all curves on which the desk has a position.\nAbility to split the current position grid to allow daily positions to be \nshown directly above monthly positions.  Each grouped column in the top grid \nwould be tied to a grouped column in the bottom grid.\nAbility to properly show curve shift for float-for-float deals; determine the \nappropriate positions to show for each:\nGas Daily for monthly index,\nPhysical gas for Nymex,\nPhysical gas for Inside Ferc,\nPhysical gas for Mid market.\nAbility for TDS to pull valuation results based on a TDS flag instead of \nusing official valuations.\nPosition and P&L aggregation across all gas desks.\nAbility to include the Gas Price book into TDS:\nInclusion of spread options in our systems.  Ability to handle volatility \nskew and correlations.\nAbility to revalue all options incrementally throughout the trading day.  \nApproximate delta changes between valuations using instantaneous gamma or a \ngamma grid.\nValuation of Gas Daily options.\nA new position screen for options (months x strike x delta).  TBD.\nInclusion of positions for exotic options currently managed in spreadsheets.\nAbility to isolate the position change due to changed deals in the position \nmanager.\nAbility to view change deal P&L in the TDS deal ticker.  Show new deal terms, \nprior deal terms, and net P&L affect of the change.\nEliminate change deals with no economic impact from the TDS deal ticker.\nPosition drill down in the position manager to isolate the impact of \nindividual deals on the position total in a grid cell.\nBenchmark positions in TDS.\nDeployment of TDS in Canada. Currency and volume uom conversions. Implicit \nand explicit position break out issues.\n\n-- Allan.\n\nPS: Colleen is setting up a meeting tomorrow to discuss the direction for \ntransport.  Hopefully we'll know much better where that part stands at that \npoint.\n\n\n\n\n"
        ],
        [
         "13",
         "allen-p/_sent_mail/106.",
         "Message-ID: <2707340.1075855687584.JavaMail.evans@thyme>\nDate: Mon, 9 Oct 2000 07:00:00 -0700 (PDT)\nFrom: phillip.allen@enron.com\nTo: keith.holst@enron.com\nSubject: Consolidated positions: Issues & To Do list\nMime-Version: 1.0\nContent-Type: text/plain; charset=us-ascii\nContent-Transfer-Encoding: 7bit\nX-From: Phillip K Allen\nX-To: Keith Holst\nX-cc: \nX-bcc: \nX-Folder: \\Phillip_Allen_Dec2000\\Notes Folders\\'sent mail\nX-Origin: Allen-P\nX-FileName: pallen.nsf\n\n---------------------- Forwarded by Phillip K Allen/HOU/ECT on 10/09/2000 \n02:00 PM ---------------------------\n\n\nRichard Burchfield\n10/06/2000 06:59 AM\nTo: Phillip K Allen/HOU/ECT@ECT\ncc: Beth Perlman/HOU/ECT@ECT \nSubject: Consolidated positions: Issues & To Do list\n\nPhillip,\n Below is the issues & to do list as we go forward with documenting the \nrequirements for consolidated physical/financial positions and transport \ntrade capture. What we need to focus on is the first bullet in Allan's list; \nthe need for a single set of requirements. Although the meeting with Keith, \non Wednesday,  was informative the solution of creating a infinitely dynamic \nconsolidated position screen, will be extremely difficult and time \nconsuming.  Throughout the meeting on Wednesday, Keith alluded to the \ninability to get consensus amongst the traders on the presentation of the \nconsolidated position, so the solution was to make it so that a trader can \narrange the position screen to their liking (much like Excel). What needs to \nhappen on Monday from 3 - 5 is a effort to design a desired layout for the \nconsolidated position screen, this is critical. This does not exclude \nbuilding a capability to create a more flexible position presentation for the \nfuture, but in order to create a plan that can be measured we need firm \nrequirements. Also, to reiterate that the goals of this project is a project \nplan on consolidate physical/financial positions and transport trade capture. \nThe other issues that have been raised will be capture as projects on to \nthemselves, and will need to be prioritised as efforts outside of this \nproject.\n\nI have been involved in most of the meetings and the discussions have been \ngood. I believe there has been good communication between the teams, but now \nwe need to have focus on the objectives we set out to solve.\n\nRichard  \n---------------------- Forwarded by Richard Burchfield/HOU/ECT on 10/06/2000 \n08:34 AM ---------------------------\n\n\nAllan Severude\n10/05/2000 06:03 PM\nTo: Richard Burchfield/HOU/ECT@ECT\ncc: Peggy Alix/HOU/ECT@ECT, Russ Severson/HOU/ECT@ECT, Scott \nMills/HOU/ECT@ECT, Kenny Ha/HOU/ECT@ECT \nSubject: Consolidated positions: Issues & To Do list\n\n\nFrom our initial set of meetings with the traders regarding consolidated \npositions, I think we still have the following issues:\nWe don't have a single point of contact from the trading group.  We've had \nthree meetings which brought out very different issues from different \ntraders.  We really need a single point of contact to help drive the trader \nrequirements and help come to a consensus regarding the requirements.\nWe're getting hit with a lot of different requests, many of which appear to \nbe outside the scope of position consolidation.\n\nThings left to do:\nI think it may be useful to try to formulate a high level project goal to \nmake it as clear as possible what we're trying to accomplish with this \nproject.  It'll help determine which requests fall under the project scope.\nGo through the list of requests to determine which are in scope for this \nproject and which fall out of scope.\nFor those in scope, work to define relative importance (priority) of each and \nwork with traders to define the exact requirements of each.\nDefine the desired lay out of the position manager screen: main view and all \ndrill downs.\nUse the above to formulate a project plan.\n\nThings requested thus far (no particular order):\nInclusion of Sitara physical deals into the TDS position manager and deal \nticker.\nCustomized rows and columns in the position manager (ad hoc rows/columns that \nadd up existing position manager rows/columns).\nNew drill down in the position manager to break out positions by: physical, \ntransport, swaps, options, ...\nAddition of a curve tab to the position manager to show the real-time values \nof all curves on which the desk has a position.\nAbility to split the current position grid to allow daily positions to be \nshown directly above monthly positions.  Each grouped column in the top grid \nwould be tied to a grouped column in the bottom grid.\nAbility to properly show curve shift for float-for-float deals; determine the \nappropriate positions to show for each:\nGas Daily for monthly index,\nPhysical gas for Nymex,\nPhysical gas for Inside Ferc,\nPhysical gas for Mid market.\nAbility for TDS to pull valuation results based on a TDS flag instead of \nusing official valuations.\nPosition and P&L aggregation across all gas desks.\nAbility to include the Gas Price book into TDS:\nInclusion of spread options in our systems.  Ability to handle volatility \nskew and correlations.\nAbility to revalue all options incrementally throughout the trading day.  \nApproximate delta changes between valuations using instantaneous gamma or a \ngamma grid.\nValuation of Gas Daily options.\nA new position screen for options (months x strike x delta).  TBD.\nInclusion of positions for exotic options currently managed in spreadsheets.\nAbility to isolate the position change due to changed deals in the position \nmanager.\nAbility to view change deal P&L in the TDS deal ticker.  Show new deal terms, \nprior deal terms, and net P&L affect of the change.\nEliminate change deals with no economic impact from the TDS deal ticker.\nPosition drill down in the position manager to isolate the impact of \nindividual deals on the position total in a grid cell.\nBenchmark positions in TDS.\nDeployment of TDS in Canada. Currency and volume uom conversions. Implicit \nand explicit position break out issues.\n\n-- Allan.\n\nPS: Colleen is setting up a meeting tomorrow to discuss the direction for \ntransport.  Hopefully we'll know much better where that part stands at that \npoint.\n\n\n\n\n"
        ],
        [
         "14",
         "allen-p/_sent_mail/107.",
         "Message-ID: <2465689.1075855687605.JavaMail.evans@thyme>\nDate: Thu, 5 Oct 2000 06:26:00 -0700 (PDT)\nFrom: phillip.allen@enron.com\nTo: david.delainey@enron.com\nSubject: \nMime-Version: 1.0\nContent-Type: text/plain; charset=us-ascii\nContent-Transfer-Encoding: 7bit\nX-From: Phillip K Allen\nX-To: David W Delainey\nX-cc: \nX-bcc: \nX-Folder: \\Phillip_Allen_Dec2000\\Notes Folders\\'sent mail\nX-Origin: Allen-P\nX-FileName: pallen.nsf\n\nDave, \n\n Here are the names of the west desk members by category.  The origination \nside is very sparse.  \n\n\n\n\n\nPhillip\n"
        ],
        [
         "15",
         "allen-p/_sent_mail/108.",
         "Message-ID: <1115198.1075855687626.JavaMail.evans@thyme>\nDate: Thu, 5 Oct 2000 05:55:00 -0700 (PDT)\nFrom: phillip.allen@enron.com\nTo: paula.harris@enron.com\nSubject: Re: 2001 Margin Plan\nMime-Version: 1.0\nContent-Type: text/plain; charset=us-ascii\nContent-Transfer-Encoding: 7bit\nX-From: Phillip K Allen\nX-To: Paula Harris\nX-cc: \nX-bcc: \nX-Folder: \\Phillip_Allen_Dec2000\\Notes Folders\\'sent mail\nX-Origin: Allen-P\nX-FileName: pallen.nsf\n\nPaula,\n\n 35 million is fine\n\nPhillip"
        ],
        [
         "16",
         "allen-p/_sent_mail/109.",
         "Message-ID: <19773657.1075855687649.JavaMail.evans@thyme>\nDate: Wed, 4 Oct 2000 09:23:00 -0700 (PDT)\nFrom: phillip.allen@enron.com\nTo: ina.rangel@enron.com\nSubject: Var, Reporting and Resources Meeting\nMime-Version: 1.0\nContent-Type: text/plain; charset=us-ascii\nContent-Transfer-Encoding: 7bit\nX-From: Phillip K Allen\nX-To: Ina Rangel\nX-cc: \nX-bcc: \nX-Folder: \\Phillip_Allen_Dec2000\\Notes Folders\\'sent mail\nX-Origin: Allen-P\nX-FileName: pallen.nsf\n\n---------------------- Forwarded by Phillip K Allen/HOU/ECT on 10/04/2000 \n04:23 PM ---------------------------\n   \n\tEnron North America Corp.\n\t\n\tFrom:  Airam Arteaga                           10/04/2000 12:23 PM\n\t\n\nTo: Phillip K Allen/HOU/ECT@ECT, Thomas A Martin/HOU/ECT@ECT, Scott \nNeal/HOU/ECT@ECT, John Arnold/HOU/ECT@ECT, Grant Masson/HOU/ECT@ECT, Ted \nMurphy/HOU/ECT@ECT, Vladimir Gorny/HOU/ECT@ECT, Frank Hayden/Corp/Enron@Enron\ncc: Rita Hennessy/NA/Enron@Enron, Ina Rangel/HOU/ECT@ECT, Laura \nHarder/Corp/Enron@Enron, Kimberly Brown/HOU/ECT@ECT, Araceli \nRomero/NA/Enron@Enron, Kimberly Hillis/HOU/ECT@ect \nSubject: Var, Reporting and Resources Meeting\n\nPlease plan to attend the below  Meeting:\n\n\n                                Topic:  Var, Reporting and Resources Meeting\n        \n  Date:  Wednesday, October 11th\n\n  Time:  2:30 - 3:30 \n\n  Location: EB30C1\n\n  \n\n If you have any questions/conflicts, please feel free to call me.\n\nThanks,\nRain\nx.31560\n\n\n\n\n\n\n"
        ],
        [
         "17",
         "allen-p/_sent_mail/11.",
         "Message-ID: <7391389.1075855378477.JavaMail.evans@thyme>\nDate: Fri, 4 May 2001 11:26:00 -0700 (PDT)\nFrom: phillip.allen@enron.com\nTo: tim.heizenrader@enron.com\nSubject: \nMime-Version: 1.0\nContent-Type: text/plain; charset=us-ascii\nContent-Transfer-Encoding: 7bit\nX-From: Phillip K Allen\nX-To: Tim Heizenrader <Tim Heizenrader/Enron@EnronXGate>\nX-cc: \nX-bcc: \nX-Folder: \\Phillip_Allen_Jan2002_1\\Allen, Phillip K.\\'Sent Mail\nX-Origin: Allen-P\nX-FileName: pallen (Non-Privileged).pst\n\nTim,\n\nmike grigsby is having problems with accessing the west power site.  Can you please make sure he has an active password.  \n\nThank you,\n\nPhillip"
        ],
        [
         "18",
         "allen-p/_sent_mail/110.",
         "Message-ID: <12759088.1075855687671.JavaMail.evans@thyme>\nDate: Tue, 3 Oct 2000 09:30:00 -0700 (PDT)\nFrom: phillip.allen@enron.com\nTo: pallen70@hotmail.com\nSubject: Westgate\nMime-Version: 1.0\nContent-Type: text/plain; charset=us-ascii\nContent-Transfer-Encoding: 7bit\nX-From: Phillip K Allen\nX-To: pallen70@hotmail.com\nX-cc: \nX-bcc: \nX-Folder: \\Phillip_Allen_Dec2000\\Notes Folders\\'sent mail\nX-Origin: Allen-P\nX-FileName: pallen.nsf\n\n---------------------- Forwarded by Phillip K Allen/HOU/ECT on 10/03/2000 \n04:30 PM ---------------------------\n\n\n\"George Richards\" <cbpres@austin.rr.com> on 10/03/2000 06:35:56 AM\nPlease respond to <cbpres@austin.rr.com>\nTo: \"Phillip Allen\" <pallen@enron.com>\ncc: \"Larry Lewter\" <retwell@mail.sanmarcos.net> \nSubject: Westgate\n\n\nWestgate\n\nEnclosed are demographics on the Westgate site from Investor's Alliance.\nInvestor's Alliance says that these demographics are similar to the package\non San Marcos that you received earlier.\nIf there are any other questions or information requirements, let me know.\nThen, let me know your interest level in the Westgate project?\n\nSan Marcos\nThe property across the street from the Sagewood units in San Marcos is for\nsale and approved for 134 units.  The land is selling for $2.50 per square\nfoot as it is one of only two remaining approved multifamily parcels in West\nSan Marcos, which now has a moratorium on development.\n\nSeveral new studies we have looked at show that the rents for our duplexes\nand for these new units are going to be significantly higher, roughly $1.25\nper square foot if leased for the entire unit on a 12-month lease and\n$1.30-$1.40 psf if leased on a 12-month term, but by individual room.  This\nproperty will have the best location for student housing of all new\nprojects, just as the duplexes do now.\n\nIf this project is of serious interest to you, please let me know as there\nis a very, very short window of opportunity.  The equity requirement is not\nyet known, but it would be likely to be $300,000 to secure the land.  I will\nknow more on this question later today.\n\nSincerely,\n\nGeorge W. Richards\nPresident, Creekside Builders, LLC\n\n\n - winmail.dat\n"
        ],
        [
         "19",
         "allen-p/_sent_mail/111.",
         "Message-ID: <29177675.1075855687692.JavaMail.evans@thyme>\nDate: Tue, 3 Oct 2000 09:15:00 -0700 (PDT)\nFrom: phillip.allen@enron.com\nTo: ina.rangel@enron.com\nSubject: Meeting re: Storage Strategies in the West\nMime-Version: 1.0\nContent-Type: text/plain; charset=us-ascii\nContent-Transfer-Encoding: 7bit\nX-From: Phillip K Allen\nX-To: Ina Rangel\nX-cc: \nX-bcc: \nX-Folder: \\Phillip_Allen_Dec2000\\Notes Folders\\'sent mail\nX-Origin: Allen-P\nX-FileName: pallen.nsf\n\n---------------------- Forwarded by Phillip K Allen/HOU/ECT on 10/03/2000 \n04:13 PM ---------------------------\n\n\nNancy Hall@ENRON\n10/02/2000 06:42 AM\nTo: Mark Whitt/NA/Enron@Enron, Phillip K Allen/HOU/ECT@ECT, Paul T \nLucci/NA/Enron@Enron, Paul Bieniawski/Corp/Enron@ENRON, Tyrell \nHarrison/NA/Enron@Enron\ncc: Jean Mrha/NA/Enron@Enron, Ina Rangel/HOU/ECT@ECT, Monica \nJackson/Corp/Enron@ENRON \nSubject: Meeting re: Storage Strategies in the West\n\nThere will be a meeting on Tuesday, Oct. 10th at 4:00pm in EB3270 regarding \nStorage Strategies in the West.  Please mark your calendars.\n\nThank you!\n\nRegards,\nNancy Hall\nENA Denver office\n303-575-6490\n"
        ],
        [
         "20",
         "allen-p/_sent_mail/112.",
         "Message-ID: <24729148.1075855687713.JavaMail.evans@thyme>\nDate: Tue, 3 Oct 2000 09:13:00 -0700 (PDT)\nFrom: phillip.allen@enron.com\nTo: bs_stone@yahoo.com\nSubject: \nMime-Version: 1.0\nContent-Type: text/plain; charset=us-ascii\nContent-Transfer-Encoding: 7bit\nX-From: Phillip K Allen\nX-To: bs_stone@yahoo.com\nX-cc: \nX-bcc: \nX-Folder: \\Phillip_Allen_Dec2000\\Notes Folders\\'sent mail\nX-Origin: Allen-P\nX-FileName: pallen.nsf\n\nBrenda,\n\nPlease use the second check as the October payment.  If you have already \ntossed it, let me know so I can mail you another.\n\nPhillip"
        ],
        [
         "21",
         "allen-p/_sent_mail/113.",
         "Message-ID: <17610321.1075855687735.JavaMail.evans@thyme>\nDate: Tue, 3 Oct 2000 03:17:00 -0700 (PDT)\nFrom: phillip.allen@enron.com\nTo: stouchstone@natsource.com\nSubject: Re: Not business related..\nMime-Version: 1.0\nContent-Type: text/plain; charset=us-ascii\nContent-Transfer-Encoding: 7bit\nX-From: Phillip K Allen\nX-To: Steve Touchstone <STouchstone@natsource.com>\nX-cc: \nX-bcc: \nX-Folder: \\Phillip_Allen_Dec2000\\Notes Folders\\'sent mail\nX-Origin: Allen-P\nX-FileName: pallen.nsf\n\nI think Fletch has a good CPA.  I am still doing my own.  "
        ],
        [
         "22",
         "allen-p/_sent_mail/114.",
         "Message-ID: <26575732.1075855687756.JavaMail.evans@thyme>\nDate: Mon, 2 Oct 2000 02:19:00 -0700 (PDT)\nFrom: phillip.allen@enron.com\nTo: bs_stone@yahoo.com\nSubject: Re: Original Sept check/closing\nMime-Version: 1.0\nContent-Type: text/plain; charset=us-ascii\nContent-Transfer-Encoding: 7bit\nX-From: Phillip K Allen\nX-To: \"BS Stone\" <bs_stone@yahoo.com> @ ENRON\nX-cc: \nX-bcc: \nX-Folder: \\Phillip_Allen_Dec2000\\Notes Folders\\'sent mail\nX-Origin: Allen-P\nX-FileName: pallen.nsf\n\nBrenda,\n\n Please use the second check as my October payment.  I have my copy of the \noriginal deal.  Do you want me to fax this to you?\n\nPhillip"
        ],
        [
         "23",
         "allen-p/_sent_mail/115.",
         "Message-ID: <15294346.1075855687778.JavaMail.evans@thyme>\nDate: Thu, 28 Sep 2000 06:17:00 -0700 (PDT)\nFrom: phillip.allen@enron.com\nTo: lkuch@mh.com\nSubject: San Juan Index\nMime-Version: 1.0\nContent-Type: text/plain; charset=us-ascii\nContent-Transfer-Encoding: 7bit\nX-From: Phillip K Allen\nX-To: Lkuch@mh.com\nX-cc: \nX-bcc: \nX-Folder: \\Phillip_Allen_Dec2000\\Notes Folders\\'sent mail\nX-Origin: Allen-P\nX-FileName: pallen.nsf\n\n---------------------- Forwarded by Phillip K Allen/HOU/ECT on 09/28/2000 \n01:09 PM ---------------------------\n   \n\t\n\t\n\tFrom:  Phillip K Allen                           09/28/2000 10:56 AM\n\t\n\n\nLiane,\n\n As we discussed yesterday, I am concerned there may have been an attempt to \nmanipulate the  El Paso San Juan monthly index.  It appears that a single \nbuyer entered the marketplace on both September 26 and 27 and paid above \nmarket prices ($4.70-$4.80) for San Juan gas.  At the time of these trades, \noffers for physical gas at significantly (10 to 15 cents) lower prices were \nbypassed in order to establish higher trades to report into the index \ncalculation.  Additionally, these trades are out of line with the associated \nfinancial swaps for San Juan.\n\n We have compiled a list of financial and physical trades executed from \nSeptember 25 to September 27.  These are the complete list of trades from \nEnron Online (EOL), Enron's direct phone conversations, and three brokerage \nfirms (Amerex, APB, and Prebon).  Please see the attached spreadsheet for a \ntrade by trade list and a summary.  We have also included a summary of gas \ndaily prices to illustrate the value of San Juan based on several spread \nrelationships.  The two key points from this data are as follows:\n\n 1.  The high physical prices on the 26th & 27th (4.75,4,80) are much greater \nthan the high financial trades (4.6375,4.665) on those days. \n\n 2.  The spread relationship between San Juan and other points (Socal & \nNorthwest)  is  consistent between the end of September and \n       October gas daily.  It doesn't make sense to have monthly indices that \nare dramatically different.\n\n\n I understand you review the trades submitted for outliers.  Hopefully, the \ntrades submitted will reveal counterparty names and you will be able to \ndetermine that there was only one buyer in the 4.70's and these trades are \noutliers.  I wanted to give you some additional points of reference to aid in \nestablishing a reasonable index.  It is Enron's belief that the trades at \n$4.70 and higher  were above market trades that should be excluded from the \ncalculation of index.\n\n It is our desire to have reliable and accurate indices against which to \nconduct our physical and financial business.  Please contact me \nanytime I can assist you towards this goal.\n\nSincerely,\n\nPhillip Allen\n\n\n"
        ],
        [
         "24",
         "allen-p/_sent_mail/116.",
         "Message-ID: <25140503.1075855687800.JavaMail.evans@thyme>\nDate: Thu, 28 Sep 2000 05:56:00 -0700 (PDT)\nFrom: phillip.allen@enron.com\nTo: jeffrey.hodge@enron.com\nSubject: San Juan Index\nMime-Version: 1.0\nContent-Type: text/plain; charset=us-ascii\nContent-Transfer-Encoding: 7bit\nX-From: Phillip K Allen\nX-To: Jeffrey T Hodge\nX-cc: \nX-bcc: \nX-Folder: \\Phillip_Allen_Dec2000\\Notes Folders\\'sent mail\nX-Origin: Allen-P\nX-FileName: pallen.nsf\n\nLiane,\n\n As we discussed yesterday, I am concerned there has been an attempt to \nmanipulate the  El Paso San Juan monthly index.  A single buyer entered the \nmarketplace on both September 26 and 27 and paid above market prices \n($4.70-$4.80) for San Juan gas with the intent to distort the index.  At the \ntime of these trades, offers for physical gas at significantly (10 to 15 \ncents) lower prices were bypassed in order to establish higher trades to \nreport into the index calculation.  Additionally, these trades are out of \nline with the associated financial swaps for San Juan.\n\n We have compiled a list of financial and physical trades executed from \nSeptember 25 to September 27.  These are the complete list of trades from \nEnron Online (EOL), Enron's direct phone conversations, and three brokerage \nfirms (Amerex, APB, and Prebon).  Please see the attached spreadsheet for a \ntrade by trade list and a summary.  We have also included a summary of gas \ndaily prices to illustrate the value of San Juan based on several spread \nrelationships.  The two key points from this data are as follows:\n\n 1.  The high physical prices on the 26th & 27th (4.75,4,80) are much greater \nthan the high financial trades (4.6375,4.665) on those days. \n\n 2.  The spread relationship between San Juan and other points (Socal & \nNorthwest)  is  consistent between the end of September and \n       October gas daily.  It doesn't make sense to have monthly indeces that \nare dramatically different.\n\n\n I understand you review the trades submitted for outliers.  Hopefully, the \ntrades submitted will reveal counterparty names and you will be able to \ndetermine that there was only one buyer in the 4.70's and these trades are \noutliers.  I wanted to give you some additional points of reference to aid in \nestablishing a reasonable index.  It is Enron's belief that the trades at \n$4.70 and higher  were above market trades that should be excluded from the \ncalculation of index.\n\n It is our desire to have reliable and accurate indeces against which to \nconduct our physical and financial business.  Please contact me \nanytime I can assist you towards this goal.\n\nSincerely,\n\nPhillip Allen\n"
        ],
        [
         "25",
         "allen-p/_sent_mail/117.",
         "Message-ID: <19034252.1075855687825.JavaMail.evans@thyme>\nDate: Tue, 26 Sep 2000 09:28:00 -0700 (PDT)\nFrom: phillip.allen@enron.com\nTo: kholst@enron.com\nSubject: Investment Structure\nMime-Version: 1.0\nContent-Type: text/plain; charset=us-ascii\nContent-Transfer-Encoding: 7bit\nX-From: Phillip K Allen\nX-To: kholst@enron.com\nX-cc: \nX-bcc: \nX-Folder: \\Phillip_Allen_Dec2000\\Notes Folders\\'sent mail\nX-Origin: Allen-P\nX-FileName: pallen.nsf\n\n---------------------- Forwarded by Phillip K Allen/HOU/ECT on 09/26/2000 \n04:28 PM ---------------------------\n\n\n\"George Richards\" <cbpres@austin.rr.com> on 09/26/2000 01:18:45 PM\nPlease respond to <cbpres@austin.rr.com>\nTo: \"Phillip Allen\" <pallen@enron.com>\ncc: \"Larry Lewter\" <retwell@mail.sanmarcos.net>, \"Claudia L. Crocker\" \n<clclegal2@aol.com> \nSubject: Investment Structure\n\n\nSTRUCTURE:\nTypically the structure is a limited partnership with a corporate (or LLC)\ngeneral partner.  The General Partner owns 1% of the project and carries the\nliability of construction.\n\nLAND OWNERSHIP & LOANS\nThe property would be purchased in the name of the limited partnership and\nany land loans, land improvements loans and construction loans would be in\nthe name of the limited partnership.  Each of the individual investors and\nall of the principals in Creekside would also personally guarantee the\nloans.  If the investor(s) do not sign on the loans, this generally means\nthat a larger amount of cash is required and the investor's share of profits\nis reduced.\n\nAll loans for residential construction, that are intended for re-sale, are\nfull recourse loans.  If we are pursuing multifamily rental developments,\nthe construction loans are still full recourse but the mortgage can often be\nnon-recourse.\n\nUSE OF INITIAL INVESTMENT\nThe initial investment is used for land deposit, engineering &\narchitectural design, soils tests, surveys, filing fees, legal fees for\norganization and condominium association formation,  and appraisals.  Unlike\nmany real estate investment programs, none of the funds are used for fees to\nCreekside Builders, LLC.  These professional expenses will be incurred over\nthe estimated 6 month design and approval period.\n\nEARLY LAND COSTS\nThe $4,000 per month costs listed in the cash flow as part of land cost\nrepresent the extension fees due to the seller for up to 4 months of\nextensions on closing.  As an alternative, we can close into a land loan at\nprobably 70% of appraised value.  With a land value equal to the purchase\nprice of $680,000 this would mean a land loan of $476,000 with estimated\nmonthly interest payments of $3,966, given a 10% annual interest rate, plus\napproximately 1.25% of the loan amount for closing costs and loan fees.\n\nEQUITY AT IMPROVEMENT LOAN\nOnce the site plan is approved by the City of Austin, the City will require\nthe development entity to post funds for fiscal improvements, referred to as\nthe \"fiscals\".  This cost represents a bond for the completion of\nimprovements that COA considers vital and these funds are released once the\nimprovements have been completed and accepted by COA.  This release will be\nfor 90% of the cost with the remaining 10% released one year after\ncompletion.  Releases can be granted once every 90 days and you should\nexpect that the release would occur 6 months after the start of lot\nimprovement construction.  These fiscals are usually posted in cash or an\nirrevocable letter of credit.  As such, they have to be counted as a\ndevelopment cost, even though they are not spent.  Because they are not\nspent no interest is charged on these funds.\n\nThe lot improvement loan is typically 75% of the appraised value of a\nfinished lot, which I suspect will be at least $20,000 and potentially as\nhigh as $25,000.  This would produce a loan amount of  $15,000 on $20,000\nper lot.  With estimated per lot improvement costs of $9,000, 'fiscals' at\n$2,000 and the land cost at $8,000 , total improved lot cost is $19,000\nwhich means $0 to $4,000 per lot in total equity.  The investment prior to\nobtaining the improvement loan would count towards any equity requirement\nprovided it was for direct costs.  Thus, the additional equity for the\nimprovement loan would be $0-$184,000.   Even if the maximum loan would\ncover all costs, it is unlikely the bank would allow reimbursement of funds\nspent. The higher estimates of equity investments are shown in the\npreliminary proforma to be on the safe side.  The engineer is preparing a\ntentative site layout with an initial evaluation of the phasing, which can\nsignificantly reduce the cash equity requirement.\n\nPhasing works as follows.  If the first phase was say 40 units, the total\nlot improvement cost might average $31,000 per lot.   Of this, probably\n$13,000 would be for improvements and $19,000 for the land cost.  The\nimprovements are higher to cover large one time up front costs for design\ncosts, the entry road, water treatment costs, perimeter fencing and\nlandscaping, and so on, as well as for 100% of the land.  The land loan for\nundeveloped lots would be 70% of the appraised raw lot value, which I would\nestimate as $10,000 per lot for a loan value of $7,000 per lot.  Then the\nloan value for each improved lot would be $15,000 per lot.  This would give\nyou a total loan of $992,000, total cost of $1,232,645 for equity required\nof $241,000.  This was not presented in the initial analysis as the phasing\nis depended on a more careful assessment by the Civil Engineer as the\nseparate phases must each be able to stand on its own from a utility\nstandpoint.\n\nCONSTRUCTION LOANS\nThere are three types of  construction loans.  First, is a speculative\n(spec) loan that is taken out prior to any pre-sales activity.  Second,  is\na construction loan for a pre-sold unit, but the loan remains in the\nbuilder/developers name.  Third, is a pre-sold unit with the construction\nloan in the name of the buyer.  We expect to have up to 8 spec loans to\nstart the project and expect all other loans to be pre-sold units with loans\nin the name of the builder/developer.  We do not expect to have any\nconstruction loans in the name of the buyers, as such loans are too\ndifficult to manage and please new buyers unfamiliar with the process.\n\nSpec loans will be for 70% to 75% of value and construction loans for\npre-sold units, if the construction loan is from the mortgage lender,  will\nbe from 80% to 95% of value.\n\nDISBURSEMENTS\nDisbursements will be handled by the General Partner to cover current and\nnear term third party costs, then to necessary reserves, then to priority\npayments and then to the partners per the agreement.  The General Partner\nwill contract with Creekside Builders, LLC to construct the units and the\nfee to CB will include a construction management and overhead fee equal to\n15% of the direct hard cost excluding land, financing and sales costs.\nThese fees are the only monies to Creekside, Larry Lewter or myself prior to\ncalculation of profit, except for a) direct reimbursement for partnership\nexpenses and b) direct payment to CB for any subcontractor costs that it has\nto perform.  For example, if CB cannot find a good trim carpenter sub, or\ncannot find enough trim carpenters, etc., and it decides to undertake this\nfunction, it will charge the partnership the same fee it was able to obtain\nfrom third parties and will disclose those cases to the partnership.\nFinally, CB will receive a fee for the use of any of its equipment if it is\nused in lieu of leasing equipment from others.  At present CB does not own\nany significant equipment, but it is considering the purchase of a sky track\nto facilitate and speed up framing, cornice, roofing and drywall spreading.\n\nREPORTING\nWe are more than willing to provide reports to track expenses vs. plan.\nWhat did you have in mind?  I would like to use some form of internet based\nreporting.\n\nBOOKKEEPING\nI am not sure what you are referring to by the question, \"Bookkeeping\nprocedures to record actual expenses?\"  Please expand.\n\nINVESTOR INPUT\nWe are glad to have the investor's input on design and materials.  As always\nthe question will be who has final say if there is disagreement, but in my\nexperience I have always been able to reach consensus. As you, and I presume\nKeith, want to be involved to learn as much as possible we would make every\neffort to be accommodating.\n\nCREEKSIDE PROCEEDURES\nCB procedures for dealing with subs, vendors and professionals is not as\nformal as your question indicates.  In the EXTREMELY tight labor market\nobtaining 3 bids for each labor trade is not feasible.  For the professional\nsubs we use those with whom we have developed a previous rapport.  Finally,\nfor vendors they are constantly shopped.\n\nPRE-SELECTED PROFESSIONALS, SUBS AND VENDORS\nYes there are many different subs that have been identified and I can\nprovide these if you are interested.\n\nI know I have not answered everything, but this is a starting point.  Call\nwhen you have reviewed and we can discuss further.\n\nSincerely,\n\nGeorge Richards\nPresident, Creekside Builders, LLC\n\n\n\n\n - winmail.dat\n"
        ],
        [
         "26",
         "allen-p/_sent_mail/118.",
         "Message-ID: <719350.1075855687850.JavaMail.evans@thyme>\nDate: Tue, 26 Sep 2000 09:26:00 -0700 (PDT)\nFrom: phillip.allen@enron.com\nTo: pallen70@hotmail.com\nSubject: Investment Structure\nMime-Version: 1.0\nContent-Type: text/plain; charset=us-ascii\nContent-Transfer-Encoding: 7bit\nX-From: Phillip K Allen\nX-To: pallen70@hotmail.com\nX-cc: \nX-bcc: \nX-Folder: \\Phillip_Allen_Dec2000\\Notes Folders\\'sent mail\nX-Origin: Allen-P\nX-FileName: pallen.nsf\n\n---------------------- Forwarded by Phillip K Allen/HOU/ECT on 09/26/2000 \n04:26 PM ---------------------------\n\n\n\"George Richards\" <cbpres@austin.rr.com> on 09/26/2000 01:18:45 PM\nPlease respond to <cbpres@austin.rr.com>\nTo: \"Phillip Allen\" <pallen@enron.com>\ncc: \"Larry Lewter\" <retwell@mail.sanmarcos.net>, \"Claudia L. Crocker\" \n<clclegal2@aol.com> \nSubject: Investment Structure\n\n\nSTRUCTURE:\nTypically the structure is a limited partnership with a corporate (or LLC)\ngeneral partner.  The General Partner owns 1% of the project and carries the\nliability of construction.\n\nLAND OWNERSHIP & LOANS\nThe property would be purchased in the name of the limited partnership and\nany land loans, land improvements loans and construction loans would be in\nthe name of the limited partnership.  Each of the individual investors and\nall of the principals in Creekside would also personally guarantee the\nloans.  If the investor(s) do not sign on the loans, this generally means\nthat a larger amount of cash is required and the investor's share of profits\nis reduced.\n\nAll loans for residential construction, that are intended for re-sale, are\nfull recourse loans.  If we are pursuing multifamily rental developments,\nthe construction loans are still full recourse but the mortgage can often be\nnon-recourse.\n\nUSE OF INITIAL INVESTMENT\nThe initial investment is used for land deposit, engineering &\narchitectural design, soils tests, surveys, filing fees, legal fees for\norganization and condominium association formation,  and appraisals.  Unlike\nmany real estate investment programs, none of the funds are used for fees to\nCreekside Builders, LLC.  These professional expenses will be incurred over\nthe estimated 6 month design and approval period.\n\nEARLY LAND COSTS\nThe $4,000 per month costs listed in the cash flow as part of land cost\nrepresent the extension fees due to the seller for up to 4 months of\nextensions on closing.  As an alternative, we can close into a land loan at\nprobably 70% of appraised value.  With a land value equal to the purchase\nprice of $680,000 this would mean a land loan of $476,000 with estimated\nmonthly interest payments of $3,966, given a 10% annual interest rate, plus\napproximately 1.25% of the loan amount for closing costs and loan fees.\n\nEQUITY AT IMPROVEMENT LOAN\nOnce the site plan is approved by the City of Austin, the City will require\nthe development entity to post funds for fiscal improvements, referred to as\nthe \"fiscals\".  This cost represents a bond for the completion of\nimprovements that COA considers vital and these funds are released once the\nimprovements have been completed and accepted by COA.  This release will be\nfor 90% of the cost with the remaining 10% released one year after\ncompletion.  Releases can be granted once every 90 days and you should\nexpect that the release would occur 6 months after the start of lot\nimprovement construction.  These fiscals are usually posted in cash or an\nirrevocable letter of credit.  As such, they have to be counted as a\ndevelopment cost, even though they are not spent.  Because they are not\nspent no interest is charged on these funds.\n\nThe lot improvement loan is typically 75% of the appraised value of a\nfinished lot, which I suspect will be at least $20,000 and potentially as\nhigh as $25,000.  This would produce a loan amount of  $15,000 on $20,000\nper lot.  With estimated per lot improvement costs of $9,000, 'fiscals' at\n$2,000 and the land cost at $8,000 , total improved lot cost is $19,000\nwhich means $0 to $4,000 per lot in total equity.  The investment prior to\nobtaining the improvement loan would count towards any equity requirement\nprovided it was for direct costs.  Thus, the additional equity for the\nimprovement loan would be $0-$184,000.   Even if the maximum loan would\ncover all costs, it is unlikely the bank would allow reimbursement of funds\nspent. The higher estimates of equity investments are shown in the\npreliminary proforma to be on the safe side.  The engineer is preparing a\ntentative site layout with an initial evaluation of the phasing, which can\nsignificantly reduce the cash equity requirement.\n\nPhasing works as follows.  If the first phase was say 40 units, the total\nlot improvement cost might average $31,000 per lot.   Of this, probably\n$13,000 would be for improvements and $19,000 for the land cost.  The\nimprovements are higher to cover large one time up front costs for design\ncosts, the entry road, water treatment costs, perimeter fencing and\nlandscaping, and so on, as well as for 100% of the land.  The land loan for\nundeveloped lots would be 70% of the appraised raw lot value, which I would\nestimate as $10,000 per lot for a loan value of $7,000 per lot.  Then the\nloan value for each improved lot would be $15,000 per lot.  This would give\nyou a total loan of $992,000, total cost of $1,232,645 for equity required\nof $241,000.  This was not presented in the initial analysis as the phasing\nis depended on a more careful assessment by the Civil Engineer as the\nseparate phases must each be able to stand on its own from a utility\nstandpoint.\n\nCONSTRUCTION LOANS\nThere are three types of  construction loans.  First, is a speculative\n(spec) loan that is taken out prior to any pre-sales activity.  Second,  is\na construction loan for a pre-sold unit, but the loan remains in the\nbuilder/developers name.  Third, is a pre-sold unit with the construction\nloan in the name of the buyer.  We expect to have up to 8 spec loans to\nstart the project and expect all other loans to be pre-sold units with loans\nin the name of the builder/developer.  We do not expect to have any\nconstruction loans in the name of the buyers, as such loans are too\ndifficult to manage and please new buyers unfamiliar with the process.\n\nSpec loans will be for 70% to 75% of value and construction loans for\npre-sold units, if the construction loan is from the mortgage lender,  will\nbe from 80% to 95% of value.\n\nDISBURSEMENTS\nDisbursements will be handled by the General Partner to cover current and\nnear term third party costs, then to necessary reserves, then to priority\npayments and then to the partners per the agreement.  The General Partner\nwill contract with Creekside Builders, LLC to construct the units and the\nfee to CB will include a construction management and overhead fee equal to\n15% of the direct hard cost excluding land, financing and sales costs.\nThese fees are the only monies to Creekside, Larry Lewter or myself prior to\ncalculation of profit, except for a) direct reimbursement for partnership\nexpenses and b) direct payment to CB for any subcontractor costs that it has\nto perform.  For example, if CB cannot find a good trim carpenter sub, or\ncannot find enough trim carpenters, etc., and it decides to undertake this\nfunction, it will charge the partnership the same fee it was able to obtain\nfrom third parties and will disclose those cases to the partnership.\nFinally, CB will receive a fee for the use of any of its equipment if it is\nused in lieu of leasing equipment from others.  At present CB does not own\nany significant equipment, but it is considering the purchase of a sky track\nto facilitate and speed up framing, cornice, roofing and drywall spreading.\n\nREPORTING\nWe are more than willing to provide reports to track expenses vs. plan.\nWhat did you have in mind?  I would like to use some form of internet based\nreporting.\n\nBOOKKEEPING\nI am not sure what you are referring to by the question, \"Bookkeeping\nprocedures to record actual expenses?\"  Please expand.\n\nINVESTOR INPUT\nWe are glad to have the investor's input on design and materials.  As always\nthe question will be who has final say if there is disagreement, but in my\nexperience I have always been able to reach consensus. As you, and I presume\nKeith, want to be involved to learn as much as possible we would make every\neffort to be accommodating.\n\nCREEKSIDE PROCEEDURES\nCB procedures for dealing with subs, vendors and professionals is not as\nformal as your question indicates.  In the EXTREMELY tight labor market\nobtaining 3 bids for each labor trade is not feasible.  For the professional\nsubs we use those with whom we have developed a previous rapport.  Finally,\nfor vendors they are constantly shopped.\n\nPRE-SELECTED PROFESSIONALS, SUBS AND VENDORS\nYes there are many different subs that have been identified and I can\nprovide these if you are interested.\n\nI know I have not answered everything, but this is a starting point.  Call\nwhen you have reviewed and we can discuss further.\n\nSincerely,\n\nGeorge Richards\nPresident, Creekside Builders, LLC\n\n\n\n\n - winmail.dat\n"
        ],
        [
         "27",
         "allen-p/_sent_mail/119.",
         "Message-ID: <10523086.1075855687873.JavaMail.evans@thyme>\nDate: Tue, 26 Sep 2000 07:01:00 -0700 (PDT)\nFrom: phillip.allen@enron.com\nTo: ina.rangel@enron.com\nSubject: \nMime-Version: 1.0\nContent-Type: text/plain; charset=us-ascii\nContent-Transfer-Encoding: 7bit\nX-From: Phillip K Allen\nX-To: Ina Rangel\nX-cc: \nX-bcc: \nX-Folder: \\Phillip_Allen_Dec2000\\Notes Folders\\'sent mail\nX-Origin: Allen-P\nX-FileName: pallen.nsf\n\n---------------------- Forwarded by Phillip K Allen/HOU/ECT on 09/26/2000 \n02:00 PM ---------------------------\n\n\n\tReschedule\nChairperson: Richard Burchfield\nSent by: Cindy Cicchetti\n\nStart: 10/03/2000 02:30 PM\nEnd: 10/03/2000 03:30 PM\n\nDescription: Gas Physical/Financail Positions - Room 2537\n\n\n\nThis meeting repeats   starting on    (if the date occurs on a weekend the \nmeeting ).\nMeeting Dates: \n\n\n\nFletcher J Sturm/HOU/ECT\nScott Neal/HOU/ECT\nHunter S Shively/HOU/ECT\nPhillip K Allen/HOU/ECT\nAllan Severude/HOU/ECT\nScott Mills/HOU/ECT\nRuss Severson/HOU/ECT\n\nDetailed description:\n\n\n\n---------------------- Forwarded by Phillip K Allen/HOU/ECT on 09/26/2000 \n02:00 PM ---------------------------\n\n\n\tConfirmation\nChairperson: Richard Burchfield\nSent by: Cindy Cicchetti\n\nStart: 10/03/2000 02:30 PM\nEnd: 10/03/2000 03:30 PM\n\nDescription: Gas Physical/Financail Positions - Room 2537\n\n\n\nThis meeting repeats   starting on    (if the date occurs on a weekend the \nmeeting ).\nMeeting Dates: \n\n\n\nFletcher J Sturm/HOU/ECT\nScott Neal/HOU/ECT\nHunter S Shively/HOU/ECT\nPhillip K Allen/HOU/ECT\nAllan Severude/HOU/ECT\nScott Mills/HOU/ECT\nRuss Severson/HOU/ECT\n\nDetailed description:\n\n\nStatus update:\nFletcher J Sturm -> No Response\nScott Neal -> No Response\nHunter S Shively -> No Response\nPhillip K Allen -> No Response\nAllan Severude -> Accepted\nScott Mills -> Accepted\nRuss Severson -> No Response\n\n\n---------------------- Forwarded by Phillip K Allen/HOU/ECT on 09/26/2000 \n02:00 PM ---------------------------\n\n\n\tReschedule\nChairperson: Richard Burchfield\nSent by: Cindy Cicchetti\n\nStart: 09/27/2000 02:00 PM\nEnd: 09/27/2000 03:00 PM\n\nDescription: Gas Trading Vision Meeting - Room EB2601\n\n\n\nThis meeting repeats   starting on    (if the date occurs on a weekend the \nmeeting ).\nMeeting Dates: \n\n\n\nPhillip K Allen/HOU/ECT@ECT\nHunter S Shively/HOU/ECT@ECT\nScott Mills/HOU/ECT@ECT\nAllan Severude/HOU/ECT@ECT\nJeffrey C Gossett/HOU/ECT@ECT\nColleen Sullivan/HOU/ECT@ECT\nRuss Severson/HOU/ECT@ECT\nJayant Krishnaswamy/HOU/ECT@ECT\nRussell Long/HOU/ECT@ECT\n\nDetailed description:\n\n\n\n---------------------- Forwarded by Phillip K Allen/HOU/ECT on 09/26/2000 \n02:00 PM ---------------------------\n\n\n\tConfirmation\nChairperson: Richard Burchfield\nSent by: Cindy Cicchetti\n\nStart: 09/27/2000 02:00 PM\nEnd: 09/27/2000 03:00 PM\n\nDescription: Gas Trading Vision Meeting - Room EB2601\n\n\n\nThis meeting repeats   starting on    (if the date occurs on a weekend the \nmeeting ).\nMeeting Dates: \n\n\n\nPhillip K Allen/HOU/ECT@ECT\nHunter S Shively/HOU/ECT@ECT\nScott Mills/HOU/ECT@ECT\nAllan Severude/HOU/ECT@ECT\nJeffrey C Gossett/HOU/ECT@ECT\nColleen Sullivan/HOU/ECT@ECT\nRuss Severson/HOU/ECT@ECT\nJayant Krishnaswamy/HOU/ECT@ECT\nRussell Long/HOU/ECT@ECT\n\nDetailed description:\n\n\nStatus update:\nPhillip K Allen -> No Response\nHunter S Shively -> No Response\nScott Mills -> No Response\nAllan Severude -> Accepted\nJeffrey C Gossett -> Accepted\nColleen Sullivan -> No Response\nRuss Severson -> No Response\nJayant Krishnaswamy -> Accepted\nRussell Long -> Accepted\n\n\n---------------------- Forwarded by Phillip K Allen/HOU/ECT on 09/26/2000 \n02:00 PM ---------------------------\n\n\n\tReschedule\nChairperson: Richard Burchfield\nSent by: Cindy Cicchetti\n\nStart: 09/28/2000 01:00 PM\nEnd: 09/28/2000 02:00 PM\n\nDescription: Gas Physical/Financail Positions - Room 2537\n\n\n\nThis meeting repeats   starting on    (if the date occurs on a weekend the \nmeeting ).\nMeeting Dates: \n\n\n\nFletcher J Sturm/HOU/ECT\nScott Neal/HOU/ECT\nHunter S Shively/HOU/ECT\nPhillip K Allen/HOU/ECT\nAllan Severude/HOU/ECT\nScott Mills/HOU/ECT\nRuss Severson/HOU/ECT\n\nDetailed description:\n\n\n\n---------------------- Forwarded by Phillip K Allen/HOU/ECT on 09/26/2000 \n02:00 PM ---------------------------\n\n\n\tConfirmation\nChairperson: Richard Burchfield\nSent by: Cindy Cicchetti\n\nStart: 09/28/2000 01:00 PM\nEnd: 09/28/2000 02:00 PM\n\nDescription: Gas Physical/Financail Positions - Room 2537\n\n\n\nThis meeting repeats   starting on    (if the date occurs on a weekend the \nmeeting ).\nMeeting Dates: \n\n\n\nFletcher J Sturm/HOU/ECT\nScott Neal/HOU/ECT\nHunter S Shively/HOU/ECT\nPhillip K Allen/HOU/ECT\nAllan Severude/HOU/ECT\nScott Mills/HOU/ECT\nRuss Severson/HOU/ECT\n\nDetailed description:\n\n\nStatus update:\nFletcher J Sturm -> No Response\nScott Neal -> No Response\nHunter S Shively -> No Response\nPhillip K Allen -> No Response\nAllan Severude -> Accepted\nScott Mills -> Accepted\nRuss Severson -> Accepted\n\n\n---------------------- Forwarded by Phillip K Allen/HOU/ECT on 09/26/2000 \n02:00 PM ---------------------------\n   \n\t\n\t\n\tFrom:  Cindy Cicchetti                           09/26/2000 10:38 AM\n\t\n\nTo: Phillip K Allen/HOU/ECT@ECT, Hunter S Shively/HOU/ECT@ECT, Scott \nMills/HOU/ECT@ECT, Allan Severude/HOU/ECT@ECT, Jeffrey C Gossett/HOU/ECT@ECT, \nColleen Sullivan/HOU/ECT@ECT, Russ Severson/HOU/ECT@ECT, Jayant \nKrishnaswamy/HOU/ECT@ECT, Russell Long/HOU/ECT@ECT\ncc:  \nSubject: Gas Trading Vision mtg.\n\nThis meeting has been moved to 4:00 on Wed. in room 2601.  I have sent a \nconfirmation to each of you via Lotus Notes.  Sorry for all of the changes \nbut there was a scheduling problem with a couple of people for the original \ntime slot. \n"
        ],
        [
         "28",
         "allen-p/_sent_mail/12.",
         "Message-ID: <8572706.1075855378498.JavaMail.evans@thyme>\nDate: Thu, 3 May 2001 15:57:00 -0700 (PDT)\nFrom: phillip.allen@enron.com\nTo: rlehmann@yahoo.com\nSubject: \nMime-Version: 1.0\nContent-Type: text/plain; charset=us-ascii\nContent-Transfer-Encoding: 7bit\nX-From: Phillip K Allen\nX-To: rlehmann <rlehmann@yahoo.com>\nX-cc: \nX-bcc: \nX-Folder: \\Phillip_Allen_Jan2002_1\\Allen, Phillip K.\\'Sent Mail\nX-Origin: Allen-P\nX-FileName: pallen (Non-Privileged).pst\n\nReagan,\n\nJust wanted to give you an update.  I have changed the unit mix to include some 1 bedrooms and reduced the number of buildings to 12.  Kipp Flores is working on the construction drawings.  At the same time I am pursuing FHA financing.  Once the construction drawings are complete I will send them to you for a revised bid.  Your original bid was competitive and I am still attracted to your firm because of your strong local presence and contacts.\n\nPhillip"
        ],
        [
         "29",
         "allen-p/_sent_mail/120.",
         "Message-ID: <29665600.1075855687895.JavaMail.evans@thyme>\nDate: Tue, 26 Sep 2000 05:11:00 -0700 (PDT)\nFrom: phillip.allen@enron.com\nTo: cindy.cicchetti@enron.com\nSubject: Re: Gas Trading Vision meeting\nMime-Version: 1.0\nContent-Type: text/plain; charset=us-ascii\nContent-Transfer-Encoding: 7bit\nX-From: Phillip K Allen\nX-To: Cindy Cicchetti\nX-cc: \nX-bcc: \nX-Folder: \\Phillip_Allen_Dec2000\\Notes Folders\\'sent mail\nX-Origin: Allen-P\nX-FileName: pallen.nsf\n\nNymex expiration is during this time frame.  Please reschedule."
        ],
        [
         "30",
         "allen-p/_sent_mail/121.",
         "Message-ID: <4449575.1075855687916.JavaMail.evans@thyme>\nDate: Tue, 26 Sep 2000 05:08:00 -0700 (PDT)\nFrom: phillip.allen@enron.com\nTo: ina.rangel@enron.com\nSubject: \nMime-Version: 1.0\nContent-Type: text/plain; charset=us-ascii\nContent-Transfer-Encoding: 7bit\nX-From: Phillip K Allen\nX-To: Ina Rangel\nX-cc: \nX-bcc: \nX-Folder: \\Phillip_Allen_Dec2000\\Notes Folders\\'sent mail\nX-Origin: Allen-P\nX-FileName: pallen.nsf\n\n---------------------- Forwarded by Phillip K Allen/HOU/ECT on 09/26/2000 \n12:08 PM ---------------------------\n\n\n\tInvitation\nChairperson: Richard Burchfield\nSent by: Cindy Cicchetti\n\nStart: 09/27/2000 11:30 AM\nEnd: 09/27/2000 12:30 PM\n\nDescription: Gas Trading Vision Meeting - Room EB2556\n\n\n\nThis meeting repeats   starting on    (if the date occurs on a weekend the \nmeeting ).\nMeeting Dates: \n\n\n\nPhillip K Allen/HOU/ECT\nHunter S Shively/HOU/ECT\nScott Mills/HOU/ECT\nAllan Severude/HOU/ECT\nJeffrey C Gossett/HOU/ECT\nColleen Sullivan/HOU/ECT\nRuss Severson/HOU/ECT\nJayant Krishnaswamy/HOU/ECT\nRussell Long/HOU/ECT\n\nDetailed description:\n\n\n"
        ],
        [
         "31",
         "allen-p/_sent_mail/122.",
         "Message-ID: <24741229.1075855687937.JavaMail.evans@thyme>\nDate: Tue, 26 Sep 2000 05:07:00 -0700 (PDT)\nFrom: phillip.allen@enron.com\nTo: ina.rangel@enron.com\nSubject: Gas Physical/Financial Position\nMime-Version: 1.0\nContent-Type: text/plain; charset=us-ascii\nContent-Transfer-Encoding: 7bit\nX-From: Phillip K Allen\nX-To: Ina Rangel\nX-cc: \nX-bcc: \nX-Folder: \\Phillip_Allen_Dec2000\\Notes Folders\\'sent mail\nX-Origin: Allen-P\nX-FileName: pallen.nsf\n\n---------------------- Forwarded by Phillip K Allen/HOU/ECT on 09/26/2000 \n12:07 PM ---------------------------\n   \n\t\n\t\n\tFrom:  Cindy Cicchetti                           09/26/2000 09:23 AM\n\t\n\nTo: Phillip K Allen/HOU/ECT@ECT, Hunter S Shively/HOU/ECT@ECT, Scott \nMills/HOU/ECT@ECT, Allan Severude/HOU/ECT@ECT, Russ Severson/HOU/ECT@ECT, \nFletcher J Sturm/HOU/ECT@ECT, Scott Neal/HOU/ECT@ECT\ncc:  \nSubject: Gas Physical/Financial Position\n\nI have scheduled and entered on each of your calendars a meeting for the \nabove referenced topic.  It will take place on Thursday, 9/28 from 3:00 - \n4:00 in Room EB2537.  \n"
        ],
        [
         "32",
         "allen-p/_sent_mail/123.",
         "Message-ID: <19330146.1075855687961.JavaMail.evans@thyme>\nDate: Tue, 26 Sep 2000 04:57:00 -0700 (PDT)\nFrom: phillip.allen@enron.com\nTo: jsmith@austintx.com\nSubject: closing\nMime-Version: 1.0\nContent-Type: text/plain; charset=ANSI_X3.4-1968\nContent-Transfer-Encoding: 7bit\nX-From: Phillip K Allen\nX-To: jsmith@austintx.com\nX-cc: \nX-bcc: \nX-Folder: \\Phillip_Allen_Dec2000\\Notes Folders\\'sent mail\nX-Origin: Allen-P\nX-FileName: pallen.nsf\n\n---------------------- Forwarded by Phillip K Allen/HOU/ECT on 09/26/2000 \n11:57 AM ---------------------------\n\n\n\"BS Stone\" <bs_stone@yahoo.com> on 09/26/2000 04:47:40 AM\nTo: \"jeff\" <jeff@freeyellow.com>\ncc: \"Phillip K Allen\" <Phillip.K.Allen@enron.com> \nSubject: closing\n\n\n\nJeff, \n?\nIs the closing today?? After reviewing the  agreement?I find it isn't binding \nas far as I can determine.? It is  too vague and it doesn't sound like \nanything an attorney or title company  would?draft for a real estate \nclosing--but, of course, I could be  wrong.? \n?\nIf this?closing is going to take place without  this agreement then there is \nno point in me  following up on this?document's validity.? \n?\nI will just need to go back to my closing documents  and see what's there and \nfind out where I am with that and deal with this as  best I can.\n?\nI guess I was expecting something that would be an  exhibit to a recordable \ndocument or something a little more exact, or  rather?sort of a contract.? \nThis isn't either.? I tried to get a  real estate atty on the phone last \nnight but he was out of pocket.? I  talked to a crim. atty friend and he said \nthis is out of his area but doesn't  sound binding to him.? \n?\nI will go back to mine and Phillip Allen's  transaction?and take a look at \nthat but as vague and general as this is I  doubt that my signature? is even \nneeded to complete this transaction.?  I am in after 12 noon if there is any \nneed to contact me regarding the  closing.\n?\nI really do not want to hold up anything or  generate more work for myself \nand I don't want to insult or annoy anyone but  this paper really doesn't \nseem to be something required for a closing.? In  the event you do need my \nsignature on something like this I would rather have  time to have it \nreviewed before I accept it.\n?\nBrenda\n?\n?\n"
        ],
        [
         "33",
         "allen-p/_sent_mail/124.",
         "Message-ID: <7763065.1075855687985.JavaMail.evans@thyme>\nDate: Mon, 25 Sep 2000 07:04:00 -0700 (PDT)\nFrom: phillip.allen@enron.com\nTo: christopher.calger@enron.com\nSubject: \nMime-Version: 1.0\nContent-Type: text/plain; charset=us-ascii\nContent-Transfer-Encoding: 7bit\nX-From: Phillip K Allen\nX-To: Christopher F Calger\nX-cc: \nX-bcc: \nX-Folder: \\Phillip_Allen_Dec2000\\Notes Folders\\'sent mail\nX-Origin: Allen-P\nX-FileName: pallen.nsf\n\nChris,\n\n What is the latest with PG&E?  We have been having good discussions \nregarding EOL.\n Call me when you can. X37041\n\nPhillip"
        ],
        [
         "34",
         "allen-p/_sent_mail/125.",
         "Message-ID: <14215818.1075855688008.JavaMail.evans@thyme>\nDate: Mon, 25 Sep 2000 07:01:00 -0700 (PDT)\nFrom: phillip.allen@enron.com\nTo: ina.rangel@enron.com\nSubject: \nMime-Version: 1.0\nContent-Type: text/plain; charset=us-ascii\nContent-Transfer-Encoding: 7bit\nX-From: Phillip K Allen\nX-To: Ina Rangel\nX-cc: \nX-bcc: \nX-Folder: \\Phillip_Allen_Dec2000\\Notes Folders\\'sent mail\nX-Origin: Allen-P\nX-FileName: pallen.nsf\n\n---------------------- Forwarded by Phillip K Allen/HOU/ECT on 09/25/2000 \n02:01 PM ---------------------------\n\n\n\tReschedule\nChairperson: Richard Burchfield\nSent by: Cindy Cicchetti\n\nStart: 09/28/2000 01:00 PM\nEnd: 09/28/2000 02:00 PM\n\nDescription: Gas Physical/Financail Positions - Room 2537\n\n\n\nThis meeting repeats   starting on    (if the date occurs on a weekend the \nmeeting ).\nMeeting Dates: \n\n\n\nFletcher J Sturm/HOU/ECT\nScott Neal/HOU/ECT\nHunter S Shively/HOU/ECT\nPhillip K Allen/HOU/ECT\nAllan Severude/HOU/ECT\nScott Mills/HOU/ECT\nRuss Severson/HOU/ECT\n\nDetailed description:\n   The meeting with Richard Burchfield/HOU/ECT was rescheduled.  \n\nOn   09/28/2000 03:00:00 PM CDT \nFor   1 hour  \nWith:   Richard Burchfield/HOU/ECT (Chairperson)  \n  Fletcher J Sturm/HOU/ECT (Invited)  \n  Scott Neal/HOU/ECT (Invited)  \n  Hunter S Shively/HOU/ECT (Invited)  \n  Phillip K Allen/HOU/ECT (Invited)  \n  Allan Severude/HOU/ECT (Invited)  \n  Scott Mills/HOU/ECT (Invited)  \n  Russ Severson/HOU/ECT (Invited)  \n\nGas Physical/Financail Positions - Room 2537  \n\n"
        ],
        [
         "35",
         "allen-p/_sent_mail/126.",
         "Message-ID: <17698185.1075855688030.JavaMail.evans@thyme>\nDate: Mon, 25 Sep 2000 07:01:00 -0700 (PDT)\nFrom: phillip.allen@enron.com\nTo: ina.rangel@enron.com\nSubject: \nMime-Version: 1.0\nContent-Type: text/plain; charset=us-ascii\nContent-Transfer-Encoding: 7bit\nX-From: Phillip K Allen\nX-To: Ina Rangel\nX-cc: \nX-bcc: \nX-Folder: \\Phillip_Allen_Dec2000\\Notes Folders\\'sent mail\nX-Origin: Allen-P\nX-FileName: pallen.nsf\n\n---------------------- Forwarded by Phillip K Allen/HOU/ECT on 09/25/2000 \n02:00 PM ---------------------------\n\n\n\tInvitation\nChairperson: Richard Burchfield\nSent by: Cindy Cicchetti\n\nStart: 09/27/2000 01:00 PM\nEnd: 09/27/2000 02:00 PM\n\nDescription: Gas Physical/Financail Positions - Room 2537\n\n\n\nThis meeting repeats   starting on    (if the date occurs on a weekend the \nmeeting ).\nMeeting Dates: \n\n\n\nFletcher J Sturm/HOU/ECT\nScott Neal/HOU/ECT\nHunter S Shively/HOU/ECT\nPhillip K Allen/HOU/ECT\nAllan Severude/HOU/ECT\nScott Mills/HOU/ECT\nRuss Severson/HOU/ECT\n\nDetailed description:\n\n\n"
        ],
        [
         "36",
         "allen-p/_sent_mail/127.",
         "Message-ID: <26911498.1075855688052.JavaMail.evans@thyme>\nDate: Mon, 25 Sep 2000 05:47:00 -0700 (PDT)\nFrom: phillip.allen@enron.com\nTo: muller@thedoghousemail.com\nSubject: \nMime-Version: 1.0\nContent-Type: text/plain; charset=us-ascii\nContent-Transfer-Encoding: 7bit\nX-From: Phillip K Allen\nX-To: muller@thedoghousemail.com\nX-cc: \nX-bcc: \nX-Folder: \\Phillip_Allen_Dec2000\\Notes Folders\\'sent mail\nX-Origin: Allen-P\nX-FileName: pallen.nsf\n\nGreg,\n\nHappy B-day. Email me your phone # and I will call you.\n\nKeith"
        ],
        [
         "37",
         "allen-p/_sent_mail/128.",
         "Message-ID: <21367359.1075855688073.JavaMail.evans@thyme>\nDate: Fri, 22 Sep 2000 00:06:00 -0700 (PDT)\nFrom: phillip.allen@enron.com\nTo: kathy.moore@enron.com\nSubject: \nMime-Version: 1.0\nContent-Type: text/plain; charset=us-ascii\nContent-Transfer-Encoding: 7bit\nX-From: Phillip K Allen\nX-To: Kathy M Moore\nX-cc: \nX-bcc: \nX-Folder: \\Phillip_Allen_Dec2000\\Notes Folders\\'sent mail\nX-Origin: Allen-P\nX-FileName: pallen.nsf\n\nKathy,\n\nRegarding the guest password for gas daily, can you please relay the \ninformation to Mike Grigsby at 37031 so he can pass it along to the user at \ngas daily today.  I will be out of the office on Friday.\n\nthank you\n\nPhillip"
        ],
        [
         "38",
         "allen-p/_sent_mail/129.",
         "Message-ID: <21687372.1075855688094.JavaMail.evans@thyme>\nDate: Wed, 20 Sep 2000 08:06:00 -0700 (PDT)\nFrom: phillip.allen@enron.com\nTo: john.lavorato@enron.com\nSubject: \nMime-Version: 1.0\nContent-Type: text/plain; charset=us-ascii\nContent-Transfer-Encoding: 7bit\nX-From: Phillip K Allen\nX-To: John J Lavorato\nX-cc: \nX-bcc: \nX-Folder: \\Phillip_Allen_Dec2000\\Notes Folders\\'sent mail\nX-Origin: Allen-P\nX-FileName: pallen.nsf\n\nJohn,\n\n Denver's short rockies position  beyond 2002 is created by their Trailblazer \ntransport.  They are unhedged 15,000/d in 2003 and 25,000/d in 2004 and \n2005.  \n\n They are scrubbing all their books and booking the Hubert deal on Wednesday \nand Thursday.\n\nPhillip"
        ],
        [
         "39",
         "allen-p/_sent_mail/13.",
         "Message-ID: <32300323.1075855378519.JavaMail.evans@thyme>\nDate: Wed, 2 May 2001 12:36:00 -0700 (PDT)\nFrom: phillip.allen@enron.com\nTo: james.steffes@enron.com\nSubject: \nMime-Version: 1.0\nContent-Type: text/plain; charset=us-ascii\nContent-Transfer-Encoding: 7bit\nX-From: Phillip K Allen\nX-To: James D Steffes <James D Steffes/NA/Enron@Enron>\nX-cc: \nX-bcc: \nX-Folder: \\Phillip_Allen_Jan2002_1\\Allen, Phillip K.\\'Sent Mail\nX-Origin: Allen-P\nX-FileName: pallen (Non-Privileged).pst\n\nJim,\n\nIs there going to be a conference call or some type of weekly meeting about all the regulatory issues facing California this week?  Can you make sure the gas desk is included.\n\nPhillip"
        ],
        [
         "40",
         "allen-p/_sent_mail/130.",
         "Message-ID: <31434120.1075855688116.JavaMail.evans@thyme>\nDate: Wed, 20 Sep 2000 06:34:00 -0700 (PDT)\nFrom: phillip.allen@enron.com\nTo: cbpres@austin.rr.com\nSubject: \nMime-Version: 1.0\nContent-Type: text/plain; charset=us-ascii\nContent-Transfer-Encoding: 7bit\nX-From: Phillip K Allen\nX-To: cbpres@austin.rr.com\nX-cc: \nX-bcc: \nX-Folder: \\Phillip_Allen_Dec2000\\Notes Folders\\'sent mail\nX-Origin: Allen-P\nX-FileName: pallen.nsf\n\nGeorge,\n\n Below is a list of questions that Keith and I had regarding the Westgate \nproject:\n\n Ownership Structure\n\n What will be the ownership structure? Limited partnership? General partner?\n\n What are all the legal entities that will be involved and in what \ncapacity(regarding ownership and \n liabilities)?\n\n Who owns the land? improvements?\n\n Who holds the various loans?\n\n Is the land collateral?\n\n Investment\n \n What happens to initial investment?\n\n Is it used to purchase land for cash?Secure future loans?\n \n Why is the land cost spread out on the cash flow statement?\n\n When is the 700,000 actually needed? Now or for the land closing? Investment \nschedule?\n\n Investment Return\n\n Is Equity Repayment the return of the original investment?\n\n Is the plan to wait until the last unit is sold and closed before profits \nare distributed?\n\n Debt\n\n Which entity is the borrower for each loan and what recourse or collateral \nis associated with each \n loan?\n\n Improvement\n\n Construction\n\n Are these the only two loans?  Looks like it from the cash flow statement.\n\n Terms of each loan?\n\n Uses of Funds\n\n How will disbursements be made?  By whom?\n\n What type of bank account?  Controls on max disbursement? Internet viewing \nfor investors?\n\n Reports to track expenses vs plan?\n\n Bookkeeping procedures to record actual expenses?\n\n What is the relationship of Creekside Builders to the project?  Do you get \npaid a markup on subcontractors as a \n general contractor and paid gain out of profits?\n\n Do you or Larry receive any money in the form of salary or personal expenses \nbefore the ultimate payout of profits?\n\n Design and Construction\n \n When will design be complete?\n\n What input will investors have in selecting design and materials for units?\n\n What level of investor involvement will be possible during construction \nplanning and permitting?\n\n Does Creekside have specific procedures for dealing with subcontractors, \nvendors, and other professionals? \n Such as always getting 3 bids, payment schedules, or reference checking?\n\n Are there any specific companies or individuals that you already plan to \nuse? Names?\n\nThese questions are probably very basic to you, but as a first time investor \nin a project like this it is new to me.  Also, I want to learn as\nmuch as possible from the process.\n\nPhillip\n\n\n\n\n\n\n\n\n\n\n \n \n\n \n\n  \n\n "
        ],
        [
         "41",
         "allen-p/_sent_mail/131.",
         "Message-ID: <32280829.1075855688139.JavaMail.evans@thyme>\nDate: Tue, 19 Sep 2000 09:35:00 -0700 (PDT)\nFrom: phillip.allen@enron.com\nTo: pallen70@hotmail.com\nSubject: Westgate Proforma-Phillip Allen.xls\nMime-Version: 1.0\nContent-Type: text/plain; charset=us-ascii\nContent-Transfer-Encoding: 7bit\nX-From: Phillip K Allen\nX-To: pallen70@hotmail.com\nX-cc: \nX-bcc: \nX-Folder: \\Phillip_Allen_Dec2000\\Notes Folders\\'sent mail\nX-Origin: Allen-P\nX-FileName: pallen.nsf\n\n---------------------- Forwarded by Phillip K Allen/HOU/ECT on 09/19/2000 \n04:35 PM ---------------------------\n\n\n\"George Richards\" <cbpres@austin.rr.com> on 09/08/2000 05:21:49 AM\nPlease respond to <cbpres@austin.rr.com>\nTo: \"Phillip Allen\" <pallen@enron.com>\ncc: \"Larry Lewter\" <retwell@mail.sanmarcos.net> \nSubject: Westgate Proforma-Phillip Allen.xls\n\n\nEnclosed is the preliminary proforma for the Westgate property is Austin\nthat we told you about.  As you can tell from the proforma this project\nshould produce a truly exceptional return of over 40% per year over 3 years.\nThis is especially attractive when the project is in a market as strong as\nAustin and we are introducing new product that in a very low price range for\nthis market.  This is the best project in terms of risk and reward that we\nhave uncovered to date in the Austin market.\nThe project does have approved zoning and will only require a site plan.  As\nit is in the \"Smart Growth Corridor\" area designated by the City of Austin\nfor preferred development, this will be fast tracked and should be complete\nin less than 6 months.  Additionally, many of the current and more severe\nwater treatment ordinances have been waived.  I have estimated the lot\nimprovement costs based on a 28 lot development we investigated in North\nAustin, which included a detention/retention and filtration pond and street\nwidening.  Even though this property is not likely to require street\nwidening and will have less of a detention/retention and filtration pond\nrequirement, I used this data to be cautious.\n The Lone Star gas line easement in the lower portion of the property is not\nexpected to impact sales significantly.  Other projects have been quite\nsuccessful with identical relationships to this pipeline, such as the\nadjoining single family residential and a project at St. Edwards University.\nAs with most infill projects, the quality of the surrounding neighborhoods\nis uneven.  We have included a fence around the entire property, but may\nonly put it on Westgate and Cameron Loop.  Gated communities are far\npreferred so this is a good idea for both screening and current buyer\npreferences.\nThe seller accepted our offer Thursday evening with a price of $680,000 and\nan extended escrow.  This will enable us to probably obtain an approved site\nplan before closing on the contract, which will mean that we can close into\nan A&D Loan rather than into a land loan and then an improvement loan.\nThis analysis shows your investment at $700,000 for a 50% interest in the\nprofits of the project.  As we discussed in San Marcos, we can also discuss\nhaving you invest only in the lots, sell the lots to the construction entity\nwith your profit in the lot.  I believe this would facilitate the use of a\n1031 Exchange of the proceeds from this deal into another project that is a\nrental deal or at least into the land for a rental project that would then\nbe the equity for that project.  You would need to discuss this with an\nexchange expert first.  Larry Lewter knows an expert in the field in San\nAntonio if you do not know anyone.\nI will send you a package on the property that was prepared by the broker,\nby Airborne Express today for Saturday delivery.\nOnce you have read the package and reviewed this proforma, we would want to\nschedule a tour of the site and the area.  Please get back to me as soon as\nyour schedule permits regarding the site visit and feel free to call at any\ntime.  You can reach me over the weekend and in the evening at either\n512-338-1119 or 512-338-1110.  My cell phone is 512-748-7495 and the fax is\n512-338-1103.   I look forward to hearing from you and to working with you\non this project that is sure to be a major winner.\nI regret that it took so long to get back to you, but we had some unusual\nevents these past few weeks.  A small freakish wind storm with severe 60+mpg\ndowndrafts hit the South part of Austin where we are building 10 town homes.\nOne of these units had just had the roof decked with the siding scheduled to\nstart the next day.  The severe downdraft hitting the decked roof was enough\nto knock it down.  The City shut down the project for a week and it took\nanother week to get every thing back on tract.  Then last week I had to take\nmy wife  to emergency.  She has a bulge in the material between the vertebra\nin her spine and it causes her extreme pain and has kept her bedridden this\npast week..  There is nothing like having your wife incapacitated to realize\nthe enormous number of things she does everyday.   Fortunately, it looks as\nif she will be ok in the long run.\nGeorge W. Richards\nCreekside Builders, LLC\n\n\n - Westgate Proforma-Phillip Allen.xls\n"
        ],
        [
         "42",
         "allen-p/_sent_mail/132.",
         "Message-ID: <2287499.1075855688163.JavaMail.evans@thyme>\nDate: Tue, 19 Sep 2000 07:26:00 -0700 (PDT)\nFrom: phillip.allen@enron.com\nTo: cbpres@austin.rr.com\nSubject: \nMime-Version: 1.0\nContent-Type: text/plain; charset=us-ascii\nContent-Transfer-Encoding: 7bit\nX-From: Phillip K Allen\nX-To: cbpres@austin.rr.com>\nX-cc: \nX-bcc: \nX-Folder: \\Phillip_Allen_Dec2000\\Notes Folders\\'sent mail\nX-Origin: Allen-P\nX-FileName: pallen.nsf\n\nGeorge,\n\n Here sales numbers from Reagan:\n\n \n \n\n As you can see his units sold at a variety of prices per square foot.  The \n1308/1308 model seems to have the most data and looks most similiar to the \nunits you are selling.  At  2.7 MM, my bid is .70/sf higher than his units \nunder construction.  I am having a hard time justifying paying much more with \ncompetition on the way.  The price I am bidding is higher than any deals \nactually done to date.   \n\n Let me know what you think.  I will follow up with an email and phone call \nabout Cherry Creek.  I am sure Deborah Yates let you know that the bid was \nrejected on the De Ville property.\n\nPhillip Allen\n \n \n\n\n\n\n  "
        ],
        [
         "43",
         "allen-p/_sent_mail/133.",
         "Message-ID: <26184989.1075855688184.JavaMail.evans@thyme>\nDate: Tue, 19 Sep 2000 03:15:00 -0700 (PDT)\nFrom: phillip.allen@enron.com\nTo: jsmith@austintx.com\nSubject: \nMime-Version: 1.0\nContent-Type: text/plain; charset=us-ascii\nContent-Transfer-Encoding: 7bit\nX-From: Phillip K Allen\nX-To: jsmith@austintx.com\nX-cc: \nX-bcc: \nX-Folder: \\Phillip_Allen_Dec2000\\Notes Folders\\'sent mail\nX-Origin: Allen-P\nX-FileName: pallen.nsf\n\nJeff,\n\n What is up with Burnet?\n\nPhillip"
        ],
        [
         "44",
         "allen-p/_sent_mail/134.",
         "Message-ID: <24737799.1075855688205.JavaMail.evans@thyme>\nDate: Mon, 18 Sep 2000 02:34:00 -0700 (PDT)\nFrom: phillip.allen@enron.com\nTo: jsmith@austintx.com\nSubject: Re: burnet\nMime-Version: 1.0\nContent-Type: text/plain; charset=us-ascii\nContent-Transfer-Encoding: 7bit\nX-From: Phillip K Allen\nX-To: \"Jeff Smith\" <jsmith@austintx.com> @ ENRON\nX-cc: \nX-bcc: \nX-Folder: \\Phillip_Allen_Dec2000\\Notes Folders\\'sent mail\nX-Origin: Allen-P\nX-FileName: pallen.nsf\n\nJeff,\n\n I need to see the site plan for Burnet.  Remember I must get written \napproval from Brenda Key Stone before I can sell this property and she has \nconcerns about the way the property will be subdivided.    I would also like \nto review the closing statements as soon as possible.\n\nPhillip"
        ],
        [
         "45",
         "allen-p/_sent_mail/135.",
         "Message-ID: <28779445.1075855688226.JavaMail.evans@thyme>\nDate: Wed, 13 Sep 2000 06:02:00 -0700 (PDT)\nFrom: phillip.allen@enron.com\nTo: stagecoachmama@hotmail.com\nSubject: \nMime-Version: 1.0\nContent-Type: text/plain; charset=us-ascii\nContent-Transfer-Encoding: 7bit\nX-From: Phillip K Allen\nX-To: stagecoachmama@hotmail.com\nX-cc: \nX-bcc: \nX-Folder: \\Phillip_Allen_Dec2000\\Notes Folders\\'sent mail\nX-Origin: Allen-P\nX-FileName: pallen.nsf\n\nLucy,\n\nI want to have an accurate rent roll as soon as possible. I faxed you a copy \nof this file.  You can fill in on the computer or just write in the correct \namounts and I will input.\n"
        ],
        [
         "46",
         "allen-p/_sent_mail/136.",
         "Message-ID: <9007402.1075855688248.JavaMail.evans@thyme>\nDate: Tue, 12 Sep 2000 06:42:00 -0700 (PDT)\nFrom: phillip.allen@enron.com\nTo: bs_stone@yahoo.com\nSubject: Re: Sept 1 Payment\nMime-Version: 1.0\nContent-Type: text/plain; charset=us-ascii\nContent-Transfer-Encoding: 7bit\nX-From: Phillip K Allen\nX-To: Brenda Stone <bs_stone@yahoo.com> @ ENRON\nX-cc: \nX-bcc: \nX-Folder: \\Phillip_Allen_Dec2000\\Notes Folders\\'sent mail\nX-Origin: Allen-P\nX-FileName: pallen.nsf\n\nBrenda,\n\n I checked my records and I mailed check #1178 for the normal amount on \nAugust 28th.  I mailed it to 4303 Pate Rd. #29, College Station, TX 77845.  I \nwill go ahead and mail you another check.  If the first one shows up you can \ntreat the 2nd as payment for October.\n\n I know your concerns about the site plan.  I will not proceed without \ngetting the details and getting your approval.\n\n I will find that amortization schedule and send it soon.\n\nPhillip"
        ],
        [
         "47",
         "allen-p/_sent_mail/137.",
         "Message-ID: <23377438.1075855688269.JavaMail.evans@thyme>\nDate: Tue, 12 Sep 2000 06:06:00 -0700 (PDT)\nFrom: phillip.allen@enron.com\nTo: stagecoachmama@hotmail.com\nSubject: \nMime-Version: 1.0\nContent-Type: text/plain; charset=us-ascii\nContent-Transfer-Encoding: 7bit\nX-From: Phillip K Allen\nX-To: stagecoachmama@hotmail.com\nX-cc: \nX-bcc: \nX-Folder: \\Phillip_Allen_Dec2000\\Notes Folders\\'sent mail\nX-Origin: Allen-P\nX-FileName: pallen.nsf\n\nLucy,\n\n\nYou wrote fewer checks this month.  Spent more money on Materials and less on \nLabor.\n\n\n   June  July  August\n\nTotal Materials  2929  4085  4801\n\nServices  53  581  464\n\nLabor   3187  3428  2770\n\n\n\n\n\n\nHere are my questions on the August bank statement (attached):\n\n1.  Check 1406  Walmart    Description and unit?\n\n2.  Check 1410  Crumps     Detail description and unit?\n\n3.  Check 1411  Lucy      What is this?\n\n4.  Check 1415  Papes      Detail description and units?\n\n5.  Checks 1416, 1417, and 1425  Why overtime?\n\n6.  Check 1428    Ralph's   What unit?\n\n7.  Check 1438    Walmart?    Description and unit?  \n\n\nTry and pull together the support for these items and get back to me.\n\nPhillip"
        ],
        [
         "48",
         "allen-p/_sent_mail/138.",
         "Message-ID: <15766602.1075855688290.JavaMail.evans@thyme>\nDate: Tue, 12 Sep 2000 04:23:00 -0700 (PDT)\nFrom: phillip.allen@enron.com\nTo: paul.lucci@enron.com, kenneth.shulklapper@enron.com\nSubject: Contact list for mid market\nMime-Version: 1.0\nContent-Type: text/plain; charset=us-ascii\nContent-Transfer-Encoding: 7bit\nX-From: Phillip K Allen\nX-To: Paul T Lucci, Kenneth Shulklapper\nX-cc: \nX-bcc: \nX-Folder: \\Phillip_Allen_Dec2000\\Notes Folders\\'sent mail\nX-Origin: Allen-P\nX-FileName: pallen.nsf\n\n---------------------- Forwarded by Phillip K Allen/HOU/ECT on 09/12/2000 \n11:22 AM ---------------------------\n\nMichael Etringer\n\n09/11/2000 02:32 PM\n\nTo: Phillip K Allen/HOU/ECT@ECT\ncc:  \nSubject: Contact list for mid market\n\nPhillip,\nAttached is the list.  Have your people fill in the columns highlighted in \nyellow.  As best can we will try not to overlap on accounts. \n\nThanks, Mike\n\n\n"
        ],
        [
         "49",
         "allen-p/_sent_mail/139.",
         "Message-ID: <9942513.1075855688311.JavaMail.evans@thyme>\nDate: Tue, 12 Sep 2000 00:27:00 -0700 (PDT)\nFrom: phillip.allen@enron.com\nTo: moshuffle@hotmail.com\nSubject: \nMime-Version: 1.0\nContent-Type: text/plain; charset=us-ascii\nContent-Transfer-Encoding: 7bit\nX-From: Phillip K Allen\nX-To: moshuffle@hotmail.com\nX-cc: \nX-bcc: \nX-Folder: \\Phillip_Allen_Dec2000\\Notes Folders\\'sent mail\nX-Origin: Allen-P\nX-FileName: pallen.nsf\n\nhttp://www.hearme.com/vc2/?chnlOwnr=pallen@enron.com"
        ]
       ],
       "shape": {
        "columns": 2,
        "rows": 517401
       }
      },
      "text/html": [
       "<div>\n",
       "<style scoped>\n",
       "    .dataframe tbody tr th:only-of-type {\n",
       "        vertical-align: middle;\n",
       "    }\n",
       "\n",
       "    .dataframe tbody tr th {\n",
       "        vertical-align: top;\n",
       "    }\n",
       "\n",
       "    .dataframe thead th {\n",
       "        text-align: right;\n",
       "    }\n",
       "</style>\n",
       "<table border=\"1\" class=\"dataframe\">\n",
       "  <thead>\n",
       "    <tr style=\"text-align: right;\">\n",
       "      <th></th>\n",
       "      <th>file</th>\n",
       "      <th>message</th>\n",
       "    </tr>\n",
       "  </thead>\n",
       "  <tbody>\n",
       "    <tr>\n",
       "      <th>0</th>\n",
       "      <td>allen-p/_sent_mail/1.</td>\n",
       "      <td>Message-ID: &lt;18782981.1075855378110.JavaMail.e...</td>\n",
       "    </tr>\n",
       "    <tr>\n",
       "      <th>1</th>\n",
       "      <td>allen-p/_sent_mail/10.</td>\n",
       "      <td>Message-ID: &lt;15464986.1075855378456.JavaMail.e...</td>\n",
       "    </tr>\n",
       "    <tr>\n",
       "      <th>2</th>\n",
       "      <td>allen-p/_sent_mail/100.</td>\n",
       "      <td>Message-ID: &lt;24216240.1075855687451.JavaMail.e...</td>\n",
       "    </tr>\n",
       "    <tr>\n",
       "      <th>3</th>\n",
       "      <td>allen-p/_sent_mail/1000.</td>\n",
       "      <td>Message-ID: &lt;13505866.1075863688222.JavaMail.e...</td>\n",
       "    </tr>\n",
       "    <tr>\n",
       "      <th>4</th>\n",
       "      <td>allen-p/_sent_mail/1001.</td>\n",
       "      <td>Message-ID: &lt;30922949.1075863688243.JavaMail.e...</td>\n",
       "    </tr>\n",
       "    <tr>\n",
       "      <th>...</th>\n",
       "      <td>...</td>\n",
       "      <td>...</td>\n",
       "    </tr>\n",
       "    <tr>\n",
       "      <th>517396</th>\n",
       "      <td>zufferli-j/sent_items/95.</td>\n",
       "      <td>Message-ID: &lt;26807948.1075842029936.JavaMail.e...</td>\n",
       "    </tr>\n",
       "    <tr>\n",
       "      <th>517397</th>\n",
       "      <td>zufferli-j/sent_items/96.</td>\n",
       "      <td>Message-ID: &lt;25835861.1075842029959.JavaMail.e...</td>\n",
       "    </tr>\n",
       "    <tr>\n",
       "      <th>517398</th>\n",
       "      <td>zufferli-j/sent_items/97.</td>\n",
       "      <td>Message-ID: &lt;28979867.1075842029988.JavaMail.e...</td>\n",
       "    </tr>\n",
       "    <tr>\n",
       "      <th>517399</th>\n",
       "      <td>zufferli-j/sent_items/98.</td>\n",
       "      <td>Message-ID: &lt;22052556.1075842030013.JavaMail.e...</td>\n",
       "    </tr>\n",
       "    <tr>\n",
       "      <th>517400</th>\n",
       "      <td>zufferli-j/sent_items/99.</td>\n",
       "      <td>Message-ID: &lt;28618979.1075842030037.JavaMail.e...</td>\n",
       "    </tr>\n",
       "  </tbody>\n",
       "</table>\n",
       "<p>517401 rows × 2 columns</p>\n",
       "</div>"
      ],
      "text/plain": [
       "                             file  \\\n",
       "0           allen-p/_sent_mail/1.   \n",
       "1          allen-p/_sent_mail/10.   \n",
       "2         allen-p/_sent_mail/100.   \n",
       "3        allen-p/_sent_mail/1000.   \n",
       "4        allen-p/_sent_mail/1001.   \n",
       "...                           ...   \n",
       "517396  zufferli-j/sent_items/95.   \n",
       "517397  zufferli-j/sent_items/96.   \n",
       "517398  zufferli-j/sent_items/97.   \n",
       "517399  zufferli-j/sent_items/98.   \n",
       "517400  zufferli-j/sent_items/99.   \n",
       "\n",
       "                                                  message  \n",
       "0       Message-ID: <18782981.1075855378110.JavaMail.e...  \n",
       "1       Message-ID: <15464986.1075855378456.JavaMail.e...  \n",
       "2       Message-ID: <24216240.1075855687451.JavaMail.e...  \n",
       "3       Message-ID: <13505866.1075863688222.JavaMail.e...  \n",
       "4       Message-ID: <30922949.1075863688243.JavaMail.e...  \n",
       "...                                                   ...  \n",
       "517396  Message-ID: <26807948.1075842029936.JavaMail.e...  \n",
       "517397  Message-ID: <25835861.1075842029959.JavaMail.e...  \n",
       "517398  Message-ID: <28979867.1075842029988.JavaMail.e...  \n",
       "517399  Message-ID: <22052556.1075842030013.JavaMail.e...  \n",
       "517400  Message-ID: <28618979.1075842030037.JavaMail.e...  \n",
       "\n",
       "[517401 rows x 2 columns]"
      ]
     },
     "execution_count": 40,
     "metadata": {},
     "output_type": "execute_result"
    }
   ],
   "source": [
    "df_emails_data = pd.read_csv(\"../data/emails.csv\")\n",
    "df_emails_data"
   ]
  },
  {
   "cell_type": "code",
   "execution_count": null,
   "id": "e6d33ff9",
   "metadata": {},
   "outputs": [
    {
     "data": {
      "application/vnd.microsoft.datawrangler.viewer.v0+json": {
       "columns": [
        {
         "name": "index",
         "rawType": "int64",
         "type": "integer"
        },
        {
         "name": "file",
         "rawType": "object",
         "type": "string"
        },
        {
         "name": "message",
         "rawType": "object",
         "type": "string"
        }
       ],
       "ref": "0abe0c28-fcb4-4aff-9197-7bf8d951f02e",
       "rows": [
        [
         "98863",
         "ermis-f/inbox/169.",
         "Message-ID: <30559528.1075855169455.JavaMail.evans@thyme>\nDate: Tue, 18 Dec 2001 15:54:14 -0800 (PST)\nFrom: noreply@ccomad3.uu.commissioner.com\nTo: frank.ermis@enron.com\nSubject: Put up $5 to win $1 Million!\nMime-Version: 1.0\nContent-Type: text/plain; charset=ANSI_X3.4-1968\nContent-Transfer-Encoding: 7bit\nX-From: CBS SportsLine.com <noreply@ccomad3.uu.commissioner.com>\nX-To: Ermis, Frank </O=ENRON/OU=NA/CN=RECIPIENTS/CN=FERMIS>\nX-cc: \nX-bcc: \nX-Folder: \\Frank_Ermis_Jan2002_1\\Ermis, Frank\\Inbox\nX-Origin: Ermis-F\nX-FileName: fermis (Non-Privileged).pst\n\n\t\n\t\n \t CBS SportsLine.com <http://www.sportsline.com>\t  Fantasy Football 2001 <http://images.commissioner.com/images/ads/emails/elwayyell1.gif>\t\n \t \t\t\n \t Someone will win a millions dollars!\n\nDo you know football? Would you pay $5 to enter an office pool with a $1 Million grand prize? There are 3 weeks left in the pro football season and someone is GUARANTEED to win $1 Million in the Office Pool Challenge. There's still plenty of time left for you to win, so sign up today! <http://poolchallenge.fantasy.sportsline.com/?r=esfb1228_html>\n\nIf someone picks every game right in a week, that person is entered into a random drawing with everyone else who made \"perfect picks\" during the season. If no one makes \"perfect picks\" then the 17 weekly high-scorers are entered into a drawing for the $1 Million prize. With 3 weeks left, you still have 3 chances to make perfect picks or to be one of the weekly high scorers... maybe you'll win all weeks!\n\nSomeone is guaranteed to win $1 Million...why can't it be you? SIGN UP TODAY! <http://poolchallenge.fantasy.sportsline.com/?r=esfb1228_html> \t \t\n  <http://images.commissioner.com/images/ads/emails/elwayyell2.gif>\tFantasy Football only at cbs.sportsline.com <http://poolchallenge.fantasy.sportsline.com/?r=esfb1228_html>\t\n?\tGrand Prize: $1,000,000\n\n\t\n?\tFirst Place: $5,000\n\n\t\n?\tSecond Place: $2,500\n\n\t\n?\tThird Place: $1,000\n\n\t\n?\tFourth - Sixth Place: $500\n\n\t\n?\tWeekly Prize: $2,500 worth of electronics\t\n \t\nSign Up Today! <http://poolchallenge.fantasy.sportsline.com/?r=esfb1228_html> \n\n  <http://images.commissioner.com/images/ads/emails/opc.gif>\t\n\n \t\n Fantasy Sports for Real <http://images.commissioner.com/images/ads/emails/fantsportforreal.gif>\nThis message has been provided free of charge and free of obligation. If you prefer not to receive emails of this nature please respond to remove@commissioner.com <mailto:remove@commissioner.com>. Do not respond to this email directly. \n\n \t   <http://images.commissioner.com/images/ads/emails/banner.gif>\t \t\n\t"
        ],
        [
         "97422",
         "dorland-c/sent_items/339.",
         "Message-ID: <19680659.1075840418964.JavaMail.evans@thyme>\nDate: Mon, 10 Sep 2001 07:41:40 -0700 (PDT)\nFrom: chris.dorland@enron.com\nTo: carlos.torres@enron.com\nSubject: RE: Position and P&L\nMime-Version: 1.0\nContent-Type: text/plain; charset=us-ascii\nContent-Transfer-Encoding: 7bit\nX-From: Dorland, Chris </O=ENRON/OU=NA/CN=RECIPIENTS/CN=CDORLAN>\nX-To: Torres, Carlos </O=ENRON/OU=NA/CN=RECIPIENTS/CN=CTORRES>\nX-cc: \nX-bcc: \nX-Folder: \\ExMerge - Dorland, Chris\\Sent Items\nX-Origin: DORLAND-C\nX-FileName: chris dorland 6-26-02.PST\n\nOct Sumas trades\n \nSold 50000 mm/d to Lambie (0.24)\nBought 5000 mm/d from Chad (0.245) EOL\n \nI also bought 15000 mm/d from Chad today on EOL.\n \nChris\n\n-----Original Message----- \nFrom: Torres, Carlos \nSent: Mon 9/10/2001 9:35 AM \nTo: Dorland, Chris \nCc: \nSubject: RE: Position and P&L\n\n\n\nNo worries amd I will make sure your book is clean and ready by the time you get here!\n \nCarlos\n -----Original Message-----\nFrom: Dorland, Chris \nSent: Monday, September 10, 2001 8:30 AM\nTo: Torres, Carlos\nSubject: RE: Position and P&L\n\n\nCarlos\n \nThanx for the pos report. Would you mind sending it to me each morning? Also, can you make sure that they have all of the deals (other than the few I have done) transferred out of my book by the end of the week. I talked to Brian? and he said he would look after it but can you make sure it happens.\n \nThanx,\n \nChris \n\n-----Original Message----- \nFrom: Torres, Carlos \nSent: Mon 9/10/2001 9:13 AM \nTo: Dorland, Chris \nCc: \nSubject: Position and P&L\n\n\n\n<<Report_0907.xls>> \n\nCarlos Torres \nEnron Canada Corporation \n403-974-6918 "
        ],
        [
         "448345",
         "solberg-g/deleted_items/19.",
         "Message-ID: <11771876.1075841563440.JavaMail.evans@thyme>\nDate: Sun, 3 Feb 2002 07:37:01 -0800 (PST)\nFrom: pete.davis@enron.com\nTo: pete.davis@enron.com\nSubject: Start Date: 2/3/02; HourAhead hour: 10;\nCc: albert.meyers@enron.com, bill.williams@enron.com, craig.dean@enron.com, \n\tgeir.solberg@enron.com, john.anderson@enron.com, \n\tmark.guzman@enron.com, michael.mier@enron.com, pete.davis@enron.com, \n\tryan.slinger@enron.com\nMime-Version: 1.0\nContent-Type: text/plain; charset=us-ascii\nContent-Transfer-Encoding: 7bit\nBcc: albert.meyers@enron.com, bill.williams@enron.com, craig.dean@enron.com, \n\tgeir.solberg@enron.com, john.anderson@enron.com, \n\tmark.guzman@enron.com, michael.mier@enron.com, pete.davis@enron.com, \n\tryan.slinger@enron.com\nX-From: Schedule Crawler<pete.davis@enron.com>@ENRON\nX-To: Davis, Pete </O=ENRON/OU=NA/CN=RECIPIENTS/CN=PDAVIS1>\nX-cc: Meyers, Albert </O=ENRON/OU=NA/CN=RECIPIENTS/CN=BMEYERS>, Williams III, Bill </O=ENRON/OU=NA/CN=RECIPIENTS/CN=BWILLIA5>, Dean, Craig </O=ENRON/OU=NA/CN=RECIPIENTS/CN=CDEAN2>, Solberg, Geir </O=ENRON/OU=NA/CN=RECIPIENTS/CN=GSOLBER>, Anderson, John </O=ENRON/OU=NA/CN=RECIPIENTS/CN=JANDERS3>, Guzman, Mark </O=ENRON/OU=NA/CN=RECIPIENTS/CN=MGUZMAN3>, Mier, Michael </O=ENRON/OU=NA/CN=RECIPIENTS/CN=MMIER>, Davis, Pete </O=ENRON/OU=NA/CN=RECIPIENTS/CN=PDAVIS1>, Slinger, Ryan </O=ENRON/OU=NA/CN=RECIPIENTS/CN=RSLINGER>\nX-bcc: \nX-Folder: \\ExMerge - Solberg, Geir\\Deleted Items\nX-Origin: SOLBERG-G\nX-FileName: geir solberg 6-26-02.PST\n\n\n\nStart Date: 2/3/02; HourAhead hour: 10;  No ancillary schedules awarded.  No variances detected.\n\n    LOG MESSAGES:\n\nPARSING FILE -->> O:\\Portland\\WestDesk\\California Scheduling\\ISO Final Schedules\\2002020310.txt"
        ],
        [
         "54646",
         "cuilla-m/deleted_items/188.",
         "Message-ID: <12518766.1075853090439.JavaMail.evans@thyme>\nDate: Thu, 25 Oct 2001 07:56:32 -0700 (PDT)\nFrom: bryant@cheatsheets.net\nTo: cheatsheets@yahoogroups.com\nSubject: [Footballguys] Update # 138  10-25 Week 7 Cheatsheets\nMime-Version: 1.0\nContent-Type: text/plain; charset=us-ascii\nContent-Transfer-Encoding: 7bit\nX-From: Joe Bryant <bryant@cheatsheets.net>\nX-To: Cheatsheets Mailing Yahoo <cheatsheets@yahoogroups.com>\nX-cc: \nX-bcc: \nX-Folder: \\MCUILLA (Non-Privileged)\\Cuilla, Martin\\Deleted Items\nX-Origin: Cuilla-M\nX-FileName: MCUILLA (Non-Privileged).pst\n\nHi Folks,\n\nAs always, you can find our latest cheatsheets online here\nhttp://www.footballguys.com/week7cs.htm\n\nBest of luck this week and we hope all the bounces go your way.\n\nJoe & David   \n\n\n/**/**/**/**/**/**/**/**/**/**/**/**/**/**/**/**/\n\n\nQuarterbacks: \n\n1. Warner, StL \n2. Manning, Ind \n3. Garcia, SF \n4. McNabb, Phi \n5. Culpepper, Min \n6. Johnson, TB \n7. Griese, Den (Prob) \n8. Gannon, Oak \n9. Green, KC \n10. Brooks, NO \n11. Batch, Det \n12. Flutie, SD \n13. Weinke, Car (Prob) \n14. Plummer, Ari \n15. Grbac, Bal (Ques) \n16. Miller, Chi \n17. Testaverde, NYJ \n18. Collins, NYG \n19. Brady, NE \n20. McNair, Ten (Ques) \n21. Kitna, Cin \n22. Fiedler, Mia \n23. Johnson, Buf \n24. Stewart, Pit \n25. Brunell, Jac \n\n\nRunning Backs: \n\n1. James, Ind \n2. Tomlinson, SD \n3. Martin, NYJ \n4. Williams, NO \n5. Canidate, StL \n6. Dillon, Cin \n7. Holmes, KC \n8. Alexander, Sea \n9. Bettis, Pit \n10. Pittman, Ari \n11. Smith, Mia (Prob) \n12. Garner, Oak \n13. Thomas, Chi (Prob) \n14. Smith, Dal \n15. George, Ten \n16. Dunn, TB (Ques) \n17. Davis, Was \n18. Smith, NE \n19. Barber, NYG \n20. Hearst, SF \n21. Huntley, Car \n22. Henry, Buf \n23. Chapman, Min \n24. Anderson, Den \n25. Stewart, Det (Ques) \n26. Dayne, NYG \n27. Allen, Bal (Ques) \n28. Staley, Phi (Prob) \n29. Mack, Jac \n30. Buckhalter, Phi \n31. Gary, Den \n32. Alstott, TB \n33. Jones, Ari \n34. Richardson, KC \n35. Brookins, Bal (Prob) \n36. Centers, Buf \n37. Anderson, NYJ \n38. Allen, Chi \n39. Barlow, SF \n40. Zereoue, Pit \n41. Warren, Det \n42. Hambrick, Dal \n43. Kleinsasser, Min \n44. McAllister, NO \n45. Faulk, NE \n\n\nWide Receivers: \n\n1.  Harrison, Ind \n2.  Owens, SF \n3.  Smith, Den (Prob) \n4.  Boston, Ari \n5.  Brown, Oak \n6.  Bruce, StL \n7.  Moss, Min (Prob) \n8.  Holt, StL \n9.  Morton, Det \n10.  Smith, Jac \n11.  Alexander, KC \n12.  Booker, Chi \n13.  Carter, Min \n14.  Brown, NE \n15.  Johnson, TB (Ques) \n16.  Horn, NO \n17.  Muhammad, Car \n18.  Ismail, Bal (Prob) \n19.  Thrash, Phi \n20.  Coles, NYJ \n21.  Toomer, NYG \n22.  Moulds, Buf \n23.  Graham, SD \n24.  Jackson, Sea \n25.  Stokes, SF \n26.  Rice, Oak \n27.  Pinkston, Phi (Ques) \n28.  Warrick, Cin \n29.  Scott, Cin \n30.  Taylor, Bal \n31.  Gadsden, Mia \n32.  Ward, Pit (Prob) \n33.  Jackson, NO \n34.  Galloway, Dal (Ques) \n35.  Glenn, NE (Ques) \n36.  Conway, SD \n37.  Ismail, Dal \n38.  McCardell, Jac \n39.  Price, Buf \n40.  Hakim, StL \n41.  Gardner, Was \n42.  Dyson, Ten \n43.  Thomas, KC (Prob) \n44.  Kennison, Den \n45.  McKnight, Mia \n46.  Sanders, Ari \n47.  Connell, NO \n48.  Hayes, Car \n49.  Hilliard, NYG \n50.  Westbrook, Was \n\n\nTight Ends: \n\n1. Gonzalez, KC \n2. Walls, Car \n3. Sharpe, Bal (Prob) \n4. Becht, NYJ \n5. Lewis, Phi \n6. Wycheck, Ten \n7. Chamberlain, Min \n8. Cleeland, NO \n9. Jones, SD (Ques) \n10. Pollard, Ind \n11. Sloan, Det \n12. Riemersma, Buf \n13. Moore, TB \n14. Clark, Den \n15. Conwell, StL \n16. Brady, Jac \n17. McGee, Cin \n18. Hardy, Ari \n19. Dilger, Ind \n20. Carswell, Den \n21. Kinney, Ten \n22. Williams, Oak \n23. Wiggins, NE \n24. Jones, Jac (Ques) \n25. Fauria, Sea \n\n\nKickers: \n\n1. Wilkins, StL \n2. Elam, Den \n3. Richey, SD \n4. Gramatica, TB \n5. Akers, Phi \n6. Stover, Bal (Prob) \n7. Janikowski, Oak \n8. Vanderjagt, Ind \n9. Carney, NO \n10. Peterson, KC \n11. Brown, Pit \n12. Rackers, Cin \n13. Mare, Mia \n14. Andersen, NYG \n15. Peterson, KC \n16. Nedney, Ten \n17. Hollis, Jac \n18. Hanson, Det \n19. Kasay, Car \n20. Cortez, SF \n21. Edinger, Chi \n22. Hall, NYJ \n23. Gramatica, Ari \n24. Vinatieri, NE \n25. Lindell, Sea \n\n\nDefenses: \n\n1. Baltimore \n2. San Diego \n3. Pittsburgh \n4. Miami \n5. Philadelphia \n6. Tennessee \n7. Tampa Bay \n8. Chicago \n9. New York Giants \n10. St. Louis \n11. New Orleans \n12. Oakland \n13. Denver \n14. Jacksonville \n15. Seattle \n16. Kansas City \n17. Carolina \n18. Minnesota \n19. Arizona \n20. Buffalo \n21. New York Jets \n22. Indianapolis \n23. New England \n24. Cincinnati \n25. San Francisco \n\n\nDefensive Lineman: \n\n1. S. Rogers DET \n2. M. Strahan NYG \n3. W. Sapp TB \n4. C. Hovan MIN \n5. M. Wiley SD \n6. J. Taylor MIA \n7. L. Glover NO \n8. M. McCrary BAL (Prob) \n9. K. Lang WAS (Prob) \n10. H. Douglas PHI \n11. J. Johnson NO (Prob) \n12. T. Brackens JAX \n13. R. Porcher DET (Ques) \n14. T. Sawyer MIN \n15. J. Smith CIN \n16. A. Pleasant NE \n17. J. Abraham NYJ \n18. T. Bryant OAK \n19. J. Kearse TEN \n20. C. Griffin NYG \n21. M. Rucker CAR \n22. T. Pryce DEN \n23. L. Little STL \n24. D. Howard NO \n25. B. Hamilton NE \n26. J. Parella SD \n27. K. Holmes NYG \n28. C. Eaton SEA \n29. D. Ransom KC \n30. D. Gardener MIA \n31. P. Daniels CHI \n32. K. Carter TEN \n33. R. Johnson SD \n34. A. McFarland TB \n35. K. Von Oelhoffen PIT (Prob) \n36. C. Bratzke IND (Ques) \n\n\nLinebackers: \n\n1. K. Mitchell WAS \n2. D. Edwards KC \n3. E. Holmes PIT \n4. K. Mitchell NO \n5. M. Jones NYJ \n6. G. Biekert OAK \n7. A. Wilson DEN \n8. J. Farrior NYJ \n9. B. Urlacher CHI \n10. K. Bell PIT \n11. Z. Thomas MIA \n12. D. Nguyen DAL \n13. T. Spikes CIN \n14. L. Kirkland SEA \n15. J. Trotter PHI \n16. L. Arrington WAS \n17. J. Mobley DEN \n18. K. Hardy JAX \n19. R. Fredrickson ARI \n20. A. Simmons SEA \n21. L. Fletcher STL \n22. R. Lewis BAL \n23. D. Smith SF (Prob) \n24. C. Claiborne DET \n25. J. Foreman BUF \n26. D. Brooks TB (Prob) \n27. B. Cox NE \n28. D. Wells CAR \n29. M. Peterson IND \n30. H. Nickerson JAX \n31. B. Spoon BUF \n32. D. Coakley DAL \n33. J. Armstead NYG \n34. M. Barrow NYG \n35. B. Green DET \n36. R. Phifer NE \n37. L. Towns CAR \n38. C. Brown SEA \n39. C. Clemons NO (Ques) \n40. K. Wong MIN \n41. R. McKinnon ARI \n42. R. Morris IND \n43. M. Patton KC \n44. M. Lewis NYJ \n45. W. Holdman CHI \n46. M. Fields STL \n47. T. Johnson NE \n48. R. Godfrey TEN (Ques) \n\n\nDefensive Backs: \n\n1. R. Harrison SD (Prob) \n2. L. MIlloy NE \n3. M. Minter CAR \n4. D. Woodson DAL \n5. E. Brown DEN \n6. S. Shade WAS \n7. C. Cota IND \n8. S. Knight NO \n9. J. Woods KC \n10. D. Robinson NYJ \n11. R. Woodson BAL \n12. J. Webster SF \n13. M. Coleman NYJ \n14. K. Mathis STL \n15. R. Rice DET \n16. C. Scott PIT \n17. O. Smith NE \n18. S. Williams NYG \n19. T. Parrish CHI \n20. R. McNeil SD \n21. M. McCree JAX \n22. W. Bartee KC \n23. A. Williams STL \n24. R. Tongue SEA \n25. R.W. McQuarters CHI (Prob) \n26. Z. Bronson SF \n27. H. Jones MIN \n28. K. Lassiter ARI \n29. M. Roman CIN \n30. D. Washington PIT \n31. D. O'Neal DEN \n32. E. Kelly MIN \n33. J. Lynch TB \n34. A. Archuleta STL \n35. D. Terrell WAS \n36. R. Beckett SD \n\n\n/**/**/**/**/**/**/**/**/**/**/**/**/**/**/**/**/\n\nBryant Analytics, Inc.   All Rights Reserved 1999-2001\n\n\n\nTo unsubscribe from this group, send an email to:\ncheatsheets-unsubscribe@egroups.com\n\n \n\nYour use of Yahoo! Groups is subject to http://docs.yahoo.com/info/terms/ \n"
        ],
        [
         "45510",
         "campbell-l/notes_inbox/605.",
         "Message-ID: <29528344.1075857924287.JavaMail.evans@thyme>\nDate: Sun, 13 May 2001 12:33:00 -0700 (PDT)\nFrom: enron.announcements@enron.com\nTo: all.houston@enron.com\nSubject: Remote control your air-conditioner and heater\nMime-Version: 1.0\nContent-Type: text/plain; charset=us-ascii\nContent-Transfer-Encoding: 7bit\nX-From: Enron Announcements\nX-To: All Enron Houston\nX-cc: \nX-bcc: \nX-Folder: \\Larry_Campbell_Jun2001\\Notes Folders\\Notes inbox\nX-Origin: Campbell-L\nX-FileName: lcampbel.nsf\n\nNewPower to offer another pilot program to Houston employees\n\n\nFree remote energy management solution helps you to manage rising energy \nbills.\nNewPower is launching a revolutionary technology pilot to the first 500 \npeople to sign up in the Houston area.  The NewPower Connections Remote \nEnergy Management Solution is a pilot program designed to give consumers \ncontrol of their thermostat via the Internet.  The program will allow \nthermostats to be adjusted from anywhere, with any Internet-enabled device, \nincluding computers, web-enabled cell phones, palm OS devices, or pocket \nPCs.  Sears Home Central will install and service the Remote Energy \nManagement Solution at no charge throughout the duration of the pilot \nprogram.  For a typical household, the three-month pilot could result in up \nto 10 percent to 15 percent utility bill savings, based on personal usage and \nthe size of your home.  \n\n\nBe among the first to participate absolutely free.\nEnrollment with the NewPower Connections Remote Energy Management Solution \npilot program starts May 14 and continues through the end of the month.  For \nmore information about this offer, visit NewPower's table located in the \nPlaza of the Enron Building near the down escalator from 11:00 a.m. to 2 p.m. \nduring the week of May 14.  To become a pilot participant you need only to be \na homeowner in the Houston area and have Internet access.  You do not even \nhave to be a NewPower electricity customer to participate.  For more \ninformation about NewPower Connections, send an e-mail to \nconnections@newpower.com.\n\n\nDisclaimers:\nAny contract for goods or services that is entered into by an Enron employee \nwith respect to the NewPower program shall be solely between NewPower and \nsuch employee.  Enron assumes no obligation on behalf of NewPower and makes \nno representations, warranties, or guaranties with respect to NewPower, any \ngoods or services offered or provided by NewPower.  Home.Enron.com"
        ],
        [
         "23198",
         "beck-s/all_documents/245.",
         "Message-ID: <1900174.1075849817238.JavaMail.evans@thyme>\nDate: Mon, 22 Jan 2001 03:52:00 -0800 (PST)\nFrom: louise.kitchen@enron.com\nTo: nicki.daw@enron.com\nSubject: Re: Business Cards\nCc: sally.beck@enron.com\nMime-Version: 1.0\nContent-Type: text/plain; charset=us-ascii\nContent-Transfer-Encoding: 7bit\nBcc: sally.beck@enron.com\nX-From: Louise Kitchen\nX-To: Nicki Daw\nX-cc: Sally Beck\nX-bcc: \nX-Folder: \\Sally_Beck_Nov2001\\Notes Folders\\All documents\nX-Origin: BECK-S\nX-FileName: sbeck.nsf\n\nEveryone should be using Enron Net Works LLC in Sally's group from 1.1.2001.\n\nThanks\n\n\n\n\nNicki Daw@ENRON\n01/22/2001 10:51 AM\nTo: Louise Kitchen/HOU/ECT@ECT\ncc:  \n\nSubject: Business Cards\n\nLouise,\n\nI don't think I have seen you this year - Happy New Year!\n\nI have been asked what company name should be put on the business cards of \nsome of Sally Beck's group.  I have been telling most people to stick with \nthey organisation names e.g. Enron North America or Enron South America, \nrather than Enron Americas/Enron Wholesale Services.  Do you want everybody \nto use Enron Net Works, or should the trading support groups use their \nbusiness unit names ENA, EGM, EIM?\n\nSee you soon.\n\nNicki\n\nP.S.  Mark gave me a voucher for Urban Retreat for Christmas, which I am very \npleased with.  Sue's jealous, she got crystal!\n\n"
        ],
        [
         "296071",
         "love-p/sent/630.",
         "Message-ID: <18740567.1075858281582.JavaMail.evans@thyme>\nDate: Wed, 28 Feb 2001 08:28:00 -0800 (PST)\nFrom: phillip.love@enron.com\nTo: jackson.logan@enron.com\nSubject: Re: A MUST HAVE!!!!\nMime-Version: 1.0\nContent-Type: text/plain; charset=us-ascii\nContent-Transfer-Encoding: 7bit\nX-From: Phillip M Love\nX-To: Jackson Logan\nX-cc: \nX-bcc: \nX-Folder: \\Phillip_Love_Jun2001\\Notes Folders\\Sent\nX-Origin: Love-P\nX-FileName: plove.nsf\n\njust a little out of my price range.\nPL"
        ],
        [
         "425421",
         "shackleton-s/notes_inbox/634.",
         "Message-ID: <12438241.1075844479845.JavaMail.evans@thyme>\nDate: Tue, 17 Oct 2000 09:51:00 -0700 (PDT)\nFrom: cindy.buckley@enron.com\nTo: sara.shackleton@enron.com\nSubject: Re: U.K. arranger for ENA and ECT Investments, Inc.\nMime-Version: 1.0\nContent-Type: text/plain; charset=us-ascii\nContent-Transfer-Encoding: 7bit\nX-From: Cindy Buckley\nX-To: Sara Shackleton\nX-cc: \nX-bcc: \nX-Folder: \\Sara_Shackleton_Dec2000_June2001_1\\Notes Folders\\Notes inbox\nX-Origin: SHACKLETON-S\nX-FileName: sshackle.nsf\n\nHi Sara\n\nI'm not sure what you mean by signature block but if you mean who are the \ndirectors that can sign they are:\n\n1 Michael Brown;\n2 Fernley Dyson;\n3 Mark Evans.\n\nRegards"
        ],
        [
         "117489",
         "fossum-d/discussion_threads/233.",
         "Message-ID: <8616949.1075842459289.JavaMail.evans@thyme>\nDate: Thu, 13 Jul 2000 05:18:00 -0700 (PDT)\nFrom: drew.fossum@enron.com\nTo: bill.votaw@enron.com, william.gang@enron.com\nSubject: Pueblo\nCc: steven.harris@enron.com, kevin.hyatt@enron.com\nMime-Version: 1.0\nContent-Type: text/plain; charset=us-ascii\nContent-Transfer-Encoding: 7bit\nBcc: steven.harris@enron.com, kevin.hyatt@enron.com\nX-From: Drew Fossum\nX-To: Bill Votaw, William Gang\nX-cc: Steven Harris, Kevin Hyatt\nX-bcc: \nX-Folder: \\Drew_Fossum_Dec2000_June2001_1\\Notes Folders\\Discussion threads\nX-Origin: FOSSUM-D\nX-FileName: dfossum.nsf\n\nSorry, I neglected to forward this to you earlier.   You've gotta give these \nguys credit for being tenacious!  I'll keep you posted on any meaningful \ndevelopments after their meeting with DOE on the 25th.  Thanks for your \npatience.  DF \n---------------------- Forwarded by Drew Fossum/ET&S/Enron on 07/13/2000 \n12:15 PM ---------------------------\n   \n\t\n\t\n\tFrom:  Drew Fossum                           07/10/2000 02:39 PM\n\t\n\nTo: Steven Harris/ET&S/Enron@Enron, Kevin Hyatt/ET&S/Enron@Enron, Lorraine \nLindberg/ET&S/Enron@ENRON\ncc:  \n\nSubject: Pueblo\n\n Just got an update on the project that won't go away.  Dennis has a meeting \nlined up with DOE decisionmakers on the 25th.  He is going to pitch the \nproject as an approximately 100 mw power plant, to be owned by (read \n\"financed by\") DOE, with the gas pipeline owned by Dennis and\\or third \nparties (read \"Enron\"?).  Dennis has run economics that show the DOE will get \na more than 10% cost savings on the project compared to current PNM rates, \neven assuming a fairly high gas transport cost because of the smaller gas \nload.  How did he do it?  Very easy:  they ran the power plant economics \nusing about a $2.00 gas cost instead of current, real world prices.   Dennis' \nargument is going to be:  \"I'll take the risk on building the pipeline and \nthe power plant at a capped cost, and then sell the power plant to you.\"  \n\"You take the risk on gas cost:  if gas cost tracks the 18-24 month average, \nyou will realize your 10% cost savings, but if current fuel costs continue or \nescalate, you lose.\"    Either way, your reliability improves and you kick \nPNM in the shins.\"  Dennis and Tino apparently think they can sell DOE on \nthis.  By the way, their current story on Richardson is that he won't resign, \nand won't be forced out by the administration because that would create even \nmore publicity.  You'll love this:  they think Richardson is even more likely \nto sign off on the deal now because his chances of being nominated for VP or \ncabinet are dead and he now has nothing to lose in DC.  They think his real \nangle is now to bring home the bacon to New Mexico and then run for governor \nout there!!  Apparently the rank and file out in the home state think he got \nhosed and made a scapegoat unfairly.  \n I've asked  Lorna Brennan to pull some historical San Juan prices together \nto give to Tino to confirm whether his $2 price is wacky.  Other than that, I \njust told Tino that we are potentially interested in the pipeline part of the \nproject if the risks and rewards make sense, and that EE&CC might be \ninterested in the design/build on all of it.  He said he'd get back to me \nafter the 25th meeting and tell me whether the project is undead.  DF    \n"
        ],
        [
         "489601",
         "townsend-j/deleted_items/121.",
         "Message-ID: <32522681.1075861724920.JavaMail.evans@thyme>\nDate: Tue, 13 Nov 2001 22:00:00 -0800 (PST)\nFrom: infopost@duke-energy.com\nTo: infopost@duke-energy.com\nSubject: TE Capacity for length restricted\nMime-Version: 1.0\nContent-Type: text/plain; charset=us-ascii\nContent-Transfer-Encoding: 7bit\nX-From: infopost@duke-energy.com@ENRON\nX-To: infopost@duke-energy.com\nX-cc: \nX-bcc: \nX-Folder: \\JTOWNSE (Non-Privileged)\\Townsend, Judy\\Deleted Items\nX-Origin: Townsend-J\nX-FileName: JTOWNSE (Non-Privileged).pst\n\nNovember 14, 2001\n\nWeather forecasts would indicate low demand conditions through the\nThanksgiving Holiday's.  TEXAS EASTERN TRANSMISSION (TE) is facing high\nline pack levels and full storage.  Thus the pipe has severely\nrestricted ability to absorb due-shipper gas.  Effective immediately,\nand continuing through the end of the month, TE is requiring that:\n     -    All shippers ensure their physical receipts do not exceed  physical\n       deliveries.\n     -    Receipt operators are expected to not flow above scheduled volumes.\n     -    Delivery meters are expected to take all gas scheduled.\n     -    Any customer who is long should take immediate action to resolve\n       due-shipper positions.\n\nNo due-pipeline makeup gas may be scheduled. OBA parties should ensure\nthat physical takes match scheduled nominations. Due-shipper makeup gas\nmay be scheduled through your Operations Account Manager.  These\nrestrictions are expected to be in effect until further notice.\n\nPlease contact your Operations Account Manager if you have any\nquestions.\n\n\n\n*******************************************************************\n\nNOTE:\n\nDuke Energy Gas Transmission respects your online time and privacy.\nYou have received this email because you elected to subscribe. To\nunsubscribe, login to the E-mail Notification Subscription page at\nhttp://www.link.duke-energy.com/script2/Notification.asp\nuncheck the appropriate checkbox, and click the Submit button."
        ],
        [
         "184927",
         "jones-t/all_documents/4289.",
         "Message-ID: <4942863.1075847018011.JavaMail.evans@thyme>\nDate: Fri, 6 Oct 2000 10:27:00 -0700 (PDT)\nFrom: enron.announcements@enron.com\nTo: all.downtown@enron.com\nSubject: United HealthCare Contracting Update\nMime-Version: 1.0\nContent-Type: text/plain; charset=us-ascii\nContent-Transfer-Encoding: 7bit\nX-From: Enron Announcements\nX-To: All Enron Downtown\nX-cc: \nX-bcc: \nX-Folder: \\Tanya_Jones_Dec2000\\Notes Folders\\All documents\nX-Origin: JONES-T\nX-FileName: tjones.nsf\n\nTO: Houston Area Employees Participating in Domestic Medical Plan Benefits\n\nFROM: Enron Human Resources\n\n\nWe are pleased to pass along to you the fact that United HealthCare (UHC) and \nMemorial Herman Health Systems (MHHS) reached agreement on a long-term \ncontract.   There will be no disruption in terms of accessing network \nservices from the hospital system or those providers who were scheduled to be \nterminated.  Employees currently electing UHC will receive a confirming \nletter shortly from UHC.\n\nAs mentioned in our earlier memo, it is our understanding that Cigna has also \nbeen contacted by MHHS and are now in contract negotiations. \n\nOpen Enrollment packages are in the mail and you should consider the above \nfacts when making your decision on your medical election.\n\n "
        ],
        [
         "464247",
         "symes-k/all_documents/2417.",
         "Message-ID: <21744293.1075841672619.JavaMail.evans@thyme>\nDate: Mon, 12 Mar 2001 08:04:00 -0800 (PST)\nFrom: kerri.thompson@enron.com\nTo: kate.symes@enron.com\nSubject: apb checkout\nMime-Version: 1.0\nContent-Type: text/plain; charset=us-ascii\nContent-Transfer-Encoding: 7bit\nX-From: Kerri Thompson\nX-To: Kate Symes\nX-cc: \nX-bcc: \nX-Folder: \\kate symes 6-27-02\\Notes Folders\\All documents\nX-Origin: SYMES-K\nX-FileName: kate symes 6-27-02.nsf\n\n547298, broker is not showing\n"
        ],
        [
         "324375",
         "may-l/inbox/132.",
         "Message-ID: <871367.1075841193439.JavaMail.evans@thyme>\nDate: Tue, 8 Jan 2002 06:26:20 -0800 (PST)\nFrom: carrfuturesenergy@carrfut.com\nTo: rvujtech@carrfut.com\nSubject: Daily energy letter 1/8\nMime-Version: 1.0\nContent-Type: text/plain; charset=ANSI_X3.4-1968\nContent-Transfer-Encoding: 7bit\nX-From: CarrFuturesEnergy@carrfut.com@ENRON\nX-To: rvujtech@carrfut.com\nX-cc: \nX-bcc: \nX-Folder: \\ExMerge - May, Larry\\Inbox\nX-Origin: MAY-L\nX-FileName: larry may 6-26-02.PST\n\nThe information contained herein is based on sources that we believe to be\nreliable, but we do not represent that it is accurate or complete.  Nothing\ncontained herein should be considered as an offer to sell or a solicitation\nof an offer to buy any financial instruments discussed herein.  Any\nopinions expressed herein are solely those of the author.  As such, they\nmay differ in material respects from those of, or expressed or published by\non behalf of Carr Futures or its officers, directors, employees or\naffiliates.  ? 2001 Carr Futures\n\n\nThe charts are now available on the web by clicking on the hot link(s)\ncontained in this email. If for any reason you are unable to receive the\ncharts via the web, please contact me via email and I will email the charts\nto you as attachments.\n\n\n\n\nDaily Energy Letter\nhttp://www.carrfut.com/research/Energy1/Energy-Letter1-8-02.pdf\n"
        ],
        [
         "29821",
         "beck-s/moscoso__mike/6.",
         "Message-ID: <15075995.1075855881770.JavaMail.evans@thyme>\nDate: Mon, 17 Apr 2000 06:27:00 -0700 (PDT)\nFrom: michael.moscoso@enron.com\nTo: sally.beck@enron.com\nSubject: Re: Position in Risk Controls\nMime-Version: 1.0\nContent-Type: text/plain; charset=us-ascii\nContent-Transfer-Encoding: 7bit\nX-From: Michael E Moscoso\nX-To: Sally Beck\nX-cc: \nX-bcc: \nX-Folder: \\Sally_Beck_Dec2000\\Notes Folders\\Moscoso, mike\nX-Origin: Beck-S\nX-FileName: sbeck.nsf\n\nSally,\n\nThis is the reply from Kevin Sweeney regarding our inquiry for a London \nemployee to fill our Liquids position in my group.\n\nMike\n---------------------- Forwarded by Michael E Moscoso/HOU/ECT on 04/17/2000 \n01:20 PM ---------------------------\n\n\nKevin Sweeney\n04/14/2000 01:53 PM\nTo: Michael E Moscoso/HOU/ECT@ECT\ncc: Tani Nath/LON/ECT@ECT, Scott Earnest/HOU/ECT@ECT, Tim \nPoullain-Patterson/LON/ECT@ECT \nSubject: Re: Position in Risk Controls  \n\nMike,\n\nThe Global Products team met yesterday to discussing current staffing \nissues.  We are going to be short London risk people with some of the current \nchanges that are taking place within the Global Products groups and really \nwouldn't be able to consider someone until later this year maybe late Q4.\n\nPlease let me know if I can be of further assistance.\n\nKevin\n\n\n   \n\tEnron Capital & Trade Resources Corp.\n\t\n\tFrom:  Michael E Moscoso                           04/14/2000 08:10 AM\n\t\n\nTo: Kevin Sweeney/HOU/ECT@ECT\ncc:  \nSubject: Re: Position in Risk Controls  \n\nKevin,\n\nAny thoughts at this point?\n\nMike\n\n\n\nKevin Sweeney\n04/12/2000 01:21 PM\nTo: Michael E Moscoso/HOU/ECT@ECT\ncc: Scott Earnest/HOU/ECT@ECT, Bjorn Hagelmann/HOU/ECT@ECT, Fernley \nDyson/LON/ECT@ECT \nSubject: Re: Position in Risk Controls  \n\nMike,\n\nScott Earnest, Tani Nath, Tim Poullain-Patterson, and myself are having a \ndiscussion around staffing tomorrow, and will discuss your proposal as a part \nof that.\n\nI will let you know our thoughts post that meeting.\n\nKevin\n\n\n\n\n\n\n"
        ],
        [
         "259847",
         "kitchen-l/_americas/press/50.",
         "Message-ID: <21716589.1075840893625.JavaMail.evans@thyme>\nDate: Mon, 11 Jun 2001 09:51:00 -0700 (PDT)\nFrom: enron.cuttings@enron.com\nTo: jackie.gentle@enron.com, andrew.morrison@enron.com, stu.staley@enron.com, \n\ttom.kearney@enron.com, george.mcclellan@enron.com, \n\triaz.rizvi@enron.com, candace.parker@enron.com, \n\tpaul.dawson@enron.com, samuel.grossman@enron.com, \n\tjohn.moran@enron.com, peter.bradley@enron.com, jez.peters@enron.com, \n\telizabeth.mccarthy@enron.com, tiffany.cochran@enron.com, \n\tkatrina.bensadon@enron.com, sven.becker@enron.com, \n\tfiona.grant@enron.com, alvaro.garcia@enron.com, \n\tchristopher.harris@enron.com, delphine.massart@enron.com, \n\tlouise.kitchen@enron.com, john.sherriff@enron.com, \n\tmark.palmer@enron.com, joe.gold@enron.com, amita.gosalia@enron.com, \n\tmarcello.romano@enron.com, rahil.jafry@enron.com, \n\trichard.lewis@enron.com, michael.brown@enron.com, \n\tdavid.forster@enron.com, angela.connelly@enron.com, \n\tpaul.goddard@enron.com, kal.shah@enron.com, julie.green@enron.com, \n\tdave.samuels@enron.com, bruce.garner@enron.com, \n\talex.parsons@enron.com, enron.group@enron.com, eol.europe@enron.com\nSubject: Coal trade...\nMime-Version: 1.0\nContent-Type: text/plain; charset=us-ascii\nContent-Transfer-Encoding: 7bit\nX-From: Enron Media Cuttings <Enron Media Cuttings@ENRON>\nX-To: Jackie Gentle <Jackie Gentle/LON/ECT@ECT>, Andrew Morrison <Andrew Morrison/Enron@EUEnronXGate>, Stu Staley <Stu Staley/Enron@EUEnronXGate>, Tom Kearney <Tom Kearney/ENRON@EUEnronXGate>, George McClellan <George McClellan/Enron@EnronXGate>, Riaz Rizvi <Riaz Rizvi/Enron@EUEnronXGate>, Candace Parker <Candace Parker/Enron@EUEnronXGate>, Paul Dawson <Paul Dawson/Enron@EUEnronXGate>, Samuel Grossman <Samuel Grossman/Enron@EUEnronXGate>, John Moran <John Moran/ENRON@EUEnronXGate>, Peter Bradley <Peter Bradley/Enron@EUEnronXGate>, Jez Peters <Jez Peters/ENRON_DEVELOPMENT@ENRON_DEVELOPMENT>, Elizabeth McCarthy <Elizabeth McCarthy/LON/ECT@ECT>, Tiffany Cochran <Tiffany Cochran/Enron@EUEnronXGate>, Katrina Bensadon <Katrina Bensadon/LON/ECT@ECT>, Sven Becker <Sven Becker/Enron@EUEnronXgate>, Fiona Grant <Fiona Grant/Enron@EUEnronXGate>, Alvaro Garcia <Alvaro Garcia/Enron@EUEnronXGate>, Christopher Harris <Christopher Harris/Enron@EUEnronXGate>, Delphine Massart <Delphine Massart/Enron@EUEnronXGate>, Louise Kitchen <Louise Kitchen/HOU/ECT@ECT>, John Sherriff <John Sherriff/ENRON@EUEnronXGate>, Mark Palmer <Mark Palmer/Corp/Enron@ENRON>, Joe Gold <Joe Gold/Enron@EUEnronXGate>, Amita Gosalia <Amita Gosalia/Enron@EUEnronXGate>, Marcello Romano <Marcello Romano/Enron Communications@Enron Communications>, Rahil Jafry <Rahil Jafry/ENRON@enronXgate>, Richard Lewis <Richard Lewis/Enron@EUEnronXGate>, Michael Brown <Michael Brown/Enron@EUEnronXGate>, David Forster <David Forster/Enron@EnronXGate>, Angela Connelly <Angela Connelly/LON/ECT@ECT>, Paul Goddard <Paul Goddard/Enron@EUEnronXGate>, Kal Shah <Kal Shah/Enron@EnronXGate>, Julie Green <Julie Green/Enron@EUEnronXGate>, Dave Samuels <Dave Samuels/Enron@EnronXGate>, Bruce Garner <Bruce Garner/Enron@EUEnronXGate>, Alex Parsons <Alex Parsons/Enron@EUEnronXGate>, Enron London - EOL Product Control Group <Enron London - EOL Product Control Group/LON/ECT@ECT>, EOL Marketing Europe <EOL Marketing Europe@ECT>\nX-cc: \nX-bcc: \nX-Folder: \\ExMerge - Kitchen, Louise\\'Americas\\Press\nX-Origin: KITCHEN-L\nX-FileName: louise kitchen 2-7-02.pst\n\nPlease find attached the following article/s:\n'E-markets stage quiet revolution in coal trade' - Lloyds List\n\n \nKind Regards,\nKuldeep Chana"
        ],
        [
         "435863",
         "shapiro-r/california/28.",
         "Message-ID: <6877080.1075844220643.JavaMail.evans@thyme>\nDate: Mon, 14 May 2001 05:08:00 -0700 (PDT)\nFrom: jeff.dasovich@enron.com\nTo: skean@enron.com, richard.shapiro@enron.com, james.steffes@enron.com, \n\talan.comnes@enron.com, karen.denne@enron.com, \n\tjanel.guerrero@enron.com, susan.mara@enron.com, \n\tsandra.mccubbin@enron.com, paul.kaufman@enron.com, \n\tsusan.landwehr@enron.com, linda.robertson@enron.com, \n\ttom.briggs@enron.com, joe.hartsoe@enron.com, leslie.lawner@enron.com, \n\tharry.kingerski@enron.com, jennifer.thome@enron.com, \n\trobert.neustaedter@enron.com\nSubject: Backgrounder for McNealy\nMime-Version: 1.0\nContent-Type: text/plain; charset=us-ascii\nContent-Transfer-Encoding: 7bit\nX-From: Jeff Dasovich\nX-To: skean@enron.com, Richard Shapiro, James D Steffes, Alan Comnes, Karen Denne, Janel Guerrero, Susan J Mara, Sandra McCubbin, Paul Kaufman, Susan M Landwehr, Linda Robertson, Tom Briggs, Joe Hartsoe, Leslie Lawner, Harry Kingerski, Jennifer Thome, Robert Neustaedter\nX-cc: \nX-bcc: \nX-Folder: \\Richard_Shapiro_June2001\\Notes Folders\\California\nX-Origin: SHAPIRO-R\nX-FileName: rshapiro.nsf\n\nGreetings:\nAs folks heard, Ken Lay met with some California CEOs last Friday back East.  \nAs a result of that meeting, McNealy, CEO for Sun, asked for some background \nand more detail on what Ken Lay proposed as a solution for California during \nhis meetings in California over the past couple of weeks.  McNealy and others \nhave expressed a willingness to make phone calls to policymakers, etc. to try \nto advance the ball.\n\nI pulled this together very hastily on Friday and take responsibility for all \nerrors, omissions, ramblings, etc.  Wanted to distribute, however, to make \nsure that all had the info that is getting distributed.  Know folks are busy, \nbut this will likely get distributed to other CEOs this week, so any \ncomments, suggestions, etc. about how to improve are welcome and appreciated.\n\nBest,\nJeff\n"
        ],
        [
         "157856",
         "hain-m/all_documents/390.",
         "Message-ID: <32886092.1075860342632.JavaMail.evans@thyme>\nDate: Wed, 28 Mar 2001 06:32:00 -0800 (PST)\nFrom: lysa.akin@enron.com\nTo: jeffn@subutil.com\nSubject: RE: WP-02 Data Responses SL-SP:001 through SL-SP:006\nMime-Version: 1.0\nContent-Type: text/plain; charset=us-ascii\nContent-Transfer-Encoding: 7bit\nX-From: Lysa Akin\nX-To: NELSON Jeff <jeffn@subutil.com> @ ENRON\nX-cc: \nX-bcc: \nX-Folder: \\Mary_Hain_Aug2000_Jul2001\\Notes Folders\\All documents\nX-Origin: Hain-M\nX-FileName: mary-hain.nsf\n\nMary Hain has resigned her position with Enron.  Please remove her from all \nyour mail lists.\n\nThank you.\n\nLysa Akin\nGov't Affairs - Sr. Admin. Ass't.\n\n\n\n   \n\tEnron Capital & Trade Resources Corp.\n\t\n\tFrom:  NELSON Jeff <jeffn@subutil.com>                           03/21/2001 \n04:20 PM\n\t\n\nTo: \"'Westenberg, Sarah A - LP-7'\" <sawestenberg@bpa.gov>, \n\"'abuckley@wutc.wa.gov'\" <abuckley@wutc.wa.gov>, \"'alan@epud.org'\" \n<alan@epud.org>, \"'ali.rodol@ci.seattle.wa.us'\" <ali.rodol@ci.seattle.wa.us>, \n\"'archive-power-ratecase@bpa.gov'\" <archive-power-ratecase@bpa.gov>, \n\"'aw_turner@pgn.com'\" <aw_turner@pgn.com>, \"'BASSL@sce.com'\" <BASSL@sce.com>, \n\"'bessex@cowlitzpud.org'\" <bessex@cowlitzpud.org>, \"'bferranti@mbllp.com'\" \n<bferranti@mbllp.com>, \"'bpadiscovery@merkellaw.com'\" \n<bpadiscovery@merkellaw.com>, \"'ccopatrny@e-z.net'\" <ccopatrny@e-z.net>, \n\"'crow@millernash.com'\" <crow@millernash.com>, \"'cub@teleport.com'\" \n<cub@teleport.com>, \"'cwagers@dcpud.org'\" <cwagers@dcpud.org>, \n\"'dan.meek@usa.net'\" <dan.meek@usa.net>, \"'darcy@tonkon.com'\" \n<darcy@tonkon.com>, \"'darkills@popud.com'\" <darkills@popud.com>, \n\"'dbkinnard@pplmt.com'\" <dbkinnard@pplmt.com>, \"'dfaulk@puget.com'\" \n<dfaulk@puget.com>, \"'discoveryparalegal@bpa.gov'\" \n<discoveryparalegal@bpa.gov>, \"'dldorrell@stoel.com'\" <dldorrell@stoel.com>, \n\"'dmacgregor@morganlewis.com'\" <dmacgregor@morganlewis.com>, \n\"'doney@doneylaw.com'\" <doney@doneylaw.com>, \"'doug_brawley@pngc.com'\" \n<doug_brawley@pngc.com>, \"'dparrish@prmllp.com'\" <dparrish@prmllp.com>, \n\"'dws@keywaycorp.com'\" <dws@keywaycorp.com>, \"'eauverde@hotmail.com'\" \n<eauverde@hotmail.com>, \"'eboyd@ppcpdx.org'\" <eboyd@ppcpdx.org>, \n\"'efinklea@energyadvocates.com'\" <efinklea@energyadvocates.com>, \n\"'elisaCKF@aol.com'\" <elisaCKF@aol.com>, \"'EnerGlaw@aol.com'\" \n<EnerGlaw@aol.com>, \"'Eric.Larson@oremetwahchang.com'\" \n<Eric.Larson@oremetwahchang.com>, \"'erick_johnson@pngc.com'\" \n<erick_johnson@pngc.com>, \"'ghuhta@cowlitzpud.org'\" <ghuhta@cowlitzpud.org>, \n\"'huse@eesconsulting.com'\" <huse@eesconsulting.com>, \"'ias@dvclaw.com'\" \n<ias@dvclaw.com>, \"'jack.speer@alcoa.com'\" <jack.speer@alcoa.com>, \n\"'jacksonc@ida.net'\" <jacksonc@ida.net>, \"'janet.prewitt@state.or.us'\" \n<janet.prewitt@state.or.us>, \"'jdeason@chbh.com'\" <jdeason@chbh.com>, \n\"'jhartso@enron.com'\" <jhartso@enron.com>, \"'JLH@mc-power.com'\" \n<JLH@mc-power.com>, \"'johk@critfc.org'\" <johk@critfc.org>, \n\"'john.yanov@eweb.eugene.or.us'\" <john.yanov@eweb.eugene.or.us>, \n\"'johncameron@dwt.com'\" <johncameron@dwt.com>, \"'jolynnr@mresearch.com'\" \n<jolynnr@mresearch.com>, \"'jpw@duncanallen.com'\" <jpw@duncanallen.com>, \n\"'jrb_ora@televar.com'\" <jrb_ora@televar.com>, \"'jsaven@pacifier.com'\" \n<jsaven@pacifier.com>, \"'jschlect@avistacorp.com'\" <jschlect@avistacorp.com>, \n\"'kevin.clark@ci.seattle.wa.us'\" <kevin.clark@ci.seattle.wa.us>, \n\"'kknitte@gcpud.org'\" <kknitte@gcpud.org>, \"'kmoxness@cencoast.com'\" \n<kmoxness@cencoast.com>, \"'kpom@mail.pacifier.com'\" <kpom@mail.pacifier.com>, \n\"'kyle@ppcpdx.org'\" <kyle@ppcpdx.org>, \"'lawyer@teleport.com'\" \n<lawyer@teleport.com>, \"'Lhamilton@avistaenergy.com'\" \n<Lhamilton@avistaenergy.com>, \"'lpeters@pacifier.com'\" \n<lpeters@pacifier.com>, \"'lwolv@worldaccessnet.com'\" \n<lwolv@worldaccessnet.com>, \"'lyn_williams@pgn.com'\" <lyn_williams@pgn.com>, \n\"'marc.hellman@state.or.us'\" <marc.hellman@state.or.us>, \n\"'marss@perkinscoie.com'\" <marss@perkinscoie.com>, \"'matts1@atg.wa.gov'\" \n<matts1@atg.wa.gov>, \"'mershanlaw@aol.com'\" <mershanlaw@aol.com>, \n\"'mhain@ect.enron.com'\" <mhain@ect.enron.com>, \"'michaelearly@earthlink.net'\" \n<michaelearly@earthlink.net>, \"'mike.macdougall@powerex.com'\" \n<mike.macdougall@powerex.com>, \"'mmetzler@ci.tacoma.wa.us'\" \n<mmetzler@ci.tacoma.wa.us>, \"'mschaff@worldnet.att.net'\" \n<mschaff@worldnet.att.net>, \"'mthomas@mtpower.com'\" <mthomas@mtpower.com>, \n\"'Paul@KinergyLLC.com'\" <Paul@KinergyLLC.com>, \"'pete.forsyth@kaiseral.com'\" \n<pete.forsyth@kaiseral.com>, \"'pete@ashland.or.us'\" <pete@ashland.or.us>, \n\"'peter@richardsonandoleary.com'\" <peter@richardsonandoleary.com>, \n\"'pfox@bracepatt.com'\" <pfox@bracepatt.com>, \"'pljacklin@stoel.com'\" \n<pljacklin@stoel.com>, \"'pmurphy@mbllp.com'\" <pmurphy@mbllp.com>, \n\"'pnichols@idahopower.com'\" <pnichols@idahopower.com>, \n\"'pobenchain@idahopower.com'\" <pobenchain@idahopower.com>, \n\"'pspi@dynegy.com'\" <pspi@dynegy.com>, \"'pvickery@tpud.org'\" \n<pvickery@tpud.org>, \"'rachel@rnp.org'\" <rachel@rnp.org>, \n\"'ratecase@pngc.com'\" <ratecase@pngc.com>, \"'rates@ppcpdx.org'\" \n<rates@ppcpdx.org>, \"'rbstrong@painehamblen.com'\" \n<rbstrong@painehamblen.com>, \"'rdb@keywaycorp.com'\" <rdb@keywaycorp.com>, \n\"'rfoiani@gcpud.org'\" <rfoiani@gcpud.org>, \"'rkindley@schwabe.com'\" \n<rkindley@schwabe.com>, \"'rle@givenspursley.com'\" <rle@givenspursley.com>, \n\"'rpierce@avistaenergy.com'\" <rpierce@avistaenergy.com>, \n\"'scott.brattebo@pacificorp.com'\" <scott.brattebo@pacificorp.com>, \n\"'seligman@teleport.com'\" <seligman@teleport.com>, \"'simonf@atg.wa.gov'\" \n<simonf@atg.wa.gov>, \"'sjohnsto@wutc.wa.gov'\" <sjohnsto@wutc.wa.gov>, \n\"'skaravit@ci.tacoma.wa.us'\" <skaravit@ci.tacoma.wa.us>, \n\"'stephens@eslerstephens.com'\" <stephens@eslerstephens.com>, \n\"'steve@nwenergy.org'\" <steve@nwenergy.org>, \"'tdeboer@painehamblen.com'\" \n<tdeboer@painehamblen.com>, \"'terrym@millcreeklaw.com'\" \n<terrym@millcreeklaw.com>, \"'tgrim@chbh.com'\" <tgrim@chbh.com>, \n\"'townsend@chbh.com'\" <townsend@chbh.com>, \"'tracigrundon@dwt.com'\" \n<tracigrundon@dwt.com>, \"'tstevenson@ci.burbank.ca.us'\" \n<tstevenson@ci.burbank.ca.us>, \"'weavertr@yakima-wa.com'\" \n<weavertr@yakima-wa.com>, \"'wmgt3@montana.com'\" <wmgt3@montana.com>\ncc: \"'kevin.clark@ci.seattle.wa.us'\" <kevin.clark@ci.seattle.wa.us>, \n\"'Lovell, Byrne - KP-7'\" <belovell@bpa.gov> \nSubject: RE: WP-02 Data Responses SL-SP:001 through SL-SP:006\n\n\n Attached are SUB's Data Responses to Bonneville Power\nAdministration's Data Request.  These files are sent electronically via\ne-mail due to potential problems with the Discovery site.\n\n>  <<Data Response BPA_SP_009.doc>>  <<Data_Response_BPA_SP_009.xls>>\n> <<IOU04.xls>>\n>\nJeff Nelson\nResource Projects Manager\nSpringfield Utility Board\nPhone: (541) 744 - 3779\nFax: (541) 744 - 2263\ne-mail: jeffn@subutil.com\n\n\n - Data Response BPA_SP_009.doc\n - Data_Response_BPA_SP_009.xls\n - IOU04.xls\n\n"
        ],
        [
         "237785",
         "kean-s/attachments/39.",
         "Message-ID: <13655849.1075850993736.JavaMail.evans@thyme>\nDate: Fri, 8 Jun 2001 10:55:00 -0700 (PDT)\nFrom: ursula.brenner@enron.com\nTo: dnomen@eurelectric.org\nSubject: Eurelectric Conference\nCc: steven.kean@enron.com, peter.styles@enron.com, maureen.mcvicker@enron.com\nMime-Version: 1.0\nContent-Type: text/plain; charset=us-ascii\nContent-Transfer-Encoding: 7bit\nBcc: steven.kean@enron.com, peter.styles@enron.com, maureen.mcvicker@enron.com\nX-From: Ursula Brenner\nX-To: DNOMEN@EURELECTRIC.ORG\nX-cc: Steven J Kean, Peter Styles, Maureen McVicker\nX-bcc: \nX-Folder: \\Steven_Kean_Oct2001_2\\Notes Folders\\Attachments\nX-Origin: KEAN-S\nX-FileName: skean.nsf\n\nThis is the presentation Mr. Kean will be using on June 12, 2001.  He will \nhave a CD with him as a backup.\n\n\n\nRegards,\n\nUrsula Brenner\nENRON CORP.\n+1(713)345-3787\n\nThis message (including any attachments) contains confidential information \nintended for a specific individual and purpose, and is protected by law. If \nyou are not the intended recipient, you should delete this message and are \nhereby notified that any disclosure, copying, or distribution of this \nmessage, or the taking of any action based on it, is strictly prohibited. "
        ],
        [
         "129834",
         "germany-c/discussion_threads/1623.",
         "Message-ID: <20703532.1075853768486.JavaMail.evans@thyme>\nDate: Wed, 30 Aug 2000 01:33:00 -0700 (PDT)\nFrom: chris.germany@enron.com\nTo: robert.allwein@enron.com, joann.collins@enron.com, kyle.lilly@enron.com, \n\tcrystal.hyde@enron.com\nSubject: CGAS Storage\nMime-Version: 1.0\nContent-Type: text/plain; charset=us-ascii\nContent-Transfer-Encoding: 7bit\nX-From: Chris Germany\nX-To: Robert Allwein, Joann Collins, Kyle R Lilly, Crystal Hyde\nX-cc: \nX-bcc: \nX-Folder: \\Chris_Germany_Dec2000\\Notes Folders\\Discussion threads\nX-Origin: Germany-C\nX-FileName: cgerman.nsf\n\nDick wants to over inject as much as possible for the holiday weekend.  I \nadjusted the deal tickets in Sitara.  We will inject 31,463 on the 1st, and \n31454 on the 2nd-5th.  Our injections drop to 25172 on the 6th.\n\n"
        ],
        [
         "346258",
         "nemec-g/all_documents/4865.",
         "Message-ID: <18279440.1075842759594.JavaMail.evans@thyme>\nDate: Wed, 7 Feb 2001 16:30:00 -0800 (PST)\nFrom: enron.announcements@enron.com\nTo: all_ena_egm_eim@enron.com\nSubject: EnTouch Newsletter\nMime-Version: 1.0\nContent-Type: text/plain; charset=ANSI_X3.4-1968\nContent-Transfer-Encoding: quoted-printable\nX-From: Enron Announcements\nX-To: All_ENA_EGM_EIM\nX-cc: \nX-bcc: \nX-Folder: \\Gerald_Nemec_Dec2000_June2001_2\\Notes Folders\\All documents\nX-Origin: NEMEC-G\nX-FileName: gnemec.nsf\n\nBUSINESS HIGHLIGHTS\n\nEast Power Group\nThe East Power Group is off to another strong start in 2001.  The realignme=\nnt=20\nof the group into regional business units with joint trading, mid-marketing=\n,=20\nand origination operations has proven to be a catalyst for deal flow,=20\nproducing both a high volume of transactions and high value.  More=20\ntransactions were executed in January than any month last year, including o=\nne=20\ndeal that will bring tremendous strategic value to Enron as well.\n\nExecuted in January, was the purchase of two 35 MW coal-fired cogeneration=\n=20\nfacilities located in southeastern North Carolina.  ENA will supply steam t=\no=20\nthe industrial host, Alamac Knit Fabrics, and will sell power into the=20\nmerchant market.  The plants are inside Carolina Power & Light's service=20\nterritory, which is connected to AEP, Virginia Power, Duke, SCEG and SCPSA.=\n =20\nThese plants are the first purely merchant facilities in North Carolina. =\n=20\nThis deal exemplifies how Enron leverages its talent in that originators fr=\nom=20\nthe East Power Group and Industrial Markets Group joined forces to bring th=\nis=20\ndeal to execution.  They also leveraged the Global Markets group to manage=\n=20\nthe coal supply and emissions issues.\n\nProspects going forward look promising as a number of high value transactio=\nns=20\nare in the pipeline.  Of particular note is The Sandhill Power Project, a 1=\n80=20\nMW peaking facility currently under construction in Austin.  The facility i=\ns=20\nscheduled to come online in June, in time for the advent of deregulation in=\n=20\nTexas. The joint venture, between EPMI and Austin Energy, will provide both=\n=20\ntrading groups with a highly flexible asset, enabling them to access=20\nreal-time volatility while hedging existing obligations.\n\nAdditionally, the Fort Pierce (Florida) City Council voted 5 to 0 in favor =\nof=20\nEnron's proposal to repower the Ft. Pierce Utilities Authority's (FPUA)=20\nexisting power plant in that city.  Our proposed 180 MW facility will be us=\ned=20\nto produce steam to power the H.D. King facility at approximately 20 percen=\nt=20\nless cost than FPUA can produce it.  According to FPUA officials, this=20\nreduction in cost may lead to reduced rates for their ratepayers.  The=20\nplanned in-service date is summer of 2002.\n\nIndustrial Markets\nEIM Fundamental Analysis Group grows again!  The Fundamental Analysis Group=\n=20\ncontinues to expand its staff and capabilities.  They will be introducing y=\nou=20\nto specific activities in the weeks to come, but would like to introduce yo=\nu=20\nto the new staff members who have joined in the past month. =20\n\nOn the paper/pulp/lumber side, Bin Wang is responsible for supporting the=\n=20\nlumber group; Adnan Patel will be assisting with newsprint and structured=\n=20\ntransactions. =20\n\nFor the steel group, Doug Parsons and Yana Kristal are providing market=20\nanalysis and econometric/price forecasting support.  Our latest recruit,=20\nDavid Maxwell, is assisting with the evaluation of a customer management=20\nsystem and developing analytical databases for all product lines. A visible=\n=20\nenhancement to the group=01,s operations has been the Intranet web site, wh=\nich=20\nhas been in development for the past three months.  The site will be=20\ntransferred to a production server by the end of February.  The site contai=\nns=20\nall types of industry, market, regulatory, analytical, and financial=20\ninformation for deal analysis. =20\n\nAnother major development is the adoption of a customer information=20\nmanagement system.  EIM is currently evaluating Siebel Systems, a software=\n=20\nprovider that has developed this type of information tool for EES.\n\n\nIN THE NEWS\n\nEnron has been named the \"Most Innovative Company in America\" for the sixth=\n=20\nconsecutive year by Fortune.  That's right -- six years in a row.   We=20\ncontinue to be recognized by our industry peers and other corporate=20\nexecutives and securities analysts as the company that sets the standard fo=\nr=20\ndoing business in the new economy.  Congratulations to all of you for makin=\ng=20\nit happen.\n\nEnron placed No. 18 overall on Fortune's list of the nation's 535 \"Most=20\nAdmired Companies,\" up from No. 36 last year.  We also were ranked among th=\ne=20\ntop five in \"Quality of Management,\" \"Quality of Products/Services\" and=20\n\"Employee Talent.\" =20\n\nThis issue of Fortune is now available in airports and will be on newsstand=\ns=20\nMonday, Feb. 12.  For more information, go to www.fortune.com.\n\n\nNUGGETS & NOTES\n\n\"The revolution has begun......\"  - Ted Bland, Director/HR Recruiting=20\nOperations\n\n\"We trade propane and propane accessories\" - Adam Gross, Director/Global LP=\nG=20\nTrading-EGM\n\n\nWELCOME\nNew Hires\nEGM - Robert Beyer, Jacqueline Darrah, Herbert Goodwin, Vera Ilyina, Tracy=\n=20\nJames, Christopher Mulcahy, LaBricia Seyrus\nENA - Tonya Dennis, Kathryn Sheppard, Bin Wang\n\n\nLEGAL STUFF\n\nThe information contained in this newsletter is confidential and proprietar=\ny=20\nto Enron Corp. and its subsidiaries.  It is intended for internal use only=\n=20\nand should not be disclosed."
        ],
        [
         "387781",
         "sager-e/notes_inbox/842.",
         "Message-ID: <31267940.1075859607427.JavaMail.evans@thyme>\nDate: Wed, 25 Apr 2001 13:07:00 -0700 (PDT)\nFrom: janice.moore@enron.com\nTo: elizabeth.sager@enron.com\nSubject: work inventory - this time it's attached\nMime-Version: 1.0\nContent-Type: text/plain; charset=us-ascii\nContent-Transfer-Encoding: 7bit\nX-From: Janice R Moore\nX-To: Elizabeth Sager\nX-cc: \nX-bcc: \nX-Folder: \\Elizabeth_Sager_Jun2001\\Notes Folders\\Notes inbox\nX-Origin: Sager-E\nX-FileName: esager.nsf\n\n\nRegards,\nJanice\n\nEB3861\nAssistant General Counsel, Enron North America Corp.\n713-853-1794 (Fax:  713-646-4842)\n----- Forwarded by Janice R Moore/HOU/ECT on 04/25/2001 08:06 PM -----\n\n\tJanice R Moore\n\t04/25/2001 08:06 PM\n\t\t \n\t\t To: Elizabeth Sager/HOU/ECT@ECT\n\t\t cc: \n\t\t Subject: work inventory\n\nThis is still very much a work in progress, but this is where things stand \ntonight.  The Atlantic City Electric EEI Master was executed this afternoon \n(and the Enron Corp. guarantee is completely negotiated, too) so that we can \nactually get all signed up w/ a confirm if we win the 300MW bid on Friday, so \nit's no longer on the list.\nLet me know if you'd like to discuss any of this.  I'm planning to leave all \nthe files in my office when I go, and to update the power contracts database \nw/ comments about outstanding issues as one of the last things I do next week \nbefore I go.\nRegards,\nJanice\n\nEB3861\nAssistant General Counsel, Enron North America Corp.\n713-853-1794 (Fax:  713-646-4842)"
        ],
        [
         "448411",
         "solberg-g/deleted_items/249.",
         "Message-ID: <16595168.1075841569294.JavaMail.evans@thyme>\nDate: Fri, 25 Jan 2002 08:56:33 -0800 (PST)\nFrom: pete.davis@enron.com\nTo: pete.davis@enron.com\nSubject: Schedule Crawler: HourAhead Failure\nCc: albert.meyers@enron.com, bill.williams@enron.com, craig.dean@enron.com, \n\tgeir.solberg@enron.com, john.anderson@enron.com, \n\tmark.guzman@enron.com, michael.mier@enron.com, pete.davis@enron.com, \n\tryan.slinger@enron.com\nMime-Version: 1.0\nContent-Type: text/plain; charset=us-ascii\nContent-Transfer-Encoding: 7bit\nBcc: albert.meyers@enron.com, bill.williams@enron.com, craig.dean@enron.com, \n\tgeir.solberg@enron.com, john.anderson@enron.com, \n\tmark.guzman@enron.com, michael.mier@enron.com, pete.davis@enron.com, \n\tryan.slinger@enron.com\nX-From: Schedule Crawler<pete.davis@enron.com>@ENRON\nX-To: Davis, Pete </O=ENRON/OU=NA/CN=RECIPIENTS/CN=PDAVIS1>\nX-cc: Meyers, Albert </O=ENRON/OU=NA/CN=RECIPIENTS/CN=BMEYERS>, Williams III, Bill </O=ENRON/OU=NA/CN=RECIPIENTS/CN=BWILLIA5>, Dean, Craig </O=ENRON/OU=NA/CN=RECIPIENTS/CN=CDEAN2>, Solberg, Geir </O=ENRON/OU=NA/CN=RECIPIENTS/CN=GSOLBER>, Anderson, John </O=ENRON/OU=NA/CN=RECIPIENTS/CN=JANDERS3>, Guzman, Mark </O=ENRON/OU=NA/CN=RECIPIENTS/CN=MGUZMAN3>, Mier, Michael </O=ENRON/OU=NA/CN=RECIPIENTS/CN=MMIER>, Davis, Pete </O=ENRON/OU=NA/CN=RECIPIENTS/CN=PDAVIS1>, Slinger, Ryan </O=ENRON/OU=NA/CN=RECIPIENTS/CN=RSLINGER>\nX-bcc: \nX-Folder: \\ExMerge - Solberg, Geir\\Deleted Items\nX-Origin: SOLBERG-G\nX-FileName: geir solberg 6-26-02.PST\n\n\n\nStart Date: 1/25/02; HourAhead hour: 11;  HourAhead schedule download failed. Manual intervention required."
        ],
        [
         "312871",
         "mann-k/discussion_threads/2889.",
         "Message-ID: <3871186.1075845823611.JavaMail.evans@thyme>\nDate: Fri, 16 Mar 2001 04:19:00 -0800 (PST)\nFrom: brian.barto@enron.com\nTo: ben.jacoby@enron.com, kay.mann@enron.com\nSubject: Blue Dog Performance on Liquid Fuel\nMime-Version: 1.0\nContent-Type: text/plain; charset=us-ascii\nContent-Transfer-Encoding: 7bit\nX-From: Brian D Barto\nX-To: Ben Jacoby, Kay Mann\nX-cc: \nX-bcc: \nX-Folder: \\Kay_Mann_June2001_2\\Notes Folders\\Discussion threads\nX-Origin: MANN-K\nX-FileName: kmann.nsf\n\nAttached is the Data Sheet forwarded to me by Chris Booth, and provided by \nGE's Jeff Darst for guaranteed liquid fuel performance on the second Blue Dog \ngas turbine.  Jeff Darst called today to remind me that he is running out of \ntime in the manufacturing process to make the duel fuel change without \nadditional impacts.\n\n\n"
        ],
        [
         "43947",
         "campbell-l/inbox/1411.",
         "Message-ID: <26623982.1075861841815.JavaMail.evans@thyme>\nDate: Tue, 6 Nov 2001 16:11:42 -0800 (PST)\nFrom: messenger@smartreminders.com\nTo: lcampbel@enron.com\nSubject: Protect your Pet with Healthy Pet Insurance\nMime-Version: 1.0\nContent-Type: text/plain; charset=us-ascii\nContent-Transfer-Encoding: quoted-printable\nX-From: Healthy Pet Insurance <messenger@smartreminders.com>@ENRON\nX-To: Larry Campbell <lcampbel@enron.com>\nX-cc: \nX-bcc: \nX-Folder: \\LCAMPBEL (Non-Privileged)\\Campbell, Larry F.\\Inbox\nX-Origin: Campbell-L\nX-FileName: LCAMPBEL (Non-Privileged).pst\n\n\n[IMAGE][IMAGE][IMAGE]=20\nDear  SmartReminders Member,\nCaring for your pet just got easier...CLICK HERE! =09  Looking for affordab=\nle health coverage for your cat or dog?     Healthy  Pet Insurance , underw=\nritten by a member company of AIG (American  International Group), allows p=\net owners to take the financial  considerations out of difficult veterinary=\n treatment  decisions.  Healthy Pet  Insurance  provides the following bene=\nfits:     Comprehensive coverage of many veterinary services for the treatm=\nent  of illness and injuries  Coverage for spaying, neutering, pet health m=\naintenance, vaccines  and many pre-existing conditions  Owners choice of ve=\nterinarian, no pre-authorization required  Monthly, quarterly, semi-annual =\nor annual premium payment options   $20 discount for insuring more than one=\n pet  One-time $100 annual deductible (most plans charge a per-visit  deduc=\ntible)  Reimbursement for 80 percent of all covered veterinary services   H=\nolistic, homeopathic, herbal and acupuncture coverage  Online claim forms a=\nnd customer service center  Call center support for questions regarding app=\nlying for coverage,  policy concerns, coverage issues, claim filing and mor=\ne      Healthy  Pet Insurance  offers 3 different levels of coverage: Basic=\n, Plus,  and Ultimate. All are designed for dogs between eight weeks and ei=\nght  years of age, and cats between eight weeks and ten years of age. Annua=\nl  policy premiums range from $90 to $484.  About the program underwriter: =\nHealthy Pet  Insurance  is underwritten by American International Group (AI=\nG); an  A++ rated insurance carrier. AIG is the leading U.S. - based intern=\national  insurance and financial service organization in the world and the =\nlargest  underwriter of commercial and industrial insurance. AIG maintains =\nthe  highest industry ratings for financial strength, stability and size.  =\nGet Healthy  Pet  Insurance >>  =09\n\n\n=20\n=20\n=20\n=20\n=20\n=20\n=20\n=20\n=20\n=20\n=20\n=20\n=20\n=20\n=20\n=20\n=20\n=20\n=20\n\nWe respect  your privacy and are a Certified Participant of the BBBOnLine\n Privacy Program.  To be removed from future offers,click  here.=20\nSmartReminders.com  is a permission based service. To unsubscribe click  he=\nre . "
        ],
        [
         "305224",
         "mann-k/all_documents/2461.",
         "Message-ID: <16277609.1075845635270.JavaMail.evans@thyme>\nDate: Fri, 8 Dec 2000 10:04:00 -0800 (PST)\nFrom: kay.mann@enron.com\nTo: ben.jacoby@enron.com\nSubject: \nMime-Version: 1.0\nContent-Type: text/plain; charset=us-ascii\nContent-Transfer-Encoding: 7bit\nX-From: Kay Mann\nX-To: Ben Jacoby\nX-cc: \nX-bcc: \nX-Folder: \\Kay_Mann_June2001_1\\Notes Folders\\All documents\nX-Origin: MANN-K\nX-FileName: kmann.nsf\n\nI left Dave Onuscheck a voice mail about the issues, and asked him to give me \na call."
        ],
        [
         "344276",
         "nemec-g/all_documents/1112.",
         "Message-ID: <9056496.1075842605463.JavaMail.evans@thyme>\nDate: Fri, 4 Aug 2000 08:34:00 -0700 (PDT)\nFrom: gerald.nemec@enron.com\nTo: eva.neufeld@enron.com\nSubject: NB Confid. Agreement\nCc: shonnie.daniel@enron.com\nMime-Version: 1.0\nContent-Type: text/plain; charset=us-ascii\nContent-Transfer-Encoding: 7bit\nBcc: shonnie.daniel@enron.com\nX-From: Gerald Nemec\nX-To: Eva Neufeld\nX-cc: Shonnie  Daniel\nX-bcc: \nX-Folder: \\Gerald_Nemec_Dec2000_June2001_1\\Notes Folders\\All documents\nX-Origin: NEMEC-G\nX-FileName: gnemec.nsf\n\nAttached is the agreement for printing on NBILP Letterhead.   The date is the \nsame as the original CA.   Let me know if you have any questions.  If we \ncould get this signed and faxed back today or first thing Monday that would \nbe great.  Sorry about the delay.  My fax # is (713) 646-3490.\n\n\n"
        ],
        [
         "63634",
         "dasovich-j/all_documents/395.",
         "Message-ID: <605486.1075842942383.JavaMail.evans@thyme>\nDate: Thu, 2 Mar 2000 04:28:00 -0800 (PST)\nFrom: ginger.dernehl@enron.com\nTo: us@enron.com\nSubject: Enron comments on Barton bill\nMime-Version: 1.0\nContent-Type: text/plain; charset=us-ascii\nContent-Transfer-Encoding: 7bit\nX-From: Ginger Dernehl\nX-To: US\nX-cc: \nX-bcc: \nX-Folder: \\Jeff_Dasovich_Dec2000\\Notes Folders\\All documents\nX-Origin: DASOVICH-J\nX-FileName: jdasovic.nsf\n\n---------------------- Forwarded by Ginger Dernehl/HOU/EES on 03/02/2000 \n12:27 PM ---------------------------\n\nAllison Navin@ENRON\n03/02/2000 09:32 AM\n\n\nTo: Ginger Dernehl/HOU/EES@EES\ncc: Cynthia Sandherr/Corp/Enron@ENRON \nSubject: Enron comments on Barton bill\n\nGinger - Attached are Enron's finalized comments on the Barton bill.  Would \nyou please forward to all the folks in Rick's group and include Steve Kean?  \nMany thanks.\n\n\n"
        ],
        [
         "400765",
         "schoolcraft-d/deleted_items/451.",
         "Message-ID: <30711486.1075860737933.JavaMail.evans@thyme>\nDate: Mon, 7 Jan 2002 08:17:07 -0800 (PST)\nFrom: darrell.schoolcraft@enron.com\nTo: dl-etsgascontrollers@enron.com\nSubject: FW: TW imbalances\nMime-Version: 1.0\nContent-Type: text/plain; charset=us-ascii\nContent-Transfer-Encoding: 7bit\nX-From: Schoolcraft, Darrell </O=ENRON/OU=NA/CN=RECIPIENTS/CN=DSCHOOL>\nX-To: DL-ETS Gas Controllers <DL-ETSGasControllers@ENRON.com>\nX-cc: \nX-bcc: \nX-Folder: \\Darrell_Schoolcraft_Mar2002\\Schoolcraft, Darrell\\Deleted Items\nX-Origin: Schoolcraft-D\nX-FileName: dschool (Non-Privileged).pst\n\n\n\n -----Original Message-----\nFrom: \tHanagriff, Richard  \nSent:\tFriday, January 04, 2002 8:10 PM\nTo:\tDL-ETS Gas Controllers\nSubject:\tTW imbalances\n\n "
        ],
        [
         "129337",
         "germany-c/discussion_threads/1142.",
         "Message-ID: <15573493.1075853757269.JavaMail.evans@thyme>\nDate: Tue, 2 May 2000 02:28:00 -0700 (PDT)\nFrom: joann.collins@enron.com\nTo: chris.germany@enron.com, dick.jenkins@enron.com, joan.veselack@enron.com, \n\trobert.allwein@enron.com\nSubject: STOI Overinjection for May 3rd\nMime-Version: 1.0\nContent-Type: text/plain; charset=us-ascii\nContent-Transfer-Encoding: 7bit\nX-From: Joann Collins\nX-To: Chris Germany, Dick Jenkins, Joan Veselack, Robert Allwein\nX-cc: \nX-bcc: \nX-Folder: \\Chris_Germany_Dec2000\\Notes Folders\\Discussion threads\nX-Origin: Germany-C\nX-FileName: cgerman.nsf\n\nRodney w/TCO gas control approved 52,000 overinjection for 5/3.\n\n\n\nthanks\njoann\n\n---------------------- Forwarded by Joann Collins/Corp/Enron on 05/02/2000 \n09:22 AM ---------------------------\n\n\nJoan Veselack\n05/01/2000 09:34 AM\nTo: Joann Collins/Corp/Enron@ENRON, Robert Allwein/HOU/ECT@ECT, Chris \nGermany/HOU/ECT@ECT\ncc:  \n\nSubject: STOI Overinjection for May 2nd\n\nSteve at TCO's Gas Control approved the 32,000 overinjection.\n\n\nTotal STOI Delivery for May 2nd is 80,000.\n\nThanks.\n\n\n"
        ],
        [
         "261281",
         "kitchen-l/sent_items/320.",
         "Message-ID: <23122750.1075840962973.JavaMail.evans@thyme>\nDate: Wed, 9 Jan 2002 07:57:54 -0800 (PST)\nFrom: louise.kitchen@enron.com\nTo: r..shepperd@enron.com\nSubject: RE: EWS Consolidation\nMime-Version: 1.0\nContent-Type: text/plain; charset=us-ascii\nContent-Transfer-Encoding: 7bit\nX-From: Kitchen, Louise </O=ENRON/OU=NA/CN=RECIPIENTS/CN=LKITCHEN>\nX-To: Shepperd, Tammy R. </O=ENRON/OU=NA/CN=RECIPIENTS/CN=Tsheppe>\nX-cc: \nX-bcc: \nX-Folder: \\ExMerge - Kitchen, Louise\\Sent Items\nX-Origin: KITCHEN-L\nX-FileName: louise kitchen 2-7-02.pst\n\nIts an IT security issue - ask Jenny or Bob what they think the plans are - it would be better if we were near peole.\n\n -----Original Message-----\nFrom: \tShepperd, Tammy R.  \nSent:\tWednesday, January 09, 2002 9:20 AM\nTo:\tKitchen, Louise\nSubject:\tFW: EWS Consolidation\n\nFYI\n\nKevin states that there is no near term conflict with estate and NETCO and is considering consolidating EWS estate on 3 & 4.  Please advise if you see issues related to  their plan.\n\nThanks.\n\n \n\n\n -----Original Message-----\nFrom: \tGolden, Kevin  \nSent:\tTuesday, January 08, 2002 2:49 PM\nTo:\tBubenko, Deborah; Duree, Janelle\nCc:\tLink, Kathy; Sustaita, Dolores; Marshall, Lucy; Pearce, Barry\nSubject:\tEWS Consolidation\n\nDeborah and Janelle,\n\nMr. Fallon has asked for an estimated per person cost for moves:\n\n1) within a building\n2) between the Enron Centers\n\nHe also assured me that questions regarding conflicts between the estate and NETCO operating out of the same building had been addressed, thus there should be no problem with EWS consolidating on ECS 3&4 in the near term.\n\nI also spoke with Rich DiMichele regarding the EBS move.  As we discussed, he obviously does not want to move EBS twice within ECN.  He is interested in bringing EBS over to ECS if wholesale will be here for any length of time.  Again, cost is obviously a concern, so the per person cost estimates you provide should facilitate this decision.  We can discuss this further at tomorrow's meeting.\n\nPlease provide me with copies of the marked up maps for ECS 3&4 as soon as possible so I can begin considering our options.  \n\nThanks,\n\nKevin\n\n   \n\nKevin M. Golden\nBusiness:  (713) 853-5238\nCellular:     (713) 569-9815"
        ],
        [
         "218442",
         "kaminski-v/discussion_threads/604.",
         "Message-ID: <7995492.1075856340171.JavaMail.evans@thyme>\nDate: Tue, 8 Aug 2000 02:39:00 -0700 (PDT)\nFrom: vince.kaminski@enron.com\nTo: shirley.crenshaw@enron.com\nSubject: Re: Thank you\nMime-Version: 1.0\nContent-Type: text/plain; charset=us-ascii\nContent-Transfer-Encoding: 7bit\nX-From: Vince J Kaminski\nX-To: Shirley Crenshaw\nX-cc: \nX-bcc: \nX-Folder: \\Vincent_Kaminski_Jun2001_2\\Notes Folders\\Discussion threads\nX-Origin: Kaminski-V\nX-FileName: vkamins.nsf\n\nShirley,\n\nPlease, fax the resume to  Raymond.\n\nVince\n\n---------------------- Forwarded by Vince J Kaminski/HOU/ECT on 08/08/2000 \n09:44 AM ---------------------------\n\n\nRaymond Yeow@ENRON_DEVELOPMENT\n08/07/2000 06:15 PM\nTo: Vince J Kaminski/HOU/ECT@ECT\ncc: Paul Quilkey/ENRON_DEVELOPMENT, Vince J Kaminski/HOU/ECT@ECT, Grant \nMasson/HOU/ECT@ECT \nSubject: Re: Thank you  \n\nDear Vince,\n\nIt was our privilege to have you here.\nPaul's wife had a baby yesterday, and Paul  will be back on Thursday. So \nmaybe item 3 can wait until Paul's return.\n\nAs for (2), yes - i will need a PS reader :o)\nAgain, let us check Paul's diary on his return before fixing a time for \nQuentin Kerr\n\n1 1. The resume you sent to me and Grant looks quite good.\nI think it makes sense to interview this person and we can help\nyou with a phone interview.\n\nIs this Simon ???\n\nThanks \nRaymond\n\n\n\n\n\nVince J Kaminski@ECT\n08/08/2000 06:30 AM\nTo: Paul Quilkey/ENRON_DEVELOPMENT@ENRON_DEVELOPMENT, Raymond \nYeow/ENRON_DEVELOPMENT@ENRON_DEVELOPMENT\ncc: Vince J Kaminski/HOU/ECT@ECT, Grant Masson/HOU/ECT@ECT \n\nSubject: Thank you\n\nPaul & Raymond,\n\nIt took more than a few days to catch up after I came back from Australia. \nThere  are few things I would like to bring up to your attention.\n\nFirst of all, I would like to thank you for your hospitality. I learned a lot\nabout the Australian markets and was greatly impressed with the\nquality of the people at the Sydney office.\n\n1. The resume you sent to me and Grant looks quite good.\nI think it makes sense to interview this person and we can help\nyou with a phone interview.\n\n2. I have received another resume that looks very promising. I am\nvery interested in this guy and would be ready to bring him over\nto the States  where we lack desperately technical talent.\nCan you help us by interviewing him in Sydney? \nThe main determination I need from you is whether he can\nfunction in a company like Enron. As any good academic\nhe sent his resume in a ps format and I shall fax you a copy in case\nyou don't have a PostScript reader on your system.\n\n3. Christian Werner does some really neat things on\nthe weather front. I would like to determine if he can help\nus to upgrade our systems. Can we bring him to Houston\nfor a week to discuss the weather forecasting  technology with  Mike \nRoberts and Joe Hrgovcic? I think that he could learn a lot\nfrom Mike and other weather guys here how we translate \nweather info into business-related information. I shall be glad to\nunderwrite the cost of this trip.\n\nVince\n\n\n\n\n"
        ],
        [
         "246575",
         "kean-s/discussion_threads/2892.",
         "Message-ID: <14332544.1075848157809.JavaMail.evans@thyme>\nDate: Tue, 3 Apr 2001 01:54:00 -0700 (PDT)\nFrom: janel.guerrero@enron.com\nTo: richard.shapiro@enron.com, james.steffes@enron.com, mark.palmer@enron.com, \n\tkaren.denne@enron.com, paul.kaufman@enron.com, susan.mara@enron.com, \n\tjeff.dasovich@enron.com, sandra.mccubbin@enron.com, bhansen@lhom.com, \n\thgovenar@govadv.com, sgovenar@govadv.com, \n\tksmith@kdscommunications.com, leslie.lawner@enron.com, \n\tsusan.landwehr@enron.com, harry.kingerski@enron.com, \n\tjennifer.thome@enron.com, rlichtenstein@marathon-com.com, \n\tjkradin@marathon-com.com, syamane@marathon-com.com, \n\trobert.neustaedter@enron.com, peggy.mahoney@enron.com, \n\teric.thode@enron.com, marty.sunde@enron.com, carol.moffett@enron.com\nSubject: Respondents to Ken Lay Direct Mail Pkg.\nCc: steven.kean@enron.com\nMime-Version: 1.0\nContent-Type: text/plain; charset=us-ascii\nContent-Transfer-Encoding: 7bit\nBcc: steven.kean@enron.com\nX-From: Janel Guerrero\nX-To: Richard Shapiro, James D Steffes, Mark Palmer, Karen Denne, Paul Kaufman, Susan J Mara, Jeff Dasovich, Sandra McCubbin, bhansen@lhom.com, hgovenar@govadv.com, sgovenar@govadv.com, Ksmith@kdscommunications.com, Leslie Lawner, Susan M Landwehr, Harry Kingerski, Jennifer Thome, rlichtenstein@marathon-com.com, jkradin@marathon-com.com, syamane@marathon-com.com, Robert Neustaedter, Peggy Mahoney, Eric Thode, Marty Sunde, Carol Moffett\nX-cc: Steven J Kean\nX-bcc: \nX-Folder: \\Steven_Kean_June2001_4\\Notes Folders\\Discussion threads\nX-Origin: KEAN-S\nX-FileName: skean.nsf\n\nThe following are CAL businesses who responded to Ken Lay's first direct mail \npackage.  These businesses responded by email and/or telephone.  All of the \nCEOs identified a point person within their respective organization whom we \nshould contact directly in order to coordinate. \nParamount Studios\nGap, Inc\nNorthrup Gruman\nAMD (SVMA)\nUS Borax\nCisco (SVMA)\nCommerce One\nRaley's\n\nThe following were not interested in working with us at this time\nCatholic Healthcare West\nIntuit\n\nNumber of hits to Enron's CAL business website dedicated to the energy crisis\nAs of April 2nd, our California page had been loaded 16 times from \nindividuals outside of Enron.  This site was created specifically for the CAL \nbusiness direct mail effort.  The 115 businesses who were sent the package \nwere the only entities that we promoted this site with. **if you are an enron \nemployee, it's okay to hit the site from within the Enron building.  We can \ndifferentiate between hits from inside and outside of Enron.  If you work for \nEnron outside of the EB in Houston.....please do not go to the site.  Our \nability to track hits will then be skewed.  Thanks.** "
        ],
        [
         "65910",
         "dasovich-j/all_documents/8724.",
         "Message-ID: <16413696.1075843342532.JavaMail.evans@thyme>\nDate: Tue, 30 Jan 2001 06:10:00 -0800 (PST)\nFrom: gkansagor@tr.com\nTo: cwall@tr.com\nSubject: TR's State NewsWire 01/30/01 P.M. Edition\nMime-Version: 1.0\nContent-Type: text/plain; charset=us-ascii\nContent-Transfer-Encoding: 7bit\nX-From: Gayle Kansagor <gkansagor@tr.com>\nX-To: Christy Wall <cwall@tr.com>\nX-cc: \nX-bcc: \nX-Folder: \\Jeff_Dasovich_June2001\\Notes Folders\\All documents\nX-Origin: DASOVICH-J\nX-FileName: jdasovic.nsf\n\nTelecommunications Reports presents . . . . . TR's State NewsWire\nJanuary 30, 2001 P.M. Edition\n\nSTATES\nCALIFORNIA -- Lawmaker reintroduces rural infrastructure grant bill\nTEXAS -- Consumers Union offers recommendations for the Legislature\nILLINOIS -- Electric company implements program to serve Internet hotels\n\nMISSISSIPPI -- UETA bill clears first hurdle\nVIRGINIA -- Committee approves E-911 finance bill\nN.Y. -- Police may have to report wireless phone involvement in accident\nreports\nIOWA -- Bill would require TTY telephone directory notation\nSOUTH DAKOTA -- Legislators take aim at drivers using cellphones\nMISSOURI -- Bill would require PSC to resolve disputes more quickly\nFLORIDA -- PSC says Turbo Code will improve service for TTY users\nNORTH CAROLINA -- Bill seeks to limit telemarketing hours\nD.C. -- PSC wants comment on proposed Verizon rate reductions\nNEVADA -- PUC schedules conference on Verizon DSL conditioning rates\nDISTRICT OF COLUMBIA -- AT&T opens data center in D.C.\n\nADVANCED SERVICES\nCALIFORNIA\nLawmaker reintroduces rural infrastructure grant bill\n\nAssemblywoman Virginia Strom-Martin (D., District 1) has introduced AB\n140 to establish a grant program to aid in constructing telecom\ninfrastructure.  Gov. Gray Davis (D.) vetoed an identical bill (AB 1825)\nsponsored by Strom-Martin last year, stating that the legislation had\nthe \"potential to hurt all high-cost areas of the state.\"  Davis added\nthat he was concerned the plan could raise telephone service rates for\nother rural ratepayers.  (10/3/00 a.m.)\n\nStrom-Martin's staff told TR they are working with the Public Utilities\nCommission to make the bill more \"palatable\" to the governor.  Under AB\n140, the funding for the infrastructure grant program would come from\nthe California High-Cost Fund-A Administrative Committee Fund, the\nHigh-Cost Fund-B Administrative Committee Fund, or both.\n\nAccording to the staff, Davis' understanding of AB 1825 was incorrect\nand explained that all the needs satisfied by both high-cost funds would\nbe met before the infrastructure grant program would receive funds.  The\nstaff added that the grant fund wouldn't deplete either high-cost fund.\n\nThe staff said they were considering turning the grant program into a\nmore confined pilot fund.\n\nFUTURE OF REGULATION\nTEXAS\nConsumers Union offers recommendations for the Legislature\n\nConsumers Union, Southwest Region Office, has drafted several issue\nrecommendations for the Texas Legislature regarding telecom deregulation\nand electronic transactions.  In its report to the Legislature,\nConsumers Union concluded that five years after the federal\nTelecommunications Act of 1996 and six years after passage of Texas' law\npromoting telecom competition, few companies have emerged as true\ncompetitors to the incumbents.\n\nConsumers Union said the Public Utility Commission's report on\ncompetition came to similar conclusions.  The group, however, disagreed\nwith the PUC's recommendations.  According to Consumers Union, several\nof the PUC's recommendations favored competitors over consumers.\n(1/12/01 p.m.)\n\nFor example, Consumers Union disagreed with the PUC's suggestion to lift\nthe current price cap and raise local phone rates.  Consumers Union\nquestioned whether it was good public policy to increase residential\nprices to help new market entrants earn more money.\n\nAdditionally, Consumers Union asked the Legislature not to lower long\ndistance access charges and permit telephone companies to make up for it\nby raising residential service prices.\n\nIn addressing electronic commerce issues, Consumers Union recommended\nthat the Legislature ensure the federal electronic signature protections\nare incorporated into the state Uniform Electronic Transactions Act.\nConsumes Union also requested that the Legislature not allow the\n\"flawed\" Uniform Computer Information Transactions Act to govern\ntransactions in Texas.\n\nINTERNET\nILLINOIS\nElectric company implements program to serve Internet hotels\n\nCommonwealth Edison Co. has filed a tariff with the state Commerce\nCommission that requires companies setting up Internet hotels to pay a\nrefundable installation charge.  ComEd will determine the amount of the\ncharge for each company through a formula.  The tariff isn't subject to\ncommission approval and goes into effect immediately.\n\nThe tariff implements an experimental program ComEd says will allow it\nto obtain data concerning the accuracy of customers' estimates of\nelectrical demand for Internet hotels, compared with actual service\nrequirements.  This and other data will help it provide service for\nother such uses in the future, ComEd said.\n\nAn ICC spokesman described the program as a \"prenuptial agreement\"\nbetween ComEd and Internet companies.  It will help ComEd determine\nwhether and how it can serving Internet hotels, which demand a\nsignificant amount of electricity, the spokesman told TR.\n\nFUTURE OF REGULATION\nMISSISSIPPI\nUETA bill clears first hurdle\n\nThe Senate Committee on Fees, Salaries, and Administration has passed a\nbill to enact the Uniform Electronic Transactions Act (UETA).  SB 2678,\nintroduced by Sen. Neely C. Carlton (D., District 22), has been referred\nto the Senate Committee on Appropriations.\n\nThe bill aims to facilitate e-commerce by giving electronic records and\nsignatures the same legal effect as their pen and paper counterparts.\n(1/19/01 p.m.)  In addition to enacting UETA, SB 2678 would repeal the\nsections of Mississippi Code that make up the Digital Signature Act of\n1997.\n\nWIRELESS\nVIRGINIA\nCommittee approves E-911 finance bill\n\nThe Senate Committee on Commerce and Labor has approved SB 1349 to\nexempt commercial mobile radio service (CMRS) customers from a $3\nspecial tax that localities with enhanced \"911\" service are authorized\nto assess on general telephone consumers.\n\nCMRS customers instead would have to pay a 75 cent monthly wireless\nE-911 surcharge into the state's Wireless E-911 Fund.  Localities would\nbe able to recover their public safety answering point costs from the\nfund.\n\nThe bill, sponsored by Senator Warren E. Barry (R., District 37), has\nbeen referred to the Finance Committee.  Its text is available at\nhttp://leg1.state.va.us/cgi-bin/legp504.exe?011+ful+SB1349.\n\nWIRELESS\nNEW YORK\nPolice may have to report wireless phone involvement in accident reports\n\nAssemblyman David S. Sidikman (D., District 13) has introduced AB 1838\nto require police to state in accident reports whether wireless phones\nwere present in the vehicles involved and whether they contributed to\nthe accident.  The bill has been referred to the Committee on\nTransportation.  Its text is available at\nhttp://assembly.state.ny.us/cgi-bin/showtext?billnum=A01838.\n\nCUSTOMER-AFFECTING\nIOWA\nBill would require TTY telephone directory notation\n\nRep. Michael Cormack (R., District 13) has introduced HF 120 to require\ntelephone directories to offer notations for text telephone (TTY)\nnumbers.  Directory providers would be able to satisfy this requirement\nby providing notation next to a listing to inform users that a number\nwas a TTY number.  Alternatively, directory providers could create a\nseparate section within the directory that listed all TTY numbers.  The\nseparate TTY reference section would be listed in the directory index.\n\nHF 120 has been referred to the House Committee on Commerce and\nRegulation.  Its text is available at\nhttp://www.legis.state.ia.us/GA/79GA/Legislation/HF/00100/HF00120/Current.html\n.\n\nWIRELESS\nSOUTH DAKOTA\nLegislators take aim at drivers using cellphones\n\nSen. Patricia de Hueck (R., District 24) and Rep. Gerald F. Lange (D.,\nDistrict 8) have introduced SB 207 to prohibit the use of hand-held\ncellphones, computers, facsimiles, and other portable or laptop devices\nwhile driving.  Drivers using hands-free devices would have to exercise\n\"a high degree of caution\" while driving.\n\nSB 207 provides exemptions for (1) persons operating an emergency\nvehicle, (2) persons who have moved their vehicle to the shoulder, (3)\npersons involved in emergency situations, and (4) persons who notice\nanother driver who appears to be under the influence of drugs or\nalcohol.\n\nThe measure has been referred to the Senate Transportation Committee.\n\nFUTURE OF REGULATION\nMISSOURI\nBill would require PSC to resolve disputes more quickly\n\nRep. Gary Burton (R., District 128) has introduced HB 521 to require the\nPublic Service Commission to create expedited dispute resolution\nprocedures.  The bill's primary focus is to allow requests from\ncompetitive local exchange carriers (CLECs) to be approved more quickly,\nBurton told TR.  The PSC currently takes up to 11 months to process\nCLECs' complaints against incumbents over issues such as collocation\nrates, Burton said.\n\nThe bill faces no opposition at this time, Burton said, noting that he\nplans to try to pass HB 521 as a consent bill.  Burton expects a hearing\non the measure will be held as early as Feb. 8.  Its text is available\nat http://www.house.state.mo.us/bills01/biltxt01/intro01/HB0521I.htm.\n\nCUSTOMER-AFFECTING\nFLORIDA\nPSC says Turbo Code will improve service for TTY users\n\nThe Florida Relay Service has introduced a new operating system for the\nstate's telecommunications relay system that will vastly improve service\nfor text telephone (TTY) customers, the Public Service Commission said.\nThe Florida Relay Service offers telecom service to consumers with\nimpaired speech and hearing, and the Public Service Commission monitors\nthe service's quality.\n\nSprint Corp., which received the contract to maintain Florida's relay\nsystem in June 2000, recently licensed the Turbo Code operating system.\nTurbo Code is expected to make relay calls almost twice as fast as on\nthe old platform, bringing TTY users closer to \"real-time\"\ncommunication.  In addition, the upgrade will enable TTY customers to\nread text more easily by allowing them to control how fast text appears.\n\nCUSTOMER-AFFECTING\nNORTH CAROLINA\nBill seeks to limit telemarketing hours\n\nSen. Charles W. Albertson (D., District 5) has introduced SB 4 to\nrestrict further the hours in which telemarketers are allowed to call\nconsumers.  Telemarketers wouldn't be able to call consumers after 6\np.m., whereas current law permits such calls until 9 p.m.\n\nSB 4 has been referred to the Senate Committee on Insurance and Consumer\nProtection.  It text is available at\nhttp://www.ncga.state.nc.us/html2001/bills/AllVersions/Senate/S4v1.html.\n\nALTERNATIVE REGULATION\nDISTRICT OF COLUMBIA\nPSC wants comment on proposed Verizon rate reductions\n\nThe Public Service Commission has given parties until Feb. 19 to comment\non rate reductions filed by Verizon Washington D.C., Inc., pursuant to\nits price cap plan.\n\nVerizon filed tariff changes that would reduce basic service rates by $2\nmillion annually.  The changes would increase the monthly fee for the\ncompany's Economy Rate I Message service from $5.19 to $6.00, while\nreducing several other monthly rates and one-time charges.\n\nReplies are due March 6.  (Formal case no. 814, Phase IV, Investigation\ninto the Impact of the AT&T Divestiture and Decisions of the Federal\nCommunications Commission on Verizon Washington, DC Inc.'s\nJurisdictional Rates)\n\nADVANCED SERVICES\nNEVADA\nPUC schedules conference on Verizon DSL conditioning rates\n\nThe Public Utilities Commission of Nevada has scheduled a Feb. 20\nprehearing conference to discuss Verizon California Inc., d/b/a Verizon\nNevada's, cost study and proposed rates for conditioning digital\nsubscriber line loops.  Verizon submitted the cost study in compliance\nwith the FCC's order approving the merger of GTE Corp. and Bell Atlantic\nCorp., which formed Verizon.  (Docket no. 00-12008)\n\nADVANCED SERVICES\nDISTRICT OF COLUMBIA\nAT&T opens data center in D.C.\n\nAT&T today announced it has opened an Internet data center in the\nWashington, D.C., metropolitan area.\"  The 105,000 square-foot facility,\nwhich is located in Ashburn, Va., provides end-to-end web hosting\nservices for enterprise customers, content providers, startups and\ndot.coms, the company said.\n\nAT&T operates 15 data centers around the nation, with more than 1.2\nmillion square feet of conditioned Web hosting space. AT&T said it hopes\nto construct an additional six centers later this year.\n\nFederal law prohibits duplication in any form, including electronic,\nwithout permission of the publisher.\n\nTR's State NewsWire Copyright 1998, 1999, 2000 Telecommunications\nReports International, Inc. (ISSN 1082-9350) is transmitted each\nbusiness day at 8 a.m. and 2 p.m., except holidays.\nTelecommunications Reports International, Inc.\n1333 H St. NW, Suite 100-E\nWashington, DC 20005-4707\n\nAssociate Editor for Online Publications: Jennifer Erschen, E-mail:\njerschen@tr.com\nSenior Legislative & Regulatory Analyst: Gayle Kansagor, E-mail:\ngkansagor@tr.com\nSenior Research Analyst: Steve Arlowe, E-mail: sarlowe@tr.com\nSenior Analyst: Barney McManigal, E-mail: bmcmanigal@tr.com\nSenior Research Analyst: Brandi Kerns, E-mail: bkerns@tr.com\nAccount Services: Eileen Callahan (202) 312-6116, (202) 842-3023 (fax)\nE-mail: ecallahan@tr.com\n\n"
        ],
        [
         "208421",
         "kaminski-v/all_documents/7533.",
         "Message-ID: <6365303.1075856690574.JavaMail.evans@thyme>\nDate: Mon, 18 Sep 2000 02:26:00 -0700 (PDT)\nFrom: grant.masson@enron.com\nTo: tanya.tamarchenko@enron.com, vince.kaminski@enron.com\nSubject: Ben Zhang: Nuts!\nMime-Version: 1.0\nContent-Type: text/plain; charset=us-ascii\nContent-Transfer-Encoding: 7bit\nX-From: Grant Masson\nX-To: Tanya Tamarchenko, Vince J Kaminski\nX-cc: \nX-bcc: \nX-Folder: \\Vincent_Kaminski_Jun2001_6\\Notes Folders\\All documents\nX-Origin: Kaminski-V\nX-FileName: vkamins.nsf\n\nI also heard from Joe Toussaint that Ben's boss counter-offered with a bump \nin salary.\n\n\n---------------------- Forwarded by Grant Masson/HOU/ECT on 09/18/2000 09:24 \nAM ---------------------------\n\n\n\"Zhang, Ben\" <bzhang@cinergy.com> on 09/18/2000 07:58:58 AM\nTo: Grant.Masson@enron.com\ncc:  \nSubject: Thanks\n\n\nDear Mr. Masson:\n\nThank you very much for offering me an opportunity to work in your group.\nHowever because of family reasons, I have to regrettably inform you that I\nwill not be able to make the move at this time. It has been a great\nexperience working  with you on this process, and I greatly appreciate your\nhelp.\n\nI realized that this would have been a great opportunity for me, and I thank\nyou very much for everything. I hope you will still consider me for a\nposition in the future.\n\nSincerely,\nBen\n"
        ],
        [
         "65925",
         "dasovich-j/all_documents/8738.",
         "Message-ID: <12117360.1075843343046.JavaMail.evans@thyme>\nDate: Tue, 30 Jan 2001 13:35:00 -0800 (PST)\nFrom: anil.sama@intel.com\nTo: guinney@haas.berkeley.edu, chin@haas.berkeley.edu, \n\tdasovich@haas.berkeley.edu\nSubject: First Write-Up due for Financial Information Analysis\nMime-Version: 1.0\nContent-Type: text/plain; charset=us-ascii\nContent-Transfer-Encoding: 7bit\nX-From: \"Sama, Anil\" <anil.sama@intel.com>\nX-To: \"'guinney@haas.berkeley.edu'\" <guinney@haas.berkeley.edu>, \"'chin@haas.berkeley.edu'\" <chin@haas.berkeley.edu>, \"'dasovich@haas.berkeley.edu'\" <dasovich@haas.berkeley.edu>\nX-cc: \nX-bcc: \nX-Folder: \\Jeff_Dasovich_June2001\\Notes Folders\\All documents\nX-Origin: DASOVICH-J\nX-FileName: jdasovic.nsf\n\nHey Guys,\n\nJust sat down to read about the first write up that is due\nthis Thursday, and realized that this is supposed to be a\ngroup assignment!!  Ooops - I had no idea... Did you ;-)\nAnyone read the case and/or taken a crack at it? Should\nwe try and co-ordinate a conference call?\n\nCarolyn is out for the week and excused from the\nassignment - just had a baby girl last Fri!!\nJeff, did you hear from teacher if OK to join ?\n\n-Anil\n"
        ],
        [
         "113718",
         "fischer-m/notes_inbox/354.",
         "Message-ID: <5198827.1075840468021.JavaMail.evans@thyme>\nDate: Thu, 21 Mar 2002 05:53:00 -0800 (PST)\nFrom: olivia.martinez@enron.com\nTo: mark.fisher@enron.com\nSubject: Re: Curtailment at Clear Sky\nCc: mark.walker@enron.com, hollis.kimbrough@enron.com, kurt.anderson@enron.com\nMime-Version: 1.0\nContent-Type: text/plain; charset=ANSI_X3.4-1968\nContent-Transfer-Encoding: 7bit\nBcc: mark.walker@enron.com, hollis.kimbrough@enron.com, kurt.anderson@enron.com\nX-From: Olivia Martinez\nX-To: Mark Fisher\nX-cc: Mark V Walker, Hollis Kimbrough, Kurt Anderson\nX-bcc: \nX-Folder: \\mark fischer 7-12-02\\Notes Folders\\Notes inbox\nX-Origin: FISCHER-M\nX-FileName: mark fischer 7-12-02 LNotes.nsf\n\nMark, \nHere are all the relevant Documents for Indian Mesa.  Please refer to Exhibit \nB-1 (interim) and Exhibit D. \n\n\n\n\n\n\n\nKurt Anderson\n03/21/2002 01:39 PM\nTo: Olivia Martinez/EWC/Enron@Enron\ncc:  \n\nSubject: Re: Curtailment at Clear Sky\n\nFYI\n---------------------- Forwarded by Kurt Anderson/EWC/Enron on 03/21/2002 \n01:50 PM ---------------------------\n\n\nMark Fisher\n03/21/2002 09:08 AM\nTo: Kurt Anderson/EWC/Enron@ENRON\ncc: Hollis Kimbrough/EWC/Enron@ENRON \n\nSubject: Re: Curtailment at Clear Sky  \n\nI requested the actual power curves from Olivia. I need a wind speed to kw \nlist. I didn't need the warranty amount.\n\n\n\nKurt Anderson\n03/21/2002 08:47 AM\nTo: Mark Fisher/EWC/Enron@Enron\ncc: Hollis Kimbrough/EWC/Enron@ENRON \n\nSubject: Re: Curtailment at Clear Sky  \n\nMark, the curtailment periods have been re-sent, this is the first I have \nheard about your requirement regarding the contractual power curve, it is \n95%.   \n\n\n\nMark Fisher\n03/21/2002 08:07 AM\nTo: Kurt Anderson/EWC/Enron@ENRON\ncc: Hollis Kimbrough/EWC/Enron@ENRON \n\nSubject: Re: Curtailment at Clear Sky\n\nKurt,\n\nI am unfamiliar with the below request. To complete the curtailment for Clear \nSky that I was looking at, I will need the contractual power curve, and a new \ncopy of the curtailment periods . (Due to my email problems rom earlier this \nweek, I lost many email messages, that one appears to have been one of them).\n\nMark Fisher\n---------------------- Forwarded by Mark Fisher/EWC/Enron on 03/21/2002 08:18 \nAM ---------------------------\n\n\nHollis Kimbrough\n03/21/2002 07:45 AM\nTo: Kurt Anderson/EWC/Enron@ENRON\ncc: Matthew Meyers/EWC/Enron@Enron, Jeff Duff/EWC/Enron@ENRON, Mark \nFisher/EWC/Enron@Enron \n\nSubject: Re: Curtailment at Clear Sky  \n\nKurt,\n\nAttached is a work request corresponding to the attached e-mail.  As you can \nsee, we need some additional information before we can start the work.  With \nthe deadline of tomorrow please do not delay in providing the extra \ninformation.\n\nAlso, note that we may not have the curtailment information.  We need to know \nthe timeframe for the request before we can say either \"we have it\" or \"we \ndon't have it\".  \n\nThanks,\nHollis\n\n\n\n\n\nKurt Anderson\n03/20/2002 05:21 PM\nTo: Hollis Kimbrough/EWC/Enron@ENRON\ncc: Matthew Meyers/EWC/Enron@Enron, Jeff Duff/EWC/Enron@ENRON \n\nSubject: Re: Curtailment at Clear Sky  \n\nYes, the services of your department are requested. We need the data as soon \nas possible, I would think the customer expects to see this by Friday at the \nlatest. This is related to a request that Mark Fisher has been working on, \nperhaps he can provide additional background on this issue.\n\nKA    \n\n\n\nHollis Kimbrough\n03/20/2002 04:49 PM\nTo: Kurt Anderson/EWC/Enron@ENRON\ncc: Matthew Meyers/EWC/Enron@Enron, Jeff Duff/EWC/Enron@ENRON \n\nSubject: Curtailment at Clear Sky\n\nKurt,\n\nWe haven't heard anything regarding a request for data for AEP.  Do we need \nto be involved and if so, then what is the timeframe that you need the data \nfor?\n\nHollis\n---------------------- Forwarded by Hollis Kimbrough/EWC/Enron on 03/20/2002 \n05:00 PM ---------------------------\n\n\nKlaus Obel\n03/20/2002 12:47 PM\nTo: Kurt Anderson/EWC/Enron@ENRON, Bo Thisted/EWC/Enron@Enron\ncc: Hollis Kimbrough/EWC/Enron@ENRON \n\nSubject: Curtailment at Clear Sky\n\nKurt, how far have we gotten with this process?\nDo we have the information requested below available?\nThanks, Klaus\n\n---------------------- Forwarded by Klaus Obel/EWC/Enron on 03/20/2002 12:47 \nPM ---------------------------\n\n\nwcmarshall@aep.com on 03/19/2002 07:47:14 AM\nTo: Klaus.Obel@enron.com\ncc: rlsimon@windots.net, bmgivens@aep.com \n\nSubject: Curtailment at Clear Sky\n\n\n\nRich Simon needs the following data: \n\n10 or 15 minute average wind speed, wind direction from Met Tower 652 and if \nit is still standing from the 10 meter tower 653. ? \n10 or 15 minute energy production for each turbine \nWhich turbines were curtailed and when and how long they were curtailed \n\nLet me know if and how long it will take to gather this data.\n\n \nWard Marshall\nDirector, Business Development\nAEP Energy Services, Inc.\n1 Riverside Plaza\nColumbus, OH 43215-2373\n\nOffice (614)324-6957\nFax (614)324-6994\nCell (614)314-5538\n\n\n\n\n\n\n\n\n\n\n\n\n\n\n\n\n\n\n\n\n\n\n\n\n"
        ],
        [
         "197591",
         "jones-t/sent/5659.",
         "Message-ID: <23337116.1075847547216.JavaMail.evans@thyme>\nDate: Tue, 13 Feb 2001 08:28:00 -0800 (PST)\nFrom: tana.jones@enron.com\nTo: genia.fitzgerald@enron.com\nSubject: Re: Guaranty Form\nMime-Version: 1.0\nContent-Type: text/plain; charset=us-ascii\nContent-Transfer-Encoding: 7bit\nX-From: Tana Jones\nX-To: Genia FitzGerald\nX-cc: \nX-bcc: \nX-Folder: \\Tanya_Jones_June2001\\Notes Folders\\Sent\nX-Origin: JONES-T\nX-FileName: tjones.nsf\n\nSuch flattery!\n\n\n\n\tGenia FitzGerald\n\t02/13/2001 04:03 PM\n\t\t\n\t\t To: Tana Jones/HOU/ECT@ECT\n\t\t cc: \n\t\t Subject: Re: Guaranty Form\n\nYou are all right, I don't care what Marie and Reggie say.\n\nThanks!\n\n\n\n\tTana Jones\n\t02/13/2001 03:58 PM\n\t\t \n\t\t To: Genia FitzGerald/HOU/ECT@ECT\n\t\t cc: \n\t\t Subject: Guaranty Form\n\nYou'll see that I asked our group to keep you updated on the guaranty form.  \nCarol St. Clair just wanted to make sure that you had our latest form of \nguaranty, so I am sending it to you at her request.\n\n\n\n\n"
        ],
        [
         "48219",
         "cash-m/all_documents/407.",
         "Message-ID: <8577097.1075860486436.JavaMail.evans@thyme>\nDate: Mon, 21 Aug 2000 09:56:00 -0700 (PDT)\nFrom: michelle.cash@enron.com\nTo: candace.womack@enron.com\nSubject: Re: Background investigation\nCc: gary.buck@enron.com\nMime-Version: 1.0\nContent-Type: text/plain; charset=us-ascii\nContent-Transfer-Encoding: 7bit\nBcc: gary.buck@enron.com\nX-From: Michelle Cash\nX-To: Candace Womack\nX-cc: Gary Buck\nX-bcc: \nX-Folder: \\Michelle_Cash_Dec2000\\Notes Folders\\All documents\nX-Origin: Cash-M\nX-FileName: mcash.nsf\n\nI'd suggest finding otu more information.  My inclination would be not to \naccept the contractor. \n\n\n\n\nCandace Womack\n08/21/2000 04:39 PM\nTo: Michelle Cash/HOU/ECT@ECT\ncc: Gary Buck/HOU/ECT@ECT \nSubject: Background investigation\n\nMichelle - Welcome back from vacation!\n\nGary Buck suggested that I approach you for guidance regarding a background \ninvestigation report we have received on a contractor candidate for \nNetworks.  The report indicates that 8/14/95, the candidate was found guilty \nof theft, a misdemeanor.  He was sentenced to 3 days jail and fined $200.  \nThe candidate indicated on his Contractor Information Sheet that he had a \nmisdemeanor from 1995.  \n\nShould we have the recruiter contact the candidate and ask for more \ninformation about the misdemeanor, or should we simply reject him?\n\nThanks for your assistance.\n\nCandace\n\n"
        ],
        [
         "379427",
         "rogers-b/discussion_threads/421.",
         "Message-ID: <11975869.1075857188965.JavaMail.evans@thyme>\nDate: Tue, 21 Mar 2000 03:11:00 -0800 (PST)\nFrom: benjamin.rogers@enron.com\nTo: yvan.chaxel@enron.com\nSubject: Re New Fixed O&M\nMime-Version: 1.0\nContent-Type: text/plain; charset=us-ascii\nContent-Transfer-Encoding: 7bit\nX-From: Benjamin Rogers\nX-To: Yvan Chaxel\nX-cc: \nX-bcc: \nX-Folder: \\Benjamin_Rogers_Dec2000_2\\Notes Folders\\Discussion threads\nX-Origin: Rogers-B\nX-FileName: brogers.nsf\n\nLet me know if you have any questions. Thanks\nBen\n"
        ],
        [
         "303122",
         "mann-k/_sent_mail/566.",
         "Message-ID: <22948471.1075846042231.JavaMail.evans@thyme>\nDate: Wed, 25 Apr 2001 10:35:00 -0700 (PDT)\nFrom: kay.mann@enron.com\nTo: nmann@erac.com\nSubject: Re: charlotte\nMime-Version: 1.0\nContent-Type: text/plain; charset=us-ascii\nContent-Transfer-Encoding: 7bit\nX-From: Kay Mann\nX-To: <nmann@erac.com>\nX-cc: \nX-bcc: \nX-Folder: \\Kay_Mann_June2001_4\\Notes Folders\\'sent mail\nX-Origin: MANN-K\nX-FileName: kmann.nsf\n\n832 651 3478 is what I have"
        ],
        [
         "79277",
         "dasovich-j/sent_items/624.",
         "Message-ID: <8952710.1075851625559.JavaMail.evans@thyme>\nDate: Tue, 16 Oct 2001 12:25:55 -0700 (PDT)\nFrom: jeff.dasovich@enron.com\nTo: michael.tribolet@enron.com\nSubject: \nMime-Version: 1.0\nContent-Type: text/plain; charset=us-ascii\nContent-Transfer-Encoding: 7bit\nX-From: Dasovich, Jeff </O=ENRON/OU=NA/CN=RECIPIENTS/CN=JDASOVIC>\nX-To: Tribolet, Michael </O=ENRON/OU=NA/CN=RECIPIENTS/CN=Mtribole>\nX-cc: \nX-bcc: \nX-Folder: \\Dasovich, Jeff (Non-Privileged)\\Dasovich, Jeff\\Sent Items\nX-Origin: DASOVICH-J\nX-FileName: Dasovich, Jeff (Non-Privileged).pst\n\nMissed the analyst call.  What was your take?  And you hearing that Lay's calling Edison today?\n\nBest,\nJeff"
        ],
        [
         "226840",
         "kaminski-v/universities/157.",
         "Message-ID: <403140.1075856635015.JavaMail.evans@thyme>\nDate: Mon, 18 Dec 2000 00:27:00 -0800 (PST)\nFrom: vince.kaminski@enron.com\nTo: fdiebold@sas.upenn.edu\nSubject: Re: Thursday visit\nCc: shirley.crenshaw@enron.com, vince.kaminski@enron.com\nMime-Version: 1.0\nContent-Type: text/plain; charset=ANSI_X3.4-1968\nContent-Transfer-Encoding: 7bit\nBcc: shirley.crenshaw@enron.com, vince.kaminski@enron.com\nX-From: Vince J Kaminski\nX-To: \"Francis X. Diebold\" <fdiebold@sas.upenn.edu> @ ENRON\nX-cc: Shirley Crenshaw, Vince J Kaminski\nX-bcc: \nX-Folder: \\Vincent_Kaminski_Jun2001_5\\Notes Folders\\Universities\nX-Origin: Kaminski-V\nX-FileName: vkamins.nsf\n\nFrank,\n\nWe are located at 1400 Smith. Any cab driver can identify the Enron building. \nWhen you arrive,\nplease, call me at 3-3848  from the reception to be admitted into the \nbuilding.\n\nAlternative phone numbers: 3-5290 (my assistant Shirley Crenshaw). You can \nalso try to call me on\nmy cell phone: 713 898 9960.\n\nThe Research Group meeting starts at 11:30 and lasts till 1:00. Can you make \na presentation\nabout your research projects? What audio/video equipment do you need? What \nsandwich would \nyou like to have for lunch?\n\nWe shall make a hotel reservation for you Thursday night.\n\nVince\n\n\n\n\n\n\"Francis X. Diebold\" <fdiebold@sas.upenn.edu> on 12/18/2000 07:02:46 AM\nTo: Vince Kaminski <vkamins@enron.com>\ncc: bmierts@enron.com \nSubject: Thursday visit\n\n\nHi Vince, Looking forward to seeing you Thursday.? I arrive at Houston-Bush \non USAir 1769 at 10:55 AM.? Please let me know where to go.? I also want to \nverify that you have booked me a hotel? for Thurs night.? Many thanks, and \nsee you soon, Frank \n\n-- \nFrancis X. Diebold \nWP Carey Professor \n\nDepartment of Economics \nUniversity of Pennsylvania \n3718 Locust Walk \nPhiladelphia, PA 19104-6297 \n\nfdiebold@sas.upenn.edu \nhttp://www.ssc.upenn.edu/~diebold \n\n(215) 898-1507? telephone \n(215) 573-4217? fax \n?\n\n"
        ],
        [
         "388836",
         "sager-e/sent/478.",
         "Message-ID: <10725605.1075853445261.JavaMail.evans@thyme>\nDate: Mon, 2 Apr 2001 04:48:00 -0700 (PDT)\nFrom: elizabeth.sager@enron.com\nTo: sheryl_gussett@reliantenergy.com\nSubject: Re: Hey\nMime-Version: 1.0\nContent-Type: text/plain; charset=us-ascii\nContent-Transfer-Encoding: 7bit\nX-From: Elizabeth Sager\nX-To: Sheryl_Gussett@reliantenergy.com@ENRON\nX-cc: \nX-bcc: \nX-Folder: \\Elizabeth_Sager_Nov2001\\Notes Folders\\Sent\nX-Origin: Sager-E\nX-FileName: esager.nsf\n\ngreat - this week is bad because I go to Portland for week until Friday.  How \nabout next week?"
        ],
        [
         "105403",
         "farmer-d/discussion_threads/1670.",
         "Message-ID: <14806483.1075854083000.JavaMail.evans@thyme>\nDate: Thu, 13 Jul 2000 08:35:00 -0700 (PDT)\nFrom: shari.mao@enron.com\nTo: brenda.herod@enron.com\nSubject: Data Validation\nCc: james.scribner@enron.com, jennifer.reside@enron.com, howard.camp@enron.com, \n\tdaren.farmer@enron.com\nMime-Version: 1.0\nContent-Type: text/plain; charset=us-ascii\nContent-Transfer-Encoding: 7bit\nBcc: james.scribner@enron.com, jennifer.reside@enron.com, howard.camp@enron.com, \n\tdaren.farmer@enron.com\nX-From: Shari Mao\nX-To: Brenda F Herod\nX-cc: James Scribner, Jennifer Reside, Howard B Camp, Daren J Farmer\nX-bcc: \nX-Folder: \\Darren_Farmer_Dec2000\\Notes Folders\\Discussion threads\nX-Origin: Farmer-D\nX-FileName: dfarmer.nsf\n\nBrenda,\n\nWe met this afternoon concerning path counts.  Howard will be validating the \npath data we had gathered from Unify.  Please let us know when you will need \nthis data by.\n\nThanks,\nShari\n3-3859"
        ],
        [
         "59348",
         "dasovich-j/all_documents/1474.",
         "Message-ID: <15485016.1075842972780.JavaMail.evans@thyme>\nDate: Fri, 15 Sep 2000 03:59:00 -0700 (PDT)\nFrom: jeff.dasovich@enron.com\nTo: steven.kean@enron.com\nSubject: Re: Skilling Get Davis Straightened Out?\nMime-Version: 1.0\nContent-Type: text/plain; charset=us-ascii\nContent-Transfer-Encoding: 7bit\nX-From: Jeff Dasovich\nX-To: Steven J Kean\nX-cc: \nX-bcc: \nX-Folder: \\Jeff_Dasovich_Dec2000\\Notes Folders\\All documents\nX-Origin: DASOVICH-J\nX-FileName: jdasovic.nsf\n\nNeedless to say, given the Governor's press release, I'm a little concerned \nabout what he might want.  Carl Wood and Loretta Lynch were truly abominable \nat the FERC hearing.  Fortunately, FERC (all 4 Commissioners) really beat up \non the them.  I'm convinced that FERC feels that they must do something \nbetween now and November and that if we ever had a chance to get them to be \nbold (understanding that \"bold\" ain't exactly in Hoecker's play book), now's \nthe chance.\n\nThanks for the giving Heber the straight dope.  He was very gracious \nthroughout, but after the panel he (very jokingly) ribbed me pretty well, \nsaying, \"Jeff, I let you off the hook.  I was going to ask you how in the \nhell you ever let California turn into such a mess.\"  I told him that we were \nexercising Herculean restraint in not making lengthy \"I told you so\" \nstatements.\n\nBest,\nJeff\n\n\n\n\nSteven J Kean@ENRON\n09/15/2000 07:54 AM\nSent by: Steven J Kean@ENRON\nTo: Jeff Dasovich/SFO/EES@EES\ncc:  \nSubject: Re: Skilling Get Davis Straightened Out?  \n\nI'm still waiting for Davis' office to call.  The plan currently is for me to \ntalk to him when and if he calls.  Sandi has been in touch with the \ngovernor's office.\n\nBy the way, thanks for the summary of the California proceedings.  I talked \nto Hebert yesterday and he was duly impressed with your remarks ... I had to \nremind him that you worked on the right answers for California, not the \nabomination that's in place today.\n\n\n\nJeff Dasovich@EES\n09/13/2000 06:48 PM\nTo: Steven J Kean/NA/Enron@Enron\ncc:  \n\nSubject: Skilling Get Davis Straightened Out?\n\n\n\n\n\n"
        ],
        [
         "305734",
         "mann-k/all_documents/2921.",
         "Message-ID: <5027715.1075845647533.JavaMail.evans@thyme>\nDate: Wed, 3 Jan 2001 04:28:00 -0800 (PST)\nFrom: kay.mann@enron.com\nTo: nmann@erac.com\nSubject: RE: E Party 1/20/00\nMime-Version: 1.0\nContent-Type: text/plain; charset=us-ascii\nContent-Transfer-Encoding: 7bit\nX-From: Kay Mann\nX-To: <nmann@erac.com>\nX-cc: \nX-bcc: \nX-Folder: \\Kay_Mann_June2001_1\\Notes Folders\\All documents\nX-Origin: MANN-K\nX-FileName: kmann.nsf\n\nI prefer the weekend.  It gives us a reason to get in and get out.  \n\nckm\n\n\n\n\n\"Neil Mann\" <nmann@erac.com> on 01/03/2001 12:41:37 PM\nPlease respond to <nmann@erac.com>\nTo: <Kay.Mann@enron.com>\ncc:  \n\nSubject: RE: E Party 1/20/00\n\nNo reason other than I don't really care to go.\n\nI really would like to do the FtW Show. Would weekends work best for you? I\nchecked TicketMaster and all the weekend shows are available, even the \"sold\nout\" shows. I didn't check the price. They do have some weekday shows also\nif you would rather do that.\n\nNM\n\n\n\n\n-----Original Message-----\nFrom: Kay.Mann@enron.com [mailto:Kay.Mann@enron.com]\nSent: Wednesday, January 03, 2001 11:33 AM\nTo: nmann@erac.com\nSubject: Re: E Party 1/20/00\n\n\n\nYou know me.  I don't care one way or the other.  Is there a reason why you\nwant to skip it?\n\nWe don't have to go to FW for the rodeo.  I just thought that would be fun\nto do, and my mom wants Michael to come so badly.  We can always just go\nfor a visit.  In fact, Michael and I can go alone some time.\n\nLike I said last night, you would make a great guide.  You'll be Michael's\nguide one of these days.\n\nckm\n\n\n\n\n\"Neil Mann\" <nmann@erac.com> on 01/03/2001 11:41:09 AM\n\nPlease respond to <nmann@erac.com>\n\nTo:   \"C. Kay Mann (E-mail)\" <Kay.Mann@Enron.com>\ncc:\n\nSubject:  E Party 1/20/00\n\nYou do mind if we skip this party?\n\n\n\n\n\n\n\n\n\n"
        ],
        [
         "228275",
         "kean-s/all_documents/1746.",
         "Message-ID: <16106628.1075846187286.JavaMail.evans@thyme>\nDate: Mon, 30 Oct 2000 07:20:00 -0800 (PST)\nFrom: mary.bailey@enron.com\nTo: steven.kean@enron.com, mark.courtney@enron.com, traci.warner@enron.com, \n\tscott.porter@enron.com, bernie.barcio@enron.com, \n\tandrew.wilson@enron.com, bill.windle@enron.com, \n\tbrian.spector@enron.com, kate.fraser@enron.com, \n\tpushkar.shahi@enron.com, waymon.votaw@enron.com, \n\tpatrick.wade@enron.com, david.dye@enron.com, jon.adler@enron.com, \n\tgreg.characklis@enron.com, william.kendrick@enron.com, \n\tlarry.leib@enron.com, andrew.miles@enron.com, \n\tstephen.stenhouse@enron.com, trevor.randolph@enron.com, \n\tcharles.varnell@enron.com, doug.sewell@enron.com, \n\talhamd.alkhayat@enron.com, micha.makowsky@enron.com, \n\tfrank.bay@enron.com, jaime.gualy@enron.com, john.wilson@enron.com, \n\tjohn.walt@enron.com, kelli.little@enron.com, patrick.wade@enron.com, \n\tmichelle.juden@enron.com, aamir.maniar@enron.com, \n\tdoug.sewell@enron.com, brian.o'rourke@enron.com, \n\tdavid.maskell@enron.com, michelle.cisneros@enron.com, \n\tjohn.kiani@enron.com, marilyn_baker@enron.net\nSubject: RESULTS OF SUPER SATURDAY - RICE MBA\nMime-Version: 1.0\nContent-Type: text/plain; charset=us-ascii\nContent-Transfer-Encoding: 7bit\nX-From: Mary Alison Bailey\nX-To: Steven J Kean, Mark Courtney, Traci Warner, Scott Porter, Bernie Barcio, Andrew Wilson, Bill Windle, Brian Spector, Kate Fraser, Pushkar Shahi, Waymon Votaw, Patrick Wade, David Dye, Jon Adler, Greg Characklis, William Kendrick, Larry Leib, Andrew Miles, Stephen Stenhouse, Trevor Randolph, Charles Varnell, Doug Sewell, Alhamd Alkhayat, Micha Makowsky, Frank Bay, Jaime Gualy, John Wilson, John Walt, Kelli Little, Patrick Wade, Michelle Juden, Aamir Maniar, Doug Sewell, Brian O'Rourke, David Maskell, Michelle D Cisneros, John Kiani, Marilyn_baker@enron.net\nX-cc: \nX-bcc: \nX-Folder: \\Steven_Kean_Dec2000_1\\Notes Folders\\All documents\nX-Origin: KEAN-S\nX-FileName: skean.nsf\n\nPlease call or e-mail candidates who have received \"offers\".All of your hard \nwork paid off - you have a great list of \"offers\".  These students have all \nbeen called and will receive a letter/packet by the end of the week.\n"
        ],
        [
         "253429",
         "keavey-p/deleted_items/275.",
         "Message-ID: <15561371.1075862157352.JavaMail.evans@thyme>\nDate: Tue, 20 Nov 2001 10:06:13 -0800 (PST)\nFrom: feedback@intcx.com\nTo: gasindex@list.intcx.com\nSubject: Gas Indices\nMime-Version: 1.0\nContent-Type: text/plain; charset=ANSI_X3.4-1968\nContent-Transfer-Encoding: 7bit\nX-From: IntercontinentalExchange <feedback@intcx.com>\nX-To: gasindex@list.intcx.com\nX-cc: \nX-bcc: \nX-Folder: \\PKEAVEY (Non-Privileged)\\Keavey, Peter F.\\Deleted Items\nX-Origin: Keavey-P\nX-FileName: PKEAVEY (Non-Privileged).pst\n\n\n\nIntercontinentalExchange \nFirm Physical Natural Gas Price Bulletin \nFor Natural Gas Delivered on Wednesday, November 21, 2001 \n(Trade Date of Tuesday, November 20, 2001) \nClick here to access index history. \n* volume represents sell-side only * \n Region     Hub \t High \t Low \t Wtd Avg Index \t Change ($) \t Vol (mmBtu) \t Hub Name \t\n  LOUISIANA \t   \t   \t   \t   \t   \t   \t\n     ANR SE \t $2.7900 \t $2.1000 \t $2.6126 \t +.5901 \t 222,600 \t American Natural Resources Pipeline Co. - SE Transmission Pool \t\n     Columbia Onshore \t $2.7450 \t $2.1500 \t $2.5128 \t +.3097 \t 305,200 \t Columbia Gulf Transmission Co. - Onshore Pool  \t\n     Henry Hub \t $2.8200 \t $2.2200 \t $2.6180 \t +.5406 \t 1,538,500 \t Henry Hub tailgate - Louisiana  \t\n     NGPL LA \t $2.7400 \t $2.0550 \t $2.5180 \t +.5460 \t 287,900 \t Natural Gas Pipeline Co. of America, Louisiana Pool  \t\n     Tenn 500L \t $2.7400 \t $2.2800 \t $2.5295 \t +.4989 \t 275,100 \t Tennessee Gas Pipeline Co.-Zone L, 500 Leg Pool  \t\n     Tenn 800L \t $2.7300 \t $2.2450 \t $2.4840 \t +.4767 \t 248,800 \t Tennessee Gas Pipeline Co.-Zone L, 800 Leg Pool  \t\n     TETCO ELA \t $2.7900 \t $2.2500 \t $2.5993 \t +.4619 \t 164,900 \t Texas Eastern - East LA  \t\n     TETCO WLA \t $2.7700 \t $2.3300 \t $2.5976 \t +.6778 \t 208,300 \t Texas Eastern - West LA  \t\n     Transco 65 \t $2.8200 \t $2.3000 \t $2.6756 \t +.5535 \t 176,100 \t Transco - Station 65  \t\n     Trunkline ELA \t $2.7600 \t $2.0000 \t $2.5481 \t +.5686 \t 82,500 \t Trunkline Gas Company - East Louisiana Pool  \t\n     TxGas SL \t $2.8400 \t $2.2800 \t $2.6244 \t +.5326 \t 245,000 \t Texas Gas Transmission Corp.-Zone SL FT Pool  \t\n  MIDCONTINENT \t   \t   \t   \t   \t   \t   \t\n     MichCon, citygate \t $2.9000 \t $2.2500 \t $2.8052 \t +.6308 \t 219,800 \t Michigan Consolidated  \t\n     NGPL Midcont \t $2.5900 \t $2.2300 \t $2.4805 \t +.6875 \t 221,700 \t Natural Gas Pipeline Co. of America, Mid-Continent Pool  \t\n     NGPL Nicor, citygate \t $2.7975 \t $2.1300 \t $2.6082 \t +.5992 \t 1,231,800 \t Natural Gas Pipeline Co. of America, Nicor Citygate \t\n     NGPL NIPSCO, citygate \t $2.8000 \t $2.5400 \t $2.7380 \t +.7435 \t 107,500 \t Natural Gas Pipeline Co. of America, Nipsco Citygate \t\n     NNG Demarcation \t $2.7000 \t $2.1250 \t $2.4831 \t +.4382 \t 214,200 \t Northern Natural Gas, Demarcation Pool  \t\n  NORTHEAST \t   \t   \t   \t   \t   \t   \t\n     Columbia TCO \t $2.9100 \t $2.2900 \t $2.7287 \t +.5870 \t 533,300 \t Columbia Gas Co. - TCO Pool  \t\n     Dominion So.Point \t $3.1000 \t $2.7800 \t $2.8973 \t +.5502 \t 235,300 \t Dominion - South Point  \t\n     TETCO M3 \t $3.3100 \t $2.8000 \t $3.0520 \t +.5224 \t 218,400 \t Texas Eastern - M3 Zone  \t\n     Transco Z-6 (NY) \t $3.4100 \t $2.9000 \t $3.2445 \t +.6188 \t 100,000 \t Transcontinental Gas Pipe Line Corp. - Zone 6 (NY) \t\n  WEST \t   \t   \t   \t   \t   \t   \t\n     El Paso non-Bondad \t $2.4500 \t $2.1600 \t $2.3522 \t +.6445 \t 183,900 \t El Paso - San Juan Basin, Blanco Pool \t\n     Huntingdon/Sumas \t $2.4500 \t $2.3200 \t $2.3958 \t +.5708 \t 126,000 \t Westcoast Energy & Northwest Pipeline Corp. \t\n     Opal \t $2.4100 \t $1.9600 \t $2.2514 \t +.6931 \t 109,800 \t Opal \t\n     PG&E Citygate \t $2.6500 \t $2.3800 \t $2.5525 \t +.5769 \t 227,500 \t PG&E - Citygate  \t\n     SoCal Border \t $2.7200 \t $2.4000 \t $2.5593 \t +.6743 \t 208,000 \t Southern California Border Points (Ehrenberg,Topock,Needles) \t\n  WEST TEXAS \t   \t   \t   \t   \t   \t   \t\n     El Paso - Keystone \t $2.5300 \t $2.3700 \t $2.4526 \t +.7034 \t 606,000 \t El Paso - Keystone Pool \t\n     Waha \t $2.5700 \t $2.3800 \t $2.5118 \t +.6383 \t 245,300 \t Waha Hub - West Texas  \t\n\n\nIncludes all firm physical fixed price trades done from 7 AM to 11:30 AM Central Prevailing Time on the trade date specified for natural gas delivered on the specified date(s). \nIntercontinentalExchange is the world's most liquid trading platform for over-the-counter energy and metals.  Active markets include North American power and natural gas, global crude and refined oil products, and precious metals.  Traded instruments include forwards, swaps, and options. \nIn order to receive the proprietary information contained in this email, you acknowledge and agree that you shall not further disseminate the IntercontinentalExchange Market Data contained herein to any person or entity without the express written consent of IntercontinentalExchange.   Furthermore, you acknowledge that (1) IntercontinentalExchange has exclusive and valuable property rights in this data; (2) IntercontinentalExchange's data is being made available to you only for your own business or personal activities; and (3) you cannot communicate the data, in any form, to any other person or entity without the express written consent of IntercontinentalExchange. \nThis data is provided to you free of charge.  IntercontinentalExchange reserves the right to cancel this service at any time for any reason or no reason at all. \nYou agree that IntercontinentalExchange does not make any representations or warranties, express or implied, with respect to the data. \nTo become an Exchange Participant or inquire about the indices, please contact sales@intcx.com. \nTo unsubscribe from this service, click here unsubscribe. \n?Copyright IntercontinentalExchange, Inc. 2001, All Rights Reserved. "
        ],
        [
         "393475",
         "sanders-r/all_documents/1961.",
         "Message-ID: <26526592.1075853218791.JavaMail.evans@thyme>\nDate: Fri, 11 May 2001 02:25:00 -0700 (PDT)\nFrom: richard.sanders@enron.com\nTo: jw1000mac@yahoo.com\nSubject: Memorandum Re CA Substantive and Procedural Law Re\n Contribution/Indemnity\nMime-Version: 1.0\nContent-Type: text/plain; charset=us-ascii\nContent-Transfer-Encoding: 7bit\nX-From: Richard B Sanders\nX-To: jw1000mac@yahoo.com\nX-cc: \nX-bcc: \nX-Folder: \\Richard_Sanders_Oct2001\\Notes Folders\\All documents\nX-Origin: Sanders-R\nX-FileName: rsanders.nsf\n\n----- Forwarded by Richard B Sanders/HOU/ECT on 05/11/2001 09:24 AM -----\n\n\tshoward@agsk.com\n\t05/03/2001 10:56 PM\n\t\t \n\t\t To: Richard.B.Sanders@enron.com\n\t\t cc: \n\t\t Subject: Memorandum Re CA Substantive and Procedural Law Re \nContribution/Indemnity\n\n\nRichard,\n\nHere is the memorandum.  I can send you a separate hard copy if you want it,\nor you can just print one out.\n\nLet's talk on Monday.  If you want to set a specific time, just send me an\ne-mail.\n\nSteve\n                                                                              \n                                                                              \n                                                                              \n                                                                              \n                                                                              \n                                                                              \n                                                                              \n                                                                              \n             ................................................\n\nALSCHULER GROSSMAN STEIN & KAHAN LLP\nATTORNEYS AT LAW\nwww.agsk.com\n\n2049 Century Park East\nThirty-Ninth Floor\nLos Angeles, CA 90067-3213\nTel 310-277-1226\nFax 310-552-6077\n\nThis transmission is intended only for the use\nof the addressee and may contain information\nthat is privileged, confidential and exempt from\ndisclosure under applicable law. If you are not\nthe intended recipient, or the employee or agent\nresponsible for delivering the message to the\nintended recipient, you are hereby notified that\nany dissemination, distribution or copying of\nthis communication is strictly prohibited.\n\nIf you have received this communication\nin error, please notify us immediately\nvia e-mail at postmaster@agsk.com or\nby telephone at 310-277-1226. Thank you.\n\n...............................................\n - Memorandum Re Contribution-Comparative Indemnity.doc"
        ],
        [
         "469280",
         "symes-k/discussion_threads/2879.",
         "Message-ID: <28647397.1075841837797.JavaMail.evans@thyme>\nDate: Sun, 1 Apr 2001 18:57:00 -0700 (PDT)\nFrom: enron.announcements@enron.com\nTo: all.worldwide@enron.com\nSubject: eThink About It: 4/2/01\nMime-Version: 1.0\nContent-Type: text/plain; charset=us-ascii\nContent-Transfer-Encoding: 7bit\nX-From: Enron Announcements\nX-To: All Enron Worldwide\nX-cc: \nX-bcc: \nX-Folder: \\kate symes 6-27-02\\Notes Folders\\Discussion threads\nX-Origin: SYMES-K\nX-FileName: kate symes 6-27-02.nsf\n\nThursday, Apr. 5 at 10 a.m. Houston time, join George Wasaff, managing \ndirector of Global Strategic Sourcing (GSS) on eSpeak.  George will answer \nquestions about GSS' plans for fiscal 2001 and major sourcing initiatives, \nincluding the roll-out of iBuyit.\n\nNow, for the part about pre-submitting questions:  If you can't make the live \nevent, be sure to post your question on eSpeak right now!  George will answer \nyour questions during his event, and you can read them in the transcript \nlater.\n\n\nethink.enron.com"
        ]
       ],
       "shape": {
        "columns": 2,
        "rows": 1000
       }
      },
      "text/html": [
       "<div>\n",
       "<style scoped>\n",
       "    .dataframe tbody tr th:only-of-type {\n",
       "        vertical-align: middle;\n",
       "    }\n",
       "\n",
       "    .dataframe tbody tr th {\n",
       "        vertical-align: top;\n",
       "    }\n",
       "\n",
       "    .dataframe thead th {\n",
       "        text-align: right;\n",
       "    }\n",
       "</style>\n",
       "<table border=\"1\" class=\"dataframe\">\n",
       "  <thead>\n",
       "    <tr style=\"text-align: right;\">\n",
       "      <th></th>\n",
       "      <th>file</th>\n",
       "      <th>message</th>\n",
       "    </tr>\n",
       "  </thead>\n",
       "  <tbody>\n",
       "    <tr>\n",
       "      <th>98863</th>\n",
       "      <td>ermis-f/inbox/169.</td>\n",
       "      <td>Message-ID: &lt;30559528.1075855169455.JavaMail.e...</td>\n",
       "    </tr>\n",
       "    <tr>\n",
       "      <th>97422</th>\n",
       "      <td>dorland-c/sent_items/339.</td>\n",
       "      <td>Message-ID: &lt;19680659.1075840418964.JavaMail.e...</td>\n",
       "    </tr>\n",
       "    <tr>\n",
       "      <th>448345</th>\n",
       "      <td>solberg-g/deleted_items/19.</td>\n",
       "      <td>Message-ID: &lt;11771876.1075841563440.JavaMail.e...</td>\n",
       "    </tr>\n",
       "    <tr>\n",
       "      <th>54646</th>\n",
       "      <td>cuilla-m/deleted_items/188.</td>\n",
       "      <td>Message-ID: &lt;12518766.1075853090439.JavaMail.e...</td>\n",
       "    </tr>\n",
       "    <tr>\n",
       "      <th>45510</th>\n",
       "      <td>campbell-l/notes_inbox/605.</td>\n",
       "      <td>Message-ID: &lt;29528344.1075857924287.JavaMail.e...</td>\n",
       "    </tr>\n",
       "    <tr>\n",
       "      <th>...</th>\n",
       "      <td>...</td>\n",
       "      <td>...</td>\n",
       "    </tr>\n",
       "    <tr>\n",
       "      <th>311648</th>\n",
       "      <td>mann-k/discussion_threads/1786.</td>\n",
       "      <td>Message-ID: &lt;14061033.1075845796018.JavaMail.e...</td>\n",
       "    </tr>\n",
       "    <tr>\n",
       "      <th>231068</th>\n",
       "      <td>kean-s/all_documents/6392.</td>\n",
       "      <td>Message-ID: &lt;30988171.1075847650719.JavaMail.e...</td>\n",
       "    </tr>\n",
       "    <tr>\n",
       "      <th>257975</th>\n",
       "      <td>kitchen-l/_americas/gas/21.</td>\n",
       "      <td>Message-ID: &lt;8668663.1075840848630.JavaMail.ev...</td>\n",
       "    </tr>\n",
       "    <tr>\n",
       "      <th>478807</th>\n",
       "      <td>taylor-m/archive/november1999/45.</td>\n",
       "      <td>Message-ID: &lt;15334805.1075859980268.JavaMail.e...</td>\n",
       "    </tr>\n",
       "    <tr>\n",
       "      <th>321214</th>\n",
       "      <td>mann-k/sent/389.</td>\n",
       "      <td>Message-ID: &lt;31054485.1075845927977.JavaMail.e...</td>\n",
       "    </tr>\n",
       "  </tbody>\n",
       "</table>\n",
       "<p>1000 rows × 2 columns</p>\n",
       "</div>"
      ],
      "text/plain": [
       "                                     file  \\\n",
       "98863                  ermis-f/inbox/169.   \n",
       "97422           dorland-c/sent_items/339.   \n",
       "448345        solberg-g/deleted_items/19.   \n",
       "54646         cuilla-m/deleted_items/188.   \n",
       "45510         campbell-l/notes_inbox/605.   \n",
       "...                                   ...   \n",
       "311648    mann-k/discussion_threads/1786.   \n",
       "231068         kean-s/all_documents/6392.   \n",
       "257975        kitchen-l/_americas/gas/21.   \n",
       "478807  taylor-m/archive/november1999/45.   \n",
       "321214                   mann-k/sent/389.   \n",
       "\n",
       "                                                  message  \n",
       "98863   Message-ID: <30559528.1075855169455.JavaMail.e...  \n",
       "97422   Message-ID: <19680659.1075840418964.JavaMail.e...  \n",
       "448345  Message-ID: <11771876.1075841563440.JavaMail.e...  \n",
       "54646   Message-ID: <12518766.1075853090439.JavaMail.e...  \n",
       "45510   Message-ID: <29528344.1075857924287.JavaMail.e...  \n",
       "...                                                   ...  \n",
       "311648  Message-ID: <14061033.1075845796018.JavaMail.e...  \n",
       "231068  Message-ID: <30988171.1075847650719.JavaMail.e...  \n",
       "257975  Message-ID: <8668663.1075840848630.JavaMail.ev...  \n",
       "478807  Message-ID: <15334805.1075859980268.JavaMail.e...  \n",
       "321214  Message-ID: <31054485.1075845927977.JavaMail.e...  \n",
       "\n",
       "[1000 rows x 2 columns]"
      ]
     },
     "execution_count": 41,
     "metadata": {},
     "output_type": "execute_result"
    }
   ],
   "source": [
    "df_emails_data_random = df_emails_data.sample(n=1000)\n",
    "df_emails_data_random['email'] = df_emails_data_random['message']\n"
   ]
  },
  {
   "cell_type": "code",
   "execution_count": 45,
   "id": "8849d0a0",
   "metadata": {},
   "outputs": [
    {
     "name": "stdout",
     "output_type": "stream",
     "text": [
      "                                                           0\n",
      "MessageID        17189699.1075863688308.JavaMail.evans@thyme\n",
      "Date                   Fri, 14 Jul 2000 06:59:00 -0700 (PDT)\n",
      "From                                 phillip.allen@enron.com\n",
      "To                                  joyce.teixeira@enron.com\n",
      "Subject                         Re: PRC review - phone calls\n",
      "MimeVersion                                              1.0\n",
      "ContentType                                       text/plain\n",
      "Charset                                             us-ascii\n",
      "Encoding                                                7bit\n",
      "XFrom                                        Phillip K Allen\n",
      "XTo                                           Joyce Teixeira\n",
      "Xcc                                                         \n",
      "Xbcc                                                        \n",
      "XFolder      \\Phillip_Allen_Dec2000\\Notes Folders\\'sent mail\n",
      "XOrigin                                              Allen-P\n",
      "XFileName                                                   \n",
      "Body          pallen.nsf\\n\\nany morning between 10 and 11:30\n"
     ]
    }
   ],
   "source": [
    "import pandas as pd\n",
    "import re\n",
    "\n",
    "text = \"\"\"Message-ID: <17189699.1075863688308.JavaMail.evans@thyme>\n",
    "Date: Fri, 14 Jul 2000 06:59:00 -0700 (PDT)\n",
    "From: phillip.allen@enron.com\n",
    "To: joyce.teixeira@enron.com\n",
    "Subject: Re: PRC review - phone calls\n",
    "Mime-Version: 1.0\n",
    "Content-Type: text/plain; charset=us-ascii\n",
    "Content-Transfer-Encoding: 7bit\n",
    "X-From: Phillip K Allen\n",
    "X-To: Joyce Teixeira\n",
    "X-cc: \n",
    "X-bcc: \n",
    "X-Folder: \\\\Phillip_Allen_Dec2000\\\\Notes Folders\\\\'sent mail\n",
    "X-Origin: Allen-P\n",
    "X-FileName: pallen.nsf\n",
    "\n",
    "any morning between 10 and 11:30\"\"\"\n",
    "\n",
    "pattern = (\n",
    "    r\"Message-ID:\\s*<(?P<MessageID>[^>]+)>\\s*\"\n",
    "    r\"Date:\\s*(?P<Date>.*?)\\s*\"\n",
    "    r\"From:\\s*(?P<From>.*?)\\s*\"\n",
    "    r\"To:\\s*(?P<To>.*?)\\s*\"\n",
    "    r\"Subject:\\s*(?P<Subject>.*?)\\s*\"\n",
    "    r\"Mime-Version:\\s*(?P<MimeVersion>.*?)\\s*\"\n",
    "    r\"Content-Type:\\s*(?P<ContentType>[^;]+);\\s*charset=(?P<Charset>\\S+)\\s*\"\n",
    "    r\"Content-Transfer-Encoding:\\s*(?P<Encoding>.*?)\\s*\"\n",
    "    r\"X-From:\\s*(?P<XFrom>.*?)\\s*\"\n",
    "    r\"X-To:\\s*(?P<XTo>.*?)\\s*\"\n",
    "    r\"X-cc:\\s*(?P<Xcc>.*?)\\s*\"\n",
    "    r\"X-bcc:\\s*(?P<Xbcc>.*?)\\s*\"\n",
    "    r\"X-Folder:\\s*(?P<XFolder>.*?)\\s*\"\n",
    "    r\"X-Origin:\\s*(?P<XOrigin>.*?)\\s*\"\n",
    "    r\"X-FileName:\\s*(?P<XFileName>.*?)\\s*\"\n",
    "    r\"(?P<Body>[\\s\\S]*)\"\n",
    ")\n",
    "\n",
    "s = pd.Series([text])\n",
    "df = s.str.extract(pattern, flags=re.DOTALL)\n",
    "print(df.T)\n"
   ]
  },
  {
   "cell_type": "code",
   "execution_count": 47,
   "id": "6d9cb8d7",
   "metadata": {},
   "outputs": [
    {
     "data": {
      "application/vnd.microsoft.datawrangler.viewer.v0+json": {
       "columns": [
        {
         "name": "index",
         "rawType": "int64",
         "type": "integer"
        },
        {
         "name": "MessageID",
         "rawType": "object",
         "type": "unknown"
        },
        {
         "name": "Date",
         "rawType": "object",
         "type": "unknown"
        },
        {
         "name": "From",
         "rawType": "object",
         "type": "unknown"
        },
        {
         "name": "To",
         "rawType": "object",
         "type": "unknown"
        },
        {
         "name": "Subject",
         "rawType": "object",
         "type": "unknown"
        },
        {
         "name": "MimeVersion",
         "rawType": "object",
         "type": "unknown"
        },
        {
         "name": "ContentType",
         "rawType": "object",
         "type": "unknown"
        },
        {
         "name": "Charset",
         "rawType": "object",
         "type": "unknown"
        },
        {
         "name": "Encoding",
         "rawType": "object",
         "type": "unknown"
        },
        {
         "name": "XFrom",
         "rawType": "object",
         "type": "unknown"
        },
        {
         "name": "XTo",
         "rawType": "object",
         "type": "unknown"
        },
        {
         "name": "Xcc",
         "rawType": "object",
         "type": "unknown"
        },
        {
         "name": "Xbcc",
         "rawType": "object",
         "type": "unknown"
        },
        {
         "name": "XFolder",
         "rawType": "object",
         "type": "unknown"
        },
        {
         "name": "XOrigin",
         "rawType": "object",
         "type": "unknown"
        },
        {
         "name": "XFileName",
         "rawType": "object",
         "type": "unknown"
        },
        {
         "name": "Body",
         "rawType": "object",
         "type": "unknown"
        }
       ],
       "ref": "cf220b15-aaae-4d6b-942e-d2223125be46",
       "rows": [
        [
         "98863",
         "30559528.1075855169455.JavaMail.evans@thyme",
         "Tue, 18 Dec 2001 15:54:14 -0800 (PST)",
         "noreply@ccomad3.uu.commissioner.com",
         "frank.ermis@enron.com",
         "Put up $5 to win $1 Million!",
         "1.0",
         "text/plain",
         "ANSI_X3.4-1968",
         "7bit",
         "CBS SportsLine.com <noreply@ccomad3.uu.commissioner.com>",
         "Ermis, Frank </O=ENRON/OU=NA/CN=RECIPIENTS/CN=FERMIS>",
         "",
         "",
         "\\Frank_Ermis_Jan2002_1\\Ermis, Frank\\Inbox",
         "Ermis-F",
         "",
         "fermis (Non-Privileged).pst\n\n\t\n\t\n \t CBS SportsLine.com <http://www.sportsline.com>\t  Fantasy Football 2001 <http://images.commissioner.com/images/ads/emails/elwayyell1.gif>\t\n \t \t\t\n \t Someone will win a millions dollars!\n\nDo you know football? Would you pay $5 to enter an office pool with a $1 Million grand prize? There are 3 weeks left in the pro football season and someone is GUARANTEED to win $1 Million in the Office Pool Challenge. There's still plenty of time left for you to win, so sign up today! <http://poolchallenge.fantasy.sportsline.com/?r=esfb1228_html>\n\nIf someone picks every game right in a week, that person is entered into a random drawing with everyone else who made \"perfect picks\" during the season. If no one makes \"perfect picks\" then the 17 weekly high-scorers are entered into a drawing for the $1 Million prize. With 3 weeks left, you still have 3 chances to make perfect picks or to be one of the weekly high scorers... maybe you'll win all weeks!\n\nSomeone is guaranteed to win $1 Million...why can't it be you? SIGN UP TODAY! <http://poolchallenge.fantasy.sportsline.com/?r=esfb1228_html> \t \t\n  <http://images.commissioner.com/images/ads/emails/elwayyell2.gif>\tFantasy Football only at cbs.sportsline.com <http://poolchallenge.fantasy.sportsline.com/?r=esfb1228_html>\t\n?\tGrand Prize: $1,000,000\n\n\t\n?\tFirst Place: $5,000\n\n\t\n?\tSecond Place: $2,500\n\n\t\n?\tThird Place: $1,000\n\n\t\n?\tFourth - Sixth Place: $500\n\n\t\n?\tWeekly Prize: $2,500 worth of electronics\t\n \t\nSign Up Today! <http://poolchallenge.fantasy.sportsline.com/?r=esfb1228_html> \n\n  <http://images.commissioner.com/images/ads/emails/opc.gif>\t\n\n \t\n Fantasy Sports for Real <http://images.commissioner.com/images/ads/emails/fantsportforreal.gif>\nThis message has been provided free of charge and free of obligation. If you prefer not to receive emails of this nature please respond to remove@commissioner.com <mailto:remove@commissioner.com>. Do not respond to this email directly. \n\n \t   <http://images.commissioner.com/images/ads/emails/banner.gif>\t \t\n\t"
        ],
        [
         "97422",
         "19680659.1075840418964.JavaMail.evans@thyme",
         "Mon, 10 Sep 2001 07:41:40 -0700 (PDT)",
         "chris.dorland@enron.com",
         "carlos.torres@enron.com",
         "RE: Position and P&L",
         "1.0",
         "text/plain",
         "us-ascii",
         "7bit",
         "Dorland, Chris </O=ENRON/OU=NA/CN=RECIPIENTS/CN=CDORLAN>",
         "Torres, Carlos </O=ENRON/OU=NA/CN=RECIPIENTS/CN=CTORRES>",
         "",
         "",
         "\\ExMerge - Dorland, Chris\\Sent Items",
         "DORLAND-C",
         "",
         "chris dorland 6-26-02.PST\n\nOct Sumas trades\n \nSold 50000 mm/d to Lambie (0.24)\nBought 5000 mm/d from Chad (0.245) EOL\n \nI also bought 15000 mm/d from Chad today on EOL.\n \nChris\n\n-----Original Message----- \nFrom: Torres, Carlos \nSent: Mon 9/10/2001 9:35 AM \nTo: Dorland, Chris \nCc: \nSubject: RE: Position and P&L\n\n\n\nNo worries amd I will make sure your book is clean and ready by the time you get here!\n \nCarlos\n -----Original Message-----\nFrom: Dorland, Chris \nSent: Monday, September 10, 2001 8:30 AM\nTo: Torres, Carlos\nSubject: RE: Position and P&L\n\n\nCarlos\n \nThanx for the pos report. Would you mind sending it to me each morning? Also, can you make sure that they have all of the deals (other than the few I have done) transferred out of my book by the end of the week. I talked to Brian? and he said he would look after it but can you make sure it happens.\n \nThanx,\n \nChris \n\n-----Original Message----- \nFrom: Torres, Carlos \nSent: Mon 9/10/2001 9:13 AM \nTo: Dorland, Chris \nCc: \nSubject: Position and P&L\n\n\n\n<<Report_0907.xls>> \n\nCarlos Torres \nEnron Canada Corporation \n403-974-6918 "
        ],
        [
         "448345",
         "11771876.1075841563440.JavaMail.evans@thyme",
         "Sun, 3 Feb 2002 07:37:01 -0800 (PST)",
         "pete.davis@enron.com",
         "pete.davis@enron.com",
         "Start Date: 2/3/02; HourAhead hour: 10;\nCc: albert.meyers@enron.com, bill.williams@enron.com, craig.dean@enron.com, \n\tgeir.solberg@enron.com, john.anderson@enron.com, \n\tmark.guzman@enron.com, michael.mier@enron.com, pete.davis@enron.com, \n\tryan.slinger@enron.com",
         "1.0",
         "text/plain",
         "us-ascii",
         "7bit\nBcc: albert.meyers@enron.com, bill.williams@enron.com, craig.dean@enron.com, \n\tgeir.solberg@enron.com, john.anderson@enron.com, \n\tmark.guzman@enron.com, michael.mier@enron.com, pete.davis@enron.com, \n\tryan.slinger@enron.com",
         "Schedule Crawler<pete.davis@enron.com>@ENRON",
         "Davis, Pete </O=ENRON/OU=NA/CN=RECIPIENTS/CN=PDAVIS1>",
         "Meyers, Albert </O=ENRON/OU=NA/CN=RECIPIENTS/CN=BMEYERS>, Williams III, Bill </O=ENRON/OU=NA/CN=RECIPIENTS/CN=BWILLIA5>, Dean, Craig </O=ENRON/OU=NA/CN=RECIPIENTS/CN=CDEAN2>, Solberg, Geir </O=ENRON/OU=NA/CN=RECIPIENTS/CN=GSOLBER>, Anderson, John </O=ENRON/OU=NA/CN=RECIPIENTS/CN=JANDERS3>, Guzman, Mark </O=ENRON/OU=NA/CN=RECIPIENTS/CN=MGUZMAN3>, Mier, Michael </O=ENRON/OU=NA/CN=RECIPIENTS/CN=MMIER>, Davis, Pete </O=ENRON/OU=NA/CN=RECIPIENTS/CN=PDAVIS1>, Slinger, Ryan </O=ENRON/OU=NA/CN=RECIPIENTS/CN=RSLINGER>",
         "",
         "\\ExMerge - Solberg, Geir\\Deleted Items",
         "SOLBERG-G",
         "",
         "geir solberg 6-26-02.PST\n\n\n\nStart Date: 2/3/02; HourAhead hour: 10;  No ancillary schedules awarded.  No variances detected.\n\n    LOG MESSAGES:\n\nPARSING FILE -->> O:\\Portland\\WestDesk\\California Scheduling\\ISO Final Schedules\\2002020310.txt"
        ],
        [
         "54646",
         "12518766.1075853090439.JavaMail.evans@thyme",
         "Thu, 25 Oct 2001 07:56:32 -0700 (PDT)",
         "bryant@cheatsheets.net",
         "cheatsheets@yahoogroups.com",
         "[Footballguys] Update # 138  10-25 Week 7 Cheatsheets",
         "1.0",
         "text/plain",
         "us-ascii",
         "7bit",
         "Joe Bryant <bryant@cheatsheets.net>",
         "Cheatsheets Mailing Yahoo <cheatsheets@yahoogroups.com>",
         "",
         "",
         "\\MCUILLA (Non-Privileged)\\Cuilla, Martin\\Deleted Items",
         "Cuilla-M",
         "",
         "MCUILLA (Non-Privileged).pst\n\nHi Folks,\n\nAs always, you can find our latest cheatsheets online here\nhttp://www.footballguys.com/week7cs.htm\n\nBest of luck this week and we hope all the bounces go your way.\n\nJoe & David   \n\n\n/**/**/**/**/**/**/**/**/**/**/**/**/**/**/**/**/\n\n\nQuarterbacks: \n\n1. Warner, StL \n2. Manning, Ind \n3. Garcia, SF \n4. McNabb, Phi \n5. Culpepper, Min \n6. Johnson, TB \n7. Griese, Den (Prob) \n8. Gannon, Oak \n9. Green, KC \n10. Brooks, NO \n11. Batch, Det \n12. Flutie, SD \n13. Weinke, Car (Prob) \n14. Plummer, Ari \n15. Grbac, Bal (Ques) \n16. Miller, Chi \n17. Testaverde, NYJ \n18. Collins, NYG \n19. Brady, NE \n20. McNair, Ten (Ques) \n21. Kitna, Cin \n22. Fiedler, Mia \n23. Johnson, Buf \n24. Stewart, Pit \n25. Brunell, Jac \n\n\nRunning Backs: \n\n1. James, Ind \n2. Tomlinson, SD \n3. Martin, NYJ \n4. Williams, NO \n5. Canidate, StL \n6. Dillon, Cin \n7. Holmes, KC \n8. Alexander, Sea \n9. Bettis, Pit \n10. Pittman, Ari \n11. Smith, Mia (Prob) \n12. Garner, Oak \n13. Thomas, Chi (Prob) \n14. Smith, Dal \n15. George, Ten \n16. Dunn, TB (Ques) \n17. Davis, Was \n18. Smith, NE \n19. Barber, NYG \n20. Hearst, SF \n21. Huntley, Car \n22. Henry, Buf \n23. Chapman, Min \n24. Anderson, Den \n25. Stewart, Det (Ques) \n26. Dayne, NYG \n27. Allen, Bal (Ques) \n28. Staley, Phi (Prob) \n29. Mack, Jac \n30. Buckhalter, Phi \n31. Gary, Den \n32. Alstott, TB \n33. Jones, Ari \n34. Richardson, KC \n35. Brookins, Bal (Prob) \n36. Centers, Buf \n37. Anderson, NYJ \n38. Allen, Chi \n39. Barlow, SF \n40. Zereoue, Pit \n41. Warren, Det \n42. Hambrick, Dal \n43. Kleinsasser, Min \n44. McAllister, NO \n45. Faulk, NE \n\n\nWide Receivers: \n\n1.  Harrison, Ind \n2.  Owens, SF \n3.  Smith, Den (Prob) \n4.  Boston, Ari \n5.  Brown, Oak \n6.  Bruce, StL \n7.  Moss, Min (Prob) \n8.  Holt, StL \n9.  Morton, Det \n10.  Smith, Jac \n11.  Alexander, KC \n12.  Booker, Chi \n13.  Carter, Min \n14.  Brown, NE \n15.  Johnson, TB (Ques) \n16.  Horn, NO \n17.  Muhammad, Car \n18.  Ismail, Bal (Prob) \n19.  Thrash, Phi \n20.  Coles, NYJ \n21.  Toomer, NYG \n22.  Moulds, Buf \n23.  Graham, SD \n24.  Jackson, Sea \n25.  Stokes, SF \n26.  Rice, Oak \n27.  Pinkston, Phi (Ques) \n28.  Warrick, Cin \n29.  Scott, Cin \n30.  Taylor, Bal \n31.  Gadsden, Mia \n32.  Ward, Pit (Prob) \n33.  Jackson, NO \n34.  Galloway, Dal (Ques) \n35.  Glenn, NE (Ques) \n36.  Conway, SD \n37.  Ismail, Dal \n38.  McCardell, Jac \n39.  Price, Buf \n40.  Hakim, StL \n41.  Gardner, Was \n42.  Dyson, Ten \n43.  Thomas, KC (Prob) \n44.  Kennison, Den \n45.  McKnight, Mia \n46.  Sanders, Ari \n47.  Connell, NO \n48.  Hayes, Car \n49.  Hilliard, NYG \n50.  Westbrook, Was \n\n\nTight Ends: \n\n1. Gonzalez, KC \n2. Walls, Car \n3. Sharpe, Bal (Prob) \n4. Becht, NYJ \n5. Lewis, Phi \n6. Wycheck, Ten \n7. Chamberlain, Min \n8. Cleeland, NO \n9. Jones, SD (Ques) \n10. Pollard, Ind \n11. Sloan, Det \n12. Riemersma, Buf \n13. Moore, TB \n14. Clark, Den \n15. Conwell, StL \n16. Brady, Jac \n17. McGee, Cin \n18. Hardy, Ari \n19. Dilger, Ind \n20. Carswell, Den \n21. Kinney, Ten \n22. Williams, Oak \n23. Wiggins, NE \n24. Jones, Jac (Ques) \n25. Fauria, Sea \n\n\nKickers: \n\n1. Wilkins, StL \n2. Elam, Den \n3. Richey, SD \n4. Gramatica, TB \n5. Akers, Phi \n6. Stover, Bal (Prob) \n7. Janikowski, Oak \n8. Vanderjagt, Ind \n9. Carney, NO \n10. Peterson, KC \n11. Brown, Pit \n12. Rackers, Cin \n13. Mare, Mia \n14. Andersen, NYG \n15. Peterson, KC \n16. Nedney, Ten \n17. Hollis, Jac \n18. Hanson, Det \n19. Kasay, Car \n20. Cortez, SF \n21. Edinger, Chi \n22. Hall, NYJ \n23. Gramatica, Ari \n24. Vinatieri, NE \n25. Lindell, Sea \n\n\nDefenses: \n\n1. Baltimore \n2. San Diego \n3. Pittsburgh \n4. Miami \n5. Philadelphia \n6. Tennessee \n7. Tampa Bay \n8. Chicago \n9. New York Giants \n10. St. Louis \n11. New Orleans \n12. Oakland \n13. Denver \n14. Jacksonville \n15. Seattle \n16. Kansas City \n17. Carolina \n18. Minnesota \n19. Arizona \n20. Buffalo \n21. New York Jets \n22. Indianapolis \n23. New England \n24. Cincinnati \n25. San Francisco \n\n\nDefensive Lineman: \n\n1. S. Rogers DET \n2. M. Strahan NYG \n3. W. Sapp TB \n4. C. Hovan MIN \n5. M. Wiley SD \n6. J. Taylor MIA \n7. L. Glover NO \n8. M. McCrary BAL (Prob) \n9. K. Lang WAS (Prob) \n10. H. Douglas PHI \n11. J. Johnson NO (Prob) \n12. T. Brackens JAX \n13. R. Porcher DET (Ques) \n14. T. Sawyer MIN \n15. J. Smith CIN \n16. A. Pleasant NE \n17. J. Abraham NYJ \n18. T. Bryant OAK \n19. J. Kearse TEN \n20. C. Griffin NYG \n21. M. Rucker CAR \n22. T. Pryce DEN \n23. L. Little STL \n24. D. Howard NO \n25. B. Hamilton NE \n26. J. Parella SD \n27. K. Holmes NYG \n28. C. Eaton SEA \n29. D. Ransom KC \n30. D. Gardener MIA \n31. P. Daniels CHI \n32. K. Carter TEN \n33. R. Johnson SD \n34. A. McFarland TB \n35. K. Von Oelhoffen PIT (Prob) \n36. C. Bratzke IND (Ques) \n\n\nLinebackers: \n\n1. K. Mitchell WAS \n2. D. Edwards KC \n3. E. Holmes PIT \n4. K. Mitchell NO \n5. M. Jones NYJ \n6. G. Biekert OAK \n7. A. Wilson DEN \n8. J. Farrior NYJ \n9. B. Urlacher CHI \n10. K. Bell PIT \n11. Z. Thomas MIA \n12. D. Nguyen DAL \n13. T. Spikes CIN \n14. L. Kirkland SEA \n15. J. Trotter PHI \n16. L. Arrington WAS \n17. J. Mobley DEN \n18. K. Hardy JAX \n19. R. Fredrickson ARI \n20. A. Simmons SEA \n21. L. Fletcher STL \n22. R. Lewis BAL \n23. D. Smith SF (Prob) \n24. C. Claiborne DET \n25. J. Foreman BUF \n26. D. Brooks TB (Prob) \n27. B. Cox NE \n28. D. Wells CAR \n29. M. Peterson IND \n30. H. Nickerson JAX \n31. B. Spoon BUF \n32. D. Coakley DAL \n33. J. Armstead NYG \n34. M. Barrow NYG \n35. B. Green DET \n36. R. Phifer NE \n37. L. Towns CAR \n38. C. Brown SEA \n39. C. Clemons NO (Ques) \n40. K. Wong MIN \n41. R. McKinnon ARI \n42. R. Morris IND \n43. M. Patton KC \n44. M. Lewis NYJ \n45. W. Holdman CHI \n46. M. Fields STL \n47. T. Johnson NE \n48. R. Godfrey TEN (Ques) \n\n\nDefensive Backs: \n\n1. R. Harrison SD (Prob) \n2. L. MIlloy NE \n3. M. Minter CAR \n4. D. Woodson DAL \n5. E. Brown DEN \n6. S. Shade WAS \n7. C. Cota IND \n8. S. Knight NO \n9. J. Woods KC \n10. D. Robinson NYJ \n11. R. Woodson BAL \n12. J. Webster SF \n13. M. Coleman NYJ \n14. K. Mathis STL \n15. R. Rice DET \n16. C. Scott PIT \n17. O. Smith NE \n18. S. Williams NYG \n19. T. Parrish CHI \n20. R. McNeil SD \n21. M. McCree JAX \n22. W. Bartee KC \n23. A. Williams STL \n24. R. Tongue SEA \n25. R.W. McQuarters CHI (Prob) \n26. Z. Bronson SF \n27. H. Jones MIN \n28. K. Lassiter ARI \n29. M. Roman CIN \n30. D. Washington PIT \n31. D. O'Neal DEN \n32. E. Kelly MIN \n33. J. Lynch TB \n34. A. Archuleta STL \n35. D. Terrell WAS \n36. R. Beckett SD \n\n\n/**/**/**/**/**/**/**/**/**/**/**/**/**/**/**/**/\n\nBryant Analytics, Inc.   All Rights Reserved 1999-2001\n\n\n\nTo unsubscribe from this group, send an email to:\ncheatsheets-unsubscribe@egroups.com\n\n \n\nYour use of Yahoo! Groups is subject to http://docs.yahoo.com/info/terms/ \n"
        ],
        [
         "45510",
         "29528344.1075857924287.JavaMail.evans@thyme",
         "Sun, 13 May 2001 12:33:00 -0700 (PDT)",
         "enron.announcements@enron.com",
         "all.houston@enron.com",
         "Remote control your air-conditioner and heater",
         "1.0",
         "text/plain",
         "us-ascii",
         "7bit",
         "Enron Announcements",
         "All Enron Houston",
         "",
         "",
         "\\Larry_Campbell_Jun2001\\Notes Folders\\Notes inbox",
         "Campbell-L",
         "",
         "lcampbel.nsf\n\nNewPower to offer another pilot program to Houston employees\n\n\nFree remote energy management solution helps you to manage rising energy \nbills.\nNewPower is launching a revolutionary technology pilot to the first 500 \npeople to sign up in the Houston area.  The NewPower Connections Remote \nEnergy Management Solution is a pilot program designed to give consumers \ncontrol of their thermostat via the Internet.  The program will allow \nthermostats to be adjusted from anywhere, with any Internet-enabled device, \nincluding computers, web-enabled cell phones, palm OS devices, or pocket \nPCs.  Sears Home Central will install and service the Remote Energy \nManagement Solution at no charge throughout the duration of the pilot \nprogram.  For a typical household, the three-month pilot could result in up \nto 10 percent to 15 percent utility bill savings, based on personal usage and \nthe size of your home.  \n\n\nBe among the first to participate absolutely free.\nEnrollment with the NewPower Connections Remote Energy Management Solution \npilot program starts May 14 and continues through the end of the month.  For \nmore information about this offer, visit NewPower's table located in the \nPlaza of the Enron Building near the down escalator from 11:00 a.m. to 2 p.m. \nduring the week of May 14.  To become a pilot participant you need only to be \na homeowner in the Houston area and have Internet access.  You do not even \nhave to be a NewPower electricity customer to participate.  For more \ninformation about NewPower Connections, send an e-mail to \nconnections@newpower.com.\n\n\nDisclaimers:\nAny contract for goods or services that is entered into by an Enron employee \nwith respect to the NewPower program shall be solely between NewPower and \nsuch employee.  Enron assumes no obligation on behalf of NewPower and makes \nno representations, warranties, or guaranties with respect to NewPower, any \ngoods or services offered or provided by NewPower.  Home.Enron.com"
        ],
        [
         "23198",
         "1900174.1075849817238.JavaMail.evans@thyme",
         "Mon, 22 Jan 2001 03:52:00 -0800 (PST)",
         "louise.kitchen@enron.com",
         "nicki.daw@enron.com",
         "Re: Business Cards\nCc: sally.beck@enron.com",
         "1.0",
         "text/plain",
         "us-ascii",
         "7bit\nBcc: sally.beck@enron.com",
         "Louise Kitchen",
         "Nicki Daw",
         "Sally Beck",
         "",
         "\\Sally_Beck_Nov2001\\Notes Folders\\All documents",
         "BECK-S",
         "",
         "sbeck.nsf\n\nEveryone should be using Enron Net Works LLC in Sally's group from 1.1.2001.\n\nThanks\n\n\n\n\nNicki Daw@ENRON\n01/22/2001 10:51 AM\nTo: Louise Kitchen/HOU/ECT@ECT\ncc:  \n\nSubject: Business Cards\n\nLouise,\n\nI don't think I have seen you this year - Happy New Year!\n\nI have been asked what company name should be put on the business cards of \nsome of Sally Beck's group.  I have been telling most people to stick with \nthey organisation names e.g. Enron North America or Enron South America, \nrather than Enron Americas/Enron Wholesale Services.  Do you want everybody \nto use Enron Net Works, or should the trading support groups use their \nbusiness unit names ENA, EGM, EIM?\n\nSee you soon.\n\nNicki\n\nP.S.  Mark gave me a voucher for Urban Retreat for Christmas, which I am very \npleased with.  Sue's jealous, she got crystal!\n\n"
        ],
        [
         "296071",
         "18740567.1075858281582.JavaMail.evans@thyme",
         "Wed, 28 Feb 2001 08:28:00 -0800 (PST)",
         "phillip.love@enron.com",
         "jackson.logan@enron.com",
         "Re: A MUST HAVE!!!!",
         "1.0",
         "text/plain",
         "us-ascii",
         "7bit",
         "Phillip M Love",
         "Jackson Logan",
         "",
         "",
         "\\Phillip_Love_Jun2001\\Notes Folders\\Sent",
         "Love-P",
         "",
         "plove.nsf\n\njust a little out of my price range.\nPL"
        ],
        [
         "425421",
         "12438241.1075844479845.JavaMail.evans@thyme",
         "Tue, 17 Oct 2000 09:51:00 -0700 (PDT)",
         "cindy.buckley@enron.com",
         "sara.shackleton@enron.com",
         "Re: U.K. arranger for ENA and ECT Investments, Inc.",
         "1.0",
         "text/plain",
         "us-ascii",
         "7bit",
         "Cindy Buckley",
         "Sara Shackleton",
         "",
         "",
         "\\Sara_Shackleton_Dec2000_June2001_1\\Notes Folders\\Notes inbox",
         "SHACKLETON-S",
         "",
         "sshackle.nsf\n\nHi Sara\n\nI'm not sure what you mean by signature block but if you mean who are the \ndirectors that can sign they are:\n\n1 Michael Brown;\n2 Fernley Dyson;\n3 Mark Evans.\n\nRegards"
        ],
        [
         "117489",
         "8616949.1075842459289.JavaMail.evans@thyme",
         "Thu, 13 Jul 2000 05:18:00 -0700 (PDT)",
         "drew.fossum@enron.com",
         "bill.votaw@enron.com, william.gang@enron.com",
         "Pueblo\nCc: steven.harris@enron.com, kevin.hyatt@enron.com",
         "1.0",
         "text/plain",
         "us-ascii",
         "7bit\nBcc: steven.harris@enron.com, kevin.hyatt@enron.com",
         "Drew Fossum",
         "Bill Votaw, William Gang",
         "Steven Harris, Kevin Hyatt",
         "",
         "\\Drew_Fossum_Dec2000_June2001_1\\Notes Folders\\Discussion threads",
         "FOSSUM-D",
         "",
         "dfossum.nsf\n\nSorry, I neglected to forward this to you earlier.   You've gotta give these \nguys credit for being tenacious!  I'll keep you posted on any meaningful \ndevelopments after their meeting with DOE on the 25th.  Thanks for your \npatience.  DF \n---------------------- Forwarded by Drew Fossum/ET&S/Enron on 07/13/2000 \n12:15 PM ---------------------------\n   \n\t\n\t\n\tFrom:  Drew Fossum                           07/10/2000 02:39 PM\n\t\n\nTo: Steven Harris/ET&S/Enron@Enron, Kevin Hyatt/ET&S/Enron@Enron, Lorraine \nLindberg/ET&S/Enron@ENRON\ncc:  \n\nSubject: Pueblo\n\n Just got an update on the project that won't go away.  Dennis has a meeting \nlined up with DOE decisionmakers on the 25th.  He is going to pitch the \nproject as an approximately 100 mw power plant, to be owned by (read \n\"financed by\") DOE, with the gas pipeline owned by Dennis and\\or third \nparties (read \"Enron\"?).  Dennis has run economics that show the DOE will get \na more than 10% cost savings on the project compared to current PNM rates, \neven assuming a fairly high gas transport cost because of the smaller gas \nload.  How did he do it?  Very easy:  they ran the power plant economics \nusing about a $2.00 gas cost instead of current, real world prices.   Dennis' \nargument is going to be:  \"I'll take the risk on building the pipeline and \nthe power plant at a capped cost, and then sell the power plant to you.\"  \n\"You take the risk on gas cost:  if gas cost tracks the 18-24 month average, \nyou will realize your 10% cost savings, but if current fuel costs continue or \nescalate, you lose.\"    Either way, your reliability improves and you kick \nPNM in the shins.\"  Dennis and Tino apparently think they can sell DOE on \nthis.  By the way, their current story on Richardson is that he won't resign, \nand won't be forced out by the administration because that would create even \nmore publicity.  You'll love this:  they think Richardson is even more likely \nto sign off on the deal now because his chances of being nominated for VP or \ncabinet are dead and he now has nothing to lose in DC.  They think his real \nangle is now to bring home the bacon to New Mexico and then run for governor \nout there!!  Apparently the rank and file out in the home state think he got \nhosed and made a scapegoat unfairly.  \n I've asked  Lorna Brennan to pull some historical San Juan prices together \nto give to Tino to confirm whether his $2 price is wacky.  Other than that, I \njust told Tino that we are potentially interested in the pipeline part of the \nproject if the risks and rewards make sense, and that EE&CC might be \ninterested in the design/build on all of it.  He said he'd get back to me \nafter the 25th meeting and tell me whether the project is undead.  DF    \n"
        ],
        [
         "489601",
         "32522681.1075861724920.JavaMail.evans@thyme",
         "Tue, 13 Nov 2001 22:00:00 -0800 (PST)",
         "infopost@duke-energy.com",
         "infopost@duke-energy.com",
         "TE Capacity for length restricted",
         "1.0",
         "text/plain",
         "us-ascii",
         "7bit",
         "infopost@duke-energy.com@ENRON",
         "infopost@duke-energy.com",
         "",
         "",
         "\\JTOWNSE (Non-Privileged)\\Townsend, Judy\\Deleted Items",
         "Townsend-J",
         "",
         "JTOWNSE (Non-Privileged).pst\n\nNovember 14, 2001\n\nWeather forecasts would indicate low demand conditions through the\nThanksgiving Holiday's.  TEXAS EASTERN TRANSMISSION (TE) is facing high\nline pack levels and full storage.  Thus the pipe has severely\nrestricted ability to absorb due-shipper gas.  Effective immediately,\nand continuing through the end of the month, TE is requiring that:\n     -    All shippers ensure their physical receipts do not exceed  physical\n       deliveries.\n     -    Receipt operators are expected to not flow above scheduled volumes.\n     -    Delivery meters are expected to take all gas scheduled.\n     -    Any customer who is long should take immediate action to resolve\n       due-shipper positions.\n\nNo due-pipeline makeup gas may be scheduled. OBA parties should ensure\nthat physical takes match scheduled nominations. Due-shipper makeup gas\nmay be scheduled through your Operations Account Manager.  These\nrestrictions are expected to be in effect until further notice.\n\nPlease contact your Operations Account Manager if you have any\nquestions.\n\n\n\n*******************************************************************\n\nNOTE:\n\nDuke Energy Gas Transmission respects your online time and privacy.\nYou have received this email because you elected to subscribe. To\nunsubscribe, login to the E-mail Notification Subscription page at\nhttp://www.link.duke-energy.com/script2/Notification.asp\nuncheck the appropriate checkbox, and click the Submit button."
        ],
        [
         "184927",
         "4942863.1075847018011.JavaMail.evans@thyme",
         "Fri, 6 Oct 2000 10:27:00 -0700 (PDT)",
         "enron.announcements@enron.com",
         "all.downtown@enron.com",
         "United HealthCare Contracting Update",
         "1.0",
         "text/plain",
         "us-ascii",
         "7bit",
         "Enron Announcements",
         "All Enron Downtown",
         "",
         "",
         "\\Tanya_Jones_Dec2000\\Notes Folders\\All documents",
         "JONES-T",
         "",
         "tjones.nsf\n\nTO: Houston Area Employees Participating in Domestic Medical Plan Benefits\n\nFROM: Enron Human Resources\n\n\nWe are pleased to pass along to you the fact that United HealthCare (UHC) and \nMemorial Herman Health Systems (MHHS) reached agreement on a long-term \ncontract.   There will be no disruption in terms of accessing network \nservices from the hospital system or those providers who were scheduled to be \nterminated.  Employees currently electing UHC will receive a confirming \nletter shortly from UHC.\n\nAs mentioned in our earlier memo, it is our understanding that Cigna has also \nbeen contacted by MHHS and are now in contract negotiations. \n\nOpen Enrollment packages are in the mail and you should consider the above \nfacts when making your decision on your medical election.\n\n "
        ],
        [
         "464247",
         "21744293.1075841672619.JavaMail.evans@thyme",
         "Mon, 12 Mar 2001 08:04:00 -0800 (PST)",
         "kerri.thompson@enron.com",
         "kate.symes@enron.com",
         "apb checkout",
         "1.0",
         "text/plain",
         "us-ascii",
         "7bit",
         "Kerri Thompson",
         "Kate Symes",
         "",
         "",
         "\\kate symes 6-27-02\\Notes Folders\\All documents",
         "SYMES-K",
         "",
         "kate symes 6-27-02.nsf\n\n547298, broker is not showing\n"
        ],
        [
         "324375",
         "871367.1075841193439.JavaMail.evans@thyme",
         "Tue, 8 Jan 2002 06:26:20 -0800 (PST)",
         "carrfuturesenergy@carrfut.com",
         "rvujtech@carrfut.com",
         "Daily energy letter 1/8",
         "1.0",
         "text/plain",
         "ANSI_X3.4-1968",
         "7bit",
         "CarrFuturesEnergy@carrfut.com@ENRON",
         "rvujtech@carrfut.com",
         "",
         "",
         "\\ExMerge - May, Larry\\Inbox",
         "MAY-L",
         "",
         "larry may 6-26-02.PST\n\nThe information contained herein is based on sources that we believe to be\nreliable, but we do not represent that it is accurate or complete.  Nothing\ncontained herein should be considered as an offer to sell or a solicitation\nof an offer to buy any financial instruments discussed herein.  Any\nopinions expressed herein are solely those of the author.  As such, they\nmay differ in material respects from those of, or expressed or published by\non behalf of Carr Futures or its officers, directors, employees or\naffiliates.  ? 2001 Carr Futures\n\n\nThe charts are now available on the web by clicking on the hot link(s)\ncontained in this email. If for any reason you are unable to receive the\ncharts via the web, please contact me via email and I will email the charts\nto you as attachments.\n\n\n\n\nDaily Energy Letter\nhttp://www.carrfut.com/research/Energy1/Energy-Letter1-8-02.pdf\n"
        ],
        [
         "29821",
         "15075995.1075855881770.JavaMail.evans@thyme",
         "Mon, 17 Apr 2000 06:27:00 -0700 (PDT)",
         "michael.moscoso@enron.com",
         "sally.beck@enron.com",
         "Re: Position in Risk Controls",
         "1.0",
         "text/plain",
         "us-ascii",
         "7bit",
         "Michael E Moscoso",
         "Sally Beck",
         "",
         "",
         "\\Sally_Beck_Dec2000\\Notes Folders\\Moscoso, mike",
         "Beck-S",
         "",
         "sbeck.nsf\n\nSally,\n\nThis is the reply from Kevin Sweeney regarding our inquiry for a London \nemployee to fill our Liquids position in my group.\n\nMike\n---------------------- Forwarded by Michael E Moscoso/HOU/ECT on 04/17/2000 \n01:20 PM ---------------------------\n\n\nKevin Sweeney\n04/14/2000 01:53 PM\nTo: Michael E Moscoso/HOU/ECT@ECT\ncc: Tani Nath/LON/ECT@ECT, Scott Earnest/HOU/ECT@ECT, Tim \nPoullain-Patterson/LON/ECT@ECT \nSubject: Re: Position in Risk Controls  \n\nMike,\n\nThe Global Products team met yesterday to discussing current staffing \nissues.  We are going to be short London risk people with some of the current \nchanges that are taking place within the Global Products groups and really \nwouldn't be able to consider someone until later this year maybe late Q4.\n\nPlease let me know if I can be of further assistance.\n\nKevin\n\n\n   \n\tEnron Capital & Trade Resources Corp.\n\t\n\tFrom:  Michael E Moscoso                           04/14/2000 08:10 AM\n\t\n\nTo: Kevin Sweeney/HOU/ECT@ECT\ncc:  \nSubject: Re: Position in Risk Controls  \n\nKevin,\n\nAny thoughts at this point?\n\nMike\n\n\n\nKevin Sweeney\n04/12/2000 01:21 PM\nTo: Michael E Moscoso/HOU/ECT@ECT\ncc: Scott Earnest/HOU/ECT@ECT, Bjorn Hagelmann/HOU/ECT@ECT, Fernley \nDyson/LON/ECT@ECT \nSubject: Re: Position in Risk Controls  \n\nMike,\n\nScott Earnest, Tani Nath, Tim Poullain-Patterson, and myself are having a \ndiscussion around staffing tomorrow, and will discuss your proposal as a part \nof that.\n\nI will let you know our thoughts post that meeting.\n\nKevin\n\n\n\n\n\n\n"
        ],
        [
         "259847",
         "21716589.1075840893625.JavaMail.evans@thyme",
         "Mon, 11 Jun 2001 09:51:00 -0700 (PDT)",
         "enron.cuttings@enron.com",
         "jackie.gentle@enron.com, andrew.morrison@enron.com, stu.staley@enron.com, \n\ttom.kearney@enron.com, george.mcclellan@enron.com, \n\triaz.rizvi@enron.com, candace.parker@enron.com, \n\tpaul.dawson@enron.com, samuel.grossman@enron.com, \n\tjohn.moran@enron.com, peter.bradley@enron.com, jez.peters@enron.com, \n\telizabeth.mccarthy@enron.com, tiffany.cochran@enron.com, \n\tkatrina.bensadon@enron.com, sven.becker@enron.com, \n\tfiona.grant@enron.com, alvaro.garcia@enron.com, \n\tchristopher.harris@enron.com, delphine.massart@enron.com, \n\tlouise.kitchen@enron.com, john.sherriff@enron.com, \n\tmark.palmer@enron.com, joe.gold@enron.com, amita.gosalia@enron.com, \n\tmarcello.romano@enron.com, rahil.jafry@enron.com, \n\trichard.lewis@enron.com, michael.brown@enron.com, \n\tdavid.forster@enron.com, angela.connelly@enron.com, \n\tpaul.goddard@enron.com, kal.shah@enron.com, julie.green@enron.com, \n\tdave.samuels@enron.com, bruce.garner@enron.com, \n\talex.parsons@enron.com, enron.group@enron.com, eol.europe@enron.com",
         "Coal trade...",
         "1.0",
         "text/plain",
         "us-ascii",
         "7bit",
         "Enron Media Cuttings <Enron Media Cuttings@ENRON>",
         "Jackie Gentle <Jackie Gentle/LON/ECT@ECT>, Andrew Morrison <Andrew Morrison/Enron@EUEnronXGate>, Stu Staley <Stu Staley/Enron@EUEnronXGate>, Tom Kearney <Tom Kearney/ENRON@EUEnronXGate>, George McClellan <George McClellan/Enron@EnronXGate>, Riaz Rizvi <Riaz Rizvi/Enron@EUEnronXGate>, Candace Parker <Candace Parker/Enron@EUEnronXGate>, Paul Dawson <Paul Dawson/Enron@EUEnronXGate>, Samuel Grossman <Samuel Grossman/Enron@EUEnronXGate>, John Moran <John Moran/ENRON@EUEnronXGate>, Peter Bradley <Peter Bradley/Enron@EUEnronXGate>, Jez Peters <Jez Peters/ENRON_DEVELOPMENT@ENRON_DEVELOPMENT>, Elizabeth McCarthy <Elizabeth McCarthy/LON/ECT@ECT>, Tiffany Cochran <Tiffany Cochran/Enron@EUEnronXGate>, Katrina Bensadon <Katrina Bensadon/LON/ECT@ECT>, Sven Becker <Sven Becker/Enron@EUEnronXgate>, Fiona Grant <Fiona Grant/Enron@EUEnronXGate>, Alvaro Garcia <Alvaro Garcia/Enron@EUEnronXGate>, Christopher Harris <Christopher Harris/Enron@EUEnronXGate>, Delphine Massart <Delphine Massart/Enron@EUEnronXGate>, Louise Kitchen <Louise Kitchen/HOU/ECT@ECT>, John Sherriff <John Sherriff/ENRON@EUEnronXGate>, Mark Palmer <Mark Palmer/Corp/Enron@ENRON>, Joe Gold <Joe Gold/Enron@EUEnronXGate>, Amita Gosalia <Amita Gosalia/Enron@EUEnronXGate>, Marcello Romano <Marcello Romano/Enron Communications@Enron Communications>, Rahil Jafry <Rahil Jafry/ENRON@enronXgate>, Richard Lewis <Richard Lewis/Enron@EUEnronXGate>, Michael Brown <Michael Brown/Enron@EUEnronXGate>, David Forster <David Forster/Enron@EnronXGate>, Angela Connelly <Angela Connelly/LON/ECT@ECT>, Paul Goddard <Paul Goddard/Enron@EUEnronXGate>, Kal Shah <Kal Shah/Enron@EnronXGate>, Julie Green <Julie Green/Enron@EUEnronXGate>, Dave Samuels <Dave Samuels/Enron@EnronXGate>, Bruce Garner <Bruce Garner/Enron@EUEnronXGate>, Alex Parsons <Alex Parsons/Enron@EUEnronXGate>, Enron London - EOL Product Control Group <Enron London - EOL Product Control Group/LON/ECT@ECT>, EOL Marketing Europe <EOL Marketing Europe@ECT>",
         "",
         "",
         "\\ExMerge - Kitchen, Louise\\'Americas\\Press",
         "KITCHEN-L",
         "",
         "louise kitchen 2-7-02.pst\n\nPlease find attached the following article/s:\n'E-markets stage quiet revolution in coal trade' - Lloyds List\n\n \nKind Regards,\nKuldeep Chana"
        ],
        [
         "435863",
         "6877080.1075844220643.JavaMail.evans@thyme",
         "Mon, 14 May 2001 05:08:00 -0700 (PDT)",
         "jeff.dasovich@enron.com",
         "skean@enron.com, richard.shapiro@enron.com, james.steffes@enron.com, \n\talan.comnes@enron.com, karen.denne@enron.com, \n\tjanel.guerrero@enron.com, susan.mara@enron.com, \n\tsandra.mccubbin@enron.com, paul.kaufman@enron.com, \n\tsusan.landwehr@enron.com, linda.robertson@enron.com, \n\ttom.briggs@enron.com, joe.hartsoe@enron.com, leslie.lawner@enron.com, \n\tharry.kingerski@enron.com, jennifer.thome@enron.com, \n\trobert.neustaedter@enron.com",
         "Backgrounder for McNealy",
         "1.0",
         "text/plain",
         "us-ascii",
         "7bit",
         "Jeff Dasovich",
         "skean@enron.com, Richard Shapiro, James D Steffes, Alan Comnes, Karen Denne, Janel Guerrero, Susan J Mara, Sandra McCubbin, Paul Kaufman, Susan M Landwehr, Linda Robertson, Tom Briggs, Joe Hartsoe, Leslie Lawner, Harry Kingerski, Jennifer Thome, Robert Neustaedter",
         "",
         "",
         "\\Richard_Shapiro_June2001\\Notes Folders\\California",
         "SHAPIRO-R",
         "",
         "rshapiro.nsf\n\nGreetings:\nAs folks heard, Ken Lay met with some California CEOs last Friday back East.  \nAs a result of that meeting, McNealy, CEO for Sun, asked for some background \nand more detail on what Ken Lay proposed as a solution for California during \nhis meetings in California over the past couple of weeks.  McNealy and others \nhave expressed a willingness to make phone calls to policymakers, etc. to try \nto advance the ball.\n\nI pulled this together very hastily on Friday and take responsibility for all \nerrors, omissions, ramblings, etc.  Wanted to distribute, however, to make \nsure that all had the info that is getting distributed.  Know folks are busy, \nbut this will likely get distributed to other CEOs this week, so any \ncomments, suggestions, etc. about how to improve are welcome and appreciated.\n\nBest,\nJeff\n"
        ],
        [
         "157856",
         "32886092.1075860342632.JavaMail.evans@thyme",
         "Wed, 28 Mar 2001 06:32:00 -0800 (PST)",
         "lysa.akin@enron.com",
         "jeffn@subutil.com",
         "RE: WP-02 Data Responses SL-SP:001 through SL-SP:006",
         "1.0",
         "text/plain",
         "us-ascii",
         "7bit",
         "Lysa Akin",
         "NELSON Jeff <jeffn@subutil.com> @ ENRON",
         "",
         "",
         "\\Mary_Hain_Aug2000_Jul2001\\Notes Folders\\All documents",
         "Hain-M",
         "",
         "mary-hain.nsf\n\nMary Hain has resigned her position with Enron.  Please remove her from all \nyour mail lists.\n\nThank you.\n\nLysa Akin\nGov't Affairs - Sr. Admin. Ass't.\n\n\n\n   \n\tEnron Capital & Trade Resources Corp.\n\t\n\tFrom:  NELSON Jeff <jeffn@subutil.com>                           03/21/2001 \n04:20 PM\n\t\n\nTo: \"'Westenberg, Sarah A - LP-7'\" <sawestenberg@bpa.gov>, \n\"'abuckley@wutc.wa.gov'\" <abuckley@wutc.wa.gov>, \"'alan@epud.org'\" \n<alan@epud.org>, \"'ali.rodol@ci.seattle.wa.us'\" <ali.rodol@ci.seattle.wa.us>, \n\"'archive-power-ratecase@bpa.gov'\" <archive-power-ratecase@bpa.gov>, \n\"'aw_turner@pgn.com'\" <aw_turner@pgn.com>, \"'BASSL@sce.com'\" <BASSL@sce.com>, \n\"'bessex@cowlitzpud.org'\" <bessex@cowlitzpud.org>, \"'bferranti@mbllp.com'\" \n<bferranti@mbllp.com>, \"'bpadiscovery@merkellaw.com'\" \n<bpadiscovery@merkellaw.com>, \"'ccopatrny@e-z.net'\" <ccopatrny@e-z.net>, \n\"'crow@millernash.com'\" <crow@millernash.com>, \"'cub@teleport.com'\" \n<cub@teleport.com>, \"'cwagers@dcpud.org'\" <cwagers@dcpud.org>, \n\"'dan.meek@usa.net'\" <dan.meek@usa.net>, \"'darcy@tonkon.com'\" \n<darcy@tonkon.com>, \"'darkills@popud.com'\" <darkills@popud.com>, \n\"'dbkinnard@pplmt.com'\" <dbkinnard@pplmt.com>, \"'dfaulk@puget.com'\" \n<dfaulk@puget.com>, \"'discoveryparalegal@bpa.gov'\" \n<discoveryparalegal@bpa.gov>, \"'dldorrell@stoel.com'\" <dldorrell@stoel.com>, \n\"'dmacgregor@morganlewis.com'\" <dmacgregor@morganlewis.com>, \n\"'doney@doneylaw.com'\" <doney@doneylaw.com>, \"'doug_brawley@pngc.com'\" \n<doug_brawley@pngc.com>, \"'dparrish@prmllp.com'\" <dparrish@prmllp.com>, \n\"'dws@keywaycorp.com'\" <dws@keywaycorp.com>, \"'eauverde@hotmail.com'\" \n<eauverde@hotmail.com>, \"'eboyd@ppcpdx.org'\" <eboyd@ppcpdx.org>, \n\"'efinklea@energyadvocates.com'\" <efinklea@energyadvocates.com>, \n\"'elisaCKF@aol.com'\" <elisaCKF@aol.com>, \"'EnerGlaw@aol.com'\" \n<EnerGlaw@aol.com>, \"'Eric.Larson@oremetwahchang.com'\" \n<Eric.Larson@oremetwahchang.com>, \"'erick_johnson@pngc.com'\" \n<erick_johnson@pngc.com>, \"'ghuhta@cowlitzpud.org'\" <ghuhta@cowlitzpud.org>, \n\"'huse@eesconsulting.com'\" <huse@eesconsulting.com>, \"'ias@dvclaw.com'\" \n<ias@dvclaw.com>, \"'jack.speer@alcoa.com'\" <jack.speer@alcoa.com>, \n\"'jacksonc@ida.net'\" <jacksonc@ida.net>, \"'janet.prewitt@state.or.us'\" \n<janet.prewitt@state.or.us>, \"'jdeason@chbh.com'\" <jdeason@chbh.com>, \n\"'jhartso@enron.com'\" <jhartso@enron.com>, \"'JLH@mc-power.com'\" \n<JLH@mc-power.com>, \"'johk@critfc.org'\" <johk@critfc.org>, \n\"'john.yanov@eweb.eugene.or.us'\" <john.yanov@eweb.eugene.or.us>, \n\"'johncameron@dwt.com'\" <johncameron@dwt.com>, \"'jolynnr@mresearch.com'\" \n<jolynnr@mresearch.com>, \"'jpw@duncanallen.com'\" <jpw@duncanallen.com>, \n\"'jrb_ora@televar.com'\" <jrb_ora@televar.com>, \"'jsaven@pacifier.com'\" \n<jsaven@pacifier.com>, \"'jschlect@avistacorp.com'\" <jschlect@avistacorp.com>, \n\"'kevin.clark@ci.seattle.wa.us'\" <kevin.clark@ci.seattle.wa.us>, \n\"'kknitte@gcpud.org'\" <kknitte@gcpud.org>, \"'kmoxness@cencoast.com'\" \n<kmoxness@cencoast.com>, \"'kpom@mail.pacifier.com'\" <kpom@mail.pacifier.com>, \n\"'kyle@ppcpdx.org'\" <kyle@ppcpdx.org>, \"'lawyer@teleport.com'\" \n<lawyer@teleport.com>, \"'Lhamilton@avistaenergy.com'\" \n<Lhamilton@avistaenergy.com>, \"'lpeters@pacifier.com'\" \n<lpeters@pacifier.com>, \"'lwolv@worldaccessnet.com'\" \n<lwolv@worldaccessnet.com>, \"'lyn_williams@pgn.com'\" <lyn_williams@pgn.com>, \n\"'marc.hellman@state.or.us'\" <marc.hellman@state.or.us>, \n\"'marss@perkinscoie.com'\" <marss@perkinscoie.com>, \"'matts1@atg.wa.gov'\" \n<matts1@atg.wa.gov>, \"'mershanlaw@aol.com'\" <mershanlaw@aol.com>, \n\"'mhain@ect.enron.com'\" <mhain@ect.enron.com>, \"'michaelearly@earthlink.net'\" \n<michaelearly@earthlink.net>, \"'mike.macdougall@powerex.com'\" \n<mike.macdougall@powerex.com>, \"'mmetzler@ci.tacoma.wa.us'\" \n<mmetzler@ci.tacoma.wa.us>, \"'mschaff@worldnet.att.net'\" \n<mschaff@worldnet.att.net>, \"'mthomas@mtpower.com'\" <mthomas@mtpower.com>, \n\"'Paul@KinergyLLC.com'\" <Paul@KinergyLLC.com>, \"'pete.forsyth@kaiseral.com'\" \n<pete.forsyth@kaiseral.com>, \"'pete@ashland.or.us'\" <pete@ashland.or.us>, \n\"'peter@richardsonandoleary.com'\" <peter@richardsonandoleary.com>, \n\"'pfox@bracepatt.com'\" <pfox@bracepatt.com>, \"'pljacklin@stoel.com'\" \n<pljacklin@stoel.com>, \"'pmurphy@mbllp.com'\" <pmurphy@mbllp.com>, \n\"'pnichols@idahopower.com'\" <pnichols@idahopower.com>, \n\"'pobenchain@idahopower.com'\" <pobenchain@idahopower.com>, \n\"'pspi@dynegy.com'\" <pspi@dynegy.com>, \"'pvickery@tpud.org'\" \n<pvickery@tpud.org>, \"'rachel@rnp.org'\" <rachel@rnp.org>, \n\"'ratecase@pngc.com'\" <ratecase@pngc.com>, \"'rates@ppcpdx.org'\" \n<rates@ppcpdx.org>, \"'rbstrong@painehamblen.com'\" \n<rbstrong@painehamblen.com>, \"'rdb@keywaycorp.com'\" <rdb@keywaycorp.com>, \n\"'rfoiani@gcpud.org'\" <rfoiani@gcpud.org>, \"'rkindley@schwabe.com'\" \n<rkindley@schwabe.com>, \"'rle@givenspursley.com'\" <rle@givenspursley.com>, \n\"'rpierce@avistaenergy.com'\" <rpierce@avistaenergy.com>, \n\"'scott.brattebo@pacificorp.com'\" <scott.brattebo@pacificorp.com>, \n\"'seligman@teleport.com'\" <seligman@teleport.com>, \"'simonf@atg.wa.gov'\" \n<simonf@atg.wa.gov>, \"'sjohnsto@wutc.wa.gov'\" <sjohnsto@wutc.wa.gov>, \n\"'skaravit@ci.tacoma.wa.us'\" <skaravit@ci.tacoma.wa.us>, \n\"'stephens@eslerstephens.com'\" <stephens@eslerstephens.com>, \n\"'steve@nwenergy.org'\" <steve@nwenergy.org>, \"'tdeboer@painehamblen.com'\" \n<tdeboer@painehamblen.com>, \"'terrym@millcreeklaw.com'\" \n<terrym@millcreeklaw.com>, \"'tgrim@chbh.com'\" <tgrim@chbh.com>, \n\"'townsend@chbh.com'\" <townsend@chbh.com>, \"'tracigrundon@dwt.com'\" \n<tracigrundon@dwt.com>, \"'tstevenson@ci.burbank.ca.us'\" \n<tstevenson@ci.burbank.ca.us>, \"'weavertr@yakima-wa.com'\" \n<weavertr@yakima-wa.com>, \"'wmgt3@montana.com'\" <wmgt3@montana.com>\ncc: \"'kevin.clark@ci.seattle.wa.us'\" <kevin.clark@ci.seattle.wa.us>, \n\"'Lovell, Byrne - KP-7'\" <belovell@bpa.gov> \nSubject: RE: WP-02 Data Responses SL-SP:001 through SL-SP:006\n\n\n Attached are SUB's Data Responses to Bonneville Power\nAdministration's Data Request.  These files are sent electronically via\ne-mail due to potential problems with the Discovery site.\n\n>  <<Data Response BPA_SP_009.doc>>  <<Data_Response_BPA_SP_009.xls>>\n> <<IOU04.xls>>\n>\nJeff Nelson\nResource Projects Manager\nSpringfield Utility Board\nPhone: (541) 744 - 3779\nFax: (541) 744 - 2263\ne-mail: jeffn@subutil.com\n\n\n - Data Response BPA_SP_009.doc\n - Data_Response_BPA_SP_009.xls\n - IOU04.xls\n\n"
        ],
        [
         "237785",
         "13655849.1075850993736.JavaMail.evans@thyme",
         "Fri, 8 Jun 2001 10:55:00 -0700 (PDT)",
         "ursula.brenner@enron.com",
         "dnomen@eurelectric.org",
         "Eurelectric Conference\nCc: steven.kean@enron.com, peter.styles@enron.com, maureen.mcvicker@enron.com",
         "1.0",
         "text/plain",
         "us-ascii",
         "7bit\nBcc: steven.kean@enron.com, peter.styles@enron.com, maureen.mcvicker@enron.com",
         "Ursula Brenner",
         "DNOMEN@EURELECTRIC.ORG",
         "Steven J Kean, Peter Styles, Maureen McVicker",
         "",
         "\\Steven_Kean_Oct2001_2\\Notes Folders\\Attachments",
         "KEAN-S",
         "",
         "skean.nsf\n\nThis is the presentation Mr. Kean will be using on June 12, 2001.  He will \nhave a CD with him as a backup.\n\n\n\nRegards,\n\nUrsula Brenner\nENRON CORP.\n+1(713)345-3787\n\nThis message (including any attachments) contains confidential information \nintended for a specific individual and purpose, and is protected by law. If \nyou are not the intended recipient, you should delete this message and are \nhereby notified that any disclosure, copying, or distribution of this \nmessage, or the taking of any action based on it, is strictly prohibited. "
        ],
        [
         "129834",
         "20703532.1075853768486.JavaMail.evans@thyme",
         "Wed, 30 Aug 2000 01:33:00 -0700 (PDT)",
         "chris.germany@enron.com",
         "robert.allwein@enron.com, joann.collins@enron.com, kyle.lilly@enron.com, \n\tcrystal.hyde@enron.com",
         "CGAS Storage",
         "1.0",
         "text/plain",
         "us-ascii",
         "7bit",
         "Chris Germany",
         "Robert Allwein, Joann Collins, Kyle R Lilly, Crystal Hyde",
         "",
         "",
         "\\Chris_Germany_Dec2000\\Notes Folders\\Discussion threads",
         "Germany-C",
         "",
         "cgerman.nsf\n\nDick wants to over inject as much as possible for the holiday weekend.  I \nadjusted the deal tickets in Sitara.  We will inject 31,463 on the 1st, and \n31454 on the 2nd-5th.  Our injections drop to 25172 on the 6th.\n\n"
        ],
        [
         "346258",
         "18279440.1075842759594.JavaMail.evans@thyme",
         "Wed, 7 Feb 2001 16:30:00 -0800 (PST)",
         "enron.announcements@enron.com",
         "all_ena_egm_eim@enron.com",
         "EnTouch Newsletter",
         "1.0",
         "text/plain",
         "ANSI_X3.4-1968",
         "quoted-printable",
         "Enron Announcements",
         "All_ENA_EGM_EIM",
         "",
         "",
         "\\Gerald_Nemec_Dec2000_June2001_2\\Notes Folders\\All documents",
         "NEMEC-G",
         "",
         "gnemec.nsf\n\nBUSINESS HIGHLIGHTS\n\nEast Power Group\nThe East Power Group is off to another strong start in 2001.  The realignme=\nnt=20\nof the group into regional business units with joint trading, mid-marketing=\n,=20\nand origination operations has proven to be a catalyst for deal flow,=20\nproducing both a high volume of transactions and high value.  More=20\ntransactions were executed in January than any month last year, including o=\nne=20\ndeal that will bring tremendous strategic value to Enron as well.\n\nExecuted in January, was the purchase of two 35 MW coal-fired cogeneration=\n=20\nfacilities located in southeastern North Carolina.  ENA will supply steam t=\no=20\nthe industrial host, Alamac Knit Fabrics, and will sell power into the=20\nmerchant market.  The plants are inside Carolina Power & Light's service=20\nterritory, which is connected to AEP, Virginia Power, Duke, SCEG and SCPSA.=\n =20\nThese plants are the first purely merchant facilities in North Carolina. =\n=20\nThis deal exemplifies how Enron leverages its talent in that originators fr=\nom=20\nthe East Power Group and Industrial Markets Group joined forces to bring th=\nis=20\ndeal to execution.  They also leveraged the Global Markets group to manage=\n=20\nthe coal supply and emissions issues.\n\nProspects going forward look promising as a number of high value transactio=\nns=20\nare in the pipeline.  Of particular note is The Sandhill Power Project, a 1=\n80=20\nMW peaking facility currently under construction in Austin.  The facility i=\ns=20\nscheduled to come online in June, in time for the advent of deregulation in=\n=20\nTexas. The joint venture, between EPMI and Austin Energy, will provide both=\n=20\ntrading groups with a highly flexible asset, enabling them to access=20\nreal-time volatility while hedging existing obligations.\n\nAdditionally, the Fort Pierce (Florida) City Council voted 5 to 0 in favor =\nof=20\nEnron's proposal to repower the Ft. Pierce Utilities Authority's (FPUA)=20\nexisting power plant in that city.  Our proposed 180 MW facility will be us=\ned=20\nto produce steam to power the H.D. King facility at approximately 20 percen=\nt=20\nless cost than FPUA can produce it.  According to FPUA officials, this=20\nreduction in cost may lead to reduced rates for their ratepayers.  The=20\nplanned in-service date is summer of 2002.\n\nIndustrial Markets\nEIM Fundamental Analysis Group grows again!  The Fundamental Analysis Group=\n=20\ncontinues to expand its staff and capabilities.  They will be introducing y=\nou=20\nto specific activities in the weeks to come, but would like to introduce yo=\nu=20\nto the new staff members who have joined in the past month. =20\n\nOn the paper/pulp/lumber side, Bin Wang is responsible for supporting the=\n=20\nlumber group; Adnan Patel will be assisting with newsprint and structured=\n=20\ntransactions. =20\n\nFor the steel group, Doug Parsons and Yana Kristal are providing market=20\nanalysis and econometric/price forecasting support.  Our latest recruit,=20\nDavid Maxwell, is assisting with the evaluation of a customer management=20\nsystem and developing analytical databases for all product lines. A visible=\n=20\nenhancement to the group=01,s operations has been the Intranet web site, wh=\nich=20\nhas been in development for the past three months.  The site will be=20\ntransferred to a production server by the end of February.  The site contai=\nns=20\nall types of industry, market, regulatory, analytical, and financial=20\ninformation for deal analysis. =20\n\nAnother major development is the adoption of a customer information=20\nmanagement system.  EIM is currently evaluating Siebel Systems, a software=\n=20\nprovider that has developed this type of information tool for EES.\n\n\nIN THE NEWS\n\nEnron has been named the \"Most Innovative Company in America\" for the sixth=\n=20\nconsecutive year by Fortune.  That's right -- six years in a row.   We=20\ncontinue to be recognized by our industry peers and other corporate=20\nexecutives and securities analysts as the company that sets the standard fo=\nr=20\ndoing business in the new economy.  Congratulations to all of you for makin=\ng=20\nit happen.\n\nEnron placed No. 18 overall on Fortune's list of the nation's 535 \"Most=20\nAdmired Companies,\" up from No. 36 last year.  We also were ranked among th=\ne=20\ntop five in \"Quality of Management,\" \"Quality of Products/Services\" and=20\n\"Employee Talent.\" =20\n\nThis issue of Fortune is now available in airports and will be on newsstand=\ns=20\nMonday, Feb. 12.  For more information, go to www.fortune.com.\n\n\nNUGGETS & NOTES\n\n\"The revolution has begun......\"  - Ted Bland, Director/HR Recruiting=20\nOperations\n\n\"We trade propane and propane accessories\" - Adam Gross, Director/Global LP=\nG=20\nTrading-EGM\n\n\nWELCOME\nNew Hires\nEGM - Robert Beyer, Jacqueline Darrah, Herbert Goodwin, Vera Ilyina, Tracy=\n=20\nJames, Christopher Mulcahy, LaBricia Seyrus\nENA - Tonya Dennis, Kathryn Sheppard, Bin Wang\n\n\nLEGAL STUFF\n\nThe information contained in this newsletter is confidential and proprietar=\ny=20\nto Enron Corp. and its subsidiaries.  It is intended for internal use only=\n=20\nand should not be disclosed."
        ],
        [
         "387781",
         "31267940.1075859607427.JavaMail.evans@thyme",
         "Wed, 25 Apr 2001 13:07:00 -0700 (PDT)",
         "janice.moore@enron.com",
         "elizabeth.sager@enron.com",
         "work inventory - this time it's attached",
         "1.0",
         "text/plain",
         "us-ascii",
         "7bit",
         "Janice R Moore",
         "Elizabeth Sager",
         "",
         "",
         "\\Elizabeth_Sager_Jun2001\\Notes Folders\\Notes inbox",
         "Sager-E",
         "",
         "esager.nsf\n\n\nRegards,\nJanice\n\nEB3861\nAssistant General Counsel, Enron North America Corp.\n713-853-1794 (Fax:  713-646-4842)\n----- Forwarded by Janice R Moore/HOU/ECT on 04/25/2001 08:06 PM -----\n\n\tJanice R Moore\n\t04/25/2001 08:06 PM\n\t\t \n\t\t To: Elizabeth Sager/HOU/ECT@ECT\n\t\t cc: \n\t\t Subject: work inventory\n\nThis is still very much a work in progress, but this is where things stand \ntonight.  The Atlantic City Electric EEI Master was executed this afternoon \n(and the Enron Corp. guarantee is completely negotiated, too) so that we can \nactually get all signed up w/ a confirm if we win the 300MW bid on Friday, so \nit's no longer on the list.\nLet me know if you'd like to discuss any of this.  I'm planning to leave all \nthe files in my office when I go, and to update the power contracts database \nw/ comments about outstanding issues as one of the last things I do next week \nbefore I go.\nRegards,\nJanice\n\nEB3861\nAssistant General Counsel, Enron North America Corp.\n713-853-1794 (Fax:  713-646-4842)"
        ],
        [
         "448411",
         "16595168.1075841569294.JavaMail.evans@thyme",
         "Fri, 25 Jan 2002 08:56:33 -0800 (PST)",
         "pete.davis@enron.com",
         "pete.davis@enron.com",
         "Schedule Crawler: HourAhead Failure\nCc: albert.meyers@enron.com, bill.williams@enron.com, craig.dean@enron.com, \n\tgeir.solberg@enron.com, john.anderson@enron.com, \n\tmark.guzman@enron.com, michael.mier@enron.com, pete.davis@enron.com, \n\tryan.slinger@enron.com",
         "1.0",
         "text/plain",
         "us-ascii",
         "7bit\nBcc: albert.meyers@enron.com, bill.williams@enron.com, craig.dean@enron.com, \n\tgeir.solberg@enron.com, john.anderson@enron.com, \n\tmark.guzman@enron.com, michael.mier@enron.com, pete.davis@enron.com, \n\tryan.slinger@enron.com",
         "Schedule Crawler<pete.davis@enron.com>@ENRON",
         "Davis, Pete </O=ENRON/OU=NA/CN=RECIPIENTS/CN=PDAVIS1>",
         "Meyers, Albert </O=ENRON/OU=NA/CN=RECIPIENTS/CN=BMEYERS>, Williams III, Bill </O=ENRON/OU=NA/CN=RECIPIENTS/CN=BWILLIA5>, Dean, Craig </O=ENRON/OU=NA/CN=RECIPIENTS/CN=CDEAN2>, Solberg, Geir </O=ENRON/OU=NA/CN=RECIPIENTS/CN=GSOLBER>, Anderson, John </O=ENRON/OU=NA/CN=RECIPIENTS/CN=JANDERS3>, Guzman, Mark </O=ENRON/OU=NA/CN=RECIPIENTS/CN=MGUZMAN3>, Mier, Michael </O=ENRON/OU=NA/CN=RECIPIENTS/CN=MMIER>, Davis, Pete </O=ENRON/OU=NA/CN=RECIPIENTS/CN=PDAVIS1>, Slinger, Ryan </O=ENRON/OU=NA/CN=RECIPIENTS/CN=RSLINGER>",
         "",
         "\\ExMerge - Solberg, Geir\\Deleted Items",
         "SOLBERG-G",
         "",
         "geir solberg 6-26-02.PST\n\n\n\nStart Date: 1/25/02; HourAhead hour: 11;  HourAhead schedule download failed. Manual intervention required."
        ],
        [
         "312871",
         "3871186.1075845823611.JavaMail.evans@thyme",
         "Fri, 16 Mar 2001 04:19:00 -0800 (PST)",
         "brian.barto@enron.com",
         "ben.jacoby@enron.com, kay.mann@enron.com",
         "Blue Dog Performance on Liquid Fuel",
         "1.0",
         "text/plain",
         "us-ascii",
         "7bit",
         "Brian D Barto",
         "Ben Jacoby, Kay Mann",
         "",
         "",
         "\\Kay_Mann_June2001_2\\Notes Folders\\Discussion threads",
         "MANN-K",
         "",
         "kmann.nsf\n\nAttached is the Data Sheet forwarded to me by Chris Booth, and provided by \nGE's Jeff Darst for guaranteed liquid fuel performance on the second Blue Dog \ngas turbine.  Jeff Darst called today to remind me that he is running out of \ntime in the manufacturing process to make the duel fuel change without \nadditional impacts.\n\n\n"
        ],
        [
         "43947",
         "26623982.1075861841815.JavaMail.evans@thyme",
         "Tue, 6 Nov 2001 16:11:42 -0800 (PST)",
         "messenger@smartreminders.com",
         "lcampbel@enron.com",
         "Protect your Pet with Healthy Pet Insurance",
         "1.0",
         "text/plain",
         "us-ascii",
         "quoted-printable",
         "Healthy Pet Insurance <messenger@smartreminders.com>@ENRON",
         "Larry Campbell <lcampbel@enron.com>",
         "",
         "",
         "\\LCAMPBEL (Non-Privileged)\\Campbell, Larry F.\\Inbox",
         "Campbell-L",
         "",
         "LCAMPBEL (Non-Privileged).pst\n\n\n[IMAGE][IMAGE][IMAGE]=20\nDear  SmartReminders Member,\nCaring for your pet just got easier...CLICK HERE! =09  Looking for affordab=\nle health coverage for your cat or dog?     Healthy  Pet Insurance , underw=\nritten by a member company of AIG (American  International Group), allows p=\net owners to take the financial  considerations out of difficult veterinary=\n treatment  decisions.  Healthy Pet  Insurance  provides the following bene=\nfits:     Comprehensive coverage of many veterinary services for the treatm=\nent  of illness and injuries  Coverage for spaying, neutering, pet health m=\naintenance, vaccines  and many pre-existing conditions  Owners choice of ve=\nterinarian, no pre-authorization required  Monthly, quarterly, semi-annual =\nor annual premium payment options   $20 discount for insuring more than one=\n pet  One-time $100 annual deductible (most plans charge a per-visit  deduc=\ntible)  Reimbursement for 80 percent of all covered veterinary services   H=\nolistic, homeopathic, herbal and acupuncture coverage  Online claim forms a=\nnd customer service center  Call center support for questions regarding app=\nlying for coverage,  policy concerns, coverage issues, claim filing and mor=\ne      Healthy  Pet Insurance  offers 3 different levels of coverage: Basic=\n, Plus,  and Ultimate. All are designed for dogs between eight weeks and ei=\nght  years of age, and cats between eight weeks and ten years of age. Annua=\nl  policy premiums range from $90 to $484.  About the program underwriter: =\nHealthy Pet  Insurance  is underwritten by American International Group (AI=\nG); an  A++ rated insurance carrier. AIG is the leading U.S. - based intern=\national  insurance and financial service organization in the world and the =\nlargest  underwriter of commercial and industrial insurance. AIG maintains =\nthe  highest industry ratings for financial strength, stability and size.  =\nGet Healthy  Pet  Insurance >>  =09\n\n\n=20\n=20\n=20\n=20\n=20\n=20\n=20\n=20\n=20\n=20\n=20\n=20\n=20\n=20\n=20\n=20\n=20\n=20\n=20\n\nWe respect  your privacy and are a Certified Participant of the BBBOnLine\n Privacy Program.  To be removed from future offers,click  here.=20\nSmartReminders.com  is a permission based service. To unsubscribe click  he=\nre . "
        ],
        [
         "305224",
         "16277609.1075845635270.JavaMail.evans@thyme",
         "Fri, 8 Dec 2000 10:04:00 -0800 (PST)",
         "kay.mann@enron.com",
         "ben.jacoby@enron.com",
         "",
         "1.0",
         "text/plain",
         "us-ascii",
         "7bit",
         "Kay Mann",
         "Ben Jacoby",
         "",
         "",
         "\\Kay_Mann_June2001_1\\Notes Folders\\All documents",
         "MANN-K",
         "",
         "kmann.nsf\n\nI left Dave Onuscheck a voice mail about the issues, and asked him to give me \na call."
        ],
        [
         "344276",
         "9056496.1075842605463.JavaMail.evans@thyme",
         "Fri, 4 Aug 2000 08:34:00 -0700 (PDT)",
         "gerald.nemec@enron.com",
         "eva.neufeld@enron.com",
         "NB Confid. Agreement\nCc: shonnie.daniel@enron.com",
         "1.0",
         "text/plain",
         "us-ascii",
         "7bit\nBcc: shonnie.daniel@enron.com",
         "Gerald Nemec",
         "Eva Neufeld",
         "Shonnie  Daniel",
         "",
         "\\Gerald_Nemec_Dec2000_June2001_1\\Notes Folders\\All documents",
         "NEMEC-G",
         "",
         "gnemec.nsf\n\nAttached is the agreement for printing on NBILP Letterhead.   The date is the \nsame as the original CA.   Let me know if you have any questions.  If we \ncould get this signed and faxed back today or first thing Monday that would \nbe great.  Sorry about the delay.  My fax # is (713) 646-3490.\n\n\n"
        ],
        [
         "63634",
         "605486.1075842942383.JavaMail.evans@thyme",
         "Thu, 2 Mar 2000 04:28:00 -0800 (PST)",
         "ginger.dernehl@enron.com",
         "us@enron.com",
         "Enron comments on Barton bill",
         "1.0",
         "text/plain",
         "us-ascii",
         "7bit",
         "Ginger Dernehl",
         "US",
         "",
         "",
         "\\Jeff_Dasovich_Dec2000\\Notes Folders\\All documents",
         "DASOVICH-J",
         "",
         "jdasovic.nsf\n\n---------------------- Forwarded by Ginger Dernehl/HOU/EES on 03/02/2000 \n12:27 PM ---------------------------\n\nAllison Navin@ENRON\n03/02/2000 09:32 AM\n\n\nTo: Ginger Dernehl/HOU/EES@EES\ncc: Cynthia Sandherr/Corp/Enron@ENRON \nSubject: Enron comments on Barton bill\n\nGinger - Attached are Enron's finalized comments on the Barton bill.  Would \nyou please forward to all the folks in Rick's group and include Steve Kean?  \nMany thanks.\n\n\n"
        ],
        [
         "400765",
         "30711486.1075860737933.JavaMail.evans@thyme",
         "Mon, 7 Jan 2002 08:17:07 -0800 (PST)",
         "darrell.schoolcraft@enron.com",
         "dl-etsgascontrollers@enron.com",
         "FW: TW imbalances",
         "1.0",
         "text/plain",
         "us-ascii",
         "7bit",
         "Schoolcraft, Darrell </O=ENRON/OU=NA/CN=RECIPIENTS/CN=DSCHOOL>",
         "DL-ETS Gas Controllers <DL-ETSGasControllers@ENRON.com>",
         "",
         "",
         "\\Darrell_Schoolcraft_Mar2002\\Schoolcraft, Darrell\\Deleted Items",
         "Schoolcraft-D",
         "",
         "dschool (Non-Privileged).pst\n\n\n\n -----Original Message-----\nFrom: \tHanagriff, Richard  \nSent:\tFriday, January 04, 2002 8:10 PM\nTo:\tDL-ETS Gas Controllers\nSubject:\tTW imbalances\n\n "
        ],
        [
         "129337",
         "15573493.1075853757269.JavaMail.evans@thyme",
         "Tue, 2 May 2000 02:28:00 -0700 (PDT)",
         "joann.collins@enron.com",
         "chris.germany@enron.com, dick.jenkins@enron.com, joan.veselack@enron.com, \n\trobert.allwein@enron.com",
         "STOI Overinjection for May 3rd",
         "1.0",
         "text/plain",
         "us-ascii",
         "7bit",
         "Joann Collins",
         "Chris Germany, Dick Jenkins, Joan Veselack, Robert Allwein",
         "",
         "",
         "\\Chris_Germany_Dec2000\\Notes Folders\\Discussion threads",
         "Germany-C",
         "",
         "cgerman.nsf\n\nRodney w/TCO gas control approved 52,000 overinjection for 5/3.\n\n\n\nthanks\njoann\n\n---------------------- Forwarded by Joann Collins/Corp/Enron on 05/02/2000 \n09:22 AM ---------------------------\n\n\nJoan Veselack\n05/01/2000 09:34 AM\nTo: Joann Collins/Corp/Enron@ENRON, Robert Allwein/HOU/ECT@ECT, Chris \nGermany/HOU/ECT@ECT\ncc:  \n\nSubject: STOI Overinjection for May 2nd\n\nSteve at TCO's Gas Control approved the 32,000 overinjection.\n\n\nTotal STOI Delivery for May 2nd is 80,000.\n\nThanks.\n\n\n"
        ],
        [
         "261281",
         "23122750.1075840962973.JavaMail.evans@thyme",
         "Wed, 9 Jan 2002 07:57:54 -0800 (PST)",
         "louise.kitchen@enron.com",
         "r..shepperd@enron.com",
         "RE: EWS Consolidation",
         "1.0",
         "text/plain",
         "us-ascii",
         "7bit",
         "Kitchen, Louise </O=ENRON/OU=NA/CN=RECIPIENTS/CN=LKITCHEN>",
         "Shepperd, Tammy R. </O=ENRON/OU=NA/CN=RECIPIENTS/CN=Tsheppe>",
         "",
         "",
         "\\ExMerge - Kitchen, Louise\\Sent Items",
         "KITCHEN-L",
         "",
         "louise kitchen 2-7-02.pst\n\nIts an IT security issue - ask Jenny or Bob what they think the plans are - it would be better if we were near peole.\n\n -----Original Message-----\nFrom: \tShepperd, Tammy R.  \nSent:\tWednesday, January 09, 2002 9:20 AM\nTo:\tKitchen, Louise\nSubject:\tFW: EWS Consolidation\n\nFYI\n\nKevin states that there is no near term conflict with estate and NETCO and is considering consolidating EWS estate on 3 & 4.  Please advise if you see issues related to  their plan.\n\nThanks.\n\n \n\n\n -----Original Message-----\nFrom: \tGolden, Kevin  \nSent:\tTuesday, January 08, 2002 2:49 PM\nTo:\tBubenko, Deborah; Duree, Janelle\nCc:\tLink, Kathy; Sustaita, Dolores; Marshall, Lucy; Pearce, Barry\nSubject:\tEWS Consolidation\n\nDeborah and Janelle,\n\nMr. Fallon has asked for an estimated per person cost for moves:\n\n1) within a building\n2) between the Enron Centers\n\nHe also assured me that questions regarding conflicts between the estate and NETCO operating out of the same building had been addressed, thus there should be no problem with EWS consolidating on ECS 3&4 in the near term.\n\nI also spoke with Rich DiMichele regarding the EBS move.  As we discussed, he obviously does not want to move EBS twice within ECN.  He is interested in bringing EBS over to ECS if wholesale will be here for any length of time.  Again, cost is obviously a concern, so the per person cost estimates you provide should facilitate this decision.  We can discuss this further at tomorrow's meeting.\n\nPlease provide me with copies of the marked up maps for ECS 3&4 as soon as possible so I can begin considering our options.  \n\nThanks,\n\nKevin\n\n   \n\nKevin M. Golden\nBusiness:  (713) 853-5238\nCellular:     (713) 569-9815"
        ],
        [
         "218442",
         "7995492.1075856340171.JavaMail.evans@thyme",
         "Tue, 8 Aug 2000 02:39:00 -0700 (PDT)",
         "vince.kaminski@enron.com",
         "shirley.crenshaw@enron.com",
         "Re: Thank you",
         "1.0",
         "text/plain",
         "us-ascii",
         "7bit",
         "Vince J Kaminski",
         "Shirley Crenshaw",
         "",
         "",
         "\\Vincent_Kaminski_Jun2001_2\\Notes Folders\\Discussion threads",
         "Kaminski-V",
         "",
         "vkamins.nsf\n\nShirley,\n\nPlease, fax the resume to  Raymond.\n\nVince\n\n---------------------- Forwarded by Vince J Kaminski/HOU/ECT on 08/08/2000 \n09:44 AM ---------------------------\n\n\nRaymond Yeow@ENRON_DEVELOPMENT\n08/07/2000 06:15 PM\nTo: Vince J Kaminski/HOU/ECT@ECT\ncc: Paul Quilkey/ENRON_DEVELOPMENT, Vince J Kaminski/HOU/ECT@ECT, Grant \nMasson/HOU/ECT@ECT \nSubject: Re: Thank you  \n\nDear Vince,\n\nIt was our privilege to have you here.\nPaul's wife had a baby yesterday, and Paul  will be back on Thursday. So \nmaybe item 3 can wait until Paul's return.\n\nAs for (2), yes - i will need a PS reader :o)\nAgain, let us check Paul's diary on his return before fixing a time for \nQuentin Kerr\n\n1 1. The resume you sent to me and Grant looks quite good.\nI think it makes sense to interview this person and we can help\nyou with a phone interview.\n\nIs this Simon ???\n\nThanks \nRaymond\n\n\n\n\n\nVince J Kaminski@ECT\n08/08/2000 06:30 AM\nTo: Paul Quilkey/ENRON_DEVELOPMENT@ENRON_DEVELOPMENT, Raymond \nYeow/ENRON_DEVELOPMENT@ENRON_DEVELOPMENT\ncc: Vince J Kaminski/HOU/ECT@ECT, Grant Masson/HOU/ECT@ECT \n\nSubject: Thank you\n\nPaul & Raymond,\n\nIt took more than a few days to catch up after I came back from Australia. \nThere  are few things I would like to bring up to your attention.\n\nFirst of all, I would like to thank you for your hospitality. I learned a lot\nabout the Australian markets and was greatly impressed with the\nquality of the people at the Sydney office.\n\n1. The resume you sent to me and Grant looks quite good.\nI think it makes sense to interview this person and we can help\nyou with a phone interview.\n\n2. I have received another resume that looks very promising. I am\nvery interested in this guy and would be ready to bring him over\nto the States  where we lack desperately technical talent.\nCan you help us by interviewing him in Sydney? \nThe main determination I need from you is whether he can\nfunction in a company like Enron. As any good academic\nhe sent his resume in a ps format and I shall fax you a copy in case\nyou don't have a PostScript reader on your system.\n\n3. Christian Werner does some really neat things on\nthe weather front. I would like to determine if he can help\nus to upgrade our systems. Can we bring him to Houston\nfor a week to discuss the weather forecasting  technology with  Mike \nRoberts and Joe Hrgovcic? I think that he could learn a lot\nfrom Mike and other weather guys here how we translate \nweather info into business-related information. I shall be glad to\nunderwrite the cost of this trip.\n\nVince\n\n\n\n\n"
        ],
        [
         "246575",
         "14332544.1075848157809.JavaMail.evans@thyme",
         "Tue, 3 Apr 2001 01:54:00 -0700 (PDT)",
         "janel.guerrero@enron.com",
         "richard.shapiro@enron.com, james.steffes@enron.com, mark.palmer@enron.com, \n\tkaren.denne@enron.com, paul.kaufman@enron.com, susan.mara@enron.com, \n\tjeff.dasovich@enron.com, sandra.mccubbin@enron.com, bhansen@lhom.com, \n\thgovenar@govadv.com, sgovenar@govadv.com, \n\tksmith@kdscommunications.com, leslie.lawner@enron.com, \n\tsusan.landwehr@enron.com, harry.kingerski@enron.com, \n\tjennifer.thome@enron.com, rlichtenstein@marathon-com.com, \n\tjkradin@marathon-com.com, syamane@marathon-com.com, \n\trobert.neustaedter@enron.com, peggy.mahoney@enron.com, \n\teric.thode@enron.com, marty.sunde@enron.com, carol.moffett@enron.com",
         "Respondents to Ken Lay Direct Mail Pkg.\nCc: steven.kean@enron.com",
         "1.0",
         "text/plain",
         "us-ascii",
         "7bit\nBcc: steven.kean@enron.com",
         "Janel Guerrero",
         "Richard Shapiro, James D Steffes, Mark Palmer, Karen Denne, Paul Kaufman, Susan J Mara, Jeff Dasovich, Sandra McCubbin, bhansen@lhom.com, hgovenar@govadv.com, sgovenar@govadv.com, Ksmith@kdscommunications.com, Leslie Lawner, Susan M Landwehr, Harry Kingerski, Jennifer Thome, rlichtenstein@marathon-com.com, jkradin@marathon-com.com, syamane@marathon-com.com, Robert Neustaedter, Peggy Mahoney, Eric Thode, Marty Sunde, Carol Moffett",
         "Steven J Kean",
         "",
         "\\Steven_Kean_June2001_4\\Notes Folders\\Discussion threads",
         "KEAN-S",
         "",
         "skean.nsf\n\nThe following are CAL businesses who responded to Ken Lay's first direct mail \npackage.  These businesses responded by email and/or telephone.  All of the \nCEOs identified a point person within their respective organization whom we \nshould contact directly in order to coordinate. \nParamount Studios\nGap, Inc\nNorthrup Gruman\nAMD (SVMA)\nUS Borax\nCisco (SVMA)\nCommerce One\nRaley's\n\nThe following were not interested in working with us at this time\nCatholic Healthcare West\nIntuit\n\nNumber of hits to Enron's CAL business website dedicated to the energy crisis\nAs of April 2nd, our California page had been loaded 16 times from \nindividuals outside of Enron.  This site was created specifically for the CAL \nbusiness direct mail effort.  The 115 businesses who were sent the package \nwere the only entities that we promoted this site with. **if you are an enron \nemployee, it's okay to hit the site from within the Enron building.  We can \ndifferentiate between hits from inside and outside of Enron.  If you work for \nEnron outside of the EB in Houston.....please do not go to the site.  Our \nability to track hits will then be skewed.  Thanks.** "
        ],
        [
         "65910",
         "16413696.1075843342532.JavaMail.evans@thyme",
         "Tue, 30 Jan 2001 06:10:00 -0800 (PST)",
         "gkansagor@tr.com",
         "cwall@tr.com",
         "TR's State NewsWire 01/30/01 P.M. Edition",
         "1.0",
         "text/plain",
         "us-ascii",
         "7bit",
         "Gayle Kansagor <gkansagor@tr.com>",
         "Christy Wall <cwall@tr.com>",
         "",
         "",
         "\\Jeff_Dasovich_June2001\\Notes Folders\\All documents",
         "DASOVICH-J",
         "",
         "jdasovic.nsf\n\nTelecommunications Reports presents . . . . . TR's State NewsWire\nJanuary 30, 2001 P.M. Edition\n\nSTATES\nCALIFORNIA -- Lawmaker reintroduces rural infrastructure grant bill\nTEXAS -- Consumers Union offers recommendations for the Legislature\nILLINOIS -- Electric company implements program to serve Internet hotels\n\nMISSISSIPPI -- UETA bill clears first hurdle\nVIRGINIA -- Committee approves E-911 finance bill\nN.Y. -- Police may have to report wireless phone involvement in accident\nreports\nIOWA -- Bill would require TTY telephone directory notation\nSOUTH DAKOTA -- Legislators take aim at drivers using cellphones\nMISSOURI -- Bill would require PSC to resolve disputes more quickly\nFLORIDA -- PSC says Turbo Code will improve service for TTY users\nNORTH CAROLINA -- Bill seeks to limit telemarketing hours\nD.C. -- PSC wants comment on proposed Verizon rate reductions\nNEVADA -- PUC schedules conference on Verizon DSL conditioning rates\nDISTRICT OF COLUMBIA -- AT&T opens data center in D.C.\n\nADVANCED SERVICES\nCALIFORNIA\nLawmaker reintroduces rural infrastructure grant bill\n\nAssemblywoman Virginia Strom-Martin (D., District 1) has introduced AB\n140 to establish a grant program to aid in constructing telecom\ninfrastructure.  Gov. Gray Davis (D.) vetoed an identical bill (AB 1825)\nsponsored by Strom-Martin last year, stating that the legislation had\nthe \"potential to hurt all high-cost areas of the state.\"  Davis added\nthat he was concerned the plan could raise telephone service rates for\nother rural ratepayers.  (10/3/00 a.m.)\n\nStrom-Martin's staff told TR they are working with the Public Utilities\nCommission to make the bill more \"palatable\" to the governor.  Under AB\n140, the funding for the infrastructure grant program would come from\nthe California High-Cost Fund-A Administrative Committee Fund, the\nHigh-Cost Fund-B Administrative Committee Fund, or both.\n\nAccording to the staff, Davis' understanding of AB 1825 was incorrect\nand explained that all the needs satisfied by both high-cost funds would\nbe met before the infrastructure grant program would receive funds.  The\nstaff added that the grant fund wouldn't deplete either high-cost fund.\n\nThe staff said they were considering turning the grant program into a\nmore confined pilot fund.\n\nFUTURE OF REGULATION\nTEXAS\nConsumers Union offers recommendations for the Legislature\n\nConsumers Union, Southwest Region Office, has drafted several issue\nrecommendations for the Texas Legislature regarding telecom deregulation\nand electronic transactions.  In its report to the Legislature,\nConsumers Union concluded that five years after the federal\nTelecommunications Act of 1996 and six years after passage of Texas' law\npromoting telecom competition, few companies have emerged as true\ncompetitors to the incumbents.\n\nConsumers Union said the Public Utility Commission's report on\ncompetition came to similar conclusions.  The group, however, disagreed\nwith the PUC's recommendations.  According to Consumers Union, several\nof the PUC's recommendations favored competitors over consumers.\n(1/12/01 p.m.)\n\nFor example, Consumers Union disagreed with the PUC's suggestion to lift\nthe current price cap and raise local phone rates.  Consumers Union\nquestioned whether it was good public policy to increase residential\nprices to help new market entrants earn more money.\n\nAdditionally, Consumers Union asked the Legislature not to lower long\ndistance access charges and permit telephone companies to make up for it\nby raising residential service prices.\n\nIn addressing electronic commerce issues, Consumers Union recommended\nthat the Legislature ensure the federal electronic signature protections\nare incorporated into the state Uniform Electronic Transactions Act.\nConsumes Union also requested that the Legislature not allow the\n\"flawed\" Uniform Computer Information Transactions Act to govern\ntransactions in Texas.\n\nINTERNET\nILLINOIS\nElectric company implements program to serve Internet hotels\n\nCommonwealth Edison Co. has filed a tariff with the state Commerce\nCommission that requires companies setting up Internet hotels to pay a\nrefundable installation charge.  ComEd will determine the amount of the\ncharge for each company through a formula.  The tariff isn't subject to\ncommission approval and goes into effect immediately.\n\nThe tariff implements an experimental program ComEd says will allow it\nto obtain data concerning the accuracy of customers' estimates of\nelectrical demand for Internet hotels, compared with actual service\nrequirements.  This and other data will help it provide service for\nother such uses in the future, ComEd said.\n\nAn ICC spokesman described the program as a \"prenuptial agreement\"\nbetween ComEd and Internet companies.  It will help ComEd determine\nwhether and how it can serving Internet hotels, which demand a\nsignificant amount of electricity, the spokesman told TR.\n\nFUTURE OF REGULATION\nMISSISSIPPI\nUETA bill clears first hurdle\n\nThe Senate Committee on Fees, Salaries, and Administration has passed a\nbill to enact the Uniform Electronic Transactions Act (UETA).  SB 2678,\nintroduced by Sen. Neely C. Carlton (D., District 22), has been referred\nto the Senate Committee on Appropriations.\n\nThe bill aims to facilitate e-commerce by giving electronic records and\nsignatures the same legal effect as their pen and paper counterparts.\n(1/19/01 p.m.)  In addition to enacting UETA, SB 2678 would repeal the\nsections of Mississippi Code that make up the Digital Signature Act of\n1997.\n\nWIRELESS\nVIRGINIA\nCommittee approves E-911 finance bill\n\nThe Senate Committee on Commerce and Labor has approved SB 1349 to\nexempt commercial mobile radio service (CMRS) customers from a $3\nspecial tax that localities with enhanced \"911\" service are authorized\nto assess on general telephone consumers.\n\nCMRS customers instead would have to pay a 75 cent monthly wireless\nE-911 surcharge into the state's Wireless E-911 Fund.  Localities would\nbe able to recover their public safety answering point costs from the\nfund.\n\nThe bill, sponsored by Senator Warren E. Barry (R., District 37), has\nbeen referred to the Finance Committee.  Its text is available at\nhttp://leg1.state.va.us/cgi-bin/legp504.exe?011+ful+SB1349.\n\nWIRELESS\nNEW YORK\nPolice may have to report wireless phone involvement in accident reports\n\nAssemblyman David S. Sidikman (D., District 13) has introduced AB 1838\nto require police to state in accident reports whether wireless phones\nwere present in the vehicles involved and whether they contributed to\nthe accident.  The bill has been referred to the Committee on\nTransportation.  Its text is available at\nhttp://assembly.state.ny.us/cgi-bin/showtext?billnum=A01838.\n\nCUSTOMER-AFFECTING\nIOWA\nBill would require TTY telephone directory notation\n\nRep. Michael Cormack (R., District 13) has introduced HF 120 to require\ntelephone directories to offer notations for text telephone (TTY)\nnumbers.  Directory providers would be able to satisfy this requirement\nby providing notation next to a listing to inform users that a number\nwas a TTY number.  Alternatively, directory providers could create a\nseparate section within the directory that listed all TTY numbers.  The\nseparate TTY reference section would be listed in the directory index.\n\nHF 120 has been referred to the House Committee on Commerce and\nRegulation.  Its text is available at\nhttp://www.legis.state.ia.us/GA/79GA/Legislation/HF/00100/HF00120/Current.html\n.\n\nWIRELESS\nSOUTH DAKOTA\nLegislators take aim at drivers using cellphones\n\nSen. Patricia de Hueck (R., District 24) and Rep. Gerald F. Lange (D.,\nDistrict 8) have introduced SB 207 to prohibit the use of hand-held\ncellphones, computers, facsimiles, and other portable or laptop devices\nwhile driving.  Drivers using hands-free devices would have to exercise\n\"a high degree of caution\" while driving.\n\nSB 207 provides exemptions for (1) persons operating an emergency\nvehicle, (2) persons who have moved their vehicle to the shoulder, (3)\npersons involved in emergency situations, and (4) persons who notice\nanother driver who appears to be under the influence of drugs or\nalcohol.\n\nThe measure has been referred to the Senate Transportation Committee.\n\nFUTURE OF REGULATION\nMISSOURI\nBill would require PSC to resolve disputes more quickly\n\nRep. Gary Burton (R., District 128) has introduced HB 521 to require the\nPublic Service Commission to create expedited dispute resolution\nprocedures.  The bill's primary focus is to allow requests from\ncompetitive local exchange carriers (CLECs) to be approved more quickly,\nBurton told TR.  The PSC currently takes up to 11 months to process\nCLECs' complaints against incumbents over issues such as collocation\nrates, Burton said.\n\nThe bill faces no opposition at this time, Burton said, noting that he\nplans to try to pass HB 521 as a consent bill.  Burton expects a hearing\non the measure will be held as early as Feb. 8.  Its text is available\nat http://www.house.state.mo.us/bills01/biltxt01/intro01/HB0521I.htm.\n\nCUSTOMER-AFFECTING\nFLORIDA\nPSC says Turbo Code will improve service for TTY users\n\nThe Florida Relay Service has introduced a new operating system for the\nstate's telecommunications relay system that will vastly improve service\nfor text telephone (TTY) customers, the Public Service Commission said.\nThe Florida Relay Service offers telecom service to consumers with\nimpaired speech and hearing, and the Public Service Commission monitors\nthe service's quality.\n\nSprint Corp., which received the contract to maintain Florida's relay\nsystem in June 2000, recently licensed the Turbo Code operating system.\nTurbo Code is expected to make relay calls almost twice as fast as on\nthe old platform, bringing TTY users closer to \"real-time\"\ncommunication.  In addition, the upgrade will enable TTY customers to\nread text more easily by allowing them to control how fast text appears.\n\nCUSTOMER-AFFECTING\nNORTH CAROLINA\nBill seeks to limit telemarketing hours\n\nSen. Charles W. Albertson (D., District 5) has introduced SB 4 to\nrestrict further the hours in which telemarketers are allowed to call\nconsumers.  Telemarketers wouldn't be able to call consumers after 6\np.m., whereas current law permits such calls until 9 p.m.\n\nSB 4 has been referred to the Senate Committee on Insurance and Consumer\nProtection.  It text is available at\nhttp://www.ncga.state.nc.us/html2001/bills/AllVersions/Senate/S4v1.html.\n\nALTERNATIVE REGULATION\nDISTRICT OF COLUMBIA\nPSC wants comment on proposed Verizon rate reductions\n\nThe Public Service Commission has given parties until Feb. 19 to comment\non rate reductions filed by Verizon Washington D.C., Inc., pursuant to\nits price cap plan.\n\nVerizon filed tariff changes that would reduce basic service rates by $2\nmillion annually.  The changes would increase the monthly fee for the\ncompany's Economy Rate I Message service from $5.19 to $6.00, while\nreducing several other monthly rates and one-time charges.\n\nReplies are due March 6.  (Formal case no. 814, Phase IV, Investigation\ninto the Impact of the AT&T Divestiture and Decisions of the Federal\nCommunications Commission on Verizon Washington, DC Inc.'s\nJurisdictional Rates)\n\nADVANCED SERVICES\nNEVADA\nPUC schedules conference on Verizon DSL conditioning rates\n\nThe Public Utilities Commission of Nevada has scheduled a Feb. 20\nprehearing conference to discuss Verizon California Inc., d/b/a Verizon\nNevada's, cost study and proposed rates for conditioning digital\nsubscriber line loops.  Verizon submitted the cost study in compliance\nwith the FCC's order approving the merger of GTE Corp. and Bell Atlantic\nCorp., which formed Verizon.  (Docket no. 00-12008)\n\nADVANCED SERVICES\nDISTRICT OF COLUMBIA\nAT&T opens data center in D.C.\n\nAT&T today announced it has opened an Internet data center in the\nWashington, D.C., metropolitan area.\"  The 105,000 square-foot facility,\nwhich is located in Ashburn, Va., provides end-to-end web hosting\nservices for enterprise customers, content providers, startups and\ndot.coms, the company said.\n\nAT&T operates 15 data centers around the nation, with more than 1.2\nmillion square feet of conditioned Web hosting space. AT&T said it hopes\nto construct an additional six centers later this year.\n\nFederal law prohibits duplication in any form, including electronic,\nwithout permission of the publisher.\n\nTR's State NewsWire Copyright 1998, 1999, 2000 Telecommunications\nReports International, Inc. (ISSN 1082-9350) is transmitted each\nbusiness day at 8 a.m. and 2 p.m., except holidays.\nTelecommunications Reports International, Inc.\n1333 H St. NW, Suite 100-E\nWashington, DC 20005-4707\n\nAssociate Editor for Online Publications: Jennifer Erschen, E-mail:\njerschen@tr.com\nSenior Legislative & Regulatory Analyst: Gayle Kansagor, E-mail:\ngkansagor@tr.com\nSenior Research Analyst: Steve Arlowe, E-mail: sarlowe@tr.com\nSenior Analyst: Barney McManigal, E-mail: bmcmanigal@tr.com\nSenior Research Analyst: Brandi Kerns, E-mail: bkerns@tr.com\nAccount Services: Eileen Callahan (202) 312-6116, (202) 842-3023 (fax)\nE-mail: ecallahan@tr.com\n\n"
        ],
        [
         "208421",
         "6365303.1075856690574.JavaMail.evans@thyme",
         "Mon, 18 Sep 2000 02:26:00 -0700 (PDT)",
         "grant.masson@enron.com",
         "tanya.tamarchenko@enron.com, vince.kaminski@enron.com",
         "Ben Zhang: Nuts!",
         "1.0",
         "text/plain",
         "us-ascii",
         "7bit",
         "Grant Masson",
         "Tanya Tamarchenko, Vince J Kaminski",
         "",
         "",
         "\\Vincent_Kaminski_Jun2001_6\\Notes Folders\\All documents",
         "Kaminski-V",
         "",
         "vkamins.nsf\n\nI also heard from Joe Toussaint that Ben's boss counter-offered with a bump \nin salary.\n\n\n---------------------- Forwarded by Grant Masson/HOU/ECT on 09/18/2000 09:24 \nAM ---------------------------\n\n\n\"Zhang, Ben\" <bzhang@cinergy.com> on 09/18/2000 07:58:58 AM\nTo: Grant.Masson@enron.com\ncc:  \nSubject: Thanks\n\n\nDear Mr. Masson:\n\nThank you very much for offering me an opportunity to work in your group.\nHowever because of family reasons, I have to regrettably inform you that I\nwill not be able to make the move at this time. It has been a great\nexperience working  with you on this process, and I greatly appreciate your\nhelp.\n\nI realized that this would have been a great opportunity for me, and I thank\nyou very much for everything. I hope you will still consider me for a\nposition in the future.\n\nSincerely,\nBen\n"
        ],
        [
         "65925",
         "12117360.1075843343046.JavaMail.evans@thyme",
         "Tue, 30 Jan 2001 13:35:00 -0800 (PST)",
         "anil.sama@intel.com",
         "guinney@haas.berkeley.edu, chin@haas.berkeley.edu, \n\tdasovich@haas.berkeley.edu",
         "First Write-Up due for Financial Information Analysis",
         "1.0",
         "text/plain",
         "us-ascii",
         "7bit",
         "\"Sama, Anil\" <anil.sama@intel.com>",
         "\"'guinney@haas.berkeley.edu'\" <guinney@haas.berkeley.edu>, \"'chin@haas.berkeley.edu'\" <chin@haas.berkeley.edu>, \"'dasovich@haas.berkeley.edu'\" <dasovich@haas.berkeley.edu>",
         "",
         "",
         "\\Jeff_Dasovich_June2001\\Notes Folders\\All documents",
         "DASOVICH-J",
         "",
         "jdasovic.nsf\n\nHey Guys,\n\nJust sat down to read about the first write up that is due\nthis Thursday, and realized that this is supposed to be a\ngroup assignment!!  Ooops - I had no idea... Did you ;-)\nAnyone read the case and/or taken a crack at it? Should\nwe try and co-ordinate a conference call?\n\nCarolyn is out for the week and excused from the\nassignment - just had a baby girl last Fri!!\nJeff, did you hear from teacher if OK to join ?\n\n-Anil\n"
        ],
        [
         "113718",
         "5198827.1075840468021.JavaMail.evans@thyme",
         "Thu, 21 Mar 2002 05:53:00 -0800 (PST)",
         "olivia.martinez@enron.com",
         "mark.fisher@enron.com",
         "Re: Curtailment at Clear Sky\nCc: mark.walker@enron.com, hollis.kimbrough@enron.com, kurt.anderson@enron.com",
         "1.0",
         "text/plain",
         "ANSI_X3.4-1968",
         "7bit\nBcc: mark.walker@enron.com, hollis.kimbrough@enron.com, kurt.anderson@enron.com",
         "Olivia Martinez",
         "Mark Fisher",
         "Mark V Walker, Hollis Kimbrough, Kurt Anderson",
         "",
         "\\mark fischer 7-12-02\\Notes Folders\\Notes inbox",
         "FISCHER-M",
         "",
         "mark fischer 7-12-02 LNotes.nsf\n\nMark, \nHere are all the relevant Documents for Indian Mesa.  Please refer to Exhibit \nB-1 (interim) and Exhibit D. \n\n\n\n\n\n\n\nKurt Anderson\n03/21/2002 01:39 PM\nTo: Olivia Martinez/EWC/Enron@Enron\ncc:  \n\nSubject: Re: Curtailment at Clear Sky\n\nFYI\n---------------------- Forwarded by Kurt Anderson/EWC/Enron on 03/21/2002 \n01:50 PM ---------------------------\n\n\nMark Fisher\n03/21/2002 09:08 AM\nTo: Kurt Anderson/EWC/Enron@ENRON\ncc: Hollis Kimbrough/EWC/Enron@ENRON \n\nSubject: Re: Curtailment at Clear Sky  \n\nI requested the actual power curves from Olivia. I need a wind speed to kw \nlist. I didn't need the warranty amount.\n\n\n\nKurt Anderson\n03/21/2002 08:47 AM\nTo: Mark Fisher/EWC/Enron@Enron\ncc: Hollis Kimbrough/EWC/Enron@ENRON \n\nSubject: Re: Curtailment at Clear Sky  \n\nMark, the curtailment periods have been re-sent, this is the first I have \nheard about your requirement regarding the contractual power curve, it is \n95%.   \n\n\n\nMark Fisher\n03/21/2002 08:07 AM\nTo: Kurt Anderson/EWC/Enron@ENRON\ncc: Hollis Kimbrough/EWC/Enron@ENRON \n\nSubject: Re: Curtailment at Clear Sky\n\nKurt,\n\nI am unfamiliar with the below request. To complete the curtailment for Clear \nSky that I was looking at, I will need the contractual power curve, and a new \ncopy of the curtailment periods . (Due to my email problems rom earlier this \nweek, I lost many email messages, that one appears to have been one of them).\n\nMark Fisher\n---------------------- Forwarded by Mark Fisher/EWC/Enron on 03/21/2002 08:18 \nAM ---------------------------\n\n\nHollis Kimbrough\n03/21/2002 07:45 AM\nTo: Kurt Anderson/EWC/Enron@ENRON\ncc: Matthew Meyers/EWC/Enron@Enron, Jeff Duff/EWC/Enron@ENRON, Mark \nFisher/EWC/Enron@Enron \n\nSubject: Re: Curtailment at Clear Sky  \n\nKurt,\n\nAttached is a work request corresponding to the attached e-mail.  As you can \nsee, we need some additional information before we can start the work.  With \nthe deadline of tomorrow please do not delay in providing the extra \ninformation.\n\nAlso, note that we may not have the curtailment information.  We need to know \nthe timeframe for the request before we can say either \"we have it\" or \"we \ndon't have it\".  \n\nThanks,\nHollis\n\n\n\n\n\nKurt Anderson\n03/20/2002 05:21 PM\nTo: Hollis Kimbrough/EWC/Enron@ENRON\ncc: Matthew Meyers/EWC/Enron@Enron, Jeff Duff/EWC/Enron@ENRON \n\nSubject: Re: Curtailment at Clear Sky  \n\nYes, the services of your department are requested. We need the data as soon \nas possible, I would think the customer expects to see this by Friday at the \nlatest. This is related to a request that Mark Fisher has been working on, \nperhaps he can provide additional background on this issue.\n\nKA    \n\n\n\nHollis Kimbrough\n03/20/2002 04:49 PM\nTo: Kurt Anderson/EWC/Enron@ENRON\ncc: Matthew Meyers/EWC/Enron@Enron, Jeff Duff/EWC/Enron@ENRON \n\nSubject: Curtailment at Clear Sky\n\nKurt,\n\nWe haven't heard anything regarding a request for data for AEP.  Do we need \nto be involved and if so, then what is the timeframe that you need the data \nfor?\n\nHollis\n---------------------- Forwarded by Hollis Kimbrough/EWC/Enron on 03/20/2002 \n05:00 PM ---------------------------\n\n\nKlaus Obel\n03/20/2002 12:47 PM\nTo: Kurt Anderson/EWC/Enron@ENRON, Bo Thisted/EWC/Enron@Enron\ncc: Hollis Kimbrough/EWC/Enron@ENRON \n\nSubject: Curtailment at Clear Sky\n\nKurt, how far have we gotten with this process?\nDo we have the information requested below available?\nThanks, Klaus\n\n---------------------- Forwarded by Klaus Obel/EWC/Enron on 03/20/2002 12:47 \nPM ---------------------------\n\n\nwcmarshall@aep.com on 03/19/2002 07:47:14 AM\nTo: Klaus.Obel@enron.com\ncc: rlsimon@windots.net, bmgivens@aep.com \n\nSubject: Curtailment at Clear Sky\n\n\n\nRich Simon needs the following data: \n\n10 or 15 minute average wind speed, wind direction from Met Tower 652 and if \nit is still standing from the 10 meter tower 653. ? \n10 or 15 minute energy production for each turbine \nWhich turbines were curtailed and when and how long they were curtailed \n\nLet me know if and how long it will take to gather this data.\n\n \nWard Marshall\nDirector, Business Development\nAEP Energy Services, Inc.\n1 Riverside Plaza\nColumbus, OH 43215-2373\n\nOffice (614)324-6957\nFax (614)324-6994\nCell (614)314-5538\n\n\n\n\n\n\n\n\n\n\n\n\n\n\n\n\n\n\n\n\n\n\n\n\n"
        ],
        [
         "197591",
         "23337116.1075847547216.JavaMail.evans@thyme",
         "Tue, 13 Feb 2001 08:28:00 -0800 (PST)",
         "tana.jones@enron.com",
         "genia.fitzgerald@enron.com",
         "Re: Guaranty Form",
         "1.0",
         "text/plain",
         "us-ascii",
         "7bit",
         "Tana Jones",
         "Genia FitzGerald",
         "",
         "",
         "\\Tanya_Jones_June2001\\Notes Folders\\Sent",
         "JONES-T",
         "",
         "tjones.nsf\n\nSuch flattery!\n\n\n\n\tGenia FitzGerald\n\t02/13/2001 04:03 PM\n\t\t\n\t\t To: Tana Jones/HOU/ECT@ECT\n\t\t cc: \n\t\t Subject: Re: Guaranty Form\n\nYou are all right, I don't care what Marie and Reggie say.\n\nThanks!\n\n\n\n\tTana Jones\n\t02/13/2001 03:58 PM\n\t\t \n\t\t To: Genia FitzGerald/HOU/ECT@ECT\n\t\t cc: \n\t\t Subject: Guaranty Form\n\nYou'll see that I asked our group to keep you updated on the guaranty form.  \nCarol St. Clair just wanted to make sure that you had our latest form of \nguaranty, so I am sending it to you at her request.\n\n\n\n\n"
        ],
        [
         "48219",
         "8577097.1075860486436.JavaMail.evans@thyme",
         "Mon, 21 Aug 2000 09:56:00 -0700 (PDT)",
         "michelle.cash@enron.com",
         "candace.womack@enron.com",
         "Re: Background investigation\nCc: gary.buck@enron.com",
         "1.0",
         "text/plain",
         "us-ascii",
         "7bit\nBcc: gary.buck@enron.com",
         "Michelle Cash",
         "Candace Womack",
         "Gary Buck",
         "",
         "\\Michelle_Cash_Dec2000\\Notes Folders\\All documents",
         "Cash-M",
         "",
         "mcash.nsf\n\nI'd suggest finding otu more information.  My inclination would be not to \naccept the contractor. \n\n\n\n\nCandace Womack\n08/21/2000 04:39 PM\nTo: Michelle Cash/HOU/ECT@ECT\ncc: Gary Buck/HOU/ECT@ECT \nSubject: Background investigation\n\nMichelle - Welcome back from vacation!\n\nGary Buck suggested that I approach you for guidance regarding a background \ninvestigation report we have received on a contractor candidate for \nNetworks.  The report indicates that 8/14/95, the candidate was found guilty \nof theft, a misdemeanor.  He was sentenced to 3 days jail and fined $200.  \nThe candidate indicated on his Contractor Information Sheet that he had a \nmisdemeanor from 1995.  \n\nShould we have the recruiter contact the candidate and ask for more \ninformation about the misdemeanor, or should we simply reject him?\n\nThanks for your assistance.\n\nCandace\n\n"
        ],
        [
         "379427",
         "11975869.1075857188965.JavaMail.evans@thyme",
         "Tue, 21 Mar 2000 03:11:00 -0800 (PST)",
         "benjamin.rogers@enron.com",
         "yvan.chaxel@enron.com",
         "Re New Fixed O&M",
         "1.0",
         "text/plain",
         "us-ascii",
         "7bit",
         "Benjamin Rogers",
         "Yvan Chaxel",
         "",
         "",
         "\\Benjamin_Rogers_Dec2000_2\\Notes Folders\\Discussion threads",
         "Rogers-B",
         "",
         "brogers.nsf\n\nLet me know if you have any questions. Thanks\nBen\n"
        ],
        [
         "303122",
         "22948471.1075846042231.JavaMail.evans@thyme",
         "Wed, 25 Apr 2001 10:35:00 -0700 (PDT)",
         "kay.mann@enron.com",
         "nmann@erac.com",
         "Re: charlotte",
         "1.0",
         "text/plain",
         "us-ascii",
         "7bit",
         "Kay Mann",
         "<nmann@erac.com>",
         "",
         "",
         "\\Kay_Mann_June2001_4\\Notes Folders\\'sent mail",
         "MANN-K",
         "",
         "kmann.nsf\n\n832 651 3478 is what I have"
        ],
        [
         "79277",
         "8952710.1075851625559.JavaMail.evans@thyme",
         "Tue, 16 Oct 2001 12:25:55 -0700 (PDT)",
         "jeff.dasovich@enron.com",
         "michael.tribolet@enron.com",
         "",
         "1.0",
         "text/plain",
         "us-ascii",
         "7bit",
         "Dasovich, Jeff </O=ENRON/OU=NA/CN=RECIPIENTS/CN=JDASOVIC>",
         "Tribolet, Michael </O=ENRON/OU=NA/CN=RECIPIENTS/CN=Mtribole>",
         "",
         "",
         "\\Dasovich, Jeff (Non-Privileged)\\Dasovich, Jeff\\Sent Items",
         "DASOVICH-J",
         "",
         "Dasovich, Jeff (Non-Privileged).pst\n\nMissed the analyst call.  What was your take?  And you hearing that Lay's calling Edison today?\n\nBest,\nJeff"
        ],
        [
         "226840",
         "403140.1075856635015.JavaMail.evans@thyme",
         "Mon, 18 Dec 2000 00:27:00 -0800 (PST)",
         "vince.kaminski@enron.com",
         "fdiebold@sas.upenn.edu",
         "Re: Thursday visit\nCc: shirley.crenshaw@enron.com, vince.kaminski@enron.com",
         "1.0",
         "text/plain",
         "ANSI_X3.4-1968",
         "7bit\nBcc: shirley.crenshaw@enron.com, vince.kaminski@enron.com",
         "Vince J Kaminski",
         "\"Francis X. Diebold\" <fdiebold@sas.upenn.edu> @ ENRON",
         "Shirley Crenshaw, Vince J Kaminski",
         "",
         "\\Vincent_Kaminski_Jun2001_5\\Notes Folders\\Universities",
         "Kaminski-V",
         "",
         "vkamins.nsf\n\nFrank,\n\nWe are located at 1400 Smith. Any cab driver can identify the Enron building. \nWhen you arrive,\nplease, call me at 3-3848  from the reception to be admitted into the \nbuilding.\n\nAlternative phone numbers: 3-5290 (my assistant Shirley Crenshaw). You can \nalso try to call me on\nmy cell phone: 713 898 9960.\n\nThe Research Group meeting starts at 11:30 and lasts till 1:00. Can you make \na presentation\nabout your research projects? What audio/video equipment do you need? What \nsandwich would \nyou like to have for lunch?\n\nWe shall make a hotel reservation for you Thursday night.\n\nVince\n\n\n\n\n\n\"Francis X. Diebold\" <fdiebold@sas.upenn.edu> on 12/18/2000 07:02:46 AM\nTo: Vince Kaminski <vkamins@enron.com>\ncc: bmierts@enron.com \nSubject: Thursday visit\n\n\nHi Vince, Looking forward to seeing you Thursday.? I arrive at Houston-Bush \non USAir 1769 at 10:55 AM.? Please let me know where to go.? I also want to \nverify that you have booked me a hotel? for Thurs night.? Many thanks, and \nsee you soon, Frank \n\n-- \nFrancis X. Diebold \nWP Carey Professor \n\nDepartment of Economics \nUniversity of Pennsylvania \n3718 Locust Walk \nPhiladelphia, PA 19104-6297 \n\nfdiebold@sas.upenn.edu \nhttp://www.ssc.upenn.edu/~diebold \n\n(215) 898-1507? telephone \n(215) 573-4217? fax \n?\n\n"
        ],
        [
         "388836",
         "10725605.1075853445261.JavaMail.evans@thyme",
         "Mon, 2 Apr 2001 04:48:00 -0700 (PDT)",
         "elizabeth.sager@enron.com",
         "sheryl_gussett@reliantenergy.com",
         "Re: Hey",
         "1.0",
         "text/plain",
         "us-ascii",
         "7bit",
         "Elizabeth Sager",
         "Sheryl_Gussett@reliantenergy.com@ENRON",
         "",
         "",
         "\\Elizabeth_Sager_Nov2001\\Notes Folders\\Sent",
         "Sager-E",
         "",
         "esager.nsf\n\ngreat - this week is bad because I go to Portland for week until Friday.  How \nabout next week?"
        ],
        [
         "105403",
         "14806483.1075854083000.JavaMail.evans@thyme",
         "Thu, 13 Jul 2000 08:35:00 -0700 (PDT)",
         "shari.mao@enron.com",
         "brenda.herod@enron.com",
         "Data Validation\nCc: james.scribner@enron.com, jennifer.reside@enron.com, howard.camp@enron.com, \n\tdaren.farmer@enron.com",
         "1.0",
         "text/plain",
         "us-ascii",
         "7bit\nBcc: james.scribner@enron.com, jennifer.reside@enron.com, howard.camp@enron.com, \n\tdaren.farmer@enron.com",
         "Shari Mao",
         "Brenda F Herod",
         "James Scribner, Jennifer Reside, Howard B Camp, Daren J Farmer",
         "",
         "\\Darren_Farmer_Dec2000\\Notes Folders\\Discussion threads",
         "Farmer-D",
         "",
         "dfarmer.nsf\n\nBrenda,\n\nWe met this afternoon concerning path counts.  Howard will be validating the \npath data we had gathered from Unify.  Please let us know when you will need \nthis data by.\n\nThanks,\nShari\n3-3859"
        ],
        [
         "59348",
         "15485016.1075842972780.JavaMail.evans@thyme",
         "Fri, 15 Sep 2000 03:59:00 -0700 (PDT)",
         "jeff.dasovich@enron.com",
         "steven.kean@enron.com",
         "Re: Skilling Get Davis Straightened Out?",
         "1.0",
         "text/plain",
         "us-ascii",
         "7bit",
         "Jeff Dasovich",
         "Steven J Kean",
         "",
         "",
         "\\Jeff_Dasovich_Dec2000\\Notes Folders\\All documents",
         "DASOVICH-J",
         "",
         "jdasovic.nsf\n\nNeedless to say, given the Governor's press release, I'm a little concerned \nabout what he might want.  Carl Wood and Loretta Lynch were truly abominable \nat the FERC hearing.  Fortunately, FERC (all 4 Commissioners) really beat up \non the them.  I'm convinced that FERC feels that they must do something \nbetween now and November and that if we ever had a chance to get them to be \nbold (understanding that \"bold\" ain't exactly in Hoecker's play book), now's \nthe chance.\n\nThanks for the giving Heber the straight dope.  He was very gracious \nthroughout, but after the panel he (very jokingly) ribbed me pretty well, \nsaying, \"Jeff, I let you off the hook.  I was going to ask you how in the \nhell you ever let California turn into such a mess.\"  I told him that we were \nexercising Herculean restraint in not making lengthy \"I told you so\" \nstatements.\n\nBest,\nJeff\n\n\n\n\nSteven J Kean@ENRON\n09/15/2000 07:54 AM\nSent by: Steven J Kean@ENRON\nTo: Jeff Dasovich/SFO/EES@EES\ncc:  \nSubject: Re: Skilling Get Davis Straightened Out?  \n\nI'm still waiting for Davis' office to call.  The plan currently is for me to \ntalk to him when and if he calls.  Sandi has been in touch with the \ngovernor's office.\n\nBy the way, thanks for the summary of the California proceedings.  I talked \nto Hebert yesterday and he was duly impressed with your remarks ... I had to \nremind him that you worked on the right answers for California, not the \nabomination that's in place today.\n\n\n\nJeff Dasovich@EES\n09/13/2000 06:48 PM\nTo: Steven J Kean/NA/Enron@Enron\ncc:  \n\nSubject: Skilling Get Davis Straightened Out?\n\n\n\n\n\n"
        ],
        [
         "305734",
         "5027715.1075845647533.JavaMail.evans@thyme",
         "Wed, 3 Jan 2001 04:28:00 -0800 (PST)",
         "kay.mann@enron.com",
         "nmann@erac.com",
         "RE: E Party 1/20/00",
         "1.0",
         "text/plain",
         "us-ascii",
         "7bit",
         "Kay Mann",
         "<nmann@erac.com>",
         "",
         "",
         "\\Kay_Mann_June2001_1\\Notes Folders\\All documents",
         "MANN-K",
         "",
         "kmann.nsf\n\nI prefer the weekend.  It gives us a reason to get in and get out.  \n\nckm\n\n\n\n\n\"Neil Mann\" <nmann@erac.com> on 01/03/2001 12:41:37 PM\nPlease respond to <nmann@erac.com>\nTo: <Kay.Mann@enron.com>\ncc:  \n\nSubject: RE: E Party 1/20/00\n\nNo reason other than I don't really care to go.\n\nI really would like to do the FtW Show. Would weekends work best for you? I\nchecked TicketMaster and all the weekend shows are available, even the \"sold\nout\" shows. I didn't check the price. They do have some weekday shows also\nif you would rather do that.\n\nNM\n\n\n\n\n-----Original Message-----\nFrom: Kay.Mann@enron.com [mailto:Kay.Mann@enron.com]\nSent: Wednesday, January 03, 2001 11:33 AM\nTo: nmann@erac.com\nSubject: Re: E Party 1/20/00\n\n\n\nYou know me.  I don't care one way or the other.  Is there a reason why you\nwant to skip it?\n\nWe don't have to go to FW for the rodeo.  I just thought that would be fun\nto do, and my mom wants Michael to come so badly.  We can always just go\nfor a visit.  In fact, Michael and I can go alone some time.\n\nLike I said last night, you would make a great guide.  You'll be Michael's\nguide one of these days.\n\nckm\n\n\n\n\n\"Neil Mann\" <nmann@erac.com> on 01/03/2001 11:41:09 AM\n\nPlease respond to <nmann@erac.com>\n\nTo:   \"C. Kay Mann (E-mail)\" <Kay.Mann@Enron.com>\ncc:\n\nSubject:  E Party 1/20/00\n\nYou do mind if we skip this party?\n\n\n\n\n\n\n\n\n\n"
        ],
        [
         "228275",
         "16106628.1075846187286.JavaMail.evans@thyme",
         "Mon, 30 Oct 2000 07:20:00 -0800 (PST)",
         "mary.bailey@enron.com",
         "steven.kean@enron.com, mark.courtney@enron.com, traci.warner@enron.com, \n\tscott.porter@enron.com, bernie.barcio@enron.com, \n\tandrew.wilson@enron.com, bill.windle@enron.com, \n\tbrian.spector@enron.com, kate.fraser@enron.com, \n\tpushkar.shahi@enron.com, waymon.votaw@enron.com, \n\tpatrick.wade@enron.com, david.dye@enron.com, jon.adler@enron.com, \n\tgreg.characklis@enron.com, william.kendrick@enron.com, \n\tlarry.leib@enron.com, andrew.miles@enron.com, \n\tstephen.stenhouse@enron.com, trevor.randolph@enron.com, \n\tcharles.varnell@enron.com, doug.sewell@enron.com, \n\talhamd.alkhayat@enron.com, micha.makowsky@enron.com, \n\tfrank.bay@enron.com, jaime.gualy@enron.com, john.wilson@enron.com, \n\tjohn.walt@enron.com, kelli.little@enron.com, patrick.wade@enron.com, \n\tmichelle.juden@enron.com, aamir.maniar@enron.com, \n\tdoug.sewell@enron.com, brian.o'rourke@enron.com, \n\tdavid.maskell@enron.com, michelle.cisneros@enron.com, \n\tjohn.kiani@enron.com, marilyn_baker@enron.net",
         "RESULTS OF SUPER SATURDAY - RICE MBA",
         "1.0",
         "text/plain",
         "us-ascii",
         "7bit",
         "Mary Alison Bailey",
         "Steven J Kean, Mark Courtney, Traci Warner, Scott Porter, Bernie Barcio, Andrew Wilson, Bill Windle, Brian Spector, Kate Fraser, Pushkar Shahi, Waymon Votaw, Patrick Wade, David Dye, Jon Adler, Greg Characklis, William Kendrick, Larry Leib, Andrew Miles, Stephen Stenhouse, Trevor Randolph, Charles Varnell, Doug Sewell, Alhamd Alkhayat, Micha Makowsky, Frank Bay, Jaime Gualy, John Wilson, John Walt, Kelli Little, Patrick Wade, Michelle Juden, Aamir Maniar, Doug Sewell, Brian O'Rourke, David Maskell, Michelle D Cisneros, John Kiani, Marilyn_baker@enron.net",
         "",
         "",
         "\\Steven_Kean_Dec2000_1\\Notes Folders\\All documents",
         "KEAN-S",
         "",
         "skean.nsf\n\nPlease call or e-mail candidates who have received \"offers\".All of your hard \nwork paid off - you have a great list of \"offers\".  These students have all \nbeen called and will receive a letter/packet by the end of the week.\n"
        ],
        [
         "253429",
         "15561371.1075862157352.JavaMail.evans@thyme",
         "Tue, 20 Nov 2001 10:06:13 -0800 (PST)",
         "feedback@intcx.com",
         "gasindex@list.intcx.com",
         "Gas Indices",
         "1.0",
         "text/plain",
         "ANSI_X3.4-1968",
         "7bit",
         "IntercontinentalExchange <feedback@intcx.com>",
         "gasindex@list.intcx.com",
         "",
         "",
         "\\PKEAVEY (Non-Privileged)\\Keavey, Peter F.\\Deleted Items",
         "Keavey-P",
         "",
         "PKEAVEY (Non-Privileged).pst\n\n\n\nIntercontinentalExchange \nFirm Physical Natural Gas Price Bulletin \nFor Natural Gas Delivered on Wednesday, November 21, 2001 \n(Trade Date of Tuesday, November 20, 2001) \nClick here to access index history. \n* volume represents sell-side only * \n Region     Hub \t High \t Low \t Wtd Avg Index \t Change ($) \t Vol (mmBtu) \t Hub Name \t\n  LOUISIANA \t   \t   \t   \t   \t   \t   \t\n     ANR SE \t $2.7900 \t $2.1000 \t $2.6126 \t +.5901 \t 222,600 \t American Natural Resources Pipeline Co. - SE Transmission Pool \t\n     Columbia Onshore \t $2.7450 \t $2.1500 \t $2.5128 \t +.3097 \t 305,200 \t Columbia Gulf Transmission Co. - Onshore Pool  \t\n     Henry Hub \t $2.8200 \t $2.2200 \t $2.6180 \t +.5406 \t 1,538,500 \t Henry Hub tailgate - Louisiana  \t\n     NGPL LA \t $2.7400 \t $2.0550 \t $2.5180 \t +.5460 \t 287,900 \t Natural Gas Pipeline Co. of America, Louisiana Pool  \t\n     Tenn 500L \t $2.7400 \t $2.2800 \t $2.5295 \t +.4989 \t 275,100 \t Tennessee Gas Pipeline Co.-Zone L, 500 Leg Pool  \t\n     Tenn 800L \t $2.7300 \t $2.2450 \t $2.4840 \t +.4767 \t 248,800 \t Tennessee Gas Pipeline Co.-Zone L, 800 Leg Pool  \t\n     TETCO ELA \t $2.7900 \t $2.2500 \t $2.5993 \t +.4619 \t 164,900 \t Texas Eastern - East LA  \t\n     TETCO WLA \t $2.7700 \t $2.3300 \t $2.5976 \t +.6778 \t 208,300 \t Texas Eastern - West LA  \t\n     Transco 65 \t $2.8200 \t $2.3000 \t $2.6756 \t +.5535 \t 176,100 \t Transco - Station 65  \t\n     Trunkline ELA \t $2.7600 \t $2.0000 \t $2.5481 \t +.5686 \t 82,500 \t Trunkline Gas Company - East Louisiana Pool  \t\n     TxGas SL \t $2.8400 \t $2.2800 \t $2.6244 \t +.5326 \t 245,000 \t Texas Gas Transmission Corp.-Zone SL FT Pool  \t\n  MIDCONTINENT \t   \t   \t   \t   \t   \t   \t\n     MichCon, citygate \t $2.9000 \t $2.2500 \t $2.8052 \t +.6308 \t 219,800 \t Michigan Consolidated  \t\n     NGPL Midcont \t $2.5900 \t $2.2300 \t $2.4805 \t +.6875 \t 221,700 \t Natural Gas Pipeline Co. of America, Mid-Continent Pool  \t\n     NGPL Nicor, citygate \t $2.7975 \t $2.1300 \t $2.6082 \t +.5992 \t 1,231,800 \t Natural Gas Pipeline Co. of America, Nicor Citygate \t\n     NGPL NIPSCO, citygate \t $2.8000 \t $2.5400 \t $2.7380 \t +.7435 \t 107,500 \t Natural Gas Pipeline Co. of America, Nipsco Citygate \t\n     NNG Demarcation \t $2.7000 \t $2.1250 \t $2.4831 \t +.4382 \t 214,200 \t Northern Natural Gas, Demarcation Pool  \t\n  NORTHEAST \t   \t   \t   \t   \t   \t   \t\n     Columbia TCO \t $2.9100 \t $2.2900 \t $2.7287 \t +.5870 \t 533,300 \t Columbia Gas Co. - TCO Pool  \t\n     Dominion So.Point \t $3.1000 \t $2.7800 \t $2.8973 \t +.5502 \t 235,300 \t Dominion - South Point  \t\n     TETCO M3 \t $3.3100 \t $2.8000 \t $3.0520 \t +.5224 \t 218,400 \t Texas Eastern - M3 Zone  \t\n     Transco Z-6 (NY) \t $3.4100 \t $2.9000 \t $3.2445 \t +.6188 \t 100,000 \t Transcontinental Gas Pipe Line Corp. - Zone 6 (NY) \t\n  WEST \t   \t   \t   \t   \t   \t   \t\n     El Paso non-Bondad \t $2.4500 \t $2.1600 \t $2.3522 \t +.6445 \t 183,900 \t El Paso - San Juan Basin, Blanco Pool \t\n     Huntingdon/Sumas \t $2.4500 \t $2.3200 \t $2.3958 \t +.5708 \t 126,000 \t Westcoast Energy & Northwest Pipeline Corp. \t\n     Opal \t $2.4100 \t $1.9600 \t $2.2514 \t +.6931 \t 109,800 \t Opal \t\n     PG&E Citygate \t $2.6500 \t $2.3800 \t $2.5525 \t +.5769 \t 227,500 \t PG&E - Citygate  \t\n     SoCal Border \t $2.7200 \t $2.4000 \t $2.5593 \t +.6743 \t 208,000 \t Southern California Border Points (Ehrenberg,Topock,Needles) \t\n  WEST TEXAS \t   \t   \t   \t   \t   \t   \t\n     El Paso - Keystone \t $2.5300 \t $2.3700 \t $2.4526 \t +.7034 \t 606,000 \t El Paso - Keystone Pool \t\n     Waha \t $2.5700 \t $2.3800 \t $2.5118 \t +.6383 \t 245,300 \t Waha Hub - West Texas  \t\n\n\nIncludes all firm physical fixed price trades done from 7 AM to 11:30 AM Central Prevailing Time on the trade date specified for natural gas delivered on the specified date(s). \nIntercontinentalExchange is the world's most liquid trading platform for over-the-counter energy and metals.  Active markets include North American power and natural gas, global crude and refined oil products, and precious metals.  Traded instruments include forwards, swaps, and options. \nIn order to receive the proprietary information contained in this email, you acknowledge and agree that you shall not further disseminate the IntercontinentalExchange Market Data contained herein to any person or entity without the express written consent of IntercontinentalExchange.   Furthermore, you acknowledge that (1) IntercontinentalExchange has exclusive and valuable property rights in this data; (2) IntercontinentalExchange's data is being made available to you only for your own business or personal activities; and (3) you cannot communicate the data, in any form, to any other person or entity without the express written consent of IntercontinentalExchange. \nThis data is provided to you free of charge.  IntercontinentalExchange reserves the right to cancel this service at any time for any reason or no reason at all. \nYou agree that IntercontinentalExchange does not make any representations or warranties, express or implied, with respect to the data. \nTo become an Exchange Participant or inquire about the indices, please contact sales@intcx.com. \nTo unsubscribe from this service, click here unsubscribe. \n?Copyright IntercontinentalExchange, Inc. 2001, All Rights Reserved. "
        ],
        [
         "393475",
         "26526592.1075853218791.JavaMail.evans@thyme",
         "Fri, 11 May 2001 02:25:00 -0700 (PDT)",
         "richard.sanders@enron.com",
         "jw1000mac@yahoo.com",
         "Memorandum Re CA Substantive and Procedural Law Re\n Contribution/Indemnity",
         "1.0",
         "text/plain",
         "us-ascii",
         "7bit",
         "Richard B Sanders",
         "jw1000mac@yahoo.com",
         "",
         "",
         "\\Richard_Sanders_Oct2001\\Notes Folders\\All documents",
         "Sanders-R",
         "",
         "rsanders.nsf\n\n----- Forwarded by Richard B Sanders/HOU/ECT on 05/11/2001 09:24 AM -----\n\n\tshoward@agsk.com\n\t05/03/2001 10:56 PM\n\t\t \n\t\t To: Richard.B.Sanders@enron.com\n\t\t cc: \n\t\t Subject: Memorandum Re CA Substantive and Procedural Law Re \nContribution/Indemnity\n\n\nRichard,\n\nHere is the memorandum.  I can send you a separate hard copy if you want it,\nor you can just print one out.\n\nLet's talk on Monday.  If you want to set a specific time, just send me an\ne-mail.\n\nSteve\n                                                                              \n                                                                              \n                                                                              \n                                                                              \n                                                                              \n                                                                              \n                                                                              \n                                                                              \n             ................................................\n\nALSCHULER GROSSMAN STEIN & KAHAN LLP\nATTORNEYS AT LAW\nwww.agsk.com\n\n2049 Century Park East\nThirty-Ninth Floor\nLos Angeles, CA 90067-3213\nTel 310-277-1226\nFax 310-552-6077\n\nThis transmission is intended only for the use\nof the addressee and may contain information\nthat is privileged, confidential and exempt from\ndisclosure under applicable law. If you are not\nthe intended recipient, or the employee or agent\nresponsible for delivering the message to the\nintended recipient, you are hereby notified that\nany dissemination, distribution or copying of\nthis communication is strictly prohibited.\n\nIf you have received this communication\nin error, please notify us immediately\nvia e-mail at postmaster@agsk.com or\nby telephone at 310-277-1226. Thank you.\n\n...............................................\n - Memorandum Re Contribution-Comparative Indemnity.doc"
        ],
        [
         "469280",
         "28647397.1075841837797.JavaMail.evans@thyme",
         "Sun, 1 Apr 2001 18:57:00 -0700 (PDT)",
         "enron.announcements@enron.com",
         "all.worldwide@enron.com",
         "eThink About It: 4/2/01",
         "1.0",
         "text/plain",
         "us-ascii",
         "7bit",
         "Enron Announcements",
         "All Enron Worldwide",
         "",
         "",
         "\\kate symes 6-27-02\\Notes Folders\\Discussion threads",
         "SYMES-K",
         "",
         "kate symes 6-27-02.nsf\n\nThursday, Apr. 5 at 10 a.m. Houston time, join George Wasaff, managing \ndirector of Global Strategic Sourcing (GSS) on eSpeak.  George will answer \nquestions about GSS' plans for fiscal 2001 and major sourcing initiatives, \nincluding the roll-out of iBuyit.\n\nNow, for the part about pre-submitting questions:  If you can't make the live \nevent, be sure to post your question on eSpeak right now!  George will answer \nyour questions during his event, and you can read them in the transcript \nlater.\n\n\nethink.enron.com"
        ]
       ],
       "shape": {
        "columns": 17,
        "rows": 1000
       }
      },
      "text/html": [
       "<div>\n",
       "<style scoped>\n",
       "    .dataframe tbody tr th:only-of-type {\n",
       "        vertical-align: middle;\n",
       "    }\n",
       "\n",
       "    .dataframe tbody tr th {\n",
       "        vertical-align: top;\n",
       "    }\n",
       "\n",
       "    .dataframe thead th {\n",
       "        text-align: right;\n",
       "    }\n",
       "</style>\n",
       "<table border=\"1\" class=\"dataframe\">\n",
       "  <thead>\n",
       "    <tr style=\"text-align: right;\">\n",
       "      <th></th>\n",
       "      <th>MessageID</th>\n",
       "      <th>Date</th>\n",
       "      <th>From</th>\n",
       "      <th>To</th>\n",
       "      <th>Subject</th>\n",
       "      <th>MimeVersion</th>\n",
       "      <th>ContentType</th>\n",
       "      <th>Charset</th>\n",
       "      <th>Encoding</th>\n",
       "      <th>XFrom</th>\n",
       "      <th>XTo</th>\n",
       "      <th>Xcc</th>\n",
       "      <th>Xbcc</th>\n",
       "      <th>XFolder</th>\n",
       "      <th>XOrigin</th>\n",
       "      <th>XFileName</th>\n",
       "      <th>Body</th>\n",
       "    </tr>\n",
       "  </thead>\n",
       "  <tbody>\n",
       "    <tr>\n",
       "      <th>98863</th>\n",
       "      <td>30559528.1075855169455.JavaMail.evans@thyme</td>\n",
       "      <td>Tue, 18 Dec 2001 15:54:14 -0800 (PST)</td>\n",
       "      <td>noreply@ccomad3.uu.commissioner.com</td>\n",
       "      <td>frank.ermis@enron.com</td>\n",
       "      <td>Put up $5 to win $1 Million!</td>\n",
       "      <td>1.0</td>\n",
       "      <td>text/plain</td>\n",
       "      <td>ANSI_X3.4-1968</td>\n",
       "      <td>7bit</td>\n",
       "      <td>CBS SportsLine.com &lt;noreply@ccomad3.uu.commiss...</td>\n",
       "      <td>Ermis, Frank &lt;/O=ENRON/OU=NA/CN=RECIPIENTS/CN=...</td>\n",
       "      <td></td>\n",
       "      <td></td>\n",
       "      <td>\\Frank_Ermis_Jan2002_1\\Ermis, Frank\\Inbox</td>\n",
       "      <td>Ermis-F</td>\n",
       "      <td></td>\n",
       "      <td>fermis (Non-Privileged).pst\\n\\n\\t\\n\\t\\n \\t CBS...</td>\n",
       "    </tr>\n",
       "    <tr>\n",
       "      <th>97422</th>\n",
       "      <td>19680659.1075840418964.JavaMail.evans@thyme</td>\n",
       "      <td>Mon, 10 Sep 2001 07:41:40 -0700 (PDT)</td>\n",
       "      <td>chris.dorland@enron.com</td>\n",
       "      <td>carlos.torres@enron.com</td>\n",
       "      <td>RE: Position and P&amp;L</td>\n",
       "      <td>1.0</td>\n",
       "      <td>text/plain</td>\n",
       "      <td>us-ascii</td>\n",
       "      <td>7bit</td>\n",
       "      <td>Dorland, Chris &lt;/O=ENRON/OU=NA/CN=RECIPIENTS/C...</td>\n",
       "      <td>Torres, Carlos &lt;/O=ENRON/OU=NA/CN=RECIPIENTS/C...</td>\n",
       "      <td></td>\n",
       "      <td></td>\n",
       "      <td>\\ExMerge - Dorland, Chris\\Sent Items</td>\n",
       "      <td>DORLAND-C</td>\n",
       "      <td></td>\n",
       "      <td>chris dorland 6-26-02.PST\\n\\nOct Sumas trades\\...</td>\n",
       "    </tr>\n",
       "    <tr>\n",
       "      <th>448345</th>\n",
       "      <td>11771876.1075841563440.JavaMail.evans@thyme</td>\n",
       "      <td>Sun, 3 Feb 2002 07:37:01 -0800 (PST)</td>\n",
       "      <td>pete.davis@enron.com</td>\n",
       "      <td>pete.davis@enron.com</td>\n",
       "      <td>Start Date: 2/3/02; HourAhead hour: 10;\\nCc: a...</td>\n",
       "      <td>1.0</td>\n",
       "      <td>text/plain</td>\n",
       "      <td>us-ascii</td>\n",
       "      <td>7bit\\nBcc: albert.meyers@enron.com, bill.willi...</td>\n",
       "      <td>Schedule Crawler&lt;pete.davis@enron.com&gt;@ENRON</td>\n",
       "      <td>Davis, Pete &lt;/O=ENRON/OU=NA/CN=RECIPIENTS/CN=P...</td>\n",
       "      <td>Meyers, Albert &lt;/O=ENRON/OU=NA/CN=RECIPIENTS/C...</td>\n",
       "      <td></td>\n",
       "      <td>\\ExMerge - Solberg, Geir\\Deleted Items</td>\n",
       "      <td>SOLBERG-G</td>\n",
       "      <td></td>\n",
       "      <td>geir solberg 6-26-02.PST\\n\\n\\n\\nStart Date: 2/...</td>\n",
       "    </tr>\n",
       "    <tr>\n",
       "      <th>54646</th>\n",
       "      <td>12518766.1075853090439.JavaMail.evans@thyme</td>\n",
       "      <td>Thu, 25 Oct 2001 07:56:32 -0700 (PDT)</td>\n",
       "      <td>bryant@cheatsheets.net</td>\n",
       "      <td>cheatsheets@yahoogroups.com</td>\n",
       "      <td>[Footballguys] Update # 138  10-25 Week 7 Chea...</td>\n",
       "      <td>1.0</td>\n",
       "      <td>text/plain</td>\n",
       "      <td>us-ascii</td>\n",
       "      <td>7bit</td>\n",
       "      <td>Joe Bryant &lt;bryant@cheatsheets.net&gt;</td>\n",
       "      <td>Cheatsheets Mailing Yahoo &lt;cheatsheets@yahoogr...</td>\n",
       "      <td></td>\n",
       "      <td></td>\n",
       "      <td>\\MCUILLA (Non-Privileged)\\Cuilla, Martin\\Delet...</td>\n",
       "      <td>Cuilla-M</td>\n",
       "      <td></td>\n",
       "      <td>MCUILLA (Non-Privileged).pst\\n\\nHi Folks,\\n\\nA...</td>\n",
       "    </tr>\n",
       "    <tr>\n",
       "      <th>45510</th>\n",
       "      <td>29528344.1075857924287.JavaMail.evans@thyme</td>\n",
       "      <td>Sun, 13 May 2001 12:33:00 -0700 (PDT)</td>\n",
       "      <td>enron.announcements@enron.com</td>\n",
       "      <td>all.houston@enron.com</td>\n",
       "      <td>Remote control your air-conditioner and heater</td>\n",
       "      <td>1.0</td>\n",
       "      <td>text/plain</td>\n",
       "      <td>us-ascii</td>\n",
       "      <td>7bit</td>\n",
       "      <td>Enron Announcements</td>\n",
       "      <td>All Enron Houston</td>\n",
       "      <td></td>\n",
       "      <td></td>\n",
       "      <td>\\Larry_Campbell_Jun2001\\Notes Folders\\Notes inbox</td>\n",
       "      <td>Campbell-L</td>\n",
       "      <td></td>\n",
       "      <td>lcampbel.nsf\\n\\nNewPower to offer another pilo...</td>\n",
       "    </tr>\n",
       "    <tr>\n",
       "      <th>...</th>\n",
       "      <td>...</td>\n",
       "      <td>...</td>\n",
       "      <td>...</td>\n",
       "      <td>...</td>\n",
       "      <td>...</td>\n",
       "      <td>...</td>\n",
       "      <td>...</td>\n",
       "      <td>...</td>\n",
       "      <td>...</td>\n",
       "      <td>...</td>\n",
       "      <td>...</td>\n",
       "      <td>...</td>\n",
       "      <td>...</td>\n",
       "      <td>...</td>\n",
       "      <td>...</td>\n",
       "      <td>...</td>\n",
       "      <td>...</td>\n",
       "    </tr>\n",
       "    <tr>\n",
       "      <th>311648</th>\n",
       "      <td>14061033.1075845796018.JavaMail.evans@thyme</td>\n",
       "      <td>Mon, 11 Dec 2000 06:17:00 -0800 (PST)</td>\n",
       "      <td>kay.mann@enron.com</td>\n",
       "      <td>pthompson@akllp.com</td>\n",
       "      <td>GE ContractPayment Summary</td>\n",
       "      <td>1.0</td>\n",
       "      <td>text/plain</td>\n",
       "      <td>us-ascii</td>\n",
       "      <td>7bit</td>\n",
       "      <td>Kay Mann</td>\n",
       "      <td>pthompson@akllp.com</td>\n",
       "      <td></td>\n",
       "      <td></td>\n",
       "      <td>\\Kay_Mann_June2001_2\\Notes Folders\\Discussion ...</td>\n",
       "      <td>MANN-K</td>\n",
       "      <td></td>\n",
       "      <td>kmann.nsf\\n\\nThe latest, greatest...\\n--------...</td>\n",
       "    </tr>\n",
       "    <tr>\n",
       "      <th>231068</th>\n",
       "      <td>30988171.1075847650719.JavaMail.evans@thyme</td>\n",
       "      <td>Fri, 5 Jan 2001 05:56:00 -0800 (PST)</td>\n",
       "      <td>mark.schroeder@enron.com</td>\n",
       "      <td>steven.kean@enron.com, richard.shapiro@enron.c...</td>\n",
       "      <td>Benefits of competition in electricity\\nCc: jo...</td>\n",
       "      <td>1.0</td>\n",
       "      <td>text/plain</td>\n",
       "      <td>us-ascii</td>\n",
       "      <td>7bit\\nBcc: john.sherriff@enron.com, joseph.hir...</td>\n",
       "      <td>Mark Schroeder</td>\n",
       "      <td>Steven J Kean, Richard Shapiro, James D Steffe...</td>\n",
       "      <td>John Sherriff, Joseph P Hirl, Paul Mead</td>\n",
       "      <td></td>\n",
       "      <td>\\Steven_Kean_June2001_1\\Notes Folders\\All docu...</td>\n",
       "      <td>KEAN-S</td>\n",
       "      <td></td>\n",
       "      <td>skean.nsf\\n\\nAs we all deal with the fallout f...</td>\n",
       "    </tr>\n",
       "    <tr>\n",
       "      <th>257975</th>\n",
       "      <td>8668663.1075840848630.JavaMail.evans@thyme</td>\n",
       "      <td>Fri, 2 Nov 2001 08:01:04 -0800 (PST)</td>\n",
       "      <td>laura.luce@enron.com</td>\n",
       "      <td>louise.kitchen@enron.com</td>\n",
       "      <td>NY Event w/PEC &amp; Keyspan\\nCc: tammie.schoppe@e...</td>\n",
       "      <td>1.0</td>\n",
       "      <td>text/plain</td>\n",
       "      <td>us-ascii</td>\n",
       "      <td>7bit\\nBcc: tammie.schoppe@enron.com</td>\n",
       "      <td>Luce, Laura &lt;/O=ENRON/OU=NA/CN=RECIPIENTS/CN=L...</td>\n",
       "      <td>Kitchen, Louise &lt;/O=ENRON/OU=NA/CN=RECIPIENTS/...</td>\n",
       "      <td>Schoppe, Tammie &lt;/O=ENRON/OU=NA/CN=RECIPIENTS/...</td>\n",
       "      <td></td>\n",
       "      <td>\\ExMerge - Kitchen, Louise\\'Americas\\Gas</td>\n",
       "      <td>KITCHEN-L</td>\n",
       "      <td></td>\n",
       "      <td>louise kitchen 2-7-02.pst\\n\\nLouise,\\nIt is my...</td>\n",
       "    </tr>\n",
       "    <tr>\n",
       "      <th>478807</th>\n",
       "      <td>15334805.1075859980268.JavaMail.evans@thyme</td>\n",
       "      <td>Mon, 22 Nov 1999 08:45:00 -0800 (PST)</td>\n",
       "      <td>fishkinc@hotmail.com</td>\n",
       "      <td>mark.haedicke@enron.com, mark.taylor@enron.com...</td>\n",
       "      <td></td>\n",
       "      <td>1.0</td>\n",
       "      <td>text/plain</td>\n",
       "      <td>us-ascii</td>\n",
       "      <td>7bit</td>\n",
       "      <td>\"CHARLES FISHKIN\" &lt;fishkinc@hotmail.com&gt;</td>\n",
       "      <td>Mark E Haedicke, Mark Taylor, Rick Buy, Tana J...</td>\n",
       "      <td></td>\n",
       "      <td></td>\n",
       "      <td>\\Mark_Taylor _Dec_2000\\Notes Folders\\Archive\\N...</td>\n",
       "      <td>Taylor-M</td>\n",
       "      <td></td>\n",
       "      <td>mtaylor.nsf\\n\\nHere's a working draft on a new...</td>\n",
       "    </tr>\n",
       "    <tr>\n",
       "      <th>321214</th>\n",
       "      <td>31054485.1075845927977.JavaMail.evans@thyme</td>\n",
       "      <td>Wed, 2 Aug 2000 04:36:00 -0700 (PDT)</td>\n",
       "      <td>kay.mann@enron.com</td>\n",
       "      <td>heather.kroll@enron.com</td>\n",
       "      <td></td>\n",
       "      <td>1.0</td>\n",
       "      <td>text/plain</td>\n",
       "      <td>us-ascii</td>\n",
       "      <td>7bit</td>\n",
       "      <td>Kay Mann</td>\n",
       "      <td>Heather Kroll</td>\n",
       "      <td></td>\n",
       "      <td></td>\n",
       "      <td>\\Kay_Mann_June2001_3\\Notes Folders\\Sent</td>\n",
       "      <td>MANN-K</td>\n",
       "      <td></td>\n",
       "      <td>kmann.nsf\\n\\nHere's something to work with:\\n\\...</td>\n",
       "    </tr>\n",
       "  </tbody>\n",
       "</table>\n",
       "<p>1000 rows × 17 columns</p>\n",
       "</div>"
      ],
      "text/plain": [
       "                                          MessageID  \\\n",
       "98863   30559528.1075855169455.JavaMail.evans@thyme   \n",
       "97422   19680659.1075840418964.JavaMail.evans@thyme   \n",
       "448345  11771876.1075841563440.JavaMail.evans@thyme   \n",
       "54646   12518766.1075853090439.JavaMail.evans@thyme   \n",
       "45510   29528344.1075857924287.JavaMail.evans@thyme   \n",
       "...                                             ...   \n",
       "311648  14061033.1075845796018.JavaMail.evans@thyme   \n",
       "231068  30988171.1075847650719.JavaMail.evans@thyme   \n",
       "257975   8668663.1075840848630.JavaMail.evans@thyme   \n",
       "478807  15334805.1075859980268.JavaMail.evans@thyme   \n",
       "321214  31054485.1075845927977.JavaMail.evans@thyme   \n",
       "\n",
       "                                         Date  \\\n",
       "98863   Tue, 18 Dec 2001 15:54:14 -0800 (PST)   \n",
       "97422   Mon, 10 Sep 2001 07:41:40 -0700 (PDT)   \n",
       "448345   Sun, 3 Feb 2002 07:37:01 -0800 (PST)   \n",
       "54646   Thu, 25 Oct 2001 07:56:32 -0700 (PDT)   \n",
       "45510   Sun, 13 May 2001 12:33:00 -0700 (PDT)   \n",
       "...                                       ...   \n",
       "311648  Mon, 11 Dec 2000 06:17:00 -0800 (PST)   \n",
       "231068   Fri, 5 Jan 2001 05:56:00 -0800 (PST)   \n",
       "257975   Fri, 2 Nov 2001 08:01:04 -0800 (PST)   \n",
       "478807  Mon, 22 Nov 1999 08:45:00 -0800 (PST)   \n",
       "321214   Wed, 2 Aug 2000 04:36:00 -0700 (PDT)   \n",
       "\n",
       "                                       From  \\\n",
       "98863   noreply@ccomad3.uu.commissioner.com   \n",
       "97422               chris.dorland@enron.com   \n",
       "448345                 pete.davis@enron.com   \n",
       "54646                bryant@cheatsheets.net   \n",
       "45510         enron.announcements@enron.com   \n",
       "...                                     ...   \n",
       "311648                   kay.mann@enron.com   \n",
       "231068             mark.schroeder@enron.com   \n",
       "257975                 laura.luce@enron.com   \n",
       "478807                 fishkinc@hotmail.com   \n",
       "321214                   kay.mann@enron.com   \n",
       "\n",
       "                                                       To  \\\n",
       "98863                               frank.ermis@enron.com   \n",
       "97422                             carlos.torres@enron.com   \n",
       "448345                               pete.davis@enron.com   \n",
       "54646                         cheatsheets@yahoogroups.com   \n",
       "45510                               all.houston@enron.com   \n",
       "...                                                   ...   \n",
       "311648                                pthompson@akllp.com   \n",
       "231068  steven.kean@enron.com, richard.shapiro@enron.c...   \n",
       "257975                           louise.kitchen@enron.com   \n",
       "478807  mark.haedicke@enron.com, mark.taylor@enron.com...   \n",
       "321214                            heather.kroll@enron.com   \n",
       "\n",
       "                                                  Subject MimeVersion  \\\n",
       "98863                        Put up $5 to win $1 Million!         1.0   \n",
       "97422                                RE: Position and P&L         1.0   \n",
       "448345  Start Date: 2/3/02; HourAhead hour: 10;\\nCc: a...         1.0   \n",
       "54646   [Footballguys] Update # 138  10-25 Week 7 Chea...         1.0   \n",
       "45510      Remote control your air-conditioner and heater         1.0   \n",
       "...                                                   ...         ...   \n",
       "311648                         GE ContractPayment Summary         1.0   \n",
       "231068  Benefits of competition in electricity\\nCc: jo...         1.0   \n",
       "257975  NY Event w/PEC & Keyspan\\nCc: tammie.schoppe@e...         1.0   \n",
       "478807                                                            1.0   \n",
       "321214                                                            1.0   \n",
       "\n",
       "       ContentType         Charset  \\\n",
       "98863   text/plain  ANSI_X3.4-1968   \n",
       "97422   text/plain        us-ascii   \n",
       "448345  text/plain        us-ascii   \n",
       "54646   text/plain        us-ascii   \n",
       "45510   text/plain        us-ascii   \n",
       "...            ...             ...   \n",
       "311648  text/plain        us-ascii   \n",
       "231068  text/plain        us-ascii   \n",
       "257975  text/plain        us-ascii   \n",
       "478807  text/plain        us-ascii   \n",
       "321214  text/plain        us-ascii   \n",
       "\n",
       "                                                 Encoding  \\\n",
       "98863                                                7bit   \n",
       "97422                                                7bit   \n",
       "448345  7bit\\nBcc: albert.meyers@enron.com, bill.willi...   \n",
       "54646                                                7bit   \n",
       "45510                                                7bit   \n",
       "...                                                   ...   \n",
       "311648                                               7bit   \n",
       "231068  7bit\\nBcc: john.sherriff@enron.com, joseph.hir...   \n",
       "257975                7bit\\nBcc: tammie.schoppe@enron.com   \n",
       "478807                                               7bit   \n",
       "321214                                               7bit   \n",
       "\n",
       "                                                    XFrom  \\\n",
       "98863   CBS SportsLine.com <noreply@ccomad3.uu.commiss...   \n",
       "97422   Dorland, Chris </O=ENRON/OU=NA/CN=RECIPIENTS/C...   \n",
       "448345       Schedule Crawler<pete.davis@enron.com>@ENRON   \n",
       "54646                 Joe Bryant <bryant@cheatsheets.net>   \n",
       "45510                                 Enron Announcements   \n",
       "...                                                   ...   \n",
       "311648                                           Kay Mann   \n",
       "231068                                     Mark Schroeder   \n",
       "257975  Luce, Laura </O=ENRON/OU=NA/CN=RECIPIENTS/CN=L...   \n",
       "478807           \"CHARLES FISHKIN\" <fishkinc@hotmail.com>   \n",
       "321214                                           Kay Mann   \n",
       "\n",
       "                                                      XTo  \\\n",
       "98863   Ermis, Frank </O=ENRON/OU=NA/CN=RECIPIENTS/CN=...   \n",
       "97422   Torres, Carlos </O=ENRON/OU=NA/CN=RECIPIENTS/C...   \n",
       "448345  Davis, Pete </O=ENRON/OU=NA/CN=RECIPIENTS/CN=P...   \n",
       "54646   Cheatsheets Mailing Yahoo <cheatsheets@yahoogr...   \n",
       "45510                                   All Enron Houston   \n",
       "...                                                   ...   \n",
       "311648                                pthompson@akllp.com   \n",
       "231068  Steven J Kean, Richard Shapiro, James D Steffe...   \n",
       "257975  Kitchen, Louise </O=ENRON/OU=NA/CN=RECIPIENTS/...   \n",
       "478807  Mark E Haedicke, Mark Taylor, Rick Buy, Tana J...   \n",
       "321214                                      Heather Kroll   \n",
       "\n",
       "                                                      Xcc Xbcc  \\\n",
       "98863                                                            \n",
       "97422                                                            \n",
       "448345  Meyers, Albert </O=ENRON/OU=NA/CN=RECIPIENTS/C...        \n",
       "54646                                                            \n",
       "45510                                                            \n",
       "...                                                   ...  ...   \n",
       "311648                                                           \n",
       "231068            John Sherriff, Joseph P Hirl, Paul Mead        \n",
       "257975  Schoppe, Tammie </O=ENRON/OU=NA/CN=RECIPIENTS/...        \n",
       "478807                                                           \n",
       "321214                                                           \n",
       "\n",
       "                                                  XFolder     XOrigin  \\\n",
       "98863           \\Frank_Ermis_Jan2002_1\\Ermis, Frank\\Inbox     Ermis-F   \n",
       "97422                \\ExMerge - Dorland, Chris\\Sent Items   DORLAND-C   \n",
       "448345             \\ExMerge - Solberg, Geir\\Deleted Items   SOLBERG-G   \n",
       "54646   \\MCUILLA (Non-Privileged)\\Cuilla, Martin\\Delet...    Cuilla-M   \n",
       "45510   \\Larry_Campbell_Jun2001\\Notes Folders\\Notes inbox  Campbell-L   \n",
       "...                                                   ...         ...   \n",
       "311648  \\Kay_Mann_June2001_2\\Notes Folders\\Discussion ...      MANN-K   \n",
       "231068  \\Steven_Kean_June2001_1\\Notes Folders\\All docu...      KEAN-S   \n",
       "257975           \\ExMerge - Kitchen, Louise\\'Americas\\Gas   KITCHEN-L   \n",
       "478807  \\Mark_Taylor _Dec_2000\\Notes Folders\\Archive\\N...    Taylor-M   \n",
       "321214            \\Kay_Mann_June2001_3\\Notes Folders\\Sent      MANN-K   \n",
       "\n",
       "       XFileName                                               Body  \n",
       "98863             fermis (Non-Privileged).pst\\n\\n\\t\\n\\t\\n \\t CBS...  \n",
       "97422             chris dorland 6-26-02.PST\\n\\nOct Sumas trades\\...  \n",
       "448345            geir solberg 6-26-02.PST\\n\\n\\n\\nStart Date: 2/...  \n",
       "54646             MCUILLA (Non-Privileged).pst\\n\\nHi Folks,\\n\\nA...  \n",
       "45510             lcampbel.nsf\\n\\nNewPower to offer another pilo...  \n",
       "...          ...                                                ...  \n",
       "311648            kmann.nsf\\n\\nThe latest, greatest...\\n--------...  \n",
       "231068            skean.nsf\\n\\nAs we all deal with the fallout f...  \n",
       "257975            louise kitchen 2-7-02.pst\\n\\nLouise,\\nIt is my...  \n",
       "478807            mtaylor.nsf\\n\\nHere's a working draft on a new...  \n",
       "321214            kmann.nsf\\n\\nHere's something to work with:\\n\\...  \n",
       "\n",
       "[1000 rows x 17 columns]"
      ]
     },
     "execution_count": 47,
     "metadata": {},
     "output_type": "execute_result"
    }
   ],
   "source": [
    "df_parsed_emails = df_emails_data_random.message.str.extract(pattern, flags=re.DOTALL)\n",
    "df_parsed_emails"
   ]
  },
  {
   "cell_type": "code",
   "execution_count": 48,
   "id": "3fdb505c",
   "metadata": {},
   "outputs": [
    {
     "data": {
      "application/vnd.microsoft.datawrangler.viewer.v0+json": {
       "columns": [
        {
         "name": "index",
         "rawType": "int64",
         "type": "integer"
        },
        {
         "name": "email",
         "rawType": "object",
         "type": "string"
        },
        {
         "name": "sender",
         "rawType": "object",
         "type": "unknown"
        },
        {
         "name": "subject",
         "rawType": "object",
         "type": "unknown"
        },
        {
         "name": "body",
         "rawType": "object",
         "type": "unknown"
        },
        {
         "name": "prediction",
         "rawType": "bool",
         "type": "boolean"
        },
        {
         "name": "score",
         "rawType": "float64",
         "type": "float"
        }
       ],
       "ref": "af2fbb5c-3fc0-4c74-9844-4bd5b8964df9",
       "rows": [
        [
         "98863",
         "Message-ID: <30559528.1075855169455.JavaMail.evans@thyme>\nDate: Tue, 18 Dec 2001 15:54:14 -0800 (PST)\nFrom: noreply@ccomad3.uu.commissioner.com\nTo: frank.ermis@enron.com\nSubject: Put up $5 to win $1 Million!\nMime-Version: 1.0\nContent-Type: text/plain; charset=ANSI_X3.4-1968\nContent-Transfer-Encoding: 7bit\nX-From: CBS SportsLine.com <noreply@ccomad3.uu.commissioner.com>\nX-To: Ermis, Frank </O=ENRON/OU=NA/CN=RECIPIENTS/CN=FERMIS>\nX-cc: \nX-bcc: \nX-Folder: \\Frank_Ermis_Jan2002_1\\Ermis, Frank\\Inbox\nX-Origin: Ermis-F\nX-FileName: fermis (Non-Privileged).pst\n\n\t\n\t\n \t CBS SportsLine.com <http://www.sportsline.com>\t  Fantasy Football 2001 <http://images.commissioner.com/images/ads/emails/elwayyell1.gif>\t\n \t \t\t\n \t Someone will win a millions dollars!\n\nDo you know football? Would you pay $5 to enter an office pool with a $1 Million grand prize? There are 3 weeks left in the pro football season and someone is GUARANTEED to win $1 Million in the Office Pool Challenge. There's still plenty of time left for you to win, so sign up today! <http://poolchallenge.fantasy.sportsline.com/?r=esfb1228_html>\n\nIf someone picks every game right in a week, that person is entered into a random drawing with everyone else who made \"perfect picks\" during the season. If no one makes \"perfect picks\" then the 17 weekly high-scorers are entered into a drawing for the $1 Million prize. With 3 weeks left, you still have 3 chances to make perfect picks or to be one of the weekly high scorers... maybe you'll win all weeks!\n\nSomeone is guaranteed to win $1 Million...why can't it be you? SIGN UP TODAY! <http://poolchallenge.fantasy.sportsline.com/?r=esfb1228_html> \t \t\n  <http://images.commissioner.com/images/ads/emails/elwayyell2.gif>\tFantasy Football only at cbs.sportsline.com <http://poolchallenge.fantasy.sportsline.com/?r=esfb1228_html>\t\n?\tGrand Prize: $1,000,000\n\n\t\n?\tFirst Place: $5,000\n\n\t\n?\tSecond Place: $2,500\n\n\t\n?\tThird Place: $1,000\n\n\t\n?\tFourth - Sixth Place: $500\n\n\t\n?\tWeekly Prize: $2,500 worth of electronics\t\n \t\nSign Up Today! <http://poolchallenge.fantasy.sportsline.com/?r=esfb1228_html> \n\n  <http://images.commissioner.com/images/ads/emails/opc.gif>\t\n\n \t\n Fantasy Sports for Real <http://images.commissioner.com/images/ads/emails/fantsportforreal.gif>\nThis message has been provided free of charge and free of obligation. If you prefer not to receive emails of this nature please respond to remove@commissioner.com <mailto:remove@commissioner.com>. Do not respond to this email directly. \n\n \t   <http://images.commissioner.com/images/ads/emails/banner.gif>\t \t\n\t",
         "noreply@ccomad3.uu.commissioner.com",
         "Put up $5 to win $1 Million!",
         "fermis (Non-Privileged).pst\n\n\t\n\t\n \t CBS SportsLine.com <http://www.sportsline.com>\t  Fantasy Football 2001 <http://images.commissioner.com/images/ads/emails/elwayyell1.gif>\t\n \t \t\t\n \t Someone will win a millions dollars!\n\nDo you know football? Would you pay $5 to enter an office pool with a $1 Million grand prize? There are 3 weeks left in the pro football season and someone is GUARANTEED to win $1 Million in the Office Pool Challenge. There's still plenty of time left for you to win, so sign up today! <http://poolchallenge.fantasy.sportsline.com/?r=esfb1228_html>\n\nIf someone picks every game right in a week, that person is entered into a random drawing with everyone else who made \"perfect picks\" during the season. If no one makes \"perfect picks\" then the 17 weekly high-scorers are entered into a drawing for the $1 Million prize. With 3 weeks left, you still have 3 chances to make perfect picks or to be one of the weekly high scorers... maybe you'll win all weeks!\n\nSomeone is guaranteed to win $1 Million...why can't it be you? SIGN UP TODAY! <http://poolchallenge.fantasy.sportsline.com/?r=esfb1228_html> \t \t\n  <http://images.commissioner.com/images/ads/emails/elwayyell2.gif>\tFantasy Football only at cbs.sportsline.com <http://poolchallenge.fantasy.sportsline.com/?r=esfb1228_html>\t\n?\tGrand Prize: $1,000,000\n\n\t\n?\tFirst Place: $5,000\n\n\t\n?\tSecond Place: $2,500\n\n\t\n?\tThird Place: $1,000\n\n\t\n?\tFourth - Sixth Place: $500\n\n\t\n?\tWeekly Prize: $2,500 worth of electronics\t\n \t\nSign Up Today! <http://poolchallenge.fantasy.sportsline.com/?r=esfb1228_html> \n\n  <http://images.commissioner.com/images/ads/emails/opc.gif>\t\n\n \t\n Fantasy Sports for Real <http://images.commissioner.com/images/ads/emails/fantsportforreal.gif>\nThis message has been provided free of charge and free of obligation. If you prefer not to receive emails of this nature please respond to remove@commissioner.com <mailto:remove@commissioner.com>. Do not respond to this email directly. \n\n \t   <http://images.commissioner.com/images/ads/emails/banner.gif>\t \t\n\t",
         "False",
         "0.23946578607972854"
        ],
        [
         "97422",
         "Message-ID: <19680659.1075840418964.JavaMail.evans@thyme>\nDate: Mon, 10 Sep 2001 07:41:40 -0700 (PDT)\nFrom: chris.dorland@enron.com\nTo: carlos.torres@enron.com\nSubject: RE: Position and P&L\nMime-Version: 1.0\nContent-Type: text/plain; charset=us-ascii\nContent-Transfer-Encoding: 7bit\nX-From: Dorland, Chris </O=ENRON/OU=NA/CN=RECIPIENTS/CN=CDORLAN>\nX-To: Torres, Carlos </O=ENRON/OU=NA/CN=RECIPIENTS/CN=CTORRES>\nX-cc: \nX-bcc: \nX-Folder: \\ExMerge - Dorland, Chris\\Sent Items\nX-Origin: DORLAND-C\nX-FileName: chris dorland 6-26-02.PST\n\nOct Sumas trades\n \nSold 50000 mm/d to Lambie (0.24)\nBought 5000 mm/d from Chad (0.245) EOL\n \nI also bought 15000 mm/d from Chad today on EOL.\n \nChris\n\n-----Original Message----- \nFrom: Torres, Carlos \nSent: Mon 9/10/2001 9:35 AM \nTo: Dorland, Chris \nCc: \nSubject: RE: Position and P&L\n\n\n\nNo worries amd I will make sure your book is clean and ready by the time you get here!\n \nCarlos\n -----Original Message-----\nFrom: Dorland, Chris \nSent: Monday, September 10, 2001 8:30 AM\nTo: Torres, Carlos\nSubject: RE: Position and P&L\n\n\nCarlos\n \nThanx for the pos report. Would you mind sending it to me each morning? Also, can you make sure that they have all of the deals (other than the few I have done) transferred out of my book by the end of the week. I talked to Brian? and he said he would look after it but can you make sure it happens.\n \nThanx,\n \nChris \n\n-----Original Message----- \nFrom: Torres, Carlos \nSent: Mon 9/10/2001 9:13 AM \nTo: Dorland, Chris \nCc: \nSubject: Position and P&L\n\n\n\n<<Report_0907.xls>> \n\nCarlos Torres \nEnron Canada Corporation \n403-974-6918 ",
         "chris.dorland@enron.com",
         "RE: Position and P&L",
         "chris dorland 6-26-02.PST\n\nOct Sumas trades\n \nSold 50000 mm/d to Lambie (0.24)\nBought 5000 mm/d from Chad (0.245) EOL\n \nI also bought 15000 mm/d from Chad today on EOL.\n \nChris\n\n-----Original Message----- \nFrom: Torres, Carlos \nSent: Mon 9/10/2001 9:35 AM \nTo: Dorland, Chris \nCc: \nSubject: RE: Position and P&L\n\n\n\nNo worries amd I will make sure your book is clean and ready by the time you get here!\n \nCarlos\n -----Original Message-----\nFrom: Dorland, Chris \nSent: Monday, September 10, 2001 8:30 AM\nTo: Torres, Carlos\nSubject: RE: Position and P&L\n\n\nCarlos\n \nThanx for the pos report. Would you mind sending it to me each morning? Also, can you make sure that they have all of the deals (other than the few I have done) transferred out of my book by the end of the week. I talked to Brian? and he said he would look after it but can you make sure it happens.\n \nThanx,\n \nChris \n\n-----Original Message----- \nFrom: Torres, Carlos \nSent: Mon 9/10/2001 9:13 AM \nTo: Dorland, Chris \nCc: \nSubject: Position and P&L\n\n\n\n<<Report_0907.xls>> \n\nCarlos Torres \nEnron Canada Corporation \n403-974-6918 ",
         "False",
         "0.15443858964803203"
        ],
        [
         "448345",
         "Message-ID: <11771876.1075841563440.JavaMail.evans@thyme>\nDate: Sun, 3 Feb 2002 07:37:01 -0800 (PST)\nFrom: pete.davis@enron.com\nTo: pete.davis@enron.com\nSubject: Start Date: 2/3/02; HourAhead hour: 10;\nCc: albert.meyers@enron.com, bill.williams@enron.com, craig.dean@enron.com, \n\tgeir.solberg@enron.com, john.anderson@enron.com, \n\tmark.guzman@enron.com, michael.mier@enron.com, pete.davis@enron.com, \n\tryan.slinger@enron.com\nMime-Version: 1.0\nContent-Type: text/plain; charset=us-ascii\nContent-Transfer-Encoding: 7bit\nBcc: albert.meyers@enron.com, bill.williams@enron.com, craig.dean@enron.com, \n\tgeir.solberg@enron.com, john.anderson@enron.com, \n\tmark.guzman@enron.com, michael.mier@enron.com, pete.davis@enron.com, \n\tryan.slinger@enron.com\nX-From: Schedule Crawler<pete.davis@enron.com>@ENRON\nX-To: Davis, Pete </O=ENRON/OU=NA/CN=RECIPIENTS/CN=PDAVIS1>\nX-cc: Meyers, Albert </O=ENRON/OU=NA/CN=RECIPIENTS/CN=BMEYERS>, Williams III, Bill </O=ENRON/OU=NA/CN=RECIPIENTS/CN=BWILLIA5>, Dean, Craig </O=ENRON/OU=NA/CN=RECIPIENTS/CN=CDEAN2>, Solberg, Geir </O=ENRON/OU=NA/CN=RECIPIENTS/CN=GSOLBER>, Anderson, John </O=ENRON/OU=NA/CN=RECIPIENTS/CN=JANDERS3>, Guzman, Mark </O=ENRON/OU=NA/CN=RECIPIENTS/CN=MGUZMAN3>, Mier, Michael </O=ENRON/OU=NA/CN=RECIPIENTS/CN=MMIER>, Davis, Pete </O=ENRON/OU=NA/CN=RECIPIENTS/CN=PDAVIS1>, Slinger, Ryan </O=ENRON/OU=NA/CN=RECIPIENTS/CN=RSLINGER>\nX-bcc: \nX-Folder: \\ExMerge - Solberg, Geir\\Deleted Items\nX-Origin: SOLBERG-G\nX-FileName: geir solberg 6-26-02.PST\n\n\n\nStart Date: 2/3/02; HourAhead hour: 10;  No ancillary schedules awarded.  No variances detected.\n\n    LOG MESSAGES:\n\nPARSING FILE -->> O:\\Portland\\WestDesk\\California Scheduling\\ISO Final Schedules\\2002020310.txt",
         "pete.davis@enron.com",
         "Start Date: 2/3/02; HourAhead hour: 10;\nCc: albert.meyers@enron.com, bill.williams@enron.com, craig.dean@enron.com, \n\tgeir.solberg@enron.com, john.anderson@enron.com, \n\tmark.guzman@enron.com, michael.mier@enron.com, pete.davis@enron.com, \n\tryan.slinger@enron.com",
         "geir solberg 6-26-02.PST\n\n\n\nStart Date: 2/3/02; HourAhead hour: 10;  No ancillary schedules awarded.  No variances detected.\n\n    LOG MESSAGES:\n\nPARSING FILE -->> O:\\Portland\\WestDesk\\California Scheduling\\ISO Final Schedules\\2002020310.txt",
         "False",
         "0.16389290742700813"
        ],
        [
         "54646",
         "Message-ID: <12518766.1075853090439.JavaMail.evans@thyme>\nDate: Thu, 25 Oct 2001 07:56:32 -0700 (PDT)\nFrom: bryant@cheatsheets.net\nTo: cheatsheets@yahoogroups.com\nSubject: [Footballguys] Update # 138  10-25 Week 7 Cheatsheets\nMime-Version: 1.0\nContent-Type: text/plain; charset=us-ascii\nContent-Transfer-Encoding: 7bit\nX-From: Joe Bryant <bryant@cheatsheets.net>\nX-To: Cheatsheets Mailing Yahoo <cheatsheets@yahoogroups.com>\nX-cc: \nX-bcc: \nX-Folder: \\MCUILLA (Non-Privileged)\\Cuilla, Martin\\Deleted Items\nX-Origin: Cuilla-M\nX-FileName: MCUILLA (Non-Privileged).pst\n\nHi Folks,\n\nAs always, you can find our latest cheatsheets online here\nhttp://www.footballguys.com/week7cs.htm\n\nBest of luck this week and we hope all the bounces go your way.\n\nJoe & David   \n\n\n/**/**/**/**/**/**/**/**/**/**/**/**/**/**/**/**/\n\n\nQuarterbacks: \n\n1. Warner, StL \n2. Manning, Ind \n3. Garcia, SF \n4. McNabb, Phi \n5. Culpepper, Min \n6. Johnson, TB \n7. Griese, Den (Prob) \n8. Gannon, Oak \n9. Green, KC \n10. Brooks, NO \n11. Batch, Det \n12. Flutie, SD \n13. Weinke, Car (Prob) \n14. Plummer, Ari \n15. Grbac, Bal (Ques) \n16. Miller, Chi \n17. Testaverde, NYJ \n18. Collins, NYG \n19. Brady, NE \n20. McNair, Ten (Ques) \n21. Kitna, Cin \n22. Fiedler, Mia \n23. Johnson, Buf \n24. Stewart, Pit \n25. Brunell, Jac \n\n\nRunning Backs: \n\n1. James, Ind \n2. Tomlinson, SD \n3. Martin, NYJ \n4. Williams, NO \n5. Canidate, StL \n6. Dillon, Cin \n7. Holmes, KC \n8. Alexander, Sea \n9. Bettis, Pit \n10. Pittman, Ari \n11. Smith, Mia (Prob) \n12. Garner, Oak \n13. Thomas, Chi (Prob) \n14. Smith, Dal \n15. George, Ten \n16. Dunn, TB (Ques) \n17. Davis, Was \n18. Smith, NE \n19. Barber, NYG \n20. Hearst, SF \n21. Huntley, Car \n22. Henry, Buf \n23. Chapman, Min \n24. Anderson, Den \n25. Stewart, Det (Ques) \n26. Dayne, NYG \n27. Allen, Bal (Ques) \n28. Staley, Phi (Prob) \n29. Mack, Jac \n30. Buckhalter, Phi \n31. Gary, Den \n32. Alstott, TB \n33. Jones, Ari \n34. Richardson, KC \n35. Brookins, Bal (Prob) \n36. Centers, Buf \n37. Anderson, NYJ \n38. Allen, Chi \n39. Barlow, SF \n40. Zereoue, Pit \n41. Warren, Det \n42. Hambrick, Dal \n43. Kleinsasser, Min \n44. McAllister, NO \n45. Faulk, NE \n\n\nWide Receivers: \n\n1.  Harrison, Ind \n2.  Owens, SF \n3.  Smith, Den (Prob) \n4.  Boston, Ari \n5.  Brown, Oak \n6.  Bruce, StL \n7.  Moss, Min (Prob) \n8.  Holt, StL \n9.  Morton, Det \n10.  Smith, Jac \n11.  Alexander, KC \n12.  Booker, Chi \n13.  Carter, Min \n14.  Brown, NE \n15.  Johnson, TB (Ques) \n16.  Horn, NO \n17.  Muhammad, Car \n18.  Ismail, Bal (Prob) \n19.  Thrash, Phi \n20.  Coles, NYJ \n21.  Toomer, NYG \n22.  Moulds, Buf \n23.  Graham, SD \n24.  Jackson, Sea \n25.  Stokes, SF \n26.  Rice, Oak \n27.  Pinkston, Phi (Ques) \n28.  Warrick, Cin \n29.  Scott, Cin \n30.  Taylor, Bal \n31.  Gadsden, Mia \n32.  Ward, Pit (Prob) \n33.  Jackson, NO \n34.  Galloway, Dal (Ques) \n35.  Glenn, NE (Ques) \n36.  Conway, SD \n37.  Ismail, Dal \n38.  McCardell, Jac \n39.  Price, Buf \n40.  Hakim, StL \n41.  Gardner, Was \n42.  Dyson, Ten \n43.  Thomas, KC (Prob) \n44.  Kennison, Den \n45.  McKnight, Mia \n46.  Sanders, Ari \n47.  Connell, NO \n48.  Hayes, Car \n49.  Hilliard, NYG \n50.  Westbrook, Was \n\n\nTight Ends: \n\n1. Gonzalez, KC \n2. Walls, Car \n3. Sharpe, Bal (Prob) \n4. Becht, NYJ \n5. Lewis, Phi \n6. Wycheck, Ten \n7. Chamberlain, Min \n8. Cleeland, NO \n9. Jones, SD (Ques) \n10. Pollard, Ind \n11. Sloan, Det \n12. Riemersma, Buf \n13. Moore, TB \n14. Clark, Den \n15. Conwell, StL \n16. Brady, Jac \n17. McGee, Cin \n18. Hardy, Ari \n19. Dilger, Ind \n20. Carswell, Den \n21. Kinney, Ten \n22. Williams, Oak \n23. Wiggins, NE \n24. Jones, Jac (Ques) \n25. Fauria, Sea \n\n\nKickers: \n\n1. Wilkins, StL \n2. Elam, Den \n3. Richey, SD \n4. Gramatica, TB \n5. Akers, Phi \n6. Stover, Bal (Prob) \n7. Janikowski, Oak \n8. Vanderjagt, Ind \n9. Carney, NO \n10. Peterson, KC \n11. Brown, Pit \n12. Rackers, Cin \n13. Mare, Mia \n14. Andersen, NYG \n15. Peterson, KC \n16. Nedney, Ten \n17. Hollis, Jac \n18. Hanson, Det \n19. Kasay, Car \n20. Cortez, SF \n21. Edinger, Chi \n22. Hall, NYJ \n23. Gramatica, Ari \n24. Vinatieri, NE \n25. Lindell, Sea \n\n\nDefenses: \n\n1. Baltimore \n2. San Diego \n3. Pittsburgh \n4. Miami \n5. Philadelphia \n6. Tennessee \n7. Tampa Bay \n8. Chicago \n9. New York Giants \n10. St. Louis \n11. New Orleans \n12. Oakland \n13. Denver \n14. Jacksonville \n15. Seattle \n16. Kansas City \n17. Carolina \n18. Minnesota \n19. Arizona \n20. Buffalo \n21. New York Jets \n22. Indianapolis \n23. New England \n24. Cincinnati \n25. San Francisco \n\n\nDefensive Lineman: \n\n1. S. Rogers DET \n2. M. Strahan NYG \n3. W. Sapp TB \n4. C. Hovan MIN \n5. M. Wiley SD \n6. J. Taylor MIA \n7. L. Glover NO \n8. M. McCrary BAL (Prob) \n9. K. Lang WAS (Prob) \n10. H. Douglas PHI \n11. J. Johnson NO (Prob) \n12. T. Brackens JAX \n13. R. Porcher DET (Ques) \n14. T. Sawyer MIN \n15. J. Smith CIN \n16. A. Pleasant NE \n17. J. Abraham NYJ \n18. T. Bryant OAK \n19. J. Kearse TEN \n20. C. Griffin NYG \n21. M. Rucker CAR \n22. T. Pryce DEN \n23. L. Little STL \n24. D. Howard NO \n25. B. Hamilton NE \n26. J. Parella SD \n27. K. Holmes NYG \n28. C. Eaton SEA \n29. D. Ransom KC \n30. D. Gardener MIA \n31. P. Daniels CHI \n32. K. Carter TEN \n33. R. Johnson SD \n34. A. McFarland TB \n35. K. Von Oelhoffen PIT (Prob) \n36. C. Bratzke IND (Ques) \n\n\nLinebackers: \n\n1. K. Mitchell WAS \n2. D. Edwards KC \n3. E. Holmes PIT \n4. K. Mitchell NO \n5. M. Jones NYJ \n6. G. Biekert OAK \n7. A. Wilson DEN \n8. J. Farrior NYJ \n9. B. Urlacher CHI \n10. K. Bell PIT \n11. Z. Thomas MIA \n12. D. Nguyen DAL \n13. T. Spikes CIN \n14. L. Kirkland SEA \n15. J. Trotter PHI \n16. L. Arrington WAS \n17. J. Mobley DEN \n18. K. Hardy JAX \n19. R. Fredrickson ARI \n20. A. Simmons SEA \n21. L. Fletcher STL \n22. R. Lewis BAL \n23. D. Smith SF (Prob) \n24. C. Claiborne DET \n25. J. Foreman BUF \n26. D. Brooks TB (Prob) \n27. B. Cox NE \n28. D. Wells CAR \n29. M. Peterson IND \n30. H. Nickerson JAX \n31. B. Spoon BUF \n32. D. Coakley DAL \n33. J. Armstead NYG \n34. M. Barrow NYG \n35. B. Green DET \n36. R. Phifer NE \n37. L. Towns CAR \n38. C. Brown SEA \n39. C. Clemons NO (Ques) \n40. K. Wong MIN \n41. R. McKinnon ARI \n42. R. Morris IND \n43. M. Patton KC \n44. M. Lewis NYJ \n45. W. Holdman CHI \n46. M. Fields STL \n47. T. Johnson NE \n48. R. Godfrey TEN (Ques) \n\n\nDefensive Backs: \n\n1. R. Harrison SD (Prob) \n2. L. MIlloy NE \n3. M. Minter CAR \n4. D. Woodson DAL \n5. E. Brown DEN \n6. S. Shade WAS \n7. C. Cota IND \n8. S. Knight NO \n9. J. Woods KC \n10. D. Robinson NYJ \n11. R. Woodson BAL \n12. J. Webster SF \n13. M. Coleman NYJ \n14. K. Mathis STL \n15. R. Rice DET \n16. C. Scott PIT \n17. O. Smith NE \n18. S. Williams NYG \n19. T. Parrish CHI \n20. R. McNeil SD \n21. M. McCree JAX \n22. W. Bartee KC \n23. A. Williams STL \n24. R. Tongue SEA \n25. R.W. McQuarters CHI (Prob) \n26. Z. Bronson SF \n27. H. Jones MIN \n28. K. Lassiter ARI \n29. M. Roman CIN \n30. D. Washington PIT \n31. D. O'Neal DEN \n32. E. Kelly MIN \n33. J. Lynch TB \n34. A. Archuleta STL \n35. D. Terrell WAS \n36. R. Beckett SD \n\n\n/**/**/**/**/**/**/**/**/**/**/**/**/**/**/**/**/\n\nBryant Analytics, Inc.   All Rights Reserved 1999-2001\n\n\n\nTo unsubscribe from this group, send an email to:\ncheatsheets-unsubscribe@egroups.com\n\n \n\nYour use of Yahoo! Groups is subject to http://docs.yahoo.com/info/terms/ \n",
         "bryant@cheatsheets.net",
         "[Footballguys] Update # 138  10-25 Week 7 Cheatsheets",
         "MCUILLA (Non-Privileged).pst\n\nHi Folks,\n\nAs always, you can find our latest cheatsheets online here\nhttp://www.footballguys.com/week7cs.htm\n\nBest of luck this week and we hope all the bounces go your way.\n\nJoe & David   \n\n\n/**/**/**/**/**/**/**/**/**/**/**/**/**/**/**/**/\n\n\nQuarterbacks: \n\n1. Warner, StL \n2. Manning, Ind \n3. Garcia, SF \n4. McNabb, Phi \n5. Culpepper, Min \n6. Johnson, TB \n7. Griese, Den (Prob) \n8. Gannon, Oak \n9. Green, KC \n10. Brooks, NO \n11. Batch, Det \n12. Flutie, SD \n13. Weinke, Car (Prob) \n14. Plummer, Ari \n15. Grbac, Bal (Ques) \n16. Miller, Chi \n17. Testaverde, NYJ \n18. Collins, NYG \n19. Brady, NE \n20. McNair, Ten (Ques) \n21. Kitna, Cin \n22. Fiedler, Mia \n23. Johnson, Buf \n24. Stewart, Pit \n25. Brunell, Jac \n\n\nRunning Backs: \n\n1. James, Ind \n2. Tomlinson, SD \n3. Martin, NYJ \n4. Williams, NO \n5. Canidate, StL \n6. Dillon, Cin \n7. Holmes, KC \n8. Alexander, Sea \n9. Bettis, Pit \n10. Pittman, Ari \n11. Smith, Mia (Prob) \n12. Garner, Oak \n13. Thomas, Chi (Prob) \n14. Smith, Dal \n15. George, Ten \n16. Dunn, TB (Ques) \n17. Davis, Was \n18. Smith, NE \n19. Barber, NYG \n20. Hearst, SF \n21. Huntley, Car \n22. Henry, Buf \n23. Chapman, Min \n24. Anderson, Den \n25. Stewart, Det (Ques) \n26. Dayne, NYG \n27. Allen, Bal (Ques) \n28. Staley, Phi (Prob) \n29. Mack, Jac \n30. Buckhalter, Phi \n31. Gary, Den \n32. Alstott, TB \n33. Jones, Ari \n34. Richardson, KC \n35. Brookins, Bal (Prob) \n36. Centers, Buf \n37. Anderson, NYJ \n38. Allen, Chi \n39. Barlow, SF \n40. Zereoue, Pit \n41. Warren, Det \n42. Hambrick, Dal \n43. Kleinsasser, Min \n44. McAllister, NO \n45. Faulk, NE \n\n\nWide Receivers: \n\n1.  Harrison, Ind \n2.  Owens, SF \n3.  Smith, Den (Prob) \n4.  Boston, Ari \n5.  Brown, Oak \n6.  Bruce, StL \n7.  Moss, Min (Prob) \n8.  Holt, StL \n9.  Morton, Det \n10.  Smith, Jac \n11.  Alexander, KC \n12.  Booker, Chi \n13.  Carter, Min \n14.  Brown, NE \n15.  Johnson, TB (Ques) \n16.  Horn, NO \n17.  Muhammad, Car \n18.  Ismail, Bal (Prob) \n19.  Thrash, Phi \n20.  Coles, NYJ \n21.  Toomer, NYG \n22.  Moulds, Buf \n23.  Graham, SD \n24.  Jackson, Sea \n25.  Stokes, SF \n26.  Rice, Oak \n27.  Pinkston, Phi (Ques) \n28.  Warrick, Cin \n29.  Scott, Cin \n30.  Taylor, Bal \n31.  Gadsden, Mia \n32.  Ward, Pit (Prob) \n33.  Jackson, NO \n34.  Galloway, Dal (Ques) \n35.  Glenn, NE (Ques) \n36.  Conway, SD \n37.  Ismail, Dal \n38.  McCardell, Jac \n39.  Price, Buf \n40.  Hakim, StL \n41.  Gardner, Was \n42.  Dyson, Ten \n43.  Thomas, KC (Prob) \n44.  Kennison, Den \n45.  McKnight, Mia \n46.  Sanders, Ari \n47.  Connell, NO \n48.  Hayes, Car \n49.  Hilliard, NYG \n50.  Westbrook, Was \n\n\nTight Ends: \n\n1. Gonzalez, KC \n2. Walls, Car \n3. Sharpe, Bal (Prob) \n4. Becht, NYJ \n5. Lewis, Phi \n6. Wycheck, Ten \n7. Chamberlain, Min \n8. Cleeland, NO \n9. Jones, SD (Ques) \n10. Pollard, Ind \n11. Sloan, Det \n12. Riemersma, Buf \n13. Moore, TB \n14. Clark, Den \n15. Conwell, StL \n16. Brady, Jac \n17. McGee, Cin \n18. Hardy, Ari \n19. Dilger, Ind \n20. Carswell, Den \n21. Kinney, Ten \n22. Williams, Oak \n23. Wiggins, NE \n24. Jones, Jac (Ques) \n25. Fauria, Sea \n\n\nKickers: \n\n1. Wilkins, StL \n2. Elam, Den \n3. Richey, SD \n4. Gramatica, TB \n5. Akers, Phi \n6. Stover, Bal (Prob) \n7. Janikowski, Oak \n8. Vanderjagt, Ind \n9. Carney, NO \n10. Peterson, KC \n11. Brown, Pit \n12. Rackers, Cin \n13. Mare, Mia \n14. Andersen, NYG \n15. Peterson, KC \n16. Nedney, Ten \n17. Hollis, Jac \n18. Hanson, Det \n19. Kasay, Car \n20. Cortez, SF \n21. Edinger, Chi \n22. Hall, NYJ \n23. Gramatica, Ari \n24. Vinatieri, NE \n25. Lindell, Sea \n\n\nDefenses: \n\n1. Baltimore \n2. San Diego \n3. Pittsburgh \n4. Miami \n5. Philadelphia \n6. Tennessee \n7. Tampa Bay \n8. Chicago \n9. New York Giants \n10. St. Louis \n11. New Orleans \n12. Oakland \n13. Denver \n14. Jacksonville \n15. Seattle \n16. Kansas City \n17. Carolina \n18. Minnesota \n19. Arizona \n20. Buffalo \n21. New York Jets \n22. Indianapolis \n23. New England \n24. Cincinnati \n25. San Francisco \n\n\nDefensive Lineman: \n\n1. S. Rogers DET \n2. M. Strahan NYG \n3. W. Sapp TB \n4. C. Hovan MIN \n5. M. Wiley SD \n6. J. Taylor MIA \n7. L. Glover NO \n8. M. McCrary BAL (Prob) \n9. K. Lang WAS (Prob) \n10. H. Douglas PHI \n11. J. Johnson NO (Prob) \n12. T. Brackens JAX \n13. R. Porcher DET (Ques) \n14. T. Sawyer MIN \n15. J. Smith CIN \n16. A. Pleasant NE \n17. J. Abraham NYJ \n18. T. Bryant OAK \n19. J. Kearse TEN \n20. C. Griffin NYG \n21. M. Rucker CAR \n22. T. Pryce DEN \n23. L. Little STL \n24. D. Howard NO \n25. B. Hamilton NE \n26. J. Parella SD \n27. K. Holmes NYG \n28. C. Eaton SEA \n29. D. Ransom KC \n30. D. Gardener MIA \n31. P. Daniels CHI \n32. K. Carter TEN \n33. R. Johnson SD \n34. A. McFarland TB \n35. K. Von Oelhoffen PIT (Prob) \n36. C. Bratzke IND (Ques) \n\n\nLinebackers: \n\n1. K. Mitchell WAS \n2. D. Edwards KC \n3. E. Holmes PIT \n4. K. Mitchell NO \n5. M. Jones NYJ \n6. G. Biekert OAK \n7. A. Wilson DEN \n8. J. Farrior NYJ \n9. B. Urlacher CHI \n10. K. Bell PIT \n11. Z. Thomas MIA \n12. D. Nguyen DAL \n13. T. Spikes CIN \n14. L. Kirkland SEA \n15. J. Trotter PHI \n16. L. Arrington WAS \n17. J. Mobley DEN \n18. K. Hardy JAX \n19. R. Fredrickson ARI \n20. A. Simmons SEA \n21. L. Fletcher STL \n22. R. Lewis BAL \n23. D. Smith SF (Prob) \n24. C. Claiborne DET \n25. J. Foreman BUF \n26. D. Brooks TB (Prob) \n27. B. Cox NE \n28. D. Wells CAR \n29. M. Peterson IND \n30. H. Nickerson JAX \n31. B. Spoon BUF \n32. D. Coakley DAL \n33. J. Armstead NYG \n34. M. Barrow NYG \n35. B. Green DET \n36. R. Phifer NE \n37. L. Towns CAR \n38. C. Brown SEA \n39. C. Clemons NO (Ques) \n40. K. Wong MIN \n41. R. McKinnon ARI \n42. R. Morris IND \n43. M. Patton KC \n44. M. Lewis NYJ \n45. W. Holdman CHI \n46. M. Fields STL \n47. T. Johnson NE \n48. R. Godfrey TEN (Ques) \n\n\nDefensive Backs: \n\n1. R. Harrison SD (Prob) \n2. L. MIlloy NE \n3. M. Minter CAR \n4. D. Woodson DAL \n5. E. Brown DEN \n6. S. Shade WAS \n7. C. Cota IND \n8. S. Knight NO \n9. J. Woods KC \n10. D. Robinson NYJ \n11. R. Woodson BAL \n12. J. Webster SF \n13. M. Coleman NYJ \n14. K. Mathis STL \n15. R. Rice DET \n16. C. Scott PIT \n17. O. Smith NE \n18. S. Williams NYG \n19. T. Parrish CHI \n20. R. McNeil SD \n21. M. McCree JAX \n22. W. Bartee KC \n23. A. Williams STL \n24. R. Tongue SEA \n25. R.W. McQuarters CHI (Prob) \n26. Z. Bronson SF \n27. H. Jones MIN \n28. K. Lassiter ARI \n29. M. Roman CIN \n30. D. Washington PIT \n31. D. O'Neal DEN \n32. E. Kelly MIN \n33. J. Lynch TB \n34. A. Archuleta STL \n35. D. Terrell WAS \n36. R. Beckett SD \n\n\n/**/**/**/**/**/**/**/**/**/**/**/**/**/**/**/**/\n\nBryant Analytics, Inc.   All Rights Reserved 1999-2001\n\n\n\nTo unsubscribe from this group, send an email to:\ncheatsheets-unsubscribe@egroups.com\n\n \n\nYour use of Yahoo! Groups is subject to http://docs.yahoo.com/info/terms/ \n",
         "False",
         "0.1573755439928871"
        ],
        [
         "45510",
         "Message-ID: <29528344.1075857924287.JavaMail.evans@thyme>\nDate: Sun, 13 May 2001 12:33:00 -0700 (PDT)\nFrom: enron.announcements@enron.com\nTo: all.houston@enron.com\nSubject: Remote control your air-conditioner and heater\nMime-Version: 1.0\nContent-Type: text/plain; charset=us-ascii\nContent-Transfer-Encoding: 7bit\nX-From: Enron Announcements\nX-To: All Enron Houston\nX-cc: \nX-bcc: \nX-Folder: \\Larry_Campbell_Jun2001\\Notes Folders\\Notes inbox\nX-Origin: Campbell-L\nX-FileName: lcampbel.nsf\n\nNewPower to offer another pilot program to Houston employees\n\n\nFree remote energy management solution helps you to manage rising energy \nbills.\nNewPower is launching a revolutionary technology pilot to the first 500 \npeople to sign up in the Houston area.  The NewPower Connections Remote \nEnergy Management Solution is a pilot program designed to give consumers \ncontrol of their thermostat via the Internet.  The program will allow \nthermostats to be adjusted from anywhere, with any Internet-enabled device, \nincluding computers, web-enabled cell phones, palm OS devices, or pocket \nPCs.  Sears Home Central will install and service the Remote Energy \nManagement Solution at no charge throughout the duration of the pilot \nprogram.  For a typical household, the three-month pilot could result in up \nto 10 percent to 15 percent utility bill savings, based on personal usage and \nthe size of your home.  \n\n\nBe among the first to participate absolutely free.\nEnrollment with the NewPower Connections Remote Energy Management Solution \npilot program starts May 14 and continues through the end of the month.  For \nmore information about this offer, visit NewPower's table located in the \nPlaza of the Enron Building near the down escalator from 11:00 a.m. to 2 p.m. \nduring the week of May 14.  To become a pilot participant you need only to be \na homeowner in the Houston area and have Internet access.  You do not even \nhave to be a NewPower electricity customer to participate.  For more \ninformation about NewPower Connections, send an e-mail to \nconnections@newpower.com.\n\n\nDisclaimers:\nAny contract for goods or services that is entered into by an Enron employee \nwith respect to the NewPower program shall be solely between NewPower and \nsuch employee.  Enron assumes no obligation on behalf of NewPower and makes \nno representations, warranties, or guaranties with respect to NewPower, any \ngoods or services offered or provided by NewPower.  Home.Enron.com",
         "enron.announcements@enron.com",
         "Remote control your air-conditioner and heater",
         "lcampbel.nsf\n\nNewPower to offer another pilot program to Houston employees\n\n\nFree remote energy management solution helps you to manage rising energy \nbills.\nNewPower is launching a revolutionary technology pilot to the first 500 \npeople to sign up in the Houston area.  The NewPower Connections Remote \nEnergy Management Solution is a pilot program designed to give consumers \ncontrol of their thermostat via the Internet.  The program will allow \nthermostats to be adjusted from anywhere, with any Internet-enabled device, \nincluding computers, web-enabled cell phones, palm OS devices, or pocket \nPCs.  Sears Home Central will install and service the Remote Energy \nManagement Solution at no charge throughout the duration of the pilot \nprogram.  For a typical household, the three-month pilot could result in up \nto 10 percent to 15 percent utility bill savings, based on personal usage and \nthe size of your home.  \n\n\nBe among the first to participate absolutely free.\nEnrollment with the NewPower Connections Remote Energy Management Solution \npilot program starts May 14 and continues through the end of the month.  For \nmore information about this offer, visit NewPower's table located in the \nPlaza of the Enron Building near the down escalator from 11:00 a.m. to 2 p.m. \nduring the week of May 14.  To become a pilot participant you need only to be \na homeowner in the Houston area and have Internet access.  You do not even \nhave to be a NewPower electricity customer to participate.  For more \ninformation about NewPower Connections, send an e-mail to \nconnections@newpower.com.\n\n\nDisclaimers:\nAny contract for goods or services that is entered into by an Enron employee \nwith respect to the NewPower program shall be solely between NewPower and \nsuch employee.  Enron assumes no obligation on behalf of NewPower and makes \nno representations, warranties, or guaranties with respect to NewPower, any \ngoods or services offered or provided by NewPower.  Home.Enron.com",
         "False",
         "0.17251979446364743"
        ],
        [
         "23198",
         "Message-ID: <1900174.1075849817238.JavaMail.evans@thyme>\nDate: Mon, 22 Jan 2001 03:52:00 -0800 (PST)\nFrom: louise.kitchen@enron.com\nTo: nicki.daw@enron.com\nSubject: Re: Business Cards\nCc: sally.beck@enron.com\nMime-Version: 1.0\nContent-Type: text/plain; charset=us-ascii\nContent-Transfer-Encoding: 7bit\nBcc: sally.beck@enron.com\nX-From: Louise Kitchen\nX-To: Nicki Daw\nX-cc: Sally Beck\nX-bcc: \nX-Folder: \\Sally_Beck_Nov2001\\Notes Folders\\All documents\nX-Origin: BECK-S\nX-FileName: sbeck.nsf\n\nEveryone should be using Enron Net Works LLC in Sally's group from 1.1.2001.\n\nThanks\n\n\n\n\nNicki Daw@ENRON\n01/22/2001 10:51 AM\nTo: Louise Kitchen/HOU/ECT@ECT\ncc:  \n\nSubject: Business Cards\n\nLouise,\n\nI don't think I have seen you this year - Happy New Year!\n\nI have been asked what company name should be put on the business cards of \nsome of Sally Beck's group.  I have been telling most people to stick with \nthey organisation names e.g. Enron North America or Enron South America, \nrather than Enron Americas/Enron Wholesale Services.  Do you want everybody \nto use Enron Net Works, or should the trading support groups use their \nbusiness unit names ENA, EGM, EIM?\n\nSee you soon.\n\nNicki\n\nP.S.  Mark gave me a voucher for Urban Retreat for Christmas, which I am very \npleased with.  Sue's jealous, she got crystal!\n\n",
         "louise.kitchen@enron.com",
         "Re: Business Cards\nCc: sally.beck@enron.com",
         "sbeck.nsf\n\nEveryone should be using Enron Net Works LLC in Sally's group from 1.1.2001.\n\nThanks\n\n\n\n\nNicki Daw@ENRON\n01/22/2001 10:51 AM\nTo: Louise Kitchen/HOU/ECT@ECT\ncc:  \n\nSubject: Business Cards\n\nLouise,\n\nI don't think I have seen you this year - Happy New Year!\n\nI have been asked what company name should be put on the business cards of \nsome of Sally Beck's group.  I have been telling most people to stick with \nthey organisation names e.g. Enron North America or Enron South America, \nrather than Enron Americas/Enron Wholesale Services.  Do you want everybody \nto use Enron Net Works, or should the trading support groups use their \nbusiness unit names ENA, EGM, EIM?\n\nSee you soon.\n\nNicki\n\nP.S.  Mark gave me a voucher for Urban Retreat for Christmas, which I am very \npleased with.  Sue's jealous, she got crystal!\n\n",
         "False",
         "0.08894505645533188"
        ],
        [
         "296071",
         "Message-ID: <18740567.1075858281582.JavaMail.evans@thyme>\nDate: Wed, 28 Feb 2001 08:28:00 -0800 (PST)\nFrom: phillip.love@enron.com\nTo: jackson.logan@enron.com\nSubject: Re: A MUST HAVE!!!!\nMime-Version: 1.0\nContent-Type: text/plain; charset=us-ascii\nContent-Transfer-Encoding: 7bit\nX-From: Phillip M Love\nX-To: Jackson Logan\nX-cc: \nX-bcc: \nX-Folder: \\Phillip_Love_Jun2001\\Notes Folders\\Sent\nX-Origin: Love-P\nX-FileName: plove.nsf\n\njust a little out of my price range.\nPL",
         "phillip.love@enron.com",
         "Re: A MUST HAVE!!!!",
         "plove.nsf\n\njust a little out of my price range.\nPL",
         "False",
         "0.1389831419054913"
        ],
        [
         "425421",
         "Message-ID: <12438241.1075844479845.JavaMail.evans@thyme>\nDate: Tue, 17 Oct 2000 09:51:00 -0700 (PDT)\nFrom: cindy.buckley@enron.com\nTo: sara.shackleton@enron.com\nSubject: Re: U.K. arranger for ENA and ECT Investments, Inc.\nMime-Version: 1.0\nContent-Type: text/plain; charset=us-ascii\nContent-Transfer-Encoding: 7bit\nX-From: Cindy Buckley\nX-To: Sara Shackleton\nX-cc: \nX-bcc: \nX-Folder: \\Sara_Shackleton_Dec2000_June2001_1\\Notes Folders\\Notes inbox\nX-Origin: SHACKLETON-S\nX-FileName: sshackle.nsf\n\nHi Sara\n\nI'm not sure what you mean by signature block but if you mean who are the \ndirectors that can sign they are:\n\n1 Michael Brown;\n2 Fernley Dyson;\n3 Mark Evans.\n\nRegards",
         "cindy.buckley@enron.com",
         "Re: U.K. arranger for ENA and ECT Investments, Inc.",
         "sshackle.nsf\n\nHi Sara\n\nI'm not sure what you mean by signature block but if you mean who are the \ndirectors that can sign they are:\n\n1 Michael Brown;\n2 Fernley Dyson;\n3 Mark Evans.\n\nRegards",
         "False",
         "0.15943818632317908"
        ],
        [
         "117489",
         "Message-ID: <8616949.1075842459289.JavaMail.evans@thyme>\nDate: Thu, 13 Jul 2000 05:18:00 -0700 (PDT)\nFrom: drew.fossum@enron.com\nTo: bill.votaw@enron.com, william.gang@enron.com\nSubject: Pueblo\nCc: steven.harris@enron.com, kevin.hyatt@enron.com\nMime-Version: 1.0\nContent-Type: text/plain; charset=us-ascii\nContent-Transfer-Encoding: 7bit\nBcc: steven.harris@enron.com, kevin.hyatt@enron.com\nX-From: Drew Fossum\nX-To: Bill Votaw, William Gang\nX-cc: Steven Harris, Kevin Hyatt\nX-bcc: \nX-Folder: \\Drew_Fossum_Dec2000_June2001_1\\Notes Folders\\Discussion threads\nX-Origin: FOSSUM-D\nX-FileName: dfossum.nsf\n\nSorry, I neglected to forward this to you earlier.   You've gotta give these \nguys credit for being tenacious!  I'll keep you posted on any meaningful \ndevelopments after their meeting with DOE on the 25th.  Thanks for your \npatience.  DF \n---------------------- Forwarded by Drew Fossum/ET&S/Enron on 07/13/2000 \n12:15 PM ---------------------------\n   \n\t\n\t\n\tFrom:  Drew Fossum                           07/10/2000 02:39 PM\n\t\n\nTo: Steven Harris/ET&S/Enron@Enron, Kevin Hyatt/ET&S/Enron@Enron, Lorraine \nLindberg/ET&S/Enron@ENRON\ncc:  \n\nSubject: Pueblo\n\n Just got an update on the project that won't go away.  Dennis has a meeting \nlined up with DOE decisionmakers on the 25th.  He is going to pitch the \nproject as an approximately 100 mw power plant, to be owned by (read \n\"financed by\") DOE, with the gas pipeline owned by Dennis and\\or third \nparties (read \"Enron\"?).  Dennis has run economics that show the DOE will get \na more than 10% cost savings on the project compared to current PNM rates, \neven assuming a fairly high gas transport cost because of the smaller gas \nload.  How did he do it?  Very easy:  they ran the power plant economics \nusing about a $2.00 gas cost instead of current, real world prices.   Dennis' \nargument is going to be:  \"I'll take the risk on building the pipeline and \nthe power plant at a capped cost, and then sell the power plant to you.\"  \n\"You take the risk on gas cost:  if gas cost tracks the 18-24 month average, \nyou will realize your 10% cost savings, but if current fuel costs continue or \nescalate, you lose.\"    Either way, your reliability improves and you kick \nPNM in the shins.\"  Dennis and Tino apparently think they can sell DOE on \nthis.  By the way, their current story on Richardson is that he won't resign, \nand won't be forced out by the administration because that would create even \nmore publicity.  You'll love this:  they think Richardson is even more likely \nto sign off on the deal now because his chances of being nominated for VP or \ncabinet are dead and he now has nothing to lose in DC.  They think his real \nangle is now to bring home the bacon to New Mexico and then run for governor \nout there!!  Apparently the rank and file out in the home state think he got \nhosed and made a scapegoat unfairly.  \n I've asked  Lorna Brennan to pull some historical San Juan prices together \nto give to Tino to confirm whether his $2 price is wacky.  Other than that, I \njust told Tino that we are potentially interested in the pipeline part of the \nproject if the risks and rewards make sense, and that EE&CC might be \ninterested in the design/build on all of it.  He said he'd get back to me \nafter the 25th meeting and tell me whether the project is undead.  DF    \n",
         "drew.fossum@enron.com",
         "Pueblo\nCc: steven.harris@enron.com, kevin.hyatt@enron.com",
         "dfossum.nsf\n\nSorry, I neglected to forward this to you earlier.   You've gotta give these \nguys credit for being tenacious!  I'll keep you posted on any meaningful \ndevelopments after their meeting with DOE on the 25th.  Thanks for your \npatience.  DF \n---------------------- Forwarded by Drew Fossum/ET&S/Enron on 07/13/2000 \n12:15 PM ---------------------------\n   \n\t\n\t\n\tFrom:  Drew Fossum                           07/10/2000 02:39 PM\n\t\n\nTo: Steven Harris/ET&S/Enron@Enron, Kevin Hyatt/ET&S/Enron@Enron, Lorraine \nLindberg/ET&S/Enron@ENRON\ncc:  \n\nSubject: Pueblo\n\n Just got an update on the project that won't go away.  Dennis has a meeting \nlined up with DOE decisionmakers on the 25th.  He is going to pitch the \nproject as an approximately 100 mw power plant, to be owned by (read \n\"financed by\") DOE, with the gas pipeline owned by Dennis and\\or third \nparties (read \"Enron\"?).  Dennis has run economics that show the DOE will get \na more than 10% cost savings on the project compared to current PNM rates, \neven assuming a fairly high gas transport cost because of the smaller gas \nload.  How did he do it?  Very easy:  they ran the power plant economics \nusing about a $2.00 gas cost instead of current, real world prices.   Dennis' \nargument is going to be:  \"I'll take the risk on building the pipeline and \nthe power plant at a capped cost, and then sell the power plant to you.\"  \n\"You take the risk on gas cost:  if gas cost tracks the 18-24 month average, \nyou will realize your 10% cost savings, but if current fuel costs continue or \nescalate, you lose.\"    Either way, your reliability improves and you kick \nPNM in the shins.\"  Dennis and Tino apparently think they can sell DOE on \nthis.  By the way, their current story on Richardson is that he won't resign, \nand won't be forced out by the administration because that would create even \nmore publicity.  You'll love this:  they think Richardson is even more likely \nto sign off on the deal now because his chances of being nominated for VP or \ncabinet are dead and he now has nothing to lose in DC.  They think his real \nangle is now to bring home the bacon to New Mexico and then run for governor \nout there!!  Apparently the rank and file out in the home state think he got \nhosed and made a scapegoat unfairly.  \n I've asked  Lorna Brennan to pull some historical San Juan prices together \nto give to Tino to confirm whether his $2 price is wacky.  Other than that, I \njust told Tino that we are potentially interested in the pipeline part of the \nproject if the risks and rewards make sense, and that EE&CC might be \ninterested in the design/build on all of it.  He said he'd get back to me \nafter the 25th meeting and tell me whether the project is undead.  DF    \n",
         "False",
         "0.10913835771018904"
        ],
        [
         "489601",
         "Message-ID: <32522681.1075861724920.JavaMail.evans@thyme>\nDate: Tue, 13 Nov 2001 22:00:00 -0800 (PST)\nFrom: infopost@duke-energy.com\nTo: infopost@duke-energy.com\nSubject: TE Capacity for length restricted\nMime-Version: 1.0\nContent-Type: text/plain; charset=us-ascii\nContent-Transfer-Encoding: 7bit\nX-From: infopost@duke-energy.com@ENRON\nX-To: infopost@duke-energy.com\nX-cc: \nX-bcc: \nX-Folder: \\JTOWNSE (Non-Privileged)\\Townsend, Judy\\Deleted Items\nX-Origin: Townsend-J\nX-FileName: JTOWNSE (Non-Privileged).pst\n\nNovember 14, 2001\n\nWeather forecasts would indicate low demand conditions through the\nThanksgiving Holiday's.  TEXAS EASTERN TRANSMISSION (TE) is facing high\nline pack levels and full storage.  Thus the pipe has severely\nrestricted ability to absorb due-shipper gas.  Effective immediately,\nand continuing through the end of the month, TE is requiring that:\n     -    All shippers ensure their physical receipts do not exceed  physical\n       deliveries.\n     -    Receipt operators are expected to not flow above scheduled volumes.\n     -    Delivery meters are expected to take all gas scheduled.\n     -    Any customer who is long should take immediate action to resolve\n       due-shipper positions.\n\nNo due-pipeline makeup gas may be scheduled. OBA parties should ensure\nthat physical takes match scheduled nominations. Due-shipper makeup gas\nmay be scheduled through your Operations Account Manager.  These\nrestrictions are expected to be in effect until further notice.\n\nPlease contact your Operations Account Manager if you have any\nquestions.\n\n\n\n*******************************************************************\n\nNOTE:\n\nDuke Energy Gas Transmission respects your online time and privacy.\nYou have received this email because you elected to subscribe. To\nunsubscribe, login to the E-mail Notification Subscription page at\nhttp://www.link.duke-energy.com/script2/Notification.asp\nuncheck the appropriate checkbox, and click the Submit button.",
         "infopost@duke-energy.com",
         "TE Capacity for length restricted",
         "JTOWNSE (Non-Privileged).pst\n\nNovember 14, 2001\n\nWeather forecasts would indicate low demand conditions through the\nThanksgiving Holiday's.  TEXAS EASTERN TRANSMISSION (TE) is facing high\nline pack levels and full storage.  Thus the pipe has severely\nrestricted ability to absorb due-shipper gas.  Effective immediately,\nand continuing through the end of the month, TE is requiring that:\n     -    All shippers ensure their physical receipts do not exceed  physical\n       deliveries.\n     -    Receipt operators are expected to not flow above scheduled volumes.\n     -    Delivery meters are expected to take all gas scheduled.\n     -    Any customer who is long should take immediate action to resolve\n       due-shipper positions.\n\nNo due-pipeline makeup gas may be scheduled. OBA parties should ensure\nthat physical takes match scheduled nominations. Due-shipper makeup gas\nmay be scheduled through your Operations Account Manager.  These\nrestrictions are expected to be in effect until further notice.\n\nPlease contact your Operations Account Manager if you have any\nquestions.\n\n\n\n*******************************************************************\n\nNOTE:\n\nDuke Energy Gas Transmission respects your online time and privacy.\nYou have received this email because you elected to subscribe. To\nunsubscribe, login to the E-mail Notification Subscription page at\nhttp://www.link.duke-energy.com/script2/Notification.asp\nuncheck the appropriate checkbox, and click the Submit button.",
         "False",
         "0.15698704028617969"
        ],
        [
         "184927",
         "Message-ID: <4942863.1075847018011.JavaMail.evans@thyme>\nDate: Fri, 6 Oct 2000 10:27:00 -0700 (PDT)\nFrom: enron.announcements@enron.com\nTo: all.downtown@enron.com\nSubject: United HealthCare Contracting Update\nMime-Version: 1.0\nContent-Type: text/plain; charset=us-ascii\nContent-Transfer-Encoding: 7bit\nX-From: Enron Announcements\nX-To: All Enron Downtown\nX-cc: \nX-bcc: \nX-Folder: \\Tanya_Jones_Dec2000\\Notes Folders\\All documents\nX-Origin: JONES-T\nX-FileName: tjones.nsf\n\nTO: Houston Area Employees Participating in Domestic Medical Plan Benefits\n\nFROM: Enron Human Resources\n\n\nWe are pleased to pass along to you the fact that United HealthCare (UHC) and \nMemorial Herman Health Systems (MHHS) reached agreement on a long-term \ncontract.   There will be no disruption in terms of accessing network \nservices from the hospital system or those providers who were scheduled to be \nterminated.  Employees currently electing UHC will receive a confirming \nletter shortly from UHC.\n\nAs mentioned in our earlier memo, it is our understanding that Cigna has also \nbeen contacted by MHHS and are now in contract negotiations. \n\nOpen Enrollment packages are in the mail and you should consider the above \nfacts when making your decision on your medical election.\n\n ",
         "enron.announcements@enron.com",
         "United HealthCare Contracting Update",
         "tjones.nsf\n\nTO: Houston Area Employees Participating in Domestic Medical Plan Benefits\n\nFROM: Enron Human Resources\n\n\nWe are pleased to pass along to you the fact that United HealthCare (UHC) and \nMemorial Herman Health Systems (MHHS) reached agreement on a long-term \ncontract.   There will be no disruption in terms of accessing network \nservices from the hospital system or those providers who were scheduled to be \nterminated.  Employees currently electing UHC will receive a confirming \nletter shortly from UHC.\n\nAs mentioned in our earlier memo, it is our understanding that Cigna has also \nbeen contacted by MHHS and are now in contract negotiations. \n\nOpen Enrollment packages are in the mail and you should consider the above \nfacts when making your decision on your medical election.\n\n ",
         "False",
         "0.09852689967961144"
        ],
        [
         "464247",
         "Message-ID: <21744293.1075841672619.JavaMail.evans@thyme>\nDate: Mon, 12 Mar 2001 08:04:00 -0800 (PST)\nFrom: kerri.thompson@enron.com\nTo: kate.symes@enron.com\nSubject: apb checkout\nMime-Version: 1.0\nContent-Type: text/plain; charset=us-ascii\nContent-Transfer-Encoding: 7bit\nX-From: Kerri Thompson\nX-To: Kate Symes\nX-cc: \nX-bcc: \nX-Folder: \\kate symes 6-27-02\\Notes Folders\\All documents\nX-Origin: SYMES-K\nX-FileName: kate symes 6-27-02.nsf\n\n547298, broker is not showing\n",
         "kerri.thompson@enron.com",
         "apb checkout",
         "kate symes 6-27-02.nsf\n\n547298, broker is not showing\n",
         "False",
         "0.1389831419054913"
        ],
        [
         "324375",
         "Message-ID: <871367.1075841193439.JavaMail.evans@thyme>\nDate: Tue, 8 Jan 2002 06:26:20 -0800 (PST)\nFrom: carrfuturesenergy@carrfut.com\nTo: rvujtech@carrfut.com\nSubject: Daily energy letter 1/8\nMime-Version: 1.0\nContent-Type: text/plain; charset=ANSI_X3.4-1968\nContent-Transfer-Encoding: 7bit\nX-From: CarrFuturesEnergy@carrfut.com@ENRON\nX-To: rvujtech@carrfut.com\nX-cc: \nX-bcc: \nX-Folder: \\ExMerge - May, Larry\\Inbox\nX-Origin: MAY-L\nX-FileName: larry may 6-26-02.PST\n\nThe information contained herein is based on sources that we believe to be\nreliable, but we do not represent that it is accurate or complete.  Nothing\ncontained herein should be considered as an offer to sell or a solicitation\nof an offer to buy any financial instruments discussed herein.  Any\nopinions expressed herein are solely those of the author.  As such, they\nmay differ in material respects from those of, or expressed or published by\non behalf of Carr Futures or its officers, directors, employees or\naffiliates.  ? 2001 Carr Futures\n\n\nThe charts are now available on the web by clicking on the hot link(s)\ncontained in this email. If for any reason you are unable to receive the\ncharts via the web, please contact me via email and I will email the charts\nto you as attachments.\n\n\n\n\nDaily Energy Letter\nhttp://www.carrfut.com/research/Energy1/Energy-Letter1-8-02.pdf\n",
         "carrfuturesenergy@carrfut.com",
         "Daily energy letter 1/8",
         "larry may 6-26-02.PST\n\nThe information contained herein is based on sources that we believe to be\nreliable, but we do not represent that it is accurate or complete.  Nothing\ncontained herein should be considered as an offer to sell or a solicitation\nof an offer to buy any financial instruments discussed herein.  Any\nopinions expressed herein are solely those of the author.  As such, they\nmay differ in material respects from those of, or expressed or published by\non behalf of Carr Futures or its officers, directors, employees or\naffiliates.  ? 2001 Carr Futures\n\n\nThe charts are now available on the web by clicking on the hot link(s)\ncontained in this email. If for any reason you are unable to receive the\ncharts via the web, please contact me via email and I will email the charts\nto you as attachments.\n\n\n\n\nDaily Energy Letter\nhttp://www.carrfut.com/research/Energy1/Energy-Letter1-8-02.pdf\n",
         "False",
         "0.17277056927066362"
        ],
        [
         "29821",
         "Message-ID: <15075995.1075855881770.JavaMail.evans@thyme>\nDate: Mon, 17 Apr 2000 06:27:00 -0700 (PDT)\nFrom: michael.moscoso@enron.com\nTo: sally.beck@enron.com\nSubject: Re: Position in Risk Controls\nMime-Version: 1.0\nContent-Type: text/plain; charset=us-ascii\nContent-Transfer-Encoding: 7bit\nX-From: Michael E Moscoso\nX-To: Sally Beck\nX-cc: \nX-bcc: \nX-Folder: \\Sally_Beck_Dec2000\\Notes Folders\\Moscoso, mike\nX-Origin: Beck-S\nX-FileName: sbeck.nsf\n\nSally,\n\nThis is the reply from Kevin Sweeney regarding our inquiry for a London \nemployee to fill our Liquids position in my group.\n\nMike\n---------------------- Forwarded by Michael E Moscoso/HOU/ECT on 04/17/2000 \n01:20 PM ---------------------------\n\n\nKevin Sweeney\n04/14/2000 01:53 PM\nTo: Michael E Moscoso/HOU/ECT@ECT\ncc: Tani Nath/LON/ECT@ECT, Scott Earnest/HOU/ECT@ECT, Tim \nPoullain-Patterson/LON/ECT@ECT \nSubject: Re: Position in Risk Controls  \n\nMike,\n\nThe Global Products team met yesterday to discussing current staffing \nissues.  We are going to be short London risk people with some of the current \nchanges that are taking place within the Global Products groups and really \nwouldn't be able to consider someone until later this year maybe late Q4.\n\nPlease let me know if I can be of further assistance.\n\nKevin\n\n\n   \n\tEnron Capital & Trade Resources Corp.\n\t\n\tFrom:  Michael E Moscoso                           04/14/2000 08:10 AM\n\t\n\nTo: Kevin Sweeney/HOU/ECT@ECT\ncc:  \nSubject: Re: Position in Risk Controls  \n\nKevin,\n\nAny thoughts at this point?\n\nMike\n\n\n\nKevin Sweeney\n04/12/2000 01:21 PM\nTo: Michael E Moscoso/HOU/ECT@ECT\ncc: Scott Earnest/HOU/ECT@ECT, Bjorn Hagelmann/HOU/ECT@ECT, Fernley \nDyson/LON/ECT@ECT \nSubject: Re: Position in Risk Controls  \n\nMike,\n\nScott Earnest, Tani Nath, Tim Poullain-Patterson, and myself are having a \ndiscussion around staffing tomorrow, and will discuss your proposal as a part \nof that.\n\nI will let you know our thoughts post that meeting.\n\nKevin\n\n\n\n\n\n\n",
         "michael.moscoso@enron.com",
         "Re: Position in Risk Controls",
         "sbeck.nsf\n\nSally,\n\nThis is the reply from Kevin Sweeney regarding our inquiry for a London \nemployee to fill our Liquids position in my group.\n\nMike\n---------------------- Forwarded by Michael E Moscoso/HOU/ECT on 04/17/2000 \n01:20 PM ---------------------------\n\n\nKevin Sweeney\n04/14/2000 01:53 PM\nTo: Michael E Moscoso/HOU/ECT@ECT\ncc: Tani Nath/LON/ECT@ECT, Scott Earnest/HOU/ECT@ECT, Tim \nPoullain-Patterson/LON/ECT@ECT \nSubject: Re: Position in Risk Controls  \n\nMike,\n\nThe Global Products team met yesterday to discussing current staffing \nissues.  We are going to be short London risk people with some of the current \nchanges that are taking place within the Global Products groups and really \nwouldn't be able to consider someone until later this year maybe late Q4.\n\nPlease let me know if I can be of further assistance.\n\nKevin\n\n\n   \n\tEnron Capital & Trade Resources Corp.\n\t\n\tFrom:  Michael E Moscoso                           04/14/2000 08:10 AM\n\t\n\nTo: Kevin Sweeney/HOU/ECT@ECT\ncc:  \nSubject: Re: Position in Risk Controls  \n\nKevin,\n\nAny thoughts at this point?\n\nMike\n\n\n\nKevin Sweeney\n04/12/2000 01:21 PM\nTo: Michael E Moscoso/HOU/ECT@ECT\ncc: Scott Earnest/HOU/ECT@ECT, Bjorn Hagelmann/HOU/ECT@ECT, Fernley \nDyson/LON/ECT@ECT \nSubject: Re: Position in Risk Controls  \n\nMike,\n\nScott Earnest, Tani Nath, Tim Poullain-Patterson, and myself are having a \ndiscussion around staffing tomorrow, and will discuss your proposal as a part \nof that.\n\nI will let you know our thoughts post that meeting.\n\nKevin\n\n\n\n\n\n\n",
         "False",
         "0.10515206407306067"
        ],
        [
         "259847",
         "Message-ID: <21716589.1075840893625.JavaMail.evans@thyme>\nDate: Mon, 11 Jun 2001 09:51:00 -0700 (PDT)\nFrom: enron.cuttings@enron.com\nTo: jackie.gentle@enron.com, andrew.morrison@enron.com, stu.staley@enron.com, \n\ttom.kearney@enron.com, george.mcclellan@enron.com, \n\triaz.rizvi@enron.com, candace.parker@enron.com, \n\tpaul.dawson@enron.com, samuel.grossman@enron.com, \n\tjohn.moran@enron.com, peter.bradley@enron.com, jez.peters@enron.com, \n\telizabeth.mccarthy@enron.com, tiffany.cochran@enron.com, \n\tkatrina.bensadon@enron.com, sven.becker@enron.com, \n\tfiona.grant@enron.com, alvaro.garcia@enron.com, \n\tchristopher.harris@enron.com, delphine.massart@enron.com, \n\tlouise.kitchen@enron.com, john.sherriff@enron.com, \n\tmark.palmer@enron.com, joe.gold@enron.com, amita.gosalia@enron.com, \n\tmarcello.romano@enron.com, rahil.jafry@enron.com, \n\trichard.lewis@enron.com, michael.brown@enron.com, \n\tdavid.forster@enron.com, angela.connelly@enron.com, \n\tpaul.goddard@enron.com, kal.shah@enron.com, julie.green@enron.com, \n\tdave.samuels@enron.com, bruce.garner@enron.com, \n\talex.parsons@enron.com, enron.group@enron.com, eol.europe@enron.com\nSubject: Coal trade...\nMime-Version: 1.0\nContent-Type: text/plain; charset=us-ascii\nContent-Transfer-Encoding: 7bit\nX-From: Enron Media Cuttings <Enron Media Cuttings@ENRON>\nX-To: Jackie Gentle <Jackie Gentle/LON/ECT@ECT>, Andrew Morrison <Andrew Morrison/Enron@EUEnronXGate>, Stu Staley <Stu Staley/Enron@EUEnronXGate>, Tom Kearney <Tom Kearney/ENRON@EUEnronXGate>, George McClellan <George McClellan/Enron@EnronXGate>, Riaz Rizvi <Riaz Rizvi/Enron@EUEnronXGate>, Candace Parker <Candace Parker/Enron@EUEnronXGate>, Paul Dawson <Paul Dawson/Enron@EUEnronXGate>, Samuel Grossman <Samuel Grossman/Enron@EUEnronXGate>, John Moran <John Moran/ENRON@EUEnronXGate>, Peter Bradley <Peter Bradley/Enron@EUEnronXGate>, Jez Peters <Jez Peters/ENRON_DEVELOPMENT@ENRON_DEVELOPMENT>, Elizabeth McCarthy <Elizabeth McCarthy/LON/ECT@ECT>, Tiffany Cochran <Tiffany Cochran/Enron@EUEnronXGate>, Katrina Bensadon <Katrina Bensadon/LON/ECT@ECT>, Sven Becker <Sven Becker/Enron@EUEnronXgate>, Fiona Grant <Fiona Grant/Enron@EUEnronXGate>, Alvaro Garcia <Alvaro Garcia/Enron@EUEnronXGate>, Christopher Harris <Christopher Harris/Enron@EUEnronXGate>, Delphine Massart <Delphine Massart/Enron@EUEnronXGate>, Louise Kitchen <Louise Kitchen/HOU/ECT@ECT>, John Sherriff <John Sherriff/ENRON@EUEnronXGate>, Mark Palmer <Mark Palmer/Corp/Enron@ENRON>, Joe Gold <Joe Gold/Enron@EUEnronXGate>, Amita Gosalia <Amita Gosalia/Enron@EUEnronXGate>, Marcello Romano <Marcello Romano/Enron Communications@Enron Communications>, Rahil Jafry <Rahil Jafry/ENRON@enronXgate>, Richard Lewis <Richard Lewis/Enron@EUEnronXGate>, Michael Brown <Michael Brown/Enron@EUEnronXGate>, David Forster <David Forster/Enron@EnronXGate>, Angela Connelly <Angela Connelly/LON/ECT@ECT>, Paul Goddard <Paul Goddard/Enron@EUEnronXGate>, Kal Shah <Kal Shah/Enron@EnronXGate>, Julie Green <Julie Green/Enron@EUEnronXGate>, Dave Samuels <Dave Samuels/Enron@EnronXGate>, Bruce Garner <Bruce Garner/Enron@EUEnronXGate>, Alex Parsons <Alex Parsons/Enron@EUEnronXGate>, Enron London - EOL Product Control Group <Enron London - EOL Product Control Group/LON/ECT@ECT>, EOL Marketing Europe <EOL Marketing Europe@ECT>\nX-cc: \nX-bcc: \nX-Folder: \\ExMerge - Kitchen, Louise\\'Americas\\Press\nX-Origin: KITCHEN-L\nX-FileName: louise kitchen 2-7-02.pst\n\nPlease find attached the following article/s:\n'E-markets stage quiet revolution in coal trade' - Lloyds List\n\n \nKind Regards,\nKuldeep Chana",
         "enron.cuttings@enron.com",
         "Coal trade...",
         "louise kitchen 2-7-02.pst\n\nPlease find attached the following article/s:\n'E-markets stage quiet revolution in coal trade' - Lloyds List\n\n \nKind Regards,\nKuldeep Chana",
         "False",
         "0.12105348068141332"
        ],
        [
         "435863",
         "Message-ID: <6877080.1075844220643.JavaMail.evans@thyme>\nDate: Mon, 14 May 2001 05:08:00 -0700 (PDT)\nFrom: jeff.dasovich@enron.com\nTo: skean@enron.com, richard.shapiro@enron.com, james.steffes@enron.com, \n\talan.comnes@enron.com, karen.denne@enron.com, \n\tjanel.guerrero@enron.com, susan.mara@enron.com, \n\tsandra.mccubbin@enron.com, paul.kaufman@enron.com, \n\tsusan.landwehr@enron.com, linda.robertson@enron.com, \n\ttom.briggs@enron.com, joe.hartsoe@enron.com, leslie.lawner@enron.com, \n\tharry.kingerski@enron.com, jennifer.thome@enron.com, \n\trobert.neustaedter@enron.com\nSubject: Backgrounder for McNealy\nMime-Version: 1.0\nContent-Type: text/plain; charset=us-ascii\nContent-Transfer-Encoding: 7bit\nX-From: Jeff Dasovich\nX-To: skean@enron.com, Richard Shapiro, James D Steffes, Alan Comnes, Karen Denne, Janel Guerrero, Susan J Mara, Sandra McCubbin, Paul Kaufman, Susan M Landwehr, Linda Robertson, Tom Briggs, Joe Hartsoe, Leslie Lawner, Harry Kingerski, Jennifer Thome, Robert Neustaedter\nX-cc: \nX-bcc: \nX-Folder: \\Richard_Shapiro_June2001\\Notes Folders\\California\nX-Origin: SHAPIRO-R\nX-FileName: rshapiro.nsf\n\nGreetings:\nAs folks heard, Ken Lay met with some California CEOs last Friday back East.  \nAs a result of that meeting, McNealy, CEO for Sun, asked for some background \nand more detail on what Ken Lay proposed as a solution for California during \nhis meetings in California over the past couple of weeks.  McNealy and others \nhave expressed a willingness to make phone calls to policymakers, etc. to try \nto advance the ball.\n\nI pulled this together very hastily on Friday and take responsibility for all \nerrors, omissions, ramblings, etc.  Wanted to distribute, however, to make \nsure that all had the info that is getting distributed.  Know folks are busy, \nbut this will likely get distributed to other CEOs this week, so any \ncomments, suggestions, etc. about how to improve are welcome and appreciated.\n\nBest,\nJeff\n",
         "jeff.dasovich@enron.com",
         "Backgrounder for McNealy",
         "rshapiro.nsf\n\nGreetings:\nAs folks heard, Ken Lay met with some California CEOs last Friday back East.  \nAs a result of that meeting, McNealy, CEO for Sun, asked for some background \nand more detail on what Ken Lay proposed as a solution for California during \nhis meetings in California over the past couple of weeks.  McNealy and others \nhave expressed a willingness to make phone calls to policymakers, etc. to try \nto advance the ball.\n\nI pulled this together very hastily on Friday and take responsibility for all \nerrors, omissions, ramblings, etc.  Wanted to distribute, however, to make \nsure that all had the info that is getting distributed.  Know folks are busy, \nbut this will likely get distributed to other CEOs this week, so any \ncomments, suggestions, etc. about how to improve are welcome and appreciated.\n\nBest,\nJeff\n",
         "False",
         "0.10867490648747574"
        ],
        [
         "157856",
         "Message-ID: <32886092.1075860342632.JavaMail.evans@thyme>\nDate: Wed, 28 Mar 2001 06:32:00 -0800 (PST)\nFrom: lysa.akin@enron.com\nTo: jeffn@subutil.com\nSubject: RE: WP-02 Data Responses SL-SP:001 through SL-SP:006\nMime-Version: 1.0\nContent-Type: text/plain; charset=us-ascii\nContent-Transfer-Encoding: 7bit\nX-From: Lysa Akin\nX-To: NELSON Jeff <jeffn@subutil.com> @ ENRON\nX-cc: \nX-bcc: \nX-Folder: \\Mary_Hain_Aug2000_Jul2001\\Notes Folders\\All documents\nX-Origin: Hain-M\nX-FileName: mary-hain.nsf\n\nMary Hain has resigned her position with Enron.  Please remove her from all \nyour mail lists.\n\nThank you.\n\nLysa Akin\nGov't Affairs - Sr. Admin. Ass't.\n\n\n\n   \n\tEnron Capital & Trade Resources Corp.\n\t\n\tFrom:  NELSON Jeff <jeffn@subutil.com>                           03/21/2001 \n04:20 PM\n\t\n\nTo: \"'Westenberg, Sarah A - LP-7'\" <sawestenberg@bpa.gov>, \n\"'abuckley@wutc.wa.gov'\" <abuckley@wutc.wa.gov>, \"'alan@epud.org'\" \n<alan@epud.org>, \"'ali.rodol@ci.seattle.wa.us'\" <ali.rodol@ci.seattle.wa.us>, \n\"'archive-power-ratecase@bpa.gov'\" <archive-power-ratecase@bpa.gov>, \n\"'aw_turner@pgn.com'\" <aw_turner@pgn.com>, \"'BASSL@sce.com'\" <BASSL@sce.com>, \n\"'bessex@cowlitzpud.org'\" <bessex@cowlitzpud.org>, \"'bferranti@mbllp.com'\" \n<bferranti@mbllp.com>, \"'bpadiscovery@merkellaw.com'\" \n<bpadiscovery@merkellaw.com>, \"'ccopatrny@e-z.net'\" <ccopatrny@e-z.net>, \n\"'crow@millernash.com'\" <crow@millernash.com>, \"'cub@teleport.com'\" \n<cub@teleport.com>, \"'cwagers@dcpud.org'\" <cwagers@dcpud.org>, \n\"'dan.meek@usa.net'\" <dan.meek@usa.net>, \"'darcy@tonkon.com'\" \n<darcy@tonkon.com>, \"'darkills@popud.com'\" <darkills@popud.com>, \n\"'dbkinnard@pplmt.com'\" <dbkinnard@pplmt.com>, \"'dfaulk@puget.com'\" \n<dfaulk@puget.com>, \"'discoveryparalegal@bpa.gov'\" \n<discoveryparalegal@bpa.gov>, \"'dldorrell@stoel.com'\" <dldorrell@stoel.com>, \n\"'dmacgregor@morganlewis.com'\" <dmacgregor@morganlewis.com>, \n\"'doney@doneylaw.com'\" <doney@doneylaw.com>, \"'doug_brawley@pngc.com'\" \n<doug_brawley@pngc.com>, \"'dparrish@prmllp.com'\" <dparrish@prmllp.com>, \n\"'dws@keywaycorp.com'\" <dws@keywaycorp.com>, \"'eauverde@hotmail.com'\" \n<eauverde@hotmail.com>, \"'eboyd@ppcpdx.org'\" <eboyd@ppcpdx.org>, \n\"'efinklea@energyadvocates.com'\" <efinklea@energyadvocates.com>, \n\"'elisaCKF@aol.com'\" <elisaCKF@aol.com>, \"'EnerGlaw@aol.com'\" \n<EnerGlaw@aol.com>, \"'Eric.Larson@oremetwahchang.com'\" \n<Eric.Larson@oremetwahchang.com>, \"'erick_johnson@pngc.com'\" \n<erick_johnson@pngc.com>, \"'ghuhta@cowlitzpud.org'\" <ghuhta@cowlitzpud.org>, \n\"'huse@eesconsulting.com'\" <huse@eesconsulting.com>, \"'ias@dvclaw.com'\" \n<ias@dvclaw.com>, \"'jack.speer@alcoa.com'\" <jack.speer@alcoa.com>, \n\"'jacksonc@ida.net'\" <jacksonc@ida.net>, \"'janet.prewitt@state.or.us'\" \n<janet.prewitt@state.or.us>, \"'jdeason@chbh.com'\" <jdeason@chbh.com>, \n\"'jhartso@enron.com'\" <jhartso@enron.com>, \"'JLH@mc-power.com'\" \n<JLH@mc-power.com>, \"'johk@critfc.org'\" <johk@critfc.org>, \n\"'john.yanov@eweb.eugene.or.us'\" <john.yanov@eweb.eugene.or.us>, \n\"'johncameron@dwt.com'\" <johncameron@dwt.com>, \"'jolynnr@mresearch.com'\" \n<jolynnr@mresearch.com>, \"'jpw@duncanallen.com'\" <jpw@duncanallen.com>, \n\"'jrb_ora@televar.com'\" <jrb_ora@televar.com>, \"'jsaven@pacifier.com'\" \n<jsaven@pacifier.com>, \"'jschlect@avistacorp.com'\" <jschlect@avistacorp.com>, \n\"'kevin.clark@ci.seattle.wa.us'\" <kevin.clark@ci.seattle.wa.us>, \n\"'kknitte@gcpud.org'\" <kknitte@gcpud.org>, \"'kmoxness@cencoast.com'\" \n<kmoxness@cencoast.com>, \"'kpom@mail.pacifier.com'\" <kpom@mail.pacifier.com>, \n\"'kyle@ppcpdx.org'\" <kyle@ppcpdx.org>, \"'lawyer@teleport.com'\" \n<lawyer@teleport.com>, \"'Lhamilton@avistaenergy.com'\" \n<Lhamilton@avistaenergy.com>, \"'lpeters@pacifier.com'\" \n<lpeters@pacifier.com>, \"'lwolv@worldaccessnet.com'\" \n<lwolv@worldaccessnet.com>, \"'lyn_williams@pgn.com'\" <lyn_williams@pgn.com>, \n\"'marc.hellman@state.or.us'\" <marc.hellman@state.or.us>, \n\"'marss@perkinscoie.com'\" <marss@perkinscoie.com>, \"'matts1@atg.wa.gov'\" \n<matts1@atg.wa.gov>, \"'mershanlaw@aol.com'\" <mershanlaw@aol.com>, \n\"'mhain@ect.enron.com'\" <mhain@ect.enron.com>, \"'michaelearly@earthlink.net'\" \n<michaelearly@earthlink.net>, \"'mike.macdougall@powerex.com'\" \n<mike.macdougall@powerex.com>, \"'mmetzler@ci.tacoma.wa.us'\" \n<mmetzler@ci.tacoma.wa.us>, \"'mschaff@worldnet.att.net'\" \n<mschaff@worldnet.att.net>, \"'mthomas@mtpower.com'\" <mthomas@mtpower.com>, \n\"'Paul@KinergyLLC.com'\" <Paul@KinergyLLC.com>, \"'pete.forsyth@kaiseral.com'\" \n<pete.forsyth@kaiseral.com>, \"'pete@ashland.or.us'\" <pete@ashland.or.us>, \n\"'peter@richardsonandoleary.com'\" <peter@richardsonandoleary.com>, \n\"'pfox@bracepatt.com'\" <pfox@bracepatt.com>, \"'pljacklin@stoel.com'\" \n<pljacklin@stoel.com>, \"'pmurphy@mbllp.com'\" <pmurphy@mbllp.com>, \n\"'pnichols@idahopower.com'\" <pnichols@idahopower.com>, \n\"'pobenchain@idahopower.com'\" <pobenchain@idahopower.com>, \n\"'pspi@dynegy.com'\" <pspi@dynegy.com>, \"'pvickery@tpud.org'\" \n<pvickery@tpud.org>, \"'rachel@rnp.org'\" <rachel@rnp.org>, \n\"'ratecase@pngc.com'\" <ratecase@pngc.com>, \"'rates@ppcpdx.org'\" \n<rates@ppcpdx.org>, \"'rbstrong@painehamblen.com'\" \n<rbstrong@painehamblen.com>, \"'rdb@keywaycorp.com'\" <rdb@keywaycorp.com>, \n\"'rfoiani@gcpud.org'\" <rfoiani@gcpud.org>, \"'rkindley@schwabe.com'\" \n<rkindley@schwabe.com>, \"'rle@givenspursley.com'\" <rle@givenspursley.com>, \n\"'rpierce@avistaenergy.com'\" <rpierce@avistaenergy.com>, \n\"'scott.brattebo@pacificorp.com'\" <scott.brattebo@pacificorp.com>, \n\"'seligman@teleport.com'\" <seligman@teleport.com>, \"'simonf@atg.wa.gov'\" \n<simonf@atg.wa.gov>, \"'sjohnsto@wutc.wa.gov'\" <sjohnsto@wutc.wa.gov>, \n\"'skaravit@ci.tacoma.wa.us'\" <skaravit@ci.tacoma.wa.us>, \n\"'stephens@eslerstephens.com'\" <stephens@eslerstephens.com>, \n\"'steve@nwenergy.org'\" <steve@nwenergy.org>, \"'tdeboer@painehamblen.com'\" \n<tdeboer@painehamblen.com>, \"'terrym@millcreeklaw.com'\" \n<terrym@millcreeklaw.com>, \"'tgrim@chbh.com'\" <tgrim@chbh.com>, \n\"'townsend@chbh.com'\" <townsend@chbh.com>, \"'tracigrundon@dwt.com'\" \n<tracigrundon@dwt.com>, \"'tstevenson@ci.burbank.ca.us'\" \n<tstevenson@ci.burbank.ca.us>, \"'weavertr@yakima-wa.com'\" \n<weavertr@yakima-wa.com>, \"'wmgt3@montana.com'\" <wmgt3@montana.com>\ncc: \"'kevin.clark@ci.seattle.wa.us'\" <kevin.clark@ci.seattle.wa.us>, \n\"'Lovell, Byrne - KP-7'\" <belovell@bpa.gov> \nSubject: RE: WP-02 Data Responses SL-SP:001 through SL-SP:006\n\n\n Attached are SUB's Data Responses to Bonneville Power\nAdministration's Data Request.  These files are sent electronically via\ne-mail due to potential problems with the Discovery site.\n\n>  <<Data Response BPA_SP_009.doc>>  <<Data_Response_BPA_SP_009.xls>>\n> <<IOU04.xls>>\n>\nJeff Nelson\nResource Projects Manager\nSpringfield Utility Board\nPhone: (541) 744 - 3779\nFax: (541) 744 - 2263\ne-mail: jeffn@subutil.com\n\n\n - Data Response BPA_SP_009.doc\n - Data_Response_BPA_SP_009.xls\n - IOU04.xls\n\n",
         "lysa.akin@enron.com",
         "RE: WP-02 Data Responses SL-SP:001 through SL-SP:006",
         "mary-hain.nsf\n\nMary Hain has resigned her position with Enron.  Please remove her from all \nyour mail lists.\n\nThank you.\n\nLysa Akin\nGov't Affairs - Sr. Admin. Ass't.\n\n\n\n   \n\tEnron Capital & Trade Resources Corp.\n\t\n\tFrom:  NELSON Jeff <jeffn@subutil.com>                           03/21/2001 \n04:20 PM\n\t\n\nTo: \"'Westenberg, Sarah A - LP-7'\" <sawestenberg@bpa.gov>, \n\"'abuckley@wutc.wa.gov'\" <abuckley@wutc.wa.gov>, \"'alan@epud.org'\" \n<alan@epud.org>, \"'ali.rodol@ci.seattle.wa.us'\" <ali.rodol@ci.seattle.wa.us>, \n\"'archive-power-ratecase@bpa.gov'\" <archive-power-ratecase@bpa.gov>, \n\"'aw_turner@pgn.com'\" <aw_turner@pgn.com>, \"'BASSL@sce.com'\" <BASSL@sce.com>, \n\"'bessex@cowlitzpud.org'\" <bessex@cowlitzpud.org>, \"'bferranti@mbllp.com'\" \n<bferranti@mbllp.com>, \"'bpadiscovery@merkellaw.com'\" \n<bpadiscovery@merkellaw.com>, \"'ccopatrny@e-z.net'\" <ccopatrny@e-z.net>, \n\"'crow@millernash.com'\" <crow@millernash.com>, \"'cub@teleport.com'\" \n<cub@teleport.com>, \"'cwagers@dcpud.org'\" <cwagers@dcpud.org>, \n\"'dan.meek@usa.net'\" <dan.meek@usa.net>, \"'darcy@tonkon.com'\" \n<darcy@tonkon.com>, \"'darkills@popud.com'\" <darkills@popud.com>, \n\"'dbkinnard@pplmt.com'\" <dbkinnard@pplmt.com>, \"'dfaulk@puget.com'\" \n<dfaulk@puget.com>, \"'discoveryparalegal@bpa.gov'\" \n<discoveryparalegal@bpa.gov>, \"'dldorrell@stoel.com'\" <dldorrell@stoel.com>, \n\"'dmacgregor@morganlewis.com'\" <dmacgregor@morganlewis.com>, \n\"'doney@doneylaw.com'\" <doney@doneylaw.com>, \"'doug_brawley@pngc.com'\" \n<doug_brawley@pngc.com>, \"'dparrish@prmllp.com'\" <dparrish@prmllp.com>, \n\"'dws@keywaycorp.com'\" <dws@keywaycorp.com>, \"'eauverde@hotmail.com'\" \n<eauverde@hotmail.com>, \"'eboyd@ppcpdx.org'\" <eboyd@ppcpdx.org>, \n\"'efinklea@energyadvocates.com'\" <efinklea@energyadvocates.com>, \n\"'elisaCKF@aol.com'\" <elisaCKF@aol.com>, \"'EnerGlaw@aol.com'\" \n<EnerGlaw@aol.com>, \"'Eric.Larson@oremetwahchang.com'\" \n<Eric.Larson@oremetwahchang.com>, \"'erick_johnson@pngc.com'\" \n<erick_johnson@pngc.com>, \"'ghuhta@cowlitzpud.org'\" <ghuhta@cowlitzpud.org>, \n\"'huse@eesconsulting.com'\" <huse@eesconsulting.com>, \"'ias@dvclaw.com'\" \n<ias@dvclaw.com>, \"'jack.speer@alcoa.com'\" <jack.speer@alcoa.com>, \n\"'jacksonc@ida.net'\" <jacksonc@ida.net>, \"'janet.prewitt@state.or.us'\" \n<janet.prewitt@state.or.us>, \"'jdeason@chbh.com'\" <jdeason@chbh.com>, \n\"'jhartso@enron.com'\" <jhartso@enron.com>, \"'JLH@mc-power.com'\" \n<JLH@mc-power.com>, \"'johk@critfc.org'\" <johk@critfc.org>, \n\"'john.yanov@eweb.eugene.or.us'\" <john.yanov@eweb.eugene.or.us>, \n\"'johncameron@dwt.com'\" <johncameron@dwt.com>, \"'jolynnr@mresearch.com'\" \n<jolynnr@mresearch.com>, \"'jpw@duncanallen.com'\" <jpw@duncanallen.com>, \n\"'jrb_ora@televar.com'\" <jrb_ora@televar.com>, \"'jsaven@pacifier.com'\" \n<jsaven@pacifier.com>, \"'jschlect@avistacorp.com'\" <jschlect@avistacorp.com>, \n\"'kevin.clark@ci.seattle.wa.us'\" <kevin.clark@ci.seattle.wa.us>, \n\"'kknitte@gcpud.org'\" <kknitte@gcpud.org>, \"'kmoxness@cencoast.com'\" \n<kmoxness@cencoast.com>, \"'kpom@mail.pacifier.com'\" <kpom@mail.pacifier.com>, \n\"'kyle@ppcpdx.org'\" <kyle@ppcpdx.org>, \"'lawyer@teleport.com'\" \n<lawyer@teleport.com>, \"'Lhamilton@avistaenergy.com'\" \n<Lhamilton@avistaenergy.com>, \"'lpeters@pacifier.com'\" \n<lpeters@pacifier.com>, \"'lwolv@worldaccessnet.com'\" \n<lwolv@worldaccessnet.com>, \"'lyn_williams@pgn.com'\" <lyn_williams@pgn.com>, \n\"'marc.hellman@state.or.us'\" <marc.hellman@state.or.us>, \n\"'marss@perkinscoie.com'\" <marss@perkinscoie.com>, \"'matts1@atg.wa.gov'\" \n<matts1@atg.wa.gov>, \"'mershanlaw@aol.com'\" <mershanlaw@aol.com>, \n\"'mhain@ect.enron.com'\" <mhain@ect.enron.com>, \"'michaelearly@earthlink.net'\" \n<michaelearly@earthlink.net>, \"'mike.macdougall@powerex.com'\" \n<mike.macdougall@powerex.com>, \"'mmetzler@ci.tacoma.wa.us'\" \n<mmetzler@ci.tacoma.wa.us>, \"'mschaff@worldnet.att.net'\" \n<mschaff@worldnet.att.net>, \"'mthomas@mtpower.com'\" <mthomas@mtpower.com>, \n\"'Paul@KinergyLLC.com'\" <Paul@KinergyLLC.com>, \"'pete.forsyth@kaiseral.com'\" \n<pete.forsyth@kaiseral.com>, \"'pete@ashland.or.us'\" <pete@ashland.or.us>, \n\"'peter@richardsonandoleary.com'\" <peter@richardsonandoleary.com>, \n\"'pfox@bracepatt.com'\" <pfox@bracepatt.com>, \"'pljacklin@stoel.com'\" \n<pljacklin@stoel.com>, \"'pmurphy@mbllp.com'\" <pmurphy@mbllp.com>, \n\"'pnichols@idahopower.com'\" <pnichols@idahopower.com>, \n\"'pobenchain@idahopower.com'\" <pobenchain@idahopower.com>, \n\"'pspi@dynegy.com'\" <pspi@dynegy.com>, \"'pvickery@tpud.org'\" \n<pvickery@tpud.org>, \"'rachel@rnp.org'\" <rachel@rnp.org>, \n\"'ratecase@pngc.com'\" <ratecase@pngc.com>, \"'rates@ppcpdx.org'\" \n<rates@ppcpdx.org>, \"'rbstrong@painehamblen.com'\" \n<rbstrong@painehamblen.com>, \"'rdb@keywaycorp.com'\" <rdb@keywaycorp.com>, \n\"'rfoiani@gcpud.org'\" <rfoiani@gcpud.org>, \"'rkindley@schwabe.com'\" \n<rkindley@schwabe.com>, \"'rle@givenspursley.com'\" <rle@givenspursley.com>, \n\"'rpierce@avistaenergy.com'\" <rpierce@avistaenergy.com>, \n\"'scott.brattebo@pacificorp.com'\" <scott.brattebo@pacificorp.com>, \n\"'seligman@teleport.com'\" <seligman@teleport.com>, \"'simonf@atg.wa.gov'\" \n<simonf@atg.wa.gov>, \"'sjohnsto@wutc.wa.gov'\" <sjohnsto@wutc.wa.gov>, \n\"'skaravit@ci.tacoma.wa.us'\" <skaravit@ci.tacoma.wa.us>, \n\"'stephens@eslerstephens.com'\" <stephens@eslerstephens.com>, \n\"'steve@nwenergy.org'\" <steve@nwenergy.org>, \"'tdeboer@painehamblen.com'\" \n<tdeboer@painehamblen.com>, \"'terrym@millcreeklaw.com'\" \n<terrym@millcreeklaw.com>, \"'tgrim@chbh.com'\" <tgrim@chbh.com>, \n\"'townsend@chbh.com'\" <townsend@chbh.com>, \"'tracigrundon@dwt.com'\" \n<tracigrundon@dwt.com>, \"'tstevenson@ci.burbank.ca.us'\" \n<tstevenson@ci.burbank.ca.us>, \"'weavertr@yakima-wa.com'\" \n<weavertr@yakima-wa.com>, \"'wmgt3@montana.com'\" <wmgt3@montana.com>\ncc: \"'kevin.clark@ci.seattle.wa.us'\" <kevin.clark@ci.seattle.wa.us>, \n\"'Lovell, Byrne - KP-7'\" <belovell@bpa.gov> \nSubject: RE: WP-02 Data Responses SL-SP:001 through SL-SP:006\n\n\n Attached are SUB's Data Responses to Bonneville Power\nAdministration's Data Request.  These files are sent electronically via\ne-mail due to potential problems with the Discovery site.\n\n>  <<Data Response BPA_SP_009.doc>>  <<Data_Response_BPA_SP_009.xls>>\n> <<IOU04.xls>>\n>\nJeff Nelson\nResource Projects Manager\nSpringfield Utility Board\nPhone: (541) 744 - 3779\nFax: (541) 744 - 2263\ne-mail: jeffn@subutil.com\n\n\n - Data Response BPA_SP_009.doc\n - Data_Response_BPA_SP_009.xls\n - IOU04.xls\n\n",
         "False",
         "0.11544163879106312"
        ],
        [
         "237785",
         "Message-ID: <13655849.1075850993736.JavaMail.evans@thyme>\nDate: Fri, 8 Jun 2001 10:55:00 -0700 (PDT)\nFrom: ursula.brenner@enron.com\nTo: dnomen@eurelectric.org\nSubject: Eurelectric Conference\nCc: steven.kean@enron.com, peter.styles@enron.com, maureen.mcvicker@enron.com\nMime-Version: 1.0\nContent-Type: text/plain; charset=us-ascii\nContent-Transfer-Encoding: 7bit\nBcc: steven.kean@enron.com, peter.styles@enron.com, maureen.mcvicker@enron.com\nX-From: Ursula Brenner\nX-To: DNOMEN@EURELECTRIC.ORG\nX-cc: Steven J Kean, Peter Styles, Maureen McVicker\nX-bcc: \nX-Folder: \\Steven_Kean_Oct2001_2\\Notes Folders\\Attachments\nX-Origin: KEAN-S\nX-FileName: skean.nsf\n\nThis is the presentation Mr. Kean will be using on June 12, 2001.  He will \nhave a CD with him as a backup.\n\n\n\nRegards,\n\nUrsula Brenner\nENRON CORP.\n+1(713)345-3787\n\nThis message (including any attachments) contains confidential information \nintended for a specific individual and purpose, and is protected by law. If \nyou are not the intended recipient, you should delete this message and are \nhereby notified that any disclosure, copying, or distribution of this \nmessage, or the taking of any action based on it, is strictly prohibited. ",
         "ursula.brenner@enron.com",
         "Eurelectric Conference\nCc: steven.kean@enron.com, peter.styles@enron.com, maureen.mcvicker@enron.com",
         "skean.nsf\n\nThis is the presentation Mr. Kean will be using on June 12, 2001.  He will \nhave a CD with him as a backup.\n\n\n\nRegards,\n\nUrsula Brenner\nENRON CORP.\n+1(713)345-3787\n\nThis message (including any attachments) contains confidential information \nintended for a specific individual and purpose, and is protected by law. If \nyou are not the intended recipient, you should delete this message and are \nhereby notified that any disclosure, copying, or distribution of this \nmessage, or the taking of any action based on it, is strictly prohibited. ",
         "False",
         "0.1152259122434213"
        ],
        [
         "129834",
         "Message-ID: <20703532.1075853768486.JavaMail.evans@thyme>\nDate: Wed, 30 Aug 2000 01:33:00 -0700 (PDT)\nFrom: chris.germany@enron.com\nTo: robert.allwein@enron.com, joann.collins@enron.com, kyle.lilly@enron.com, \n\tcrystal.hyde@enron.com\nSubject: CGAS Storage\nMime-Version: 1.0\nContent-Type: text/plain; charset=us-ascii\nContent-Transfer-Encoding: 7bit\nX-From: Chris Germany\nX-To: Robert Allwein, Joann Collins, Kyle R Lilly, Crystal Hyde\nX-cc: \nX-bcc: \nX-Folder: \\Chris_Germany_Dec2000\\Notes Folders\\Discussion threads\nX-Origin: Germany-C\nX-FileName: cgerman.nsf\n\nDick wants to over inject as much as possible for the holiday weekend.  I \nadjusted the deal tickets in Sitara.  We will inject 31,463 on the 1st, and \n31454 on the 2nd-5th.  Our injections drop to 25172 on the 6th.\n\n",
         "chris.germany@enron.com",
         "CGAS Storage",
         "cgerman.nsf\n\nDick wants to over inject as much as possible for the holiday weekend.  I \nadjusted the deal tickets in Sitara.  We will inject 31,463 on the 1st, and \n31454 on the 2nd-5th.  Our injections drop to 25172 on the 6th.\n\n",
         "False",
         "0.12151195230900441"
        ],
        [
         "346258",
         "Message-ID: <18279440.1075842759594.JavaMail.evans@thyme>\nDate: Wed, 7 Feb 2001 16:30:00 -0800 (PST)\nFrom: enron.announcements@enron.com\nTo: all_ena_egm_eim@enron.com\nSubject: EnTouch Newsletter\nMime-Version: 1.0\nContent-Type: text/plain; charset=ANSI_X3.4-1968\nContent-Transfer-Encoding: quoted-printable\nX-From: Enron Announcements\nX-To: All_ENA_EGM_EIM\nX-cc: \nX-bcc: \nX-Folder: \\Gerald_Nemec_Dec2000_June2001_2\\Notes Folders\\All documents\nX-Origin: NEMEC-G\nX-FileName: gnemec.nsf\n\nBUSINESS HIGHLIGHTS\n\nEast Power Group\nThe East Power Group is off to another strong start in 2001.  The realignme=\nnt=20\nof the group into regional business units with joint trading, mid-marketing=\n,=20\nand origination operations has proven to be a catalyst for deal flow,=20\nproducing both a high volume of transactions and high value.  More=20\ntransactions were executed in January than any month last year, including o=\nne=20\ndeal that will bring tremendous strategic value to Enron as well.\n\nExecuted in January, was the purchase of two 35 MW coal-fired cogeneration=\n=20\nfacilities located in southeastern North Carolina.  ENA will supply steam t=\no=20\nthe industrial host, Alamac Knit Fabrics, and will sell power into the=20\nmerchant market.  The plants are inside Carolina Power & Light's service=20\nterritory, which is connected to AEP, Virginia Power, Duke, SCEG and SCPSA.=\n =20\nThese plants are the first purely merchant facilities in North Carolina. =\n=20\nThis deal exemplifies how Enron leverages its talent in that originators fr=\nom=20\nthe East Power Group and Industrial Markets Group joined forces to bring th=\nis=20\ndeal to execution.  They also leveraged the Global Markets group to manage=\n=20\nthe coal supply and emissions issues.\n\nProspects going forward look promising as a number of high value transactio=\nns=20\nare in the pipeline.  Of particular note is The Sandhill Power Project, a 1=\n80=20\nMW peaking facility currently under construction in Austin.  The facility i=\ns=20\nscheduled to come online in June, in time for the advent of deregulation in=\n=20\nTexas. The joint venture, between EPMI and Austin Energy, will provide both=\n=20\ntrading groups with a highly flexible asset, enabling them to access=20\nreal-time volatility while hedging existing obligations.\n\nAdditionally, the Fort Pierce (Florida) City Council voted 5 to 0 in favor =\nof=20\nEnron's proposal to repower the Ft. Pierce Utilities Authority's (FPUA)=20\nexisting power plant in that city.  Our proposed 180 MW facility will be us=\ned=20\nto produce steam to power the H.D. King facility at approximately 20 percen=\nt=20\nless cost than FPUA can produce it.  According to FPUA officials, this=20\nreduction in cost may lead to reduced rates for their ratepayers.  The=20\nplanned in-service date is summer of 2002.\n\nIndustrial Markets\nEIM Fundamental Analysis Group grows again!  The Fundamental Analysis Group=\n=20\ncontinues to expand its staff and capabilities.  They will be introducing y=\nou=20\nto specific activities in the weeks to come, but would like to introduce yo=\nu=20\nto the new staff members who have joined in the past month. =20\n\nOn the paper/pulp/lumber side, Bin Wang is responsible for supporting the=\n=20\nlumber group; Adnan Patel will be assisting with newsprint and structured=\n=20\ntransactions. =20\n\nFor the steel group, Doug Parsons and Yana Kristal are providing market=20\nanalysis and econometric/price forecasting support.  Our latest recruit,=20\nDavid Maxwell, is assisting with the evaluation of a customer management=20\nsystem and developing analytical databases for all product lines. A visible=\n=20\nenhancement to the group=01,s operations has been the Intranet web site, wh=\nich=20\nhas been in development for the past three months.  The site will be=20\ntransferred to a production server by the end of February.  The site contai=\nns=20\nall types of industry, market, regulatory, analytical, and financial=20\ninformation for deal analysis. =20\n\nAnother major development is the adoption of a customer information=20\nmanagement system.  EIM is currently evaluating Siebel Systems, a software=\n=20\nprovider that has developed this type of information tool for EES.\n\n\nIN THE NEWS\n\nEnron has been named the \"Most Innovative Company in America\" for the sixth=\n=20\nconsecutive year by Fortune.  That's right -- six years in a row.   We=20\ncontinue to be recognized by our industry peers and other corporate=20\nexecutives and securities analysts as the company that sets the standard fo=\nr=20\ndoing business in the new economy.  Congratulations to all of you for makin=\ng=20\nit happen.\n\nEnron placed No. 18 overall on Fortune's list of the nation's 535 \"Most=20\nAdmired Companies,\" up from No. 36 last year.  We also were ranked among th=\ne=20\ntop five in \"Quality of Management,\" \"Quality of Products/Services\" and=20\n\"Employee Talent.\" =20\n\nThis issue of Fortune is now available in airports and will be on newsstand=\ns=20\nMonday, Feb. 12.  For more information, go to www.fortune.com.\n\n\nNUGGETS & NOTES\n\n\"The revolution has begun......\"  - Ted Bland, Director/HR Recruiting=20\nOperations\n\n\"We trade propane and propane accessories\" - Adam Gross, Director/Global LP=\nG=20\nTrading-EGM\n\n\nWELCOME\nNew Hires\nEGM - Robert Beyer, Jacqueline Darrah, Herbert Goodwin, Vera Ilyina, Tracy=\n=20\nJames, Christopher Mulcahy, LaBricia Seyrus\nENA - Tonya Dennis, Kathryn Sheppard, Bin Wang\n\n\nLEGAL STUFF\n\nThe information contained in this newsletter is confidential and proprietar=\ny=20\nto Enron Corp. and its subsidiaries.  It is intended for internal use only=\n=20\nand should not be disclosed.",
         "enron.announcements@enron.com",
         "EnTouch Newsletter",
         "gnemec.nsf\n\nBUSINESS HIGHLIGHTS\n\nEast Power Group\nThe East Power Group is off to another strong start in 2001.  The realignme=\nnt=20\nof the group into regional business units with joint trading, mid-marketing=\n,=20\nand origination operations has proven to be a catalyst for deal flow,=20\nproducing both a high volume of transactions and high value.  More=20\ntransactions were executed in January than any month last year, including o=\nne=20\ndeal that will bring tremendous strategic value to Enron as well.\n\nExecuted in January, was the purchase of two 35 MW coal-fired cogeneration=\n=20\nfacilities located in southeastern North Carolina.  ENA will supply steam t=\no=20\nthe industrial host, Alamac Knit Fabrics, and will sell power into the=20\nmerchant market.  The plants are inside Carolina Power & Light's service=20\nterritory, which is connected to AEP, Virginia Power, Duke, SCEG and SCPSA.=\n =20\nThese plants are the first purely merchant facilities in North Carolina. =\n=20\nThis deal exemplifies how Enron leverages its talent in that originators fr=\nom=20\nthe East Power Group and Industrial Markets Group joined forces to bring th=\nis=20\ndeal to execution.  They also leveraged the Global Markets group to manage=\n=20\nthe coal supply and emissions issues.\n\nProspects going forward look promising as a number of high value transactio=\nns=20\nare in the pipeline.  Of particular note is The Sandhill Power Project, a 1=\n80=20\nMW peaking facility currently under construction in Austin.  The facility i=\ns=20\nscheduled to come online in June, in time for the advent of deregulation in=\n=20\nTexas. The joint venture, between EPMI and Austin Energy, will provide both=\n=20\ntrading groups with a highly flexible asset, enabling them to access=20\nreal-time volatility while hedging existing obligations.\n\nAdditionally, the Fort Pierce (Florida) City Council voted 5 to 0 in favor =\nof=20\nEnron's proposal to repower the Ft. Pierce Utilities Authority's (FPUA)=20\nexisting power plant in that city.  Our proposed 180 MW facility will be us=\ned=20\nto produce steam to power the H.D. King facility at approximately 20 percen=\nt=20\nless cost than FPUA can produce it.  According to FPUA officials, this=20\nreduction in cost may lead to reduced rates for their ratepayers.  The=20\nplanned in-service date is summer of 2002.\n\nIndustrial Markets\nEIM Fundamental Analysis Group grows again!  The Fundamental Analysis Group=\n=20\ncontinues to expand its staff and capabilities.  They will be introducing y=\nou=20\nto specific activities in the weeks to come, but would like to introduce yo=\nu=20\nto the new staff members who have joined in the past month. =20\n\nOn the paper/pulp/lumber side, Bin Wang is responsible for supporting the=\n=20\nlumber group; Adnan Patel will be assisting with newsprint and structured=\n=20\ntransactions. =20\n\nFor the steel group, Doug Parsons and Yana Kristal are providing market=20\nanalysis and econometric/price forecasting support.  Our latest recruit,=20\nDavid Maxwell, is assisting with the evaluation of a customer management=20\nsystem and developing analytical databases for all product lines. A visible=\n=20\nenhancement to the group=01,s operations has been the Intranet web site, wh=\nich=20\nhas been in development for the past three months.  The site will be=20\ntransferred to a production server by the end of February.  The site contai=\nns=20\nall types of industry, market, regulatory, analytical, and financial=20\ninformation for deal analysis. =20\n\nAnother major development is the adoption of a customer information=20\nmanagement system.  EIM is currently evaluating Siebel Systems, a software=\n=20\nprovider that has developed this type of information tool for EES.\n\n\nIN THE NEWS\n\nEnron has been named the \"Most Innovative Company in America\" for the sixth=\n=20\nconsecutive year by Fortune.  That's right -- six years in a row.   We=20\ncontinue to be recognized by our industry peers and other corporate=20\nexecutives and securities analysts as the company that sets the standard fo=\nr=20\ndoing business in the new economy.  Congratulations to all of you for makin=\ng=20\nit happen.\n\nEnron placed No. 18 overall on Fortune's list of the nation's 535 \"Most=20\nAdmired Companies,\" up from No. 36 last year.  We also were ranked among th=\ne=20\ntop five in \"Quality of Management,\" \"Quality of Products/Services\" and=20\n\"Employee Talent.\" =20\n\nThis issue of Fortune is now available in airports and will be on newsstand=\ns=20\nMonday, Feb. 12.  For more information, go to www.fortune.com.\n\n\nNUGGETS & NOTES\n\n\"The revolution has begun......\"  - Ted Bland, Director/HR Recruiting=20\nOperations\n\n\"We trade propane and propane accessories\" - Adam Gross, Director/Global LP=\nG=20\nTrading-EGM\n\n\nWELCOME\nNew Hires\nEGM - Robert Beyer, Jacqueline Darrah, Herbert Goodwin, Vera Ilyina, Tracy=\n=20\nJames, Christopher Mulcahy, LaBricia Seyrus\nENA - Tonya Dennis, Kathryn Sheppard, Bin Wang\n\n\nLEGAL STUFF\n\nThe information contained in this newsletter is confidential and proprietar=\ny=20\nto Enron Corp. and its subsidiaries.  It is intended for internal use only=\n=20\nand should not be disclosed.",
         "False",
         "0.12289725726891078"
        ],
        [
         "387781",
         "Message-ID: <31267940.1075859607427.JavaMail.evans@thyme>\nDate: Wed, 25 Apr 2001 13:07:00 -0700 (PDT)\nFrom: janice.moore@enron.com\nTo: elizabeth.sager@enron.com\nSubject: work inventory - this time it's attached\nMime-Version: 1.0\nContent-Type: text/plain; charset=us-ascii\nContent-Transfer-Encoding: 7bit\nX-From: Janice R Moore\nX-To: Elizabeth Sager\nX-cc: \nX-bcc: \nX-Folder: \\Elizabeth_Sager_Jun2001\\Notes Folders\\Notes inbox\nX-Origin: Sager-E\nX-FileName: esager.nsf\n\n\nRegards,\nJanice\n\nEB3861\nAssistant General Counsel, Enron North America Corp.\n713-853-1794 (Fax:  713-646-4842)\n----- Forwarded by Janice R Moore/HOU/ECT on 04/25/2001 08:06 PM -----\n\n\tJanice R Moore\n\t04/25/2001 08:06 PM\n\t\t \n\t\t To: Elizabeth Sager/HOU/ECT@ECT\n\t\t cc: \n\t\t Subject: work inventory\n\nThis is still very much a work in progress, but this is where things stand \ntonight.  The Atlantic City Electric EEI Master was executed this afternoon \n(and the Enron Corp. guarantee is completely negotiated, too) so that we can \nactually get all signed up w/ a confirm if we win the 300MW bid on Friday, so \nit's no longer on the list.\nLet me know if you'd like to discuss any of this.  I'm planning to leave all \nthe files in my office when I go, and to update the power contracts database \nw/ comments about outstanding issues as one of the last things I do next week \nbefore I go.\nRegards,\nJanice\n\nEB3861\nAssistant General Counsel, Enron North America Corp.\n713-853-1794 (Fax:  713-646-4842)",
         "janice.moore@enron.com",
         "work inventory - this time it's attached",
         "esager.nsf\n\n\nRegards,\nJanice\n\nEB3861\nAssistant General Counsel, Enron North America Corp.\n713-853-1794 (Fax:  713-646-4842)\n----- Forwarded by Janice R Moore/HOU/ECT on 04/25/2001 08:06 PM -----\n\n\tJanice R Moore\n\t04/25/2001 08:06 PM\n\t\t \n\t\t To: Elizabeth Sager/HOU/ECT@ECT\n\t\t cc: \n\t\t Subject: work inventory\n\nThis is still very much a work in progress, but this is where things stand \ntonight.  The Atlantic City Electric EEI Master was executed this afternoon \n(and the Enron Corp. guarantee is completely negotiated, too) so that we can \nactually get all signed up w/ a confirm if we win the 300MW bid on Friday, so \nit's no longer on the list.\nLet me know if you'd like to discuss any of this.  I'm planning to leave all \nthe files in my office when I go, and to update the power contracts database \nw/ comments about outstanding issues as one of the last things I do next week \nbefore I go.\nRegards,\nJanice\n\nEB3861\nAssistant General Counsel, Enron North America Corp.\n713-853-1794 (Fax:  713-646-4842)",
         "False",
         "0.15754758204920247"
        ],
        [
         "448411",
         "Message-ID: <16595168.1075841569294.JavaMail.evans@thyme>\nDate: Fri, 25 Jan 2002 08:56:33 -0800 (PST)\nFrom: pete.davis@enron.com\nTo: pete.davis@enron.com\nSubject: Schedule Crawler: HourAhead Failure\nCc: albert.meyers@enron.com, bill.williams@enron.com, craig.dean@enron.com, \n\tgeir.solberg@enron.com, john.anderson@enron.com, \n\tmark.guzman@enron.com, michael.mier@enron.com, pete.davis@enron.com, \n\tryan.slinger@enron.com\nMime-Version: 1.0\nContent-Type: text/plain; charset=us-ascii\nContent-Transfer-Encoding: 7bit\nBcc: albert.meyers@enron.com, bill.williams@enron.com, craig.dean@enron.com, \n\tgeir.solberg@enron.com, john.anderson@enron.com, \n\tmark.guzman@enron.com, michael.mier@enron.com, pete.davis@enron.com, \n\tryan.slinger@enron.com\nX-From: Schedule Crawler<pete.davis@enron.com>@ENRON\nX-To: Davis, Pete </O=ENRON/OU=NA/CN=RECIPIENTS/CN=PDAVIS1>\nX-cc: Meyers, Albert </O=ENRON/OU=NA/CN=RECIPIENTS/CN=BMEYERS>, Williams III, Bill </O=ENRON/OU=NA/CN=RECIPIENTS/CN=BWILLIA5>, Dean, Craig </O=ENRON/OU=NA/CN=RECIPIENTS/CN=CDEAN2>, Solberg, Geir </O=ENRON/OU=NA/CN=RECIPIENTS/CN=GSOLBER>, Anderson, John </O=ENRON/OU=NA/CN=RECIPIENTS/CN=JANDERS3>, Guzman, Mark </O=ENRON/OU=NA/CN=RECIPIENTS/CN=MGUZMAN3>, Mier, Michael </O=ENRON/OU=NA/CN=RECIPIENTS/CN=MMIER>, Davis, Pete </O=ENRON/OU=NA/CN=RECIPIENTS/CN=PDAVIS1>, Slinger, Ryan </O=ENRON/OU=NA/CN=RECIPIENTS/CN=RSLINGER>\nX-bcc: \nX-Folder: \\ExMerge - Solberg, Geir\\Deleted Items\nX-Origin: SOLBERG-G\nX-FileName: geir solberg 6-26-02.PST\n\n\n\nStart Date: 1/25/02; HourAhead hour: 11;  HourAhead schedule download failed. Manual intervention required.",
         "pete.davis@enron.com",
         "Schedule Crawler: HourAhead Failure\nCc: albert.meyers@enron.com, bill.williams@enron.com, craig.dean@enron.com, \n\tgeir.solberg@enron.com, john.anderson@enron.com, \n\tmark.guzman@enron.com, michael.mier@enron.com, pete.davis@enron.com, \n\tryan.slinger@enron.com",
         "geir solberg 6-26-02.PST\n\n\n\nStart Date: 1/25/02; HourAhead hour: 11;  HourAhead schedule download failed. Manual intervention required.",
         "False",
         "0.14722250418792707"
        ],
        [
         "312871",
         "Message-ID: <3871186.1075845823611.JavaMail.evans@thyme>\nDate: Fri, 16 Mar 2001 04:19:00 -0800 (PST)\nFrom: brian.barto@enron.com\nTo: ben.jacoby@enron.com, kay.mann@enron.com\nSubject: Blue Dog Performance on Liquid Fuel\nMime-Version: 1.0\nContent-Type: text/plain; charset=us-ascii\nContent-Transfer-Encoding: 7bit\nX-From: Brian D Barto\nX-To: Ben Jacoby, Kay Mann\nX-cc: \nX-bcc: \nX-Folder: \\Kay_Mann_June2001_2\\Notes Folders\\Discussion threads\nX-Origin: MANN-K\nX-FileName: kmann.nsf\n\nAttached is the Data Sheet forwarded to me by Chris Booth, and provided by \nGE's Jeff Darst for guaranteed liquid fuel performance on the second Blue Dog \ngas turbine.  Jeff Darst called today to remind me that he is running out of \ntime in the manufacturing process to make the duel fuel change without \nadditional impacts.\n\n\n",
         "brian.barto@enron.com",
         "Blue Dog Performance on Liquid Fuel",
         "kmann.nsf\n\nAttached is the Data Sheet forwarded to me by Chris Booth, and provided by \nGE's Jeff Darst for guaranteed liquid fuel performance on the second Blue Dog \ngas turbine.  Jeff Darst called today to remind me that he is running out of \ntime in the manufacturing process to make the duel fuel change without \nadditional impacts.\n\n\n",
         "False",
         "0.16577953910302407"
        ],
        [
         "43947",
         "Message-ID: <26623982.1075861841815.JavaMail.evans@thyme>\nDate: Tue, 6 Nov 2001 16:11:42 -0800 (PST)\nFrom: messenger@smartreminders.com\nTo: lcampbel@enron.com\nSubject: Protect your Pet with Healthy Pet Insurance\nMime-Version: 1.0\nContent-Type: text/plain; charset=us-ascii\nContent-Transfer-Encoding: quoted-printable\nX-From: Healthy Pet Insurance <messenger@smartreminders.com>@ENRON\nX-To: Larry Campbell <lcampbel@enron.com>\nX-cc: \nX-bcc: \nX-Folder: \\LCAMPBEL (Non-Privileged)\\Campbell, Larry F.\\Inbox\nX-Origin: Campbell-L\nX-FileName: LCAMPBEL (Non-Privileged).pst\n\n\n[IMAGE][IMAGE][IMAGE]=20\nDear  SmartReminders Member,\nCaring for your pet just got easier...CLICK HERE! =09  Looking for affordab=\nle health coverage for your cat or dog?     Healthy  Pet Insurance , underw=\nritten by a member company of AIG (American  International Group), allows p=\net owners to take the financial  considerations out of difficult veterinary=\n treatment  decisions.  Healthy Pet  Insurance  provides the following bene=\nfits:     Comprehensive coverage of many veterinary services for the treatm=\nent  of illness and injuries  Coverage for spaying, neutering, pet health m=\naintenance, vaccines  and many pre-existing conditions  Owners choice of ve=\nterinarian, no pre-authorization required  Monthly, quarterly, semi-annual =\nor annual premium payment options   $20 discount for insuring more than one=\n pet  One-time $100 annual deductible (most plans charge a per-visit  deduc=\ntible)  Reimbursement for 80 percent of all covered veterinary services   H=\nolistic, homeopathic, herbal and acupuncture coverage  Online claim forms a=\nnd customer service center  Call center support for questions regarding app=\nlying for coverage,  policy concerns, coverage issues, claim filing and mor=\ne      Healthy  Pet Insurance  offers 3 different levels of coverage: Basic=\n, Plus,  and Ultimate. All are designed for dogs between eight weeks and ei=\nght  years of age, and cats between eight weeks and ten years of age. Annua=\nl  policy premiums range from $90 to $484.  About the program underwriter: =\nHealthy Pet  Insurance  is underwritten by American International Group (AI=\nG); an  A++ rated insurance carrier. AIG is the leading U.S. - based intern=\national  insurance and financial service organization in the world and the =\nlargest  underwriter of commercial and industrial insurance. AIG maintains =\nthe  highest industry ratings for financial strength, stability and size.  =\nGet Healthy  Pet  Insurance >>  =09\n\n\n=20\n=20\n=20\n=20\n=20\n=20\n=20\n=20\n=20\n=20\n=20\n=20\n=20\n=20\n=20\n=20\n=20\n=20\n=20\n\nWe respect  your privacy and are a Certified Participant of the BBBOnLine\n Privacy Program.  To be removed from future offers,click  here.=20\nSmartReminders.com  is a permission based service. To unsubscribe click  he=\nre . ",
         "messenger@smartreminders.com",
         "Protect your Pet with Healthy Pet Insurance",
         "LCAMPBEL (Non-Privileged).pst\n\n\n[IMAGE][IMAGE][IMAGE]=20\nDear  SmartReminders Member,\nCaring for your pet just got easier...CLICK HERE! =09  Looking for affordab=\nle health coverage for your cat or dog?     Healthy  Pet Insurance , underw=\nritten by a member company of AIG (American  International Group), allows p=\net owners to take the financial  considerations out of difficult veterinary=\n treatment  decisions.  Healthy Pet  Insurance  provides the following bene=\nfits:     Comprehensive coverage of many veterinary services for the treatm=\nent  of illness and injuries  Coverage for spaying, neutering, pet health m=\naintenance, vaccines  and many pre-existing conditions  Owners choice of ve=\nterinarian, no pre-authorization required  Monthly, quarterly, semi-annual =\nor annual premium payment options   $20 discount for insuring more than one=\n pet  One-time $100 annual deductible (most plans charge a per-visit  deduc=\ntible)  Reimbursement for 80 percent of all covered veterinary services   H=\nolistic, homeopathic, herbal and acupuncture coverage  Online claim forms a=\nnd customer service center  Call center support for questions regarding app=\nlying for coverage,  policy concerns, coverage issues, claim filing and mor=\ne      Healthy  Pet Insurance  offers 3 different levels of coverage: Basic=\n, Plus,  and Ultimate. All are designed for dogs between eight weeks and ei=\nght  years of age, and cats between eight weeks and ten years of age. Annua=\nl  policy premiums range from $90 to $484.  About the program underwriter: =\nHealthy Pet  Insurance  is underwritten by American International Group (AI=\nG); an  A++ rated insurance carrier. AIG is the leading U.S. - based intern=\national  insurance and financial service organization in the world and the =\nlargest  underwriter of commercial and industrial insurance. AIG maintains =\nthe  highest industry ratings for financial strength, stability and size.  =\nGet Healthy  Pet  Insurance >>  =09\n\n\n=20\n=20\n=20\n=20\n=20\n=20\n=20\n=20\n=20\n=20\n=20\n=20\n=20\n=20\n=20\n=20\n=20\n=20\n=20\n\nWe respect  your privacy and are a Certified Participant of the BBBOnLine\n Privacy Program.  To be removed from future offers,click  here.=20\nSmartReminders.com  is a permission based service. To unsubscribe click  he=\nre . ",
         "False",
         "0.18336087259839473"
        ],
        [
         "305224",
         "Message-ID: <16277609.1075845635270.JavaMail.evans@thyme>\nDate: Fri, 8 Dec 2000 10:04:00 -0800 (PST)\nFrom: kay.mann@enron.com\nTo: ben.jacoby@enron.com\nSubject: \nMime-Version: 1.0\nContent-Type: text/plain; charset=us-ascii\nContent-Transfer-Encoding: 7bit\nX-From: Kay Mann\nX-To: Ben Jacoby\nX-cc: \nX-bcc: \nX-Folder: \\Kay_Mann_June2001_1\\Notes Folders\\All documents\nX-Origin: MANN-K\nX-FileName: kmann.nsf\n\nI left Dave Onuscheck a voice mail about the issues, and asked him to give me \na call.",
         "kay.mann@enron.com",
         "",
         "kmann.nsf\n\nI left Dave Onuscheck a voice mail about the issues, and asked him to give me \na call.",
         "False",
         "0.1708939131038895"
        ],
        [
         "344276",
         "Message-ID: <9056496.1075842605463.JavaMail.evans@thyme>\nDate: Fri, 4 Aug 2000 08:34:00 -0700 (PDT)\nFrom: gerald.nemec@enron.com\nTo: eva.neufeld@enron.com\nSubject: NB Confid. Agreement\nCc: shonnie.daniel@enron.com\nMime-Version: 1.0\nContent-Type: text/plain; charset=us-ascii\nContent-Transfer-Encoding: 7bit\nBcc: shonnie.daniel@enron.com\nX-From: Gerald Nemec\nX-To: Eva Neufeld\nX-cc: Shonnie  Daniel\nX-bcc: \nX-Folder: \\Gerald_Nemec_Dec2000_June2001_1\\Notes Folders\\All documents\nX-Origin: NEMEC-G\nX-FileName: gnemec.nsf\n\nAttached is the agreement for printing on NBILP Letterhead.   The date is the \nsame as the original CA.   Let me know if you have any questions.  If we \ncould get this signed and faxed back today or first thing Monday that would \nbe great.  Sorry about the delay.  My fax # is (713) 646-3490.\n\n\n",
         "gerald.nemec@enron.com",
         "NB Confid. Agreement\nCc: shonnie.daniel@enron.com",
         "gnemec.nsf\n\nAttached is the agreement for printing on NBILP Letterhead.   The date is the \nsame as the original CA.   Let me know if you have any questions.  If we \ncould get this signed and faxed back today or first thing Monday that would \nbe great.  Sorry about the delay.  My fax # is (713) 646-3490.\n\n\n",
         "False",
         "0.1367732731213506"
        ],
        [
         "63634",
         "Message-ID: <605486.1075842942383.JavaMail.evans@thyme>\nDate: Thu, 2 Mar 2000 04:28:00 -0800 (PST)\nFrom: ginger.dernehl@enron.com\nTo: us@enron.com\nSubject: Enron comments on Barton bill\nMime-Version: 1.0\nContent-Type: text/plain; charset=us-ascii\nContent-Transfer-Encoding: 7bit\nX-From: Ginger Dernehl\nX-To: US\nX-cc: \nX-bcc: \nX-Folder: \\Jeff_Dasovich_Dec2000\\Notes Folders\\All documents\nX-Origin: DASOVICH-J\nX-FileName: jdasovic.nsf\n\n---------------------- Forwarded by Ginger Dernehl/HOU/EES on 03/02/2000 \n12:27 PM ---------------------------\n\nAllison Navin@ENRON\n03/02/2000 09:32 AM\n\n\nTo: Ginger Dernehl/HOU/EES@EES\ncc: Cynthia Sandherr/Corp/Enron@ENRON \nSubject: Enron comments on Barton bill\n\nGinger - Attached are Enron's finalized comments on the Barton bill.  Would \nyou please forward to all the folks in Rick's group and include Steve Kean?  \nMany thanks.\n\n\n",
         "ginger.dernehl@enron.com",
         "Enron comments on Barton bill",
         "jdasovic.nsf\n\n---------------------- Forwarded by Ginger Dernehl/HOU/EES on 03/02/2000 \n12:27 PM ---------------------------\n\nAllison Navin@ENRON\n03/02/2000 09:32 AM\n\n\nTo: Ginger Dernehl/HOU/EES@EES\ncc: Cynthia Sandherr/Corp/Enron@ENRON \nSubject: Enron comments on Barton bill\n\nGinger - Attached are Enron's finalized comments on the Barton bill.  Would \nyou please forward to all the folks in Rick's group and include Steve Kean?  \nMany thanks.\n\n\n",
         "False",
         "0.09977159940454845"
        ],
        [
         "400765",
         "Message-ID: <30711486.1075860737933.JavaMail.evans@thyme>\nDate: Mon, 7 Jan 2002 08:17:07 -0800 (PST)\nFrom: darrell.schoolcraft@enron.com\nTo: dl-etsgascontrollers@enron.com\nSubject: FW: TW imbalances\nMime-Version: 1.0\nContent-Type: text/plain; charset=us-ascii\nContent-Transfer-Encoding: 7bit\nX-From: Schoolcraft, Darrell </O=ENRON/OU=NA/CN=RECIPIENTS/CN=DSCHOOL>\nX-To: DL-ETS Gas Controllers <DL-ETSGasControllers@ENRON.com>\nX-cc: \nX-bcc: \nX-Folder: \\Darrell_Schoolcraft_Mar2002\\Schoolcraft, Darrell\\Deleted Items\nX-Origin: Schoolcraft-D\nX-FileName: dschool (Non-Privileged).pst\n\n\n\n -----Original Message-----\nFrom: \tHanagriff, Richard  \nSent:\tFriday, January 04, 2002 8:10 PM\nTo:\tDL-ETS Gas Controllers\nSubject:\tTW imbalances\n\n ",
         "darrell.schoolcraft@enron.com",
         "FW: TW imbalances",
         "dschool (Non-Privileged).pst\n\n\n\n -----Original Message-----\nFrom: \tHanagriff, Richard  \nSent:\tFriday, January 04, 2002 8:10 PM\nTo:\tDL-ETS Gas Controllers\nSubject:\tTW imbalances\n\n ",
         "False",
         "0.1389831419054913"
        ],
        [
         "129337",
         "Message-ID: <15573493.1075853757269.JavaMail.evans@thyme>\nDate: Tue, 2 May 2000 02:28:00 -0700 (PDT)\nFrom: joann.collins@enron.com\nTo: chris.germany@enron.com, dick.jenkins@enron.com, joan.veselack@enron.com, \n\trobert.allwein@enron.com\nSubject: STOI Overinjection for May 3rd\nMime-Version: 1.0\nContent-Type: text/plain; charset=us-ascii\nContent-Transfer-Encoding: 7bit\nX-From: Joann Collins\nX-To: Chris Germany, Dick Jenkins, Joan Veselack, Robert Allwein\nX-cc: \nX-bcc: \nX-Folder: \\Chris_Germany_Dec2000\\Notes Folders\\Discussion threads\nX-Origin: Germany-C\nX-FileName: cgerman.nsf\n\nRodney w/TCO gas control approved 52,000 overinjection for 5/3.\n\n\n\nthanks\njoann\n\n---------------------- Forwarded by Joann Collins/Corp/Enron on 05/02/2000 \n09:22 AM ---------------------------\n\n\nJoan Veselack\n05/01/2000 09:34 AM\nTo: Joann Collins/Corp/Enron@ENRON, Robert Allwein/HOU/ECT@ECT, Chris \nGermany/HOU/ECT@ECT\ncc:  \n\nSubject: STOI Overinjection for May 2nd\n\nSteve at TCO's Gas Control approved the 32,000 overinjection.\n\n\nTotal STOI Delivery for May 2nd is 80,000.\n\nThanks.\n\n\n",
         "joann.collins@enron.com",
         "STOI Overinjection for May 3rd",
         "cgerman.nsf\n\nRodney w/TCO gas control approved 52,000 overinjection for 5/3.\n\n\n\nthanks\njoann\n\n---------------------- Forwarded by Joann Collins/Corp/Enron on 05/02/2000 \n09:22 AM ---------------------------\n\n\nJoan Veselack\n05/01/2000 09:34 AM\nTo: Joann Collins/Corp/Enron@ENRON, Robert Allwein/HOU/ECT@ECT, Chris \nGermany/HOU/ECT@ECT\ncc:  \n\nSubject: STOI Overinjection for May 2nd\n\nSteve at TCO's Gas Control approved the 32,000 overinjection.\n\n\nTotal STOI Delivery for May 2nd is 80,000.\n\nThanks.\n\n\n",
         "False",
         "0.09815448412863607"
        ],
        [
         "261281",
         "Message-ID: <23122750.1075840962973.JavaMail.evans@thyme>\nDate: Wed, 9 Jan 2002 07:57:54 -0800 (PST)\nFrom: louise.kitchen@enron.com\nTo: r..shepperd@enron.com\nSubject: RE: EWS Consolidation\nMime-Version: 1.0\nContent-Type: text/plain; charset=us-ascii\nContent-Transfer-Encoding: 7bit\nX-From: Kitchen, Louise </O=ENRON/OU=NA/CN=RECIPIENTS/CN=LKITCHEN>\nX-To: Shepperd, Tammy R. </O=ENRON/OU=NA/CN=RECIPIENTS/CN=Tsheppe>\nX-cc: \nX-bcc: \nX-Folder: \\ExMerge - Kitchen, Louise\\Sent Items\nX-Origin: KITCHEN-L\nX-FileName: louise kitchen 2-7-02.pst\n\nIts an IT security issue - ask Jenny or Bob what they think the plans are - it would be better if we were near peole.\n\n -----Original Message-----\nFrom: \tShepperd, Tammy R.  \nSent:\tWednesday, January 09, 2002 9:20 AM\nTo:\tKitchen, Louise\nSubject:\tFW: EWS Consolidation\n\nFYI\n\nKevin states that there is no near term conflict with estate and NETCO and is considering consolidating EWS estate on 3 & 4.  Please advise if you see issues related to  their plan.\n\nThanks.\n\n \n\n\n -----Original Message-----\nFrom: \tGolden, Kevin  \nSent:\tTuesday, January 08, 2002 2:49 PM\nTo:\tBubenko, Deborah; Duree, Janelle\nCc:\tLink, Kathy; Sustaita, Dolores; Marshall, Lucy; Pearce, Barry\nSubject:\tEWS Consolidation\n\nDeborah and Janelle,\n\nMr. Fallon has asked for an estimated per person cost for moves:\n\n1) within a building\n2) between the Enron Centers\n\nHe also assured me that questions regarding conflicts between the estate and NETCO operating out of the same building had been addressed, thus there should be no problem with EWS consolidating on ECS 3&4 in the near term.\n\nI also spoke with Rich DiMichele regarding the EBS move.  As we discussed, he obviously does not want to move EBS twice within ECN.  He is interested in bringing EBS over to ECS if wholesale will be here for any length of time.  Again, cost is obviously a concern, so the per person cost estimates you provide should facilitate this decision.  We can discuss this further at tomorrow's meeting.\n\nPlease provide me with copies of the marked up maps for ECS 3&4 as soon as possible so I can begin considering our options.  \n\nThanks,\n\nKevin\n\n   \n\nKevin M. Golden\nBusiness:  (713) 853-5238\nCellular:     (713) 569-9815",
         "louise.kitchen@enron.com",
         "RE: EWS Consolidation",
         "louise kitchen 2-7-02.pst\n\nIts an IT security issue - ask Jenny or Bob what they think the plans are - it would be better if we were near peole.\n\n -----Original Message-----\nFrom: \tShepperd, Tammy R.  \nSent:\tWednesday, January 09, 2002 9:20 AM\nTo:\tKitchen, Louise\nSubject:\tFW: EWS Consolidation\n\nFYI\n\nKevin states that there is no near term conflict with estate and NETCO and is considering consolidating EWS estate on 3 & 4.  Please advise if you see issues related to  their plan.\n\nThanks.\n\n \n\n\n -----Original Message-----\nFrom: \tGolden, Kevin  \nSent:\tTuesday, January 08, 2002 2:49 PM\nTo:\tBubenko, Deborah; Duree, Janelle\nCc:\tLink, Kathy; Sustaita, Dolores; Marshall, Lucy; Pearce, Barry\nSubject:\tEWS Consolidation\n\nDeborah and Janelle,\n\nMr. Fallon has asked for an estimated per person cost for moves:\n\n1) within a building\n2) between the Enron Centers\n\nHe also assured me that questions regarding conflicts between the estate and NETCO operating out of the same building had been addressed, thus there should be no problem with EWS consolidating on ECS 3&4 in the near term.\n\nI also spoke with Rich DiMichele regarding the EBS move.  As we discussed, he obviously does not want to move EBS twice within ECN.  He is interested in bringing EBS over to ECS if wholesale will be here for any length of time.  Again, cost is obviously a concern, so the per person cost estimates you provide should facilitate this decision.  We can discuss this further at tomorrow's meeting.\n\nPlease provide me with copies of the marked up maps for ECS 3&4 as soon as possible so I can begin considering our options.  \n\nThanks,\n\nKevin\n\n   \n\nKevin M. Golden\nBusiness:  (713) 853-5238\nCellular:     (713) 569-9815",
         "False",
         "0.11426368817941128"
        ],
        [
         "218442",
         "Message-ID: <7995492.1075856340171.JavaMail.evans@thyme>\nDate: Tue, 8 Aug 2000 02:39:00 -0700 (PDT)\nFrom: vince.kaminski@enron.com\nTo: shirley.crenshaw@enron.com\nSubject: Re: Thank you\nMime-Version: 1.0\nContent-Type: text/plain; charset=us-ascii\nContent-Transfer-Encoding: 7bit\nX-From: Vince J Kaminski\nX-To: Shirley Crenshaw\nX-cc: \nX-bcc: \nX-Folder: \\Vincent_Kaminski_Jun2001_2\\Notes Folders\\Discussion threads\nX-Origin: Kaminski-V\nX-FileName: vkamins.nsf\n\nShirley,\n\nPlease, fax the resume to  Raymond.\n\nVince\n\n---------------------- Forwarded by Vince J Kaminski/HOU/ECT on 08/08/2000 \n09:44 AM ---------------------------\n\n\nRaymond Yeow@ENRON_DEVELOPMENT\n08/07/2000 06:15 PM\nTo: Vince J Kaminski/HOU/ECT@ECT\ncc: Paul Quilkey/ENRON_DEVELOPMENT, Vince J Kaminski/HOU/ECT@ECT, Grant \nMasson/HOU/ECT@ECT \nSubject: Re: Thank you  \n\nDear Vince,\n\nIt was our privilege to have you here.\nPaul's wife had a baby yesterday, and Paul  will be back on Thursday. So \nmaybe item 3 can wait until Paul's return.\n\nAs for (2), yes - i will need a PS reader :o)\nAgain, let us check Paul's diary on his return before fixing a time for \nQuentin Kerr\n\n1 1. The resume you sent to me and Grant looks quite good.\nI think it makes sense to interview this person and we can help\nyou with a phone interview.\n\nIs this Simon ???\n\nThanks \nRaymond\n\n\n\n\n\nVince J Kaminski@ECT\n08/08/2000 06:30 AM\nTo: Paul Quilkey/ENRON_DEVELOPMENT@ENRON_DEVELOPMENT, Raymond \nYeow/ENRON_DEVELOPMENT@ENRON_DEVELOPMENT\ncc: Vince J Kaminski/HOU/ECT@ECT, Grant Masson/HOU/ECT@ECT \n\nSubject: Thank you\n\nPaul & Raymond,\n\nIt took more than a few days to catch up after I came back from Australia. \nThere  are few things I would like to bring up to your attention.\n\nFirst of all, I would like to thank you for your hospitality. I learned a lot\nabout the Australian markets and was greatly impressed with the\nquality of the people at the Sydney office.\n\n1. The resume you sent to me and Grant looks quite good.\nI think it makes sense to interview this person and we can help\nyou with a phone interview.\n\n2. I have received another resume that looks very promising. I am\nvery interested in this guy and would be ready to bring him over\nto the States  where we lack desperately technical talent.\nCan you help us by interviewing him in Sydney? \nThe main determination I need from you is whether he can\nfunction in a company like Enron. As any good academic\nhe sent his resume in a ps format and I shall fax you a copy in case\nyou don't have a PostScript reader on your system.\n\n3. Christian Werner does some really neat things on\nthe weather front. I would like to determine if he can help\nus to upgrade our systems. Can we bring him to Houston\nfor a week to discuss the weather forecasting  technology with  Mike \nRoberts and Joe Hrgovcic? I think that he could learn a lot\nfrom Mike and other weather guys here how we translate \nweather info into business-related information. I shall be glad to\nunderwrite the cost of this trip.\n\nVince\n\n\n\n\n",
         "vince.kaminski@enron.com",
         "Re: Thank you",
         "vkamins.nsf\n\nShirley,\n\nPlease, fax the resume to  Raymond.\n\nVince\n\n---------------------- Forwarded by Vince J Kaminski/HOU/ECT on 08/08/2000 \n09:44 AM ---------------------------\n\n\nRaymond Yeow@ENRON_DEVELOPMENT\n08/07/2000 06:15 PM\nTo: Vince J Kaminski/HOU/ECT@ECT\ncc: Paul Quilkey/ENRON_DEVELOPMENT, Vince J Kaminski/HOU/ECT@ECT, Grant \nMasson/HOU/ECT@ECT \nSubject: Re: Thank you  \n\nDear Vince,\n\nIt was our privilege to have you here.\nPaul's wife had a baby yesterday, and Paul  will be back on Thursday. So \nmaybe item 3 can wait until Paul's return.\n\nAs for (2), yes - i will need a PS reader :o)\nAgain, let us check Paul's diary on his return before fixing a time for \nQuentin Kerr\n\n1 1. The resume you sent to me and Grant looks quite good.\nI think it makes sense to interview this person and we can help\nyou with a phone interview.\n\nIs this Simon ???\n\nThanks \nRaymond\n\n\n\n\n\nVince J Kaminski@ECT\n08/08/2000 06:30 AM\nTo: Paul Quilkey/ENRON_DEVELOPMENT@ENRON_DEVELOPMENT, Raymond \nYeow/ENRON_DEVELOPMENT@ENRON_DEVELOPMENT\ncc: Vince J Kaminski/HOU/ECT@ECT, Grant Masson/HOU/ECT@ECT \n\nSubject: Thank you\n\nPaul & Raymond,\n\nIt took more than a few days to catch up after I came back from Australia. \nThere  are few things I would like to bring up to your attention.\n\nFirst of all, I would like to thank you for your hospitality. I learned a lot\nabout the Australian markets and was greatly impressed with the\nquality of the people at the Sydney office.\n\n1. The resume you sent to me and Grant looks quite good.\nI think it makes sense to interview this person and we can help\nyou with a phone interview.\n\n2. I have received another resume that looks very promising. I am\nvery interested in this guy and would be ready to bring him over\nto the States  where we lack desperately technical talent.\nCan you help us by interviewing him in Sydney? \nThe main determination I need from you is whether he can\nfunction in a company like Enron. As any good academic\nhe sent his resume in a ps format and I shall fax you a copy in case\nyou don't have a PostScript reader on your system.\n\n3. Christian Werner does some really neat things on\nthe weather front. I would like to determine if he can help\nus to upgrade our systems. Can we bring him to Houston\nfor a week to discuss the weather forecasting  technology with  Mike \nRoberts and Joe Hrgovcic? I think that he could learn a lot\nfrom Mike and other weather guys here how we translate \nweather info into business-related information. I shall be glad to\nunderwrite the cost of this trip.\n\nVince\n\n\n\n\n",
         "False",
         "0.11010277665134796"
        ],
        [
         "246575",
         "Message-ID: <14332544.1075848157809.JavaMail.evans@thyme>\nDate: Tue, 3 Apr 2001 01:54:00 -0700 (PDT)\nFrom: janel.guerrero@enron.com\nTo: richard.shapiro@enron.com, james.steffes@enron.com, mark.palmer@enron.com, \n\tkaren.denne@enron.com, paul.kaufman@enron.com, susan.mara@enron.com, \n\tjeff.dasovich@enron.com, sandra.mccubbin@enron.com, bhansen@lhom.com, \n\thgovenar@govadv.com, sgovenar@govadv.com, \n\tksmith@kdscommunications.com, leslie.lawner@enron.com, \n\tsusan.landwehr@enron.com, harry.kingerski@enron.com, \n\tjennifer.thome@enron.com, rlichtenstein@marathon-com.com, \n\tjkradin@marathon-com.com, syamane@marathon-com.com, \n\trobert.neustaedter@enron.com, peggy.mahoney@enron.com, \n\teric.thode@enron.com, marty.sunde@enron.com, carol.moffett@enron.com\nSubject: Respondents to Ken Lay Direct Mail Pkg.\nCc: steven.kean@enron.com\nMime-Version: 1.0\nContent-Type: text/plain; charset=us-ascii\nContent-Transfer-Encoding: 7bit\nBcc: steven.kean@enron.com\nX-From: Janel Guerrero\nX-To: Richard Shapiro, James D Steffes, Mark Palmer, Karen Denne, Paul Kaufman, Susan J Mara, Jeff Dasovich, Sandra McCubbin, bhansen@lhom.com, hgovenar@govadv.com, sgovenar@govadv.com, Ksmith@kdscommunications.com, Leslie Lawner, Susan M Landwehr, Harry Kingerski, Jennifer Thome, rlichtenstein@marathon-com.com, jkradin@marathon-com.com, syamane@marathon-com.com, Robert Neustaedter, Peggy Mahoney, Eric Thode, Marty Sunde, Carol Moffett\nX-cc: Steven J Kean\nX-bcc: \nX-Folder: \\Steven_Kean_June2001_4\\Notes Folders\\Discussion threads\nX-Origin: KEAN-S\nX-FileName: skean.nsf\n\nThe following are CAL businesses who responded to Ken Lay's first direct mail \npackage.  These businesses responded by email and/or telephone.  All of the \nCEOs identified a point person within their respective organization whom we \nshould contact directly in order to coordinate. \nParamount Studios\nGap, Inc\nNorthrup Gruman\nAMD (SVMA)\nUS Borax\nCisco (SVMA)\nCommerce One\nRaley's\n\nThe following were not interested in working with us at this time\nCatholic Healthcare West\nIntuit\n\nNumber of hits to Enron's CAL business website dedicated to the energy crisis\nAs of April 2nd, our California page had been loaded 16 times from \nindividuals outside of Enron.  This site was created specifically for the CAL \nbusiness direct mail effort.  The 115 businesses who were sent the package \nwere the only entities that we promoted this site with. **if you are an enron \nemployee, it's okay to hit the site from within the Enron building.  We can \ndifferentiate between hits from inside and outside of Enron.  If you work for \nEnron outside of the EB in Houston.....please do not go to the site.  Our \nability to track hits will then be skewed.  Thanks.** ",
         "janel.guerrero@enron.com",
         "Respondents to Ken Lay Direct Mail Pkg.\nCc: steven.kean@enron.com",
         "skean.nsf\n\nThe following are CAL businesses who responded to Ken Lay's first direct mail \npackage.  These businesses responded by email and/or telephone.  All of the \nCEOs identified a point person within their respective organization whom we \nshould contact directly in order to coordinate. \nParamount Studios\nGap, Inc\nNorthrup Gruman\nAMD (SVMA)\nUS Borax\nCisco (SVMA)\nCommerce One\nRaley's\n\nThe following were not interested in working with us at this time\nCatholic Healthcare West\nIntuit\n\nNumber of hits to Enron's CAL business website dedicated to the energy crisis\nAs of April 2nd, our California page had been loaded 16 times from \nindividuals outside of Enron.  This site was created specifically for the CAL \nbusiness direct mail effort.  The 115 businesses who were sent the package \nwere the only entities that we promoted this site with. **if you are an enron \nemployee, it's okay to hit the site from within the Enron building.  We can \ndifferentiate between hits from inside and outside of Enron.  If you work for \nEnron outside of the EB in Houston.....please do not go to the site.  Our \nability to track hits will then be skewed.  Thanks.** ",
         "False",
         "0.11963829532752851"
        ],
        [
         "65910",
         "Message-ID: <16413696.1075843342532.JavaMail.evans@thyme>\nDate: Tue, 30 Jan 2001 06:10:00 -0800 (PST)\nFrom: gkansagor@tr.com\nTo: cwall@tr.com\nSubject: TR's State NewsWire 01/30/01 P.M. Edition\nMime-Version: 1.0\nContent-Type: text/plain; charset=us-ascii\nContent-Transfer-Encoding: 7bit\nX-From: Gayle Kansagor <gkansagor@tr.com>\nX-To: Christy Wall <cwall@tr.com>\nX-cc: \nX-bcc: \nX-Folder: \\Jeff_Dasovich_June2001\\Notes Folders\\All documents\nX-Origin: DASOVICH-J\nX-FileName: jdasovic.nsf\n\nTelecommunications Reports presents . . . . . TR's State NewsWire\nJanuary 30, 2001 P.M. Edition\n\nSTATES\nCALIFORNIA -- Lawmaker reintroduces rural infrastructure grant bill\nTEXAS -- Consumers Union offers recommendations for the Legislature\nILLINOIS -- Electric company implements program to serve Internet hotels\n\nMISSISSIPPI -- UETA bill clears first hurdle\nVIRGINIA -- Committee approves E-911 finance bill\nN.Y. -- Police may have to report wireless phone involvement in accident\nreports\nIOWA -- Bill would require TTY telephone directory notation\nSOUTH DAKOTA -- Legislators take aim at drivers using cellphones\nMISSOURI -- Bill would require PSC to resolve disputes more quickly\nFLORIDA -- PSC says Turbo Code will improve service for TTY users\nNORTH CAROLINA -- Bill seeks to limit telemarketing hours\nD.C. -- PSC wants comment on proposed Verizon rate reductions\nNEVADA -- PUC schedules conference on Verizon DSL conditioning rates\nDISTRICT OF COLUMBIA -- AT&T opens data center in D.C.\n\nADVANCED SERVICES\nCALIFORNIA\nLawmaker reintroduces rural infrastructure grant bill\n\nAssemblywoman Virginia Strom-Martin (D., District 1) has introduced AB\n140 to establish a grant program to aid in constructing telecom\ninfrastructure.  Gov. Gray Davis (D.) vetoed an identical bill (AB 1825)\nsponsored by Strom-Martin last year, stating that the legislation had\nthe \"potential to hurt all high-cost areas of the state.\"  Davis added\nthat he was concerned the plan could raise telephone service rates for\nother rural ratepayers.  (10/3/00 a.m.)\n\nStrom-Martin's staff told TR they are working with the Public Utilities\nCommission to make the bill more \"palatable\" to the governor.  Under AB\n140, the funding for the infrastructure grant program would come from\nthe California High-Cost Fund-A Administrative Committee Fund, the\nHigh-Cost Fund-B Administrative Committee Fund, or both.\n\nAccording to the staff, Davis' understanding of AB 1825 was incorrect\nand explained that all the needs satisfied by both high-cost funds would\nbe met before the infrastructure grant program would receive funds.  The\nstaff added that the grant fund wouldn't deplete either high-cost fund.\n\nThe staff said they were considering turning the grant program into a\nmore confined pilot fund.\n\nFUTURE OF REGULATION\nTEXAS\nConsumers Union offers recommendations for the Legislature\n\nConsumers Union, Southwest Region Office, has drafted several issue\nrecommendations for the Texas Legislature regarding telecom deregulation\nand electronic transactions.  In its report to the Legislature,\nConsumers Union concluded that five years after the federal\nTelecommunications Act of 1996 and six years after passage of Texas' law\npromoting telecom competition, few companies have emerged as true\ncompetitors to the incumbents.\n\nConsumers Union said the Public Utility Commission's report on\ncompetition came to similar conclusions.  The group, however, disagreed\nwith the PUC's recommendations.  According to Consumers Union, several\nof the PUC's recommendations favored competitors over consumers.\n(1/12/01 p.m.)\n\nFor example, Consumers Union disagreed with the PUC's suggestion to lift\nthe current price cap and raise local phone rates.  Consumers Union\nquestioned whether it was good public policy to increase residential\nprices to help new market entrants earn more money.\n\nAdditionally, Consumers Union asked the Legislature not to lower long\ndistance access charges and permit telephone companies to make up for it\nby raising residential service prices.\n\nIn addressing electronic commerce issues, Consumers Union recommended\nthat the Legislature ensure the federal electronic signature protections\nare incorporated into the state Uniform Electronic Transactions Act.\nConsumes Union also requested that the Legislature not allow the\n\"flawed\" Uniform Computer Information Transactions Act to govern\ntransactions in Texas.\n\nINTERNET\nILLINOIS\nElectric company implements program to serve Internet hotels\n\nCommonwealth Edison Co. has filed a tariff with the state Commerce\nCommission that requires companies setting up Internet hotels to pay a\nrefundable installation charge.  ComEd will determine the amount of the\ncharge for each company through a formula.  The tariff isn't subject to\ncommission approval and goes into effect immediately.\n\nThe tariff implements an experimental program ComEd says will allow it\nto obtain data concerning the accuracy of customers' estimates of\nelectrical demand for Internet hotels, compared with actual service\nrequirements.  This and other data will help it provide service for\nother such uses in the future, ComEd said.\n\nAn ICC spokesman described the program as a \"prenuptial agreement\"\nbetween ComEd and Internet companies.  It will help ComEd determine\nwhether and how it can serving Internet hotels, which demand a\nsignificant amount of electricity, the spokesman told TR.\n\nFUTURE OF REGULATION\nMISSISSIPPI\nUETA bill clears first hurdle\n\nThe Senate Committee on Fees, Salaries, and Administration has passed a\nbill to enact the Uniform Electronic Transactions Act (UETA).  SB 2678,\nintroduced by Sen. Neely C. Carlton (D., District 22), has been referred\nto the Senate Committee on Appropriations.\n\nThe bill aims to facilitate e-commerce by giving electronic records and\nsignatures the same legal effect as their pen and paper counterparts.\n(1/19/01 p.m.)  In addition to enacting UETA, SB 2678 would repeal the\nsections of Mississippi Code that make up the Digital Signature Act of\n1997.\n\nWIRELESS\nVIRGINIA\nCommittee approves E-911 finance bill\n\nThe Senate Committee on Commerce and Labor has approved SB 1349 to\nexempt commercial mobile radio service (CMRS) customers from a $3\nspecial tax that localities with enhanced \"911\" service are authorized\nto assess on general telephone consumers.\n\nCMRS customers instead would have to pay a 75 cent monthly wireless\nE-911 surcharge into the state's Wireless E-911 Fund.  Localities would\nbe able to recover their public safety answering point costs from the\nfund.\n\nThe bill, sponsored by Senator Warren E. Barry (R., District 37), has\nbeen referred to the Finance Committee.  Its text is available at\nhttp://leg1.state.va.us/cgi-bin/legp504.exe?011+ful+SB1349.\n\nWIRELESS\nNEW YORK\nPolice may have to report wireless phone involvement in accident reports\n\nAssemblyman David S. Sidikman (D., District 13) has introduced AB 1838\nto require police to state in accident reports whether wireless phones\nwere present in the vehicles involved and whether they contributed to\nthe accident.  The bill has been referred to the Committee on\nTransportation.  Its text is available at\nhttp://assembly.state.ny.us/cgi-bin/showtext?billnum=A01838.\n\nCUSTOMER-AFFECTING\nIOWA\nBill would require TTY telephone directory notation\n\nRep. Michael Cormack (R., District 13) has introduced HF 120 to require\ntelephone directories to offer notations for text telephone (TTY)\nnumbers.  Directory providers would be able to satisfy this requirement\nby providing notation next to a listing to inform users that a number\nwas a TTY number.  Alternatively, directory providers could create a\nseparate section within the directory that listed all TTY numbers.  The\nseparate TTY reference section would be listed in the directory index.\n\nHF 120 has been referred to the House Committee on Commerce and\nRegulation.  Its text is available at\nhttp://www.legis.state.ia.us/GA/79GA/Legislation/HF/00100/HF00120/Current.html\n.\n\nWIRELESS\nSOUTH DAKOTA\nLegislators take aim at drivers using cellphones\n\nSen. Patricia de Hueck (R., District 24) and Rep. Gerald F. Lange (D.,\nDistrict 8) have introduced SB 207 to prohibit the use of hand-held\ncellphones, computers, facsimiles, and other portable or laptop devices\nwhile driving.  Drivers using hands-free devices would have to exercise\n\"a high degree of caution\" while driving.\n\nSB 207 provides exemptions for (1) persons operating an emergency\nvehicle, (2) persons who have moved their vehicle to the shoulder, (3)\npersons involved in emergency situations, and (4) persons who notice\nanother driver who appears to be under the influence of drugs or\nalcohol.\n\nThe measure has been referred to the Senate Transportation Committee.\n\nFUTURE OF REGULATION\nMISSOURI\nBill would require PSC to resolve disputes more quickly\n\nRep. Gary Burton (R., District 128) has introduced HB 521 to require the\nPublic Service Commission to create expedited dispute resolution\nprocedures.  The bill's primary focus is to allow requests from\ncompetitive local exchange carriers (CLECs) to be approved more quickly,\nBurton told TR.  The PSC currently takes up to 11 months to process\nCLECs' complaints against incumbents over issues such as collocation\nrates, Burton said.\n\nThe bill faces no opposition at this time, Burton said, noting that he\nplans to try to pass HB 521 as a consent bill.  Burton expects a hearing\non the measure will be held as early as Feb. 8.  Its text is available\nat http://www.house.state.mo.us/bills01/biltxt01/intro01/HB0521I.htm.\n\nCUSTOMER-AFFECTING\nFLORIDA\nPSC says Turbo Code will improve service for TTY users\n\nThe Florida Relay Service has introduced a new operating system for the\nstate's telecommunications relay system that will vastly improve service\nfor text telephone (TTY) customers, the Public Service Commission said.\nThe Florida Relay Service offers telecom service to consumers with\nimpaired speech and hearing, and the Public Service Commission monitors\nthe service's quality.\n\nSprint Corp., which received the contract to maintain Florida's relay\nsystem in June 2000, recently licensed the Turbo Code operating system.\nTurbo Code is expected to make relay calls almost twice as fast as on\nthe old platform, bringing TTY users closer to \"real-time\"\ncommunication.  In addition, the upgrade will enable TTY customers to\nread text more easily by allowing them to control how fast text appears.\n\nCUSTOMER-AFFECTING\nNORTH CAROLINA\nBill seeks to limit telemarketing hours\n\nSen. Charles W. Albertson (D., District 5) has introduced SB 4 to\nrestrict further the hours in which telemarketers are allowed to call\nconsumers.  Telemarketers wouldn't be able to call consumers after 6\np.m., whereas current law permits such calls until 9 p.m.\n\nSB 4 has been referred to the Senate Committee on Insurance and Consumer\nProtection.  It text is available at\nhttp://www.ncga.state.nc.us/html2001/bills/AllVersions/Senate/S4v1.html.\n\nALTERNATIVE REGULATION\nDISTRICT OF COLUMBIA\nPSC wants comment on proposed Verizon rate reductions\n\nThe Public Service Commission has given parties until Feb. 19 to comment\non rate reductions filed by Verizon Washington D.C., Inc., pursuant to\nits price cap plan.\n\nVerizon filed tariff changes that would reduce basic service rates by $2\nmillion annually.  The changes would increase the monthly fee for the\ncompany's Economy Rate I Message service from $5.19 to $6.00, while\nreducing several other monthly rates and one-time charges.\n\nReplies are due March 6.  (Formal case no. 814, Phase IV, Investigation\ninto the Impact of the AT&T Divestiture and Decisions of the Federal\nCommunications Commission on Verizon Washington, DC Inc.'s\nJurisdictional Rates)\n\nADVANCED SERVICES\nNEVADA\nPUC schedules conference on Verizon DSL conditioning rates\n\nThe Public Utilities Commission of Nevada has scheduled a Feb. 20\nprehearing conference to discuss Verizon California Inc., d/b/a Verizon\nNevada's, cost study and proposed rates for conditioning digital\nsubscriber line loops.  Verizon submitted the cost study in compliance\nwith the FCC's order approving the merger of GTE Corp. and Bell Atlantic\nCorp., which formed Verizon.  (Docket no. 00-12008)\n\nADVANCED SERVICES\nDISTRICT OF COLUMBIA\nAT&T opens data center in D.C.\n\nAT&T today announced it has opened an Internet data center in the\nWashington, D.C., metropolitan area.\"  The 105,000 square-foot facility,\nwhich is located in Ashburn, Va., provides end-to-end web hosting\nservices for enterprise customers, content providers, startups and\ndot.coms, the company said.\n\nAT&T operates 15 data centers around the nation, with more than 1.2\nmillion square feet of conditioned Web hosting space. AT&T said it hopes\nto construct an additional six centers later this year.\n\nFederal law prohibits duplication in any form, including electronic,\nwithout permission of the publisher.\n\nTR's State NewsWire Copyright 1998, 1999, 2000 Telecommunications\nReports International, Inc. (ISSN 1082-9350) is transmitted each\nbusiness day at 8 a.m. and 2 p.m., except holidays.\nTelecommunications Reports International, Inc.\n1333 H St. NW, Suite 100-E\nWashington, DC 20005-4707\n\nAssociate Editor for Online Publications: Jennifer Erschen, E-mail:\njerschen@tr.com\nSenior Legislative & Regulatory Analyst: Gayle Kansagor, E-mail:\ngkansagor@tr.com\nSenior Research Analyst: Steve Arlowe, E-mail: sarlowe@tr.com\nSenior Analyst: Barney McManigal, E-mail: bmcmanigal@tr.com\nSenior Research Analyst: Brandi Kerns, E-mail: bkerns@tr.com\nAccount Services: Eileen Callahan (202) 312-6116, (202) 842-3023 (fax)\nE-mail: ecallahan@tr.com\n\n",
         "gkansagor@tr.com",
         "TR's State NewsWire 01/30/01 P.M. Edition",
         "jdasovic.nsf\n\nTelecommunications Reports presents . . . . . TR's State NewsWire\nJanuary 30, 2001 P.M. Edition\n\nSTATES\nCALIFORNIA -- Lawmaker reintroduces rural infrastructure grant bill\nTEXAS -- Consumers Union offers recommendations for the Legislature\nILLINOIS -- Electric company implements program to serve Internet hotels\n\nMISSISSIPPI -- UETA bill clears first hurdle\nVIRGINIA -- Committee approves E-911 finance bill\nN.Y. -- Police may have to report wireless phone involvement in accident\nreports\nIOWA -- Bill would require TTY telephone directory notation\nSOUTH DAKOTA -- Legislators take aim at drivers using cellphones\nMISSOURI -- Bill would require PSC to resolve disputes more quickly\nFLORIDA -- PSC says Turbo Code will improve service for TTY users\nNORTH CAROLINA -- Bill seeks to limit telemarketing hours\nD.C. -- PSC wants comment on proposed Verizon rate reductions\nNEVADA -- PUC schedules conference on Verizon DSL conditioning rates\nDISTRICT OF COLUMBIA -- AT&T opens data center in D.C.\n\nADVANCED SERVICES\nCALIFORNIA\nLawmaker reintroduces rural infrastructure grant bill\n\nAssemblywoman Virginia Strom-Martin (D., District 1) has introduced AB\n140 to establish a grant program to aid in constructing telecom\ninfrastructure.  Gov. Gray Davis (D.) vetoed an identical bill (AB 1825)\nsponsored by Strom-Martin last year, stating that the legislation had\nthe \"potential to hurt all high-cost areas of the state.\"  Davis added\nthat he was concerned the plan could raise telephone service rates for\nother rural ratepayers.  (10/3/00 a.m.)\n\nStrom-Martin's staff told TR they are working with the Public Utilities\nCommission to make the bill more \"palatable\" to the governor.  Under AB\n140, the funding for the infrastructure grant program would come from\nthe California High-Cost Fund-A Administrative Committee Fund, the\nHigh-Cost Fund-B Administrative Committee Fund, or both.\n\nAccording to the staff, Davis' understanding of AB 1825 was incorrect\nand explained that all the needs satisfied by both high-cost funds would\nbe met before the infrastructure grant program would receive funds.  The\nstaff added that the grant fund wouldn't deplete either high-cost fund.\n\nThe staff said they were considering turning the grant program into a\nmore confined pilot fund.\n\nFUTURE OF REGULATION\nTEXAS\nConsumers Union offers recommendations for the Legislature\n\nConsumers Union, Southwest Region Office, has drafted several issue\nrecommendations for the Texas Legislature regarding telecom deregulation\nand electronic transactions.  In its report to the Legislature,\nConsumers Union concluded that five years after the federal\nTelecommunications Act of 1996 and six years after passage of Texas' law\npromoting telecom competition, few companies have emerged as true\ncompetitors to the incumbents.\n\nConsumers Union said the Public Utility Commission's report on\ncompetition came to similar conclusions.  The group, however, disagreed\nwith the PUC's recommendations.  According to Consumers Union, several\nof the PUC's recommendations favored competitors over consumers.\n(1/12/01 p.m.)\n\nFor example, Consumers Union disagreed with the PUC's suggestion to lift\nthe current price cap and raise local phone rates.  Consumers Union\nquestioned whether it was good public policy to increase residential\nprices to help new market entrants earn more money.\n\nAdditionally, Consumers Union asked the Legislature not to lower long\ndistance access charges and permit telephone companies to make up for it\nby raising residential service prices.\n\nIn addressing electronic commerce issues, Consumers Union recommended\nthat the Legislature ensure the federal electronic signature protections\nare incorporated into the state Uniform Electronic Transactions Act.\nConsumes Union also requested that the Legislature not allow the\n\"flawed\" Uniform Computer Information Transactions Act to govern\ntransactions in Texas.\n\nINTERNET\nILLINOIS\nElectric company implements program to serve Internet hotels\n\nCommonwealth Edison Co. has filed a tariff with the state Commerce\nCommission that requires companies setting up Internet hotels to pay a\nrefundable installation charge.  ComEd will determine the amount of the\ncharge for each company through a formula.  The tariff isn't subject to\ncommission approval and goes into effect immediately.\n\nThe tariff implements an experimental program ComEd says will allow it\nto obtain data concerning the accuracy of customers' estimates of\nelectrical demand for Internet hotels, compared with actual service\nrequirements.  This and other data will help it provide service for\nother such uses in the future, ComEd said.\n\nAn ICC spokesman described the program as a \"prenuptial agreement\"\nbetween ComEd and Internet companies.  It will help ComEd determine\nwhether and how it can serving Internet hotels, which demand a\nsignificant amount of electricity, the spokesman told TR.\n\nFUTURE OF REGULATION\nMISSISSIPPI\nUETA bill clears first hurdle\n\nThe Senate Committee on Fees, Salaries, and Administration has passed a\nbill to enact the Uniform Electronic Transactions Act (UETA).  SB 2678,\nintroduced by Sen. Neely C. Carlton (D., District 22), has been referred\nto the Senate Committee on Appropriations.\n\nThe bill aims to facilitate e-commerce by giving electronic records and\nsignatures the same legal effect as their pen and paper counterparts.\n(1/19/01 p.m.)  In addition to enacting UETA, SB 2678 would repeal the\nsections of Mississippi Code that make up the Digital Signature Act of\n1997.\n\nWIRELESS\nVIRGINIA\nCommittee approves E-911 finance bill\n\nThe Senate Committee on Commerce and Labor has approved SB 1349 to\nexempt commercial mobile radio service (CMRS) customers from a $3\nspecial tax that localities with enhanced \"911\" service are authorized\nto assess on general telephone consumers.\n\nCMRS customers instead would have to pay a 75 cent monthly wireless\nE-911 surcharge into the state's Wireless E-911 Fund.  Localities would\nbe able to recover their public safety answering point costs from the\nfund.\n\nThe bill, sponsored by Senator Warren E. Barry (R., District 37), has\nbeen referred to the Finance Committee.  Its text is available at\nhttp://leg1.state.va.us/cgi-bin/legp504.exe?011+ful+SB1349.\n\nWIRELESS\nNEW YORK\nPolice may have to report wireless phone involvement in accident reports\n\nAssemblyman David S. Sidikman (D., District 13) has introduced AB 1838\nto require police to state in accident reports whether wireless phones\nwere present in the vehicles involved and whether they contributed to\nthe accident.  The bill has been referred to the Committee on\nTransportation.  Its text is available at\nhttp://assembly.state.ny.us/cgi-bin/showtext?billnum=A01838.\n\nCUSTOMER-AFFECTING\nIOWA\nBill would require TTY telephone directory notation\n\nRep. Michael Cormack (R., District 13) has introduced HF 120 to require\ntelephone directories to offer notations for text telephone (TTY)\nnumbers.  Directory providers would be able to satisfy this requirement\nby providing notation next to a listing to inform users that a number\nwas a TTY number.  Alternatively, directory providers could create a\nseparate section within the directory that listed all TTY numbers.  The\nseparate TTY reference section would be listed in the directory index.\n\nHF 120 has been referred to the House Committee on Commerce and\nRegulation.  Its text is available at\nhttp://www.legis.state.ia.us/GA/79GA/Legislation/HF/00100/HF00120/Current.html\n.\n\nWIRELESS\nSOUTH DAKOTA\nLegislators take aim at drivers using cellphones\n\nSen. Patricia de Hueck (R., District 24) and Rep. Gerald F. Lange (D.,\nDistrict 8) have introduced SB 207 to prohibit the use of hand-held\ncellphones, computers, facsimiles, and other portable or laptop devices\nwhile driving.  Drivers using hands-free devices would have to exercise\n\"a high degree of caution\" while driving.\n\nSB 207 provides exemptions for (1) persons operating an emergency\nvehicle, (2) persons who have moved their vehicle to the shoulder, (3)\npersons involved in emergency situations, and (4) persons who notice\nanother driver who appears to be under the influence of drugs or\nalcohol.\n\nThe measure has been referred to the Senate Transportation Committee.\n\nFUTURE OF REGULATION\nMISSOURI\nBill would require PSC to resolve disputes more quickly\n\nRep. Gary Burton (R., District 128) has introduced HB 521 to require the\nPublic Service Commission to create expedited dispute resolution\nprocedures.  The bill's primary focus is to allow requests from\ncompetitive local exchange carriers (CLECs) to be approved more quickly,\nBurton told TR.  The PSC currently takes up to 11 months to process\nCLECs' complaints against incumbents over issues such as collocation\nrates, Burton said.\n\nThe bill faces no opposition at this time, Burton said, noting that he\nplans to try to pass HB 521 as a consent bill.  Burton expects a hearing\non the measure will be held as early as Feb. 8.  Its text is available\nat http://www.house.state.mo.us/bills01/biltxt01/intro01/HB0521I.htm.\n\nCUSTOMER-AFFECTING\nFLORIDA\nPSC says Turbo Code will improve service for TTY users\n\nThe Florida Relay Service has introduced a new operating system for the\nstate's telecommunications relay system that will vastly improve service\nfor text telephone (TTY) customers, the Public Service Commission said.\nThe Florida Relay Service offers telecom service to consumers with\nimpaired speech and hearing, and the Public Service Commission monitors\nthe service's quality.\n\nSprint Corp., which received the contract to maintain Florida's relay\nsystem in June 2000, recently licensed the Turbo Code operating system.\nTurbo Code is expected to make relay calls almost twice as fast as on\nthe old platform, bringing TTY users closer to \"real-time\"\ncommunication.  In addition, the upgrade will enable TTY customers to\nread text more easily by allowing them to control how fast text appears.\n\nCUSTOMER-AFFECTING\nNORTH CAROLINA\nBill seeks to limit telemarketing hours\n\nSen. Charles W. Albertson (D., District 5) has introduced SB 4 to\nrestrict further the hours in which telemarketers are allowed to call\nconsumers.  Telemarketers wouldn't be able to call consumers after 6\np.m., whereas current law permits such calls until 9 p.m.\n\nSB 4 has been referred to the Senate Committee on Insurance and Consumer\nProtection.  It text is available at\nhttp://www.ncga.state.nc.us/html2001/bills/AllVersions/Senate/S4v1.html.\n\nALTERNATIVE REGULATION\nDISTRICT OF COLUMBIA\nPSC wants comment on proposed Verizon rate reductions\n\nThe Public Service Commission has given parties until Feb. 19 to comment\non rate reductions filed by Verizon Washington D.C., Inc., pursuant to\nits price cap plan.\n\nVerizon filed tariff changes that would reduce basic service rates by $2\nmillion annually.  The changes would increase the monthly fee for the\ncompany's Economy Rate I Message service from $5.19 to $6.00, while\nreducing several other monthly rates and one-time charges.\n\nReplies are due March 6.  (Formal case no. 814, Phase IV, Investigation\ninto the Impact of the AT&T Divestiture and Decisions of the Federal\nCommunications Commission on Verizon Washington, DC Inc.'s\nJurisdictional Rates)\n\nADVANCED SERVICES\nNEVADA\nPUC schedules conference on Verizon DSL conditioning rates\n\nThe Public Utilities Commission of Nevada has scheduled a Feb. 20\nprehearing conference to discuss Verizon California Inc., d/b/a Verizon\nNevada's, cost study and proposed rates for conditioning digital\nsubscriber line loops.  Verizon submitted the cost study in compliance\nwith the FCC's order approving the merger of GTE Corp. and Bell Atlantic\nCorp., which formed Verizon.  (Docket no. 00-12008)\n\nADVANCED SERVICES\nDISTRICT OF COLUMBIA\nAT&T opens data center in D.C.\n\nAT&T today announced it has opened an Internet data center in the\nWashington, D.C., metropolitan area.\"  The 105,000 square-foot facility,\nwhich is located in Ashburn, Va., provides end-to-end web hosting\nservices for enterprise customers, content providers, startups and\ndot.coms, the company said.\n\nAT&T operates 15 data centers around the nation, with more than 1.2\nmillion square feet of conditioned Web hosting space. AT&T said it hopes\nto construct an additional six centers later this year.\n\nFederal law prohibits duplication in any form, including electronic,\nwithout permission of the publisher.\n\nTR's State NewsWire Copyright 1998, 1999, 2000 Telecommunications\nReports International, Inc. (ISSN 1082-9350) is transmitted each\nbusiness day at 8 a.m. and 2 p.m., except holidays.\nTelecommunications Reports International, Inc.\n1333 H St. NW, Suite 100-E\nWashington, DC 20005-4707\n\nAssociate Editor for Online Publications: Jennifer Erschen, E-mail:\njerschen@tr.com\nSenior Legislative & Regulatory Analyst: Gayle Kansagor, E-mail:\ngkansagor@tr.com\nSenior Research Analyst: Steve Arlowe, E-mail: sarlowe@tr.com\nSenior Analyst: Barney McManigal, E-mail: bmcmanigal@tr.com\nSenior Research Analyst: Brandi Kerns, E-mail: bkerns@tr.com\nAccount Services: Eileen Callahan (202) 312-6116, (202) 842-3023 (fax)\nE-mail: ecallahan@tr.com\n\n",
         "False",
         "0.14973184264337772"
        ],
        [
         "208421",
         "Message-ID: <6365303.1075856690574.JavaMail.evans@thyme>\nDate: Mon, 18 Sep 2000 02:26:00 -0700 (PDT)\nFrom: grant.masson@enron.com\nTo: tanya.tamarchenko@enron.com, vince.kaminski@enron.com\nSubject: Ben Zhang: Nuts!\nMime-Version: 1.0\nContent-Type: text/plain; charset=us-ascii\nContent-Transfer-Encoding: 7bit\nX-From: Grant Masson\nX-To: Tanya Tamarchenko, Vince J Kaminski\nX-cc: \nX-bcc: \nX-Folder: \\Vincent_Kaminski_Jun2001_6\\Notes Folders\\All documents\nX-Origin: Kaminski-V\nX-FileName: vkamins.nsf\n\nI also heard from Joe Toussaint that Ben's boss counter-offered with a bump \nin salary.\n\n\n---------------------- Forwarded by Grant Masson/HOU/ECT on 09/18/2000 09:24 \nAM ---------------------------\n\n\n\"Zhang, Ben\" <bzhang@cinergy.com> on 09/18/2000 07:58:58 AM\nTo: Grant.Masson@enron.com\ncc:  \nSubject: Thanks\n\n\nDear Mr. Masson:\n\nThank you very much for offering me an opportunity to work in your group.\nHowever because of family reasons, I have to regrettably inform you that I\nwill not be able to make the move at this time. It has been a great\nexperience working  with you on this process, and I greatly appreciate your\nhelp.\n\nI realized that this would have been a great opportunity for me, and I thank\nyou very much for everything. I hope you will still consider me for a\nposition in the future.\n\nSincerely,\nBen\n",
         "grant.masson@enron.com",
         "Ben Zhang: Nuts!",
         "vkamins.nsf\n\nI also heard from Joe Toussaint that Ben's boss counter-offered with a bump \nin salary.\n\n\n---------------------- Forwarded by Grant Masson/HOU/ECT on 09/18/2000 09:24 \nAM ---------------------------\n\n\n\"Zhang, Ben\" <bzhang@cinergy.com> on 09/18/2000 07:58:58 AM\nTo: Grant.Masson@enron.com\ncc:  \nSubject: Thanks\n\n\nDear Mr. Masson:\n\nThank you very much for offering me an opportunity to work in your group.\nHowever because of family reasons, I have to regrettably inform you that I\nwill not be able to make the move at this time. It has been a great\nexperience working  with you on this process, and I greatly appreciate your\nhelp.\n\nI realized that this would have been a great opportunity for me, and I thank\nyou very much for everything. I hope you will still consider me for a\nposition in the future.\n\nSincerely,\nBen\n",
         "False",
         "0.1658678229728208"
        ],
        [
         "65925",
         "Message-ID: <12117360.1075843343046.JavaMail.evans@thyme>\nDate: Tue, 30 Jan 2001 13:35:00 -0800 (PST)\nFrom: anil.sama@intel.com\nTo: guinney@haas.berkeley.edu, chin@haas.berkeley.edu, \n\tdasovich@haas.berkeley.edu\nSubject: First Write-Up due for Financial Information Analysis\nMime-Version: 1.0\nContent-Type: text/plain; charset=us-ascii\nContent-Transfer-Encoding: 7bit\nX-From: \"Sama, Anil\" <anil.sama@intel.com>\nX-To: \"'guinney@haas.berkeley.edu'\" <guinney@haas.berkeley.edu>, \"'chin@haas.berkeley.edu'\" <chin@haas.berkeley.edu>, \"'dasovich@haas.berkeley.edu'\" <dasovich@haas.berkeley.edu>\nX-cc: \nX-bcc: \nX-Folder: \\Jeff_Dasovich_June2001\\Notes Folders\\All documents\nX-Origin: DASOVICH-J\nX-FileName: jdasovic.nsf\n\nHey Guys,\n\nJust sat down to read about the first write up that is due\nthis Thursday, and realized that this is supposed to be a\ngroup assignment!!  Ooops - I had no idea... Did you ;-)\nAnyone read the case and/or taken a crack at it? Should\nwe try and co-ordinate a conference call?\n\nCarolyn is out for the week and excused from the\nassignment - just had a baby girl last Fri!!\nJeff, did you hear from teacher if OK to join ?\n\n-Anil\n",
         "anil.sama@intel.com",
         "First Write-Up due for Financial Information Analysis",
         "jdasovic.nsf\n\nHey Guys,\n\nJust sat down to read about the first write up that is due\nthis Thursday, and realized that this is supposed to be a\ngroup assignment!!  Ooops - I had no idea... Did you ;-)\nAnyone read the case and/or taken a crack at it? Should\nwe try and co-ordinate a conference call?\n\nCarolyn is out for the week and excused from the\nassignment - just had a baby girl last Fri!!\nJeff, did you hear from teacher if OK to join ?\n\n-Anil\n",
         "False",
         "0.10518077508603363"
        ],
        [
         "113718",
         "Message-ID: <5198827.1075840468021.JavaMail.evans@thyme>\nDate: Thu, 21 Mar 2002 05:53:00 -0800 (PST)\nFrom: olivia.martinez@enron.com\nTo: mark.fisher@enron.com\nSubject: Re: Curtailment at Clear Sky\nCc: mark.walker@enron.com, hollis.kimbrough@enron.com, kurt.anderson@enron.com\nMime-Version: 1.0\nContent-Type: text/plain; charset=ANSI_X3.4-1968\nContent-Transfer-Encoding: 7bit\nBcc: mark.walker@enron.com, hollis.kimbrough@enron.com, kurt.anderson@enron.com\nX-From: Olivia Martinez\nX-To: Mark Fisher\nX-cc: Mark V Walker, Hollis Kimbrough, Kurt Anderson\nX-bcc: \nX-Folder: \\mark fischer 7-12-02\\Notes Folders\\Notes inbox\nX-Origin: FISCHER-M\nX-FileName: mark fischer 7-12-02 LNotes.nsf\n\nMark, \nHere are all the relevant Documents for Indian Mesa.  Please refer to Exhibit \nB-1 (interim) and Exhibit D. \n\n\n\n\n\n\n\nKurt Anderson\n03/21/2002 01:39 PM\nTo: Olivia Martinez/EWC/Enron@Enron\ncc:  \n\nSubject: Re: Curtailment at Clear Sky\n\nFYI\n---------------------- Forwarded by Kurt Anderson/EWC/Enron on 03/21/2002 \n01:50 PM ---------------------------\n\n\nMark Fisher\n03/21/2002 09:08 AM\nTo: Kurt Anderson/EWC/Enron@ENRON\ncc: Hollis Kimbrough/EWC/Enron@ENRON \n\nSubject: Re: Curtailment at Clear Sky  \n\nI requested the actual power curves from Olivia. I need a wind speed to kw \nlist. I didn't need the warranty amount.\n\n\n\nKurt Anderson\n03/21/2002 08:47 AM\nTo: Mark Fisher/EWC/Enron@Enron\ncc: Hollis Kimbrough/EWC/Enron@ENRON \n\nSubject: Re: Curtailment at Clear Sky  \n\nMark, the curtailment periods have been re-sent, this is the first I have \nheard about your requirement regarding the contractual power curve, it is \n95%.   \n\n\n\nMark Fisher\n03/21/2002 08:07 AM\nTo: Kurt Anderson/EWC/Enron@ENRON\ncc: Hollis Kimbrough/EWC/Enron@ENRON \n\nSubject: Re: Curtailment at Clear Sky\n\nKurt,\n\nI am unfamiliar with the below request. To complete the curtailment for Clear \nSky that I was looking at, I will need the contractual power curve, and a new \ncopy of the curtailment periods . (Due to my email problems rom earlier this \nweek, I lost many email messages, that one appears to have been one of them).\n\nMark Fisher\n---------------------- Forwarded by Mark Fisher/EWC/Enron on 03/21/2002 08:18 \nAM ---------------------------\n\n\nHollis Kimbrough\n03/21/2002 07:45 AM\nTo: Kurt Anderson/EWC/Enron@ENRON\ncc: Matthew Meyers/EWC/Enron@Enron, Jeff Duff/EWC/Enron@ENRON, Mark \nFisher/EWC/Enron@Enron \n\nSubject: Re: Curtailment at Clear Sky  \n\nKurt,\n\nAttached is a work request corresponding to the attached e-mail.  As you can \nsee, we need some additional information before we can start the work.  With \nthe deadline of tomorrow please do not delay in providing the extra \ninformation.\n\nAlso, note that we may not have the curtailment information.  We need to know \nthe timeframe for the request before we can say either \"we have it\" or \"we \ndon't have it\".  \n\nThanks,\nHollis\n\n\n\n\n\nKurt Anderson\n03/20/2002 05:21 PM\nTo: Hollis Kimbrough/EWC/Enron@ENRON\ncc: Matthew Meyers/EWC/Enron@Enron, Jeff Duff/EWC/Enron@ENRON \n\nSubject: Re: Curtailment at Clear Sky  \n\nYes, the services of your department are requested. We need the data as soon \nas possible, I would think the customer expects to see this by Friday at the \nlatest. This is related to a request that Mark Fisher has been working on, \nperhaps he can provide additional background on this issue.\n\nKA    \n\n\n\nHollis Kimbrough\n03/20/2002 04:49 PM\nTo: Kurt Anderson/EWC/Enron@ENRON\ncc: Matthew Meyers/EWC/Enron@Enron, Jeff Duff/EWC/Enron@ENRON \n\nSubject: Curtailment at Clear Sky\n\nKurt,\n\nWe haven't heard anything regarding a request for data for AEP.  Do we need \nto be involved and if so, then what is the timeframe that you need the data \nfor?\n\nHollis\n---------------------- Forwarded by Hollis Kimbrough/EWC/Enron on 03/20/2002 \n05:00 PM ---------------------------\n\n\nKlaus Obel\n03/20/2002 12:47 PM\nTo: Kurt Anderson/EWC/Enron@ENRON, Bo Thisted/EWC/Enron@Enron\ncc: Hollis Kimbrough/EWC/Enron@ENRON \n\nSubject: Curtailment at Clear Sky\n\nKurt, how far have we gotten with this process?\nDo we have the information requested below available?\nThanks, Klaus\n\n---------------------- Forwarded by Klaus Obel/EWC/Enron on 03/20/2002 12:47 \nPM ---------------------------\n\n\nwcmarshall@aep.com on 03/19/2002 07:47:14 AM\nTo: Klaus.Obel@enron.com\ncc: rlsimon@windots.net, bmgivens@aep.com \n\nSubject: Curtailment at Clear Sky\n\n\n\nRich Simon needs the following data: \n\n10 or 15 minute average wind speed, wind direction from Met Tower 652 and if \nit is still standing from the 10 meter tower 653. ? \n10 or 15 minute energy production for each turbine \nWhich turbines were curtailed and when and how long they were curtailed \n\nLet me know if and how long it will take to gather this data.\n\n \nWard Marshall\nDirector, Business Development\nAEP Energy Services, Inc.\n1 Riverside Plaza\nColumbus, OH 43215-2373\n\nOffice (614)324-6957\nFax (614)324-6994\nCell (614)314-5538\n\n\n\n\n\n\n\n\n\n\n\n\n\n\n\n\n\n\n\n\n\n\n\n\n",
         "olivia.martinez@enron.com",
         "Re: Curtailment at Clear Sky\nCc: mark.walker@enron.com, hollis.kimbrough@enron.com, kurt.anderson@enron.com",
         "mark fischer 7-12-02 LNotes.nsf\n\nMark, \nHere are all the relevant Documents for Indian Mesa.  Please refer to Exhibit \nB-1 (interim) and Exhibit D. \n\n\n\n\n\n\n\nKurt Anderson\n03/21/2002 01:39 PM\nTo: Olivia Martinez/EWC/Enron@Enron\ncc:  \n\nSubject: Re: Curtailment at Clear Sky\n\nFYI\n---------------------- Forwarded by Kurt Anderson/EWC/Enron on 03/21/2002 \n01:50 PM ---------------------------\n\n\nMark Fisher\n03/21/2002 09:08 AM\nTo: Kurt Anderson/EWC/Enron@ENRON\ncc: Hollis Kimbrough/EWC/Enron@ENRON \n\nSubject: Re: Curtailment at Clear Sky  \n\nI requested the actual power curves from Olivia. I need a wind speed to kw \nlist. I didn't need the warranty amount.\n\n\n\nKurt Anderson\n03/21/2002 08:47 AM\nTo: Mark Fisher/EWC/Enron@Enron\ncc: Hollis Kimbrough/EWC/Enron@ENRON \n\nSubject: Re: Curtailment at Clear Sky  \n\nMark, the curtailment periods have been re-sent, this is the first I have \nheard about your requirement regarding the contractual power curve, it is \n95%.   \n\n\n\nMark Fisher\n03/21/2002 08:07 AM\nTo: Kurt Anderson/EWC/Enron@ENRON\ncc: Hollis Kimbrough/EWC/Enron@ENRON \n\nSubject: Re: Curtailment at Clear Sky\n\nKurt,\n\nI am unfamiliar with the below request. To complete the curtailment for Clear \nSky that I was looking at, I will need the contractual power curve, and a new \ncopy of the curtailment periods . (Due to my email problems rom earlier this \nweek, I lost many email messages, that one appears to have been one of them).\n\nMark Fisher\n---------------------- Forwarded by Mark Fisher/EWC/Enron on 03/21/2002 08:18 \nAM ---------------------------\n\n\nHollis Kimbrough\n03/21/2002 07:45 AM\nTo: Kurt Anderson/EWC/Enron@ENRON\ncc: Matthew Meyers/EWC/Enron@Enron, Jeff Duff/EWC/Enron@ENRON, Mark \nFisher/EWC/Enron@Enron \n\nSubject: Re: Curtailment at Clear Sky  \n\nKurt,\n\nAttached is a work request corresponding to the attached e-mail.  As you can \nsee, we need some additional information before we can start the work.  With \nthe deadline of tomorrow please do not delay in providing the extra \ninformation.\n\nAlso, note that we may not have the curtailment information.  We need to know \nthe timeframe for the request before we can say either \"we have it\" or \"we \ndon't have it\".  \n\nThanks,\nHollis\n\n\n\n\n\nKurt Anderson\n03/20/2002 05:21 PM\nTo: Hollis Kimbrough/EWC/Enron@ENRON\ncc: Matthew Meyers/EWC/Enron@Enron, Jeff Duff/EWC/Enron@ENRON \n\nSubject: Re: Curtailment at Clear Sky  \n\nYes, the services of your department are requested. We need the data as soon \nas possible, I would think the customer expects to see this by Friday at the \nlatest. This is related to a request that Mark Fisher has been working on, \nperhaps he can provide additional background on this issue.\n\nKA    \n\n\n\nHollis Kimbrough\n03/20/2002 04:49 PM\nTo: Kurt Anderson/EWC/Enron@ENRON\ncc: Matthew Meyers/EWC/Enron@Enron, Jeff Duff/EWC/Enron@ENRON \n\nSubject: Curtailment at Clear Sky\n\nKurt,\n\nWe haven't heard anything regarding a request for data for AEP.  Do we need \nto be involved and if so, then what is the timeframe that you need the data \nfor?\n\nHollis\n---------------------- Forwarded by Hollis Kimbrough/EWC/Enron on 03/20/2002 \n05:00 PM ---------------------------\n\n\nKlaus Obel\n03/20/2002 12:47 PM\nTo: Kurt Anderson/EWC/Enron@ENRON, Bo Thisted/EWC/Enron@Enron\ncc: Hollis Kimbrough/EWC/Enron@ENRON \n\nSubject: Curtailment at Clear Sky\n\nKurt, how far have we gotten with this process?\nDo we have the information requested below available?\nThanks, Klaus\n\n---------------------- Forwarded by Klaus Obel/EWC/Enron on 03/20/2002 12:47 \nPM ---------------------------\n\n\nwcmarshall@aep.com on 03/19/2002 07:47:14 AM\nTo: Klaus.Obel@enron.com\ncc: rlsimon@windots.net, bmgivens@aep.com \n\nSubject: Curtailment at Clear Sky\n\n\n\nRich Simon needs the following data: \n\n10 or 15 minute average wind speed, wind direction from Met Tower 652 and if \nit is still standing from the 10 meter tower 653. ? \n10 or 15 minute energy production for each turbine \nWhich turbines were curtailed and when and how long they were curtailed \n\nLet me know if and how long it will take to gather this data.\n\n \nWard Marshall\nDirector, Business Development\nAEP Energy Services, Inc.\n1 Riverside Plaza\nColumbus, OH 43215-2373\n\nOffice (614)324-6957\nFax (614)324-6994\nCell (614)314-5538\n\n\n\n\n\n\n\n\n\n\n\n\n\n\n\n\n\n\n\n\n\n\n\n\n",
         "False",
         "0.12180160280544161"
        ],
        [
         "197591",
         "Message-ID: <23337116.1075847547216.JavaMail.evans@thyme>\nDate: Tue, 13 Feb 2001 08:28:00 -0800 (PST)\nFrom: tana.jones@enron.com\nTo: genia.fitzgerald@enron.com\nSubject: Re: Guaranty Form\nMime-Version: 1.0\nContent-Type: text/plain; charset=us-ascii\nContent-Transfer-Encoding: 7bit\nX-From: Tana Jones\nX-To: Genia FitzGerald\nX-cc: \nX-bcc: \nX-Folder: \\Tanya_Jones_June2001\\Notes Folders\\Sent\nX-Origin: JONES-T\nX-FileName: tjones.nsf\n\nSuch flattery!\n\n\n\n\tGenia FitzGerald\n\t02/13/2001 04:03 PM\n\t\t\n\t\t To: Tana Jones/HOU/ECT@ECT\n\t\t cc: \n\t\t Subject: Re: Guaranty Form\n\nYou are all right, I don't care what Marie and Reggie say.\n\nThanks!\n\n\n\n\tTana Jones\n\t02/13/2001 03:58 PM\n\t\t \n\t\t To: Genia FitzGerald/HOU/ECT@ECT\n\t\t cc: \n\t\t Subject: Guaranty Form\n\nYou'll see that I asked our group to keep you updated on the guaranty form.  \nCarol St. Clair just wanted to make sure that you had our latest form of \nguaranty, so I am sending it to you at her request.\n\n\n\n\n",
         "tana.jones@enron.com",
         "Re: Guaranty Form",
         "tjones.nsf\n\nSuch flattery!\n\n\n\n\tGenia FitzGerald\n\t02/13/2001 04:03 PM\n\t\t\n\t\t To: Tana Jones/HOU/ECT@ECT\n\t\t cc: \n\t\t Subject: Re: Guaranty Form\n\nYou are all right, I don't care what Marie and Reggie say.\n\nThanks!\n\n\n\n\tTana Jones\n\t02/13/2001 03:58 PM\n\t\t \n\t\t To: Genia FitzGerald/HOU/ECT@ECT\n\t\t cc: \n\t\t Subject: Guaranty Form\n\nYou'll see that I asked our group to keep you updated on the guaranty form.  \nCarol St. Clair just wanted to make sure that you had our latest form of \nguaranty, so I am sending it to you at her request.\n\n\n\n\n",
         "False",
         "0.11541376013722697"
        ],
        [
         "48219",
         "Message-ID: <8577097.1075860486436.JavaMail.evans@thyme>\nDate: Mon, 21 Aug 2000 09:56:00 -0700 (PDT)\nFrom: michelle.cash@enron.com\nTo: candace.womack@enron.com\nSubject: Re: Background investigation\nCc: gary.buck@enron.com\nMime-Version: 1.0\nContent-Type: text/plain; charset=us-ascii\nContent-Transfer-Encoding: 7bit\nBcc: gary.buck@enron.com\nX-From: Michelle Cash\nX-To: Candace Womack\nX-cc: Gary Buck\nX-bcc: \nX-Folder: \\Michelle_Cash_Dec2000\\Notes Folders\\All documents\nX-Origin: Cash-M\nX-FileName: mcash.nsf\n\nI'd suggest finding otu more information.  My inclination would be not to \naccept the contractor. \n\n\n\n\nCandace Womack\n08/21/2000 04:39 PM\nTo: Michelle Cash/HOU/ECT@ECT\ncc: Gary Buck/HOU/ECT@ECT \nSubject: Background investigation\n\nMichelle - Welcome back from vacation!\n\nGary Buck suggested that I approach you for guidance regarding a background \ninvestigation report we have received on a contractor candidate for \nNetworks.  The report indicates that 8/14/95, the candidate was found guilty \nof theft, a misdemeanor.  He was sentenced to 3 days jail and fined $200.  \nThe candidate indicated on his Contractor Information Sheet that he had a \nmisdemeanor from 1995.  \n\nShould we have the recruiter contact the candidate and ask for more \ninformation about the misdemeanor, or should we simply reject him?\n\nThanks for your assistance.\n\nCandace\n\n",
         "michelle.cash@enron.com",
         "Re: Background investigation\nCc: gary.buck@enron.com",
         "mcash.nsf\n\nI'd suggest finding otu more information.  My inclination would be not to \naccept the contractor. \n\n\n\n\nCandace Womack\n08/21/2000 04:39 PM\nTo: Michelle Cash/HOU/ECT@ECT\ncc: Gary Buck/HOU/ECT@ECT \nSubject: Background investigation\n\nMichelle - Welcome back from vacation!\n\nGary Buck suggested that I approach you for guidance regarding a background \ninvestigation report we have received on a contractor candidate for \nNetworks.  The report indicates that 8/14/95, the candidate was found guilty \nof theft, a misdemeanor.  He was sentenced to 3 days jail and fined $200.  \nThe candidate indicated on his Contractor Information Sheet that he had a \nmisdemeanor from 1995.  \n\nShould we have the recruiter contact the candidate and ask for more \ninformation about the misdemeanor, or should we simply reject him?\n\nThanks for your assistance.\n\nCandace\n\n",
         "False",
         "0.2983627786345794"
        ],
        [
         "379427",
         "Message-ID: <11975869.1075857188965.JavaMail.evans@thyme>\nDate: Tue, 21 Mar 2000 03:11:00 -0800 (PST)\nFrom: benjamin.rogers@enron.com\nTo: yvan.chaxel@enron.com\nSubject: Re New Fixed O&M\nMime-Version: 1.0\nContent-Type: text/plain; charset=us-ascii\nContent-Transfer-Encoding: 7bit\nX-From: Benjamin Rogers\nX-To: Yvan Chaxel\nX-cc: \nX-bcc: \nX-Folder: \\Benjamin_Rogers_Dec2000_2\\Notes Folders\\Discussion threads\nX-Origin: Rogers-B\nX-FileName: brogers.nsf\n\nLet me know if you have any questions. Thanks\nBen\n",
         "benjamin.rogers@enron.com",
         "Re New Fixed O&M",
         "brogers.nsf\n\nLet me know if you have any questions. Thanks\nBen\n",
         "False",
         "0.144829808814123"
        ],
        [
         "303122",
         "Message-ID: <22948471.1075846042231.JavaMail.evans@thyme>\nDate: Wed, 25 Apr 2001 10:35:00 -0700 (PDT)\nFrom: kay.mann@enron.com\nTo: nmann@erac.com\nSubject: Re: charlotte\nMime-Version: 1.0\nContent-Type: text/plain; charset=us-ascii\nContent-Transfer-Encoding: 7bit\nX-From: Kay Mann\nX-To: <nmann@erac.com>\nX-cc: \nX-bcc: \nX-Folder: \\Kay_Mann_June2001_4\\Notes Folders\\'sent mail\nX-Origin: MANN-K\nX-FileName: kmann.nsf\n\n832 651 3478 is what I have",
         "kay.mann@enron.com",
         "Re: charlotte",
         "kmann.nsf\n\n832 651 3478 is what I have",
         "False",
         "0.1389831419054913"
        ],
        [
         "79277",
         "Message-ID: <8952710.1075851625559.JavaMail.evans@thyme>\nDate: Tue, 16 Oct 2001 12:25:55 -0700 (PDT)\nFrom: jeff.dasovich@enron.com\nTo: michael.tribolet@enron.com\nSubject: \nMime-Version: 1.0\nContent-Type: text/plain; charset=us-ascii\nContent-Transfer-Encoding: 7bit\nX-From: Dasovich, Jeff </O=ENRON/OU=NA/CN=RECIPIENTS/CN=JDASOVIC>\nX-To: Tribolet, Michael </O=ENRON/OU=NA/CN=RECIPIENTS/CN=Mtribole>\nX-cc: \nX-bcc: \nX-Folder: \\Dasovich, Jeff (Non-Privileged)\\Dasovich, Jeff\\Sent Items\nX-Origin: DASOVICH-J\nX-FileName: Dasovich, Jeff (Non-Privileged).pst\n\nMissed the analyst call.  What was your take?  And you hearing that Lay's calling Edison today?\n\nBest,\nJeff",
         "jeff.dasovich@enron.com",
         "",
         "Dasovich, Jeff (Non-Privileged).pst\n\nMissed the analyst call.  What was your take?  And you hearing that Lay's calling Edison today?\n\nBest,\nJeff",
         "False",
         "0.15033706139620528"
        ],
        [
         "226840",
         "Message-ID: <403140.1075856635015.JavaMail.evans@thyme>\nDate: Mon, 18 Dec 2000 00:27:00 -0800 (PST)\nFrom: vince.kaminski@enron.com\nTo: fdiebold@sas.upenn.edu\nSubject: Re: Thursday visit\nCc: shirley.crenshaw@enron.com, vince.kaminski@enron.com\nMime-Version: 1.0\nContent-Type: text/plain; charset=ANSI_X3.4-1968\nContent-Transfer-Encoding: 7bit\nBcc: shirley.crenshaw@enron.com, vince.kaminski@enron.com\nX-From: Vince J Kaminski\nX-To: \"Francis X. Diebold\" <fdiebold@sas.upenn.edu> @ ENRON\nX-cc: Shirley Crenshaw, Vince J Kaminski\nX-bcc: \nX-Folder: \\Vincent_Kaminski_Jun2001_5\\Notes Folders\\Universities\nX-Origin: Kaminski-V\nX-FileName: vkamins.nsf\n\nFrank,\n\nWe are located at 1400 Smith. Any cab driver can identify the Enron building. \nWhen you arrive,\nplease, call me at 3-3848  from the reception to be admitted into the \nbuilding.\n\nAlternative phone numbers: 3-5290 (my assistant Shirley Crenshaw). You can \nalso try to call me on\nmy cell phone: 713 898 9960.\n\nThe Research Group meeting starts at 11:30 and lasts till 1:00. Can you make \na presentation\nabout your research projects? What audio/video equipment do you need? What \nsandwich would \nyou like to have for lunch?\n\nWe shall make a hotel reservation for you Thursday night.\n\nVince\n\n\n\n\n\n\"Francis X. Diebold\" <fdiebold@sas.upenn.edu> on 12/18/2000 07:02:46 AM\nTo: Vince Kaminski <vkamins@enron.com>\ncc: bmierts@enron.com \nSubject: Thursday visit\n\n\nHi Vince, Looking forward to seeing you Thursday.? I arrive at Houston-Bush \non USAir 1769 at 10:55 AM.? Please let me know where to go.? I also want to \nverify that you have booked me a hotel? for Thurs night.? Many thanks, and \nsee you soon, Frank \n\n-- \nFrancis X. Diebold \nWP Carey Professor \n\nDepartment of Economics \nUniversity of Pennsylvania \n3718 Locust Walk \nPhiladelphia, PA 19104-6297 \n\nfdiebold@sas.upenn.edu \nhttp://www.ssc.upenn.edu/~diebold \n\n(215) 898-1507? telephone \n(215) 573-4217? fax \n?\n\n",
         "vince.kaminski@enron.com",
         "Re: Thursday visit\nCc: shirley.crenshaw@enron.com, vince.kaminski@enron.com",
         "vkamins.nsf\n\nFrank,\n\nWe are located at 1400 Smith. Any cab driver can identify the Enron building. \nWhen you arrive,\nplease, call me at 3-3848  from the reception to be admitted into the \nbuilding.\n\nAlternative phone numbers: 3-5290 (my assistant Shirley Crenshaw). You can \nalso try to call me on\nmy cell phone: 713 898 9960.\n\nThe Research Group meeting starts at 11:30 and lasts till 1:00. Can you make \na presentation\nabout your research projects? What audio/video equipment do you need? What \nsandwich would \nyou like to have for lunch?\n\nWe shall make a hotel reservation for you Thursday night.\n\nVince\n\n\n\n\n\n\"Francis X. Diebold\" <fdiebold@sas.upenn.edu> on 12/18/2000 07:02:46 AM\nTo: Vince Kaminski <vkamins@enron.com>\ncc: bmierts@enron.com \nSubject: Thursday visit\n\n\nHi Vince, Looking forward to seeing you Thursday.? I arrive at Houston-Bush \non USAir 1769 at 10:55 AM.? Please let me know where to go.? I also want to \nverify that you have booked me a hotel? for Thurs night.? Many thanks, and \nsee you soon, Frank \n\n-- \nFrancis X. Diebold \nWP Carey Professor \n\nDepartment of Economics \nUniversity of Pennsylvania \n3718 Locust Walk \nPhiladelphia, PA 19104-6297 \n\nfdiebold@sas.upenn.edu \nhttp://www.ssc.upenn.edu/~diebold \n\n(215) 898-1507? telephone \n(215) 573-4217? fax \n?\n\n",
         "False",
         "0.12623285153351557"
        ],
        [
         "388836",
         "Message-ID: <10725605.1075853445261.JavaMail.evans@thyme>\nDate: Mon, 2 Apr 2001 04:48:00 -0700 (PDT)\nFrom: elizabeth.sager@enron.com\nTo: sheryl_gussett@reliantenergy.com\nSubject: Re: Hey\nMime-Version: 1.0\nContent-Type: text/plain; charset=us-ascii\nContent-Transfer-Encoding: 7bit\nX-From: Elizabeth Sager\nX-To: Sheryl_Gussett@reliantenergy.com@ENRON\nX-cc: \nX-bcc: \nX-Folder: \\Elizabeth_Sager_Nov2001\\Notes Folders\\Sent\nX-Origin: Sager-E\nX-FileName: esager.nsf\n\ngreat - this week is bad because I go to Portland for week until Friday.  How \nabout next week?",
         "elizabeth.sager@enron.com",
         "Re: Hey",
         "esager.nsf\n\ngreat - this week is bad because I go to Portland for week until Friday.  How \nabout next week?",
         "False",
         "0.13716310918774155"
        ],
        [
         "105403",
         "Message-ID: <14806483.1075854083000.JavaMail.evans@thyme>\nDate: Thu, 13 Jul 2000 08:35:00 -0700 (PDT)\nFrom: shari.mao@enron.com\nTo: brenda.herod@enron.com\nSubject: Data Validation\nCc: james.scribner@enron.com, jennifer.reside@enron.com, howard.camp@enron.com, \n\tdaren.farmer@enron.com\nMime-Version: 1.0\nContent-Type: text/plain; charset=us-ascii\nContent-Transfer-Encoding: 7bit\nBcc: james.scribner@enron.com, jennifer.reside@enron.com, howard.camp@enron.com, \n\tdaren.farmer@enron.com\nX-From: Shari Mao\nX-To: Brenda F Herod\nX-cc: James Scribner, Jennifer Reside, Howard B Camp, Daren J Farmer\nX-bcc: \nX-Folder: \\Darren_Farmer_Dec2000\\Notes Folders\\Discussion threads\nX-Origin: Farmer-D\nX-FileName: dfarmer.nsf\n\nBrenda,\n\nWe met this afternoon concerning path counts.  Howard will be validating the \npath data we had gathered from Unify.  Please let us know when you will need \nthis data by.\n\nThanks,\nShari\n3-3859",
         "shari.mao@enron.com",
         "Data Validation\nCc: james.scribner@enron.com, jennifer.reside@enron.com, howard.camp@enron.com, \n\tdaren.farmer@enron.com",
         "dfarmer.nsf\n\nBrenda,\n\nWe met this afternoon concerning path counts.  Howard will be validating the \npath data we had gathered from Unify.  Please let us know when you will need \nthis data by.\n\nThanks,\nShari\n3-3859",
         "False",
         "0.09416681503631644"
        ],
        [
         "59348",
         "Message-ID: <15485016.1075842972780.JavaMail.evans@thyme>\nDate: Fri, 15 Sep 2000 03:59:00 -0700 (PDT)\nFrom: jeff.dasovich@enron.com\nTo: steven.kean@enron.com\nSubject: Re: Skilling Get Davis Straightened Out?\nMime-Version: 1.0\nContent-Type: text/plain; charset=us-ascii\nContent-Transfer-Encoding: 7bit\nX-From: Jeff Dasovich\nX-To: Steven J Kean\nX-cc: \nX-bcc: \nX-Folder: \\Jeff_Dasovich_Dec2000\\Notes Folders\\All documents\nX-Origin: DASOVICH-J\nX-FileName: jdasovic.nsf\n\nNeedless to say, given the Governor's press release, I'm a little concerned \nabout what he might want.  Carl Wood and Loretta Lynch were truly abominable \nat the FERC hearing.  Fortunately, FERC (all 4 Commissioners) really beat up \non the them.  I'm convinced that FERC feels that they must do something \nbetween now and November and that if we ever had a chance to get them to be \nbold (understanding that \"bold\" ain't exactly in Hoecker's play book), now's \nthe chance.\n\nThanks for the giving Heber the straight dope.  He was very gracious \nthroughout, but after the panel he (very jokingly) ribbed me pretty well, \nsaying, \"Jeff, I let you off the hook.  I was going to ask you how in the \nhell you ever let California turn into such a mess.\"  I told him that we were \nexercising Herculean restraint in not making lengthy \"I told you so\" \nstatements.\n\nBest,\nJeff\n\n\n\n\nSteven J Kean@ENRON\n09/15/2000 07:54 AM\nSent by: Steven J Kean@ENRON\nTo: Jeff Dasovich/SFO/EES@EES\ncc:  \nSubject: Re: Skilling Get Davis Straightened Out?  \n\nI'm still waiting for Davis' office to call.  The plan currently is for me to \ntalk to him when and if he calls.  Sandi has been in touch with the \ngovernor's office.\n\nBy the way, thanks for the summary of the California proceedings.  I talked \nto Hebert yesterday and he was duly impressed with your remarks ... I had to \nremind him that you worked on the right answers for California, not the \nabomination that's in place today.\n\n\n\nJeff Dasovich@EES\n09/13/2000 06:48 PM\nTo: Steven J Kean/NA/Enron@Enron\ncc:  \n\nSubject: Skilling Get Davis Straightened Out?\n\n\n\n\n\n",
         "jeff.dasovich@enron.com",
         "Re: Skilling Get Davis Straightened Out?",
         "jdasovic.nsf\n\nNeedless to say, given the Governor's press release, I'm a little concerned \nabout what he might want.  Carl Wood and Loretta Lynch were truly abominable \nat the FERC hearing.  Fortunately, FERC (all 4 Commissioners) really beat up \non the them.  I'm convinced that FERC feels that they must do something \nbetween now and November and that if we ever had a chance to get them to be \nbold (understanding that \"bold\" ain't exactly in Hoecker's play book), now's \nthe chance.\n\nThanks for the giving Heber the straight dope.  He was very gracious \nthroughout, but after the panel he (very jokingly) ribbed me pretty well, \nsaying, \"Jeff, I let you off the hook.  I was going to ask you how in the \nhell you ever let California turn into such a mess.\"  I told him that we were \nexercising Herculean restraint in not making lengthy \"I told you so\" \nstatements.\n\nBest,\nJeff\n\n\n\n\nSteven J Kean@ENRON\n09/15/2000 07:54 AM\nSent by: Steven J Kean@ENRON\nTo: Jeff Dasovich/SFO/EES@EES\ncc:  \nSubject: Re: Skilling Get Davis Straightened Out?  \n\nI'm still waiting for Davis' office to call.  The plan currently is for me to \ntalk to him when and if he calls.  Sandi has been in touch with the \ngovernor's office.\n\nBy the way, thanks for the summary of the California proceedings.  I talked \nto Hebert yesterday and he was duly impressed with your remarks ... I had to \nremind him that you worked on the right answers for California, not the \nabomination that's in place today.\n\n\n\nJeff Dasovich@EES\n09/13/2000 06:48 PM\nTo: Steven J Kean/NA/Enron@Enron\ncc:  \n\nSubject: Skilling Get Davis Straightened Out?\n\n\n\n\n\n",
         "False",
         "0.15906400258739106"
        ],
        [
         "305734",
         "Message-ID: <5027715.1075845647533.JavaMail.evans@thyme>\nDate: Wed, 3 Jan 2001 04:28:00 -0800 (PST)\nFrom: kay.mann@enron.com\nTo: nmann@erac.com\nSubject: RE: E Party 1/20/00\nMime-Version: 1.0\nContent-Type: text/plain; charset=us-ascii\nContent-Transfer-Encoding: 7bit\nX-From: Kay Mann\nX-To: <nmann@erac.com>\nX-cc: \nX-bcc: \nX-Folder: \\Kay_Mann_June2001_1\\Notes Folders\\All documents\nX-Origin: MANN-K\nX-FileName: kmann.nsf\n\nI prefer the weekend.  It gives us a reason to get in and get out.  \n\nckm\n\n\n\n\n\"Neil Mann\" <nmann@erac.com> on 01/03/2001 12:41:37 PM\nPlease respond to <nmann@erac.com>\nTo: <Kay.Mann@enron.com>\ncc:  \n\nSubject: RE: E Party 1/20/00\n\nNo reason other than I don't really care to go.\n\nI really would like to do the FtW Show. Would weekends work best for you? I\nchecked TicketMaster and all the weekend shows are available, even the \"sold\nout\" shows. I didn't check the price. They do have some weekday shows also\nif you would rather do that.\n\nNM\n\n\n\n\n-----Original Message-----\nFrom: Kay.Mann@enron.com [mailto:Kay.Mann@enron.com]\nSent: Wednesday, January 03, 2001 11:33 AM\nTo: nmann@erac.com\nSubject: Re: E Party 1/20/00\n\n\n\nYou know me.  I don't care one way or the other.  Is there a reason why you\nwant to skip it?\n\nWe don't have to go to FW for the rodeo.  I just thought that would be fun\nto do, and my mom wants Michael to come so badly.  We can always just go\nfor a visit.  In fact, Michael and I can go alone some time.\n\nLike I said last night, you would make a great guide.  You'll be Michael's\nguide one of these days.\n\nckm\n\n\n\n\n\"Neil Mann\" <nmann@erac.com> on 01/03/2001 11:41:09 AM\n\nPlease respond to <nmann@erac.com>\n\nTo:   \"C. Kay Mann (E-mail)\" <Kay.Mann@Enron.com>\ncc:\n\nSubject:  E Party 1/20/00\n\nYou do mind if we skip this party?\n\n\n\n\n\n\n\n\n\n",
         "kay.mann@enron.com",
         "RE: E Party 1/20/00",
         "kmann.nsf\n\nI prefer the weekend.  It gives us a reason to get in and get out.  \n\nckm\n\n\n\n\n\"Neil Mann\" <nmann@erac.com> on 01/03/2001 12:41:37 PM\nPlease respond to <nmann@erac.com>\nTo: <Kay.Mann@enron.com>\ncc:  \n\nSubject: RE: E Party 1/20/00\n\nNo reason other than I don't really care to go.\n\nI really would like to do the FtW Show. Would weekends work best for you? I\nchecked TicketMaster and all the weekend shows are available, even the \"sold\nout\" shows. I didn't check the price. They do have some weekday shows also\nif you would rather do that.\n\nNM\n\n\n\n\n-----Original Message-----\nFrom: Kay.Mann@enron.com [mailto:Kay.Mann@enron.com]\nSent: Wednesday, January 03, 2001 11:33 AM\nTo: nmann@erac.com\nSubject: Re: E Party 1/20/00\n\n\n\nYou know me.  I don't care one way or the other.  Is there a reason why you\nwant to skip it?\n\nWe don't have to go to FW for the rodeo.  I just thought that would be fun\nto do, and my mom wants Michael to come so badly.  We can always just go\nfor a visit.  In fact, Michael and I can go alone some time.\n\nLike I said last night, you would make a great guide.  You'll be Michael's\nguide one of these days.\n\nckm\n\n\n\n\n\"Neil Mann\" <nmann@erac.com> on 01/03/2001 11:41:09 AM\n\nPlease respond to <nmann@erac.com>\n\nTo:   \"C. Kay Mann (E-mail)\" <Kay.Mann@Enron.com>\ncc:\n\nSubject:  E Party 1/20/00\n\nYou do mind if we skip this party?\n\n\n\n\n\n\n\n\n\n",
         "False",
         "0.11762540475948925"
        ],
        [
         "228275",
         "Message-ID: <16106628.1075846187286.JavaMail.evans@thyme>\nDate: Mon, 30 Oct 2000 07:20:00 -0800 (PST)\nFrom: mary.bailey@enron.com\nTo: steven.kean@enron.com, mark.courtney@enron.com, traci.warner@enron.com, \n\tscott.porter@enron.com, bernie.barcio@enron.com, \n\tandrew.wilson@enron.com, bill.windle@enron.com, \n\tbrian.spector@enron.com, kate.fraser@enron.com, \n\tpushkar.shahi@enron.com, waymon.votaw@enron.com, \n\tpatrick.wade@enron.com, david.dye@enron.com, jon.adler@enron.com, \n\tgreg.characklis@enron.com, william.kendrick@enron.com, \n\tlarry.leib@enron.com, andrew.miles@enron.com, \n\tstephen.stenhouse@enron.com, trevor.randolph@enron.com, \n\tcharles.varnell@enron.com, doug.sewell@enron.com, \n\talhamd.alkhayat@enron.com, micha.makowsky@enron.com, \n\tfrank.bay@enron.com, jaime.gualy@enron.com, john.wilson@enron.com, \n\tjohn.walt@enron.com, kelli.little@enron.com, patrick.wade@enron.com, \n\tmichelle.juden@enron.com, aamir.maniar@enron.com, \n\tdoug.sewell@enron.com, brian.o'rourke@enron.com, \n\tdavid.maskell@enron.com, michelle.cisneros@enron.com, \n\tjohn.kiani@enron.com, marilyn_baker@enron.net\nSubject: RESULTS OF SUPER SATURDAY - RICE MBA\nMime-Version: 1.0\nContent-Type: text/plain; charset=us-ascii\nContent-Transfer-Encoding: 7bit\nX-From: Mary Alison Bailey\nX-To: Steven J Kean, Mark Courtney, Traci Warner, Scott Porter, Bernie Barcio, Andrew Wilson, Bill Windle, Brian Spector, Kate Fraser, Pushkar Shahi, Waymon Votaw, Patrick Wade, David Dye, Jon Adler, Greg Characklis, William Kendrick, Larry Leib, Andrew Miles, Stephen Stenhouse, Trevor Randolph, Charles Varnell, Doug Sewell, Alhamd Alkhayat, Micha Makowsky, Frank Bay, Jaime Gualy, John Wilson, John Walt, Kelli Little, Patrick Wade, Michelle Juden, Aamir Maniar, Doug Sewell, Brian O'Rourke, David Maskell, Michelle D Cisneros, John Kiani, Marilyn_baker@enron.net\nX-cc: \nX-bcc: \nX-Folder: \\Steven_Kean_Dec2000_1\\Notes Folders\\All documents\nX-Origin: KEAN-S\nX-FileName: skean.nsf\n\nPlease call or e-mail candidates who have received \"offers\".All of your hard \nwork paid off - you have a great list of \"offers\".  These students have all \nbeen called and will receive a letter/packet by the end of the week.\n",
         "mary.bailey@enron.com",
         "RESULTS OF SUPER SATURDAY - RICE MBA",
         "skean.nsf\n\nPlease call or e-mail candidates who have received \"offers\".All of your hard \nwork paid off - you have a great list of \"offers\".  These students have all \nbeen called and will receive a letter/packet by the end of the week.\n",
         "False",
         "0.15998613477146845"
        ],
        [
         "253429",
         "Message-ID: <15561371.1075862157352.JavaMail.evans@thyme>\nDate: Tue, 20 Nov 2001 10:06:13 -0800 (PST)\nFrom: feedback@intcx.com\nTo: gasindex@list.intcx.com\nSubject: Gas Indices\nMime-Version: 1.0\nContent-Type: text/plain; charset=ANSI_X3.4-1968\nContent-Transfer-Encoding: 7bit\nX-From: IntercontinentalExchange <feedback@intcx.com>\nX-To: gasindex@list.intcx.com\nX-cc: \nX-bcc: \nX-Folder: \\PKEAVEY (Non-Privileged)\\Keavey, Peter F.\\Deleted Items\nX-Origin: Keavey-P\nX-FileName: PKEAVEY (Non-Privileged).pst\n\n\n\nIntercontinentalExchange \nFirm Physical Natural Gas Price Bulletin \nFor Natural Gas Delivered on Wednesday, November 21, 2001 \n(Trade Date of Tuesday, November 20, 2001) \nClick here to access index history. \n* volume represents sell-side only * \n Region     Hub \t High \t Low \t Wtd Avg Index \t Change ($) \t Vol (mmBtu) \t Hub Name \t\n  LOUISIANA \t   \t   \t   \t   \t   \t   \t\n     ANR SE \t $2.7900 \t $2.1000 \t $2.6126 \t +.5901 \t 222,600 \t American Natural Resources Pipeline Co. - SE Transmission Pool \t\n     Columbia Onshore \t $2.7450 \t $2.1500 \t $2.5128 \t +.3097 \t 305,200 \t Columbia Gulf Transmission Co. - Onshore Pool  \t\n     Henry Hub \t $2.8200 \t $2.2200 \t $2.6180 \t +.5406 \t 1,538,500 \t Henry Hub tailgate - Louisiana  \t\n     NGPL LA \t $2.7400 \t $2.0550 \t $2.5180 \t +.5460 \t 287,900 \t Natural Gas Pipeline Co. of America, Louisiana Pool  \t\n     Tenn 500L \t $2.7400 \t $2.2800 \t $2.5295 \t +.4989 \t 275,100 \t Tennessee Gas Pipeline Co.-Zone L, 500 Leg Pool  \t\n     Tenn 800L \t $2.7300 \t $2.2450 \t $2.4840 \t +.4767 \t 248,800 \t Tennessee Gas Pipeline Co.-Zone L, 800 Leg Pool  \t\n     TETCO ELA \t $2.7900 \t $2.2500 \t $2.5993 \t +.4619 \t 164,900 \t Texas Eastern - East LA  \t\n     TETCO WLA \t $2.7700 \t $2.3300 \t $2.5976 \t +.6778 \t 208,300 \t Texas Eastern - West LA  \t\n     Transco 65 \t $2.8200 \t $2.3000 \t $2.6756 \t +.5535 \t 176,100 \t Transco - Station 65  \t\n     Trunkline ELA \t $2.7600 \t $2.0000 \t $2.5481 \t +.5686 \t 82,500 \t Trunkline Gas Company - East Louisiana Pool  \t\n     TxGas SL \t $2.8400 \t $2.2800 \t $2.6244 \t +.5326 \t 245,000 \t Texas Gas Transmission Corp.-Zone SL FT Pool  \t\n  MIDCONTINENT \t   \t   \t   \t   \t   \t   \t\n     MichCon, citygate \t $2.9000 \t $2.2500 \t $2.8052 \t +.6308 \t 219,800 \t Michigan Consolidated  \t\n     NGPL Midcont \t $2.5900 \t $2.2300 \t $2.4805 \t +.6875 \t 221,700 \t Natural Gas Pipeline Co. of America, Mid-Continent Pool  \t\n     NGPL Nicor, citygate \t $2.7975 \t $2.1300 \t $2.6082 \t +.5992 \t 1,231,800 \t Natural Gas Pipeline Co. of America, Nicor Citygate \t\n     NGPL NIPSCO, citygate \t $2.8000 \t $2.5400 \t $2.7380 \t +.7435 \t 107,500 \t Natural Gas Pipeline Co. of America, Nipsco Citygate \t\n     NNG Demarcation \t $2.7000 \t $2.1250 \t $2.4831 \t +.4382 \t 214,200 \t Northern Natural Gas, Demarcation Pool  \t\n  NORTHEAST \t   \t   \t   \t   \t   \t   \t\n     Columbia TCO \t $2.9100 \t $2.2900 \t $2.7287 \t +.5870 \t 533,300 \t Columbia Gas Co. - TCO Pool  \t\n     Dominion So.Point \t $3.1000 \t $2.7800 \t $2.8973 \t +.5502 \t 235,300 \t Dominion - South Point  \t\n     TETCO M3 \t $3.3100 \t $2.8000 \t $3.0520 \t +.5224 \t 218,400 \t Texas Eastern - M3 Zone  \t\n     Transco Z-6 (NY) \t $3.4100 \t $2.9000 \t $3.2445 \t +.6188 \t 100,000 \t Transcontinental Gas Pipe Line Corp. - Zone 6 (NY) \t\n  WEST \t   \t   \t   \t   \t   \t   \t\n     El Paso non-Bondad \t $2.4500 \t $2.1600 \t $2.3522 \t +.6445 \t 183,900 \t El Paso - San Juan Basin, Blanco Pool \t\n     Huntingdon/Sumas \t $2.4500 \t $2.3200 \t $2.3958 \t +.5708 \t 126,000 \t Westcoast Energy & Northwest Pipeline Corp. \t\n     Opal \t $2.4100 \t $1.9600 \t $2.2514 \t +.6931 \t 109,800 \t Opal \t\n     PG&E Citygate \t $2.6500 \t $2.3800 \t $2.5525 \t +.5769 \t 227,500 \t PG&E - Citygate  \t\n     SoCal Border \t $2.7200 \t $2.4000 \t $2.5593 \t +.6743 \t 208,000 \t Southern California Border Points (Ehrenberg,Topock,Needles) \t\n  WEST TEXAS \t   \t   \t   \t   \t   \t   \t\n     El Paso - Keystone \t $2.5300 \t $2.3700 \t $2.4526 \t +.7034 \t 606,000 \t El Paso - Keystone Pool \t\n     Waha \t $2.5700 \t $2.3800 \t $2.5118 \t +.6383 \t 245,300 \t Waha Hub - West Texas  \t\n\n\nIncludes all firm physical fixed price trades done from 7 AM to 11:30 AM Central Prevailing Time on the trade date specified for natural gas delivered on the specified date(s). \nIntercontinentalExchange is the world's most liquid trading platform for over-the-counter energy and metals.  Active markets include North American power and natural gas, global crude and refined oil products, and precious metals.  Traded instruments include forwards, swaps, and options. \nIn order to receive the proprietary information contained in this email, you acknowledge and agree that you shall not further disseminate the IntercontinentalExchange Market Data contained herein to any person or entity without the express written consent of IntercontinentalExchange.   Furthermore, you acknowledge that (1) IntercontinentalExchange has exclusive and valuable property rights in this data; (2) IntercontinentalExchange's data is being made available to you only for your own business or personal activities; and (3) you cannot communicate the data, in any form, to any other person or entity without the express written consent of IntercontinentalExchange. \nThis data is provided to you free of charge.  IntercontinentalExchange reserves the right to cancel this service at any time for any reason or no reason at all. \nYou agree that IntercontinentalExchange does not make any representations or warranties, express or implied, with respect to the data. \nTo become an Exchange Participant or inquire about the indices, please contact sales@intcx.com. \nTo unsubscribe from this service, click here unsubscribe. \n?Copyright IntercontinentalExchange, Inc. 2001, All Rights Reserved. ",
         "feedback@intcx.com",
         "Gas Indices",
         "PKEAVEY (Non-Privileged).pst\n\n\n\nIntercontinentalExchange \nFirm Physical Natural Gas Price Bulletin \nFor Natural Gas Delivered on Wednesday, November 21, 2001 \n(Trade Date of Tuesday, November 20, 2001) \nClick here to access index history. \n* volume represents sell-side only * \n Region     Hub \t High \t Low \t Wtd Avg Index \t Change ($) \t Vol (mmBtu) \t Hub Name \t\n  LOUISIANA \t   \t   \t   \t   \t   \t   \t\n     ANR SE \t $2.7900 \t $2.1000 \t $2.6126 \t +.5901 \t 222,600 \t American Natural Resources Pipeline Co. - SE Transmission Pool \t\n     Columbia Onshore \t $2.7450 \t $2.1500 \t $2.5128 \t +.3097 \t 305,200 \t Columbia Gulf Transmission Co. - Onshore Pool  \t\n     Henry Hub \t $2.8200 \t $2.2200 \t $2.6180 \t +.5406 \t 1,538,500 \t Henry Hub tailgate - Louisiana  \t\n     NGPL LA \t $2.7400 \t $2.0550 \t $2.5180 \t +.5460 \t 287,900 \t Natural Gas Pipeline Co. of America, Louisiana Pool  \t\n     Tenn 500L \t $2.7400 \t $2.2800 \t $2.5295 \t +.4989 \t 275,100 \t Tennessee Gas Pipeline Co.-Zone L, 500 Leg Pool  \t\n     Tenn 800L \t $2.7300 \t $2.2450 \t $2.4840 \t +.4767 \t 248,800 \t Tennessee Gas Pipeline Co.-Zone L, 800 Leg Pool  \t\n     TETCO ELA \t $2.7900 \t $2.2500 \t $2.5993 \t +.4619 \t 164,900 \t Texas Eastern - East LA  \t\n     TETCO WLA \t $2.7700 \t $2.3300 \t $2.5976 \t +.6778 \t 208,300 \t Texas Eastern - West LA  \t\n     Transco 65 \t $2.8200 \t $2.3000 \t $2.6756 \t +.5535 \t 176,100 \t Transco - Station 65  \t\n     Trunkline ELA \t $2.7600 \t $2.0000 \t $2.5481 \t +.5686 \t 82,500 \t Trunkline Gas Company - East Louisiana Pool  \t\n     TxGas SL \t $2.8400 \t $2.2800 \t $2.6244 \t +.5326 \t 245,000 \t Texas Gas Transmission Corp.-Zone SL FT Pool  \t\n  MIDCONTINENT \t   \t   \t   \t   \t   \t   \t\n     MichCon, citygate \t $2.9000 \t $2.2500 \t $2.8052 \t +.6308 \t 219,800 \t Michigan Consolidated  \t\n     NGPL Midcont \t $2.5900 \t $2.2300 \t $2.4805 \t +.6875 \t 221,700 \t Natural Gas Pipeline Co. of America, Mid-Continent Pool  \t\n     NGPL Nicor, citygate \t $2.7975 \t $2.1300 \t $2.6082 \t +.5992 \t 1,231,800 \t Natural Gas Pipeline Co. of America, Nicor Citygate \t\n     NGPL NIPSCO, citygate \t $2.8000 \t $2.5400 \t $2.7380 \t +.7435 \t 107,500 \t Natural Gas Pipeline Co. of America, Nipsco Citygate \t\n     NNG Demarcation \t $2.7000 \t $2.1250 \t $2.4831 \t +.4382 \t 214,200 \t Northern Natural Gas, Demarcation Pool  \t\n  NORTHEAST \t   \t   \t   \t   \t   \t   \t\n     Columbia TCO \t $2.9100 \t $2.2900 \t $2.7287 \t +.5870 \t 533,300 \t Columbia Gas Co. - TCO Pool  \t\n     Dominion So.Point \t $3.1000 \t $2.7800 \t $2.8973 \t +.5502 \t 235,300 \t Dominion - South Point  \t\n     TETCO M3 \t $3.3100 \t $2.8000 \t $3.0520 \t +.5224 \t 218,400 \t Texas Eastern - M3 Zone  \t\n     Transco Z-6 (NY) \t $3.4100 \t $2.9000 \t $3.2445 \t +.6188 \t 100,000 \t Transcontinental Gas Pipe Line Corp. - Zone 6 (NY) \t\n  WEST \t   \t   \t   \t   \t   \t   \t\n     El Paso non-Bondad \t $2.4500 \t $2.1600 \t $2.3522 \t +.6445 \t 183,900 \t El Paso - San Juan Basin, Blanco Pool \t\n     Huntingdon/Sumas \t $2.4500 \t $2.3200 \t $2.3958 \t +.5708 \t 126,000 \t Westcoast Energy & Northwest Pipeline Corp. \t\n     Opal \t $2.4100 \t $1.9600 \t $2.2514 \t +.6931 \t 109,800 \t Opal \t\n     PG&E Citygate \t $2.6500 \t $2.3800 \t $2.5525 \t +.5769 \t 227,500 \t PG&E - Citygate  \t\n     SoCal Border \t $2.7200 \t $2.4000 \t $2.5593 \t +.6743 \t 208,000 \t Southern California Border Points (Ehrenberg,Topock,Needles) \t\n  WEST TEXAS \t   \t   \t   \t   \t   \t   \t\n     El Paso - Keystone \t $2.5300 \t $2.3700 \t $2.4526 \t +.7034 \t 606,000 \t El Paso - Keystone Pool \t\n     Waha \t $2.5700 \t $2.3800 \t $2.5118 \t +.6383 \t 245,300 \t Waha Hub - West Texas  \t\n\n\nIncludes all firm physical fixed price trades done from 7 AM to 11:30 AM Central Prevailing Time on the trade date specified for natural gas delivered on the specified date(s). \nIntercontinentalExchange is the world's most liquid trading platform for over-the-counter energy and metals.  Active markets include North American power and natural gas, global crude and refined oil products, and precious metals.  Traded instruments include forwards, swaps, and options. \nIn order to receive the proprietary information contained in this email, you acknowledge and agree that you shall not further disseminate the IntercontinentalExchange Market Data contained herein to any person or entity without the express written consent of IntercontinentalExchange.   Furthermore, you acknowledge that (1) IntercontinentalExchange has exclusive and valuable property rights in this data; (2) IntercontinentalExchange's data is being made available to you only for your own business or personal activities; and (3) you cannot communicate the data, in any form, to any other person or entity without the express written consent of IntercontinentalExchange. \nThis data is provided to you free of charge.  IntercontinentalExchange reserves the right to cancel this service at any time for any reason or no reason at all. \nYou agree that IntercontinentalExchange does not make any representations or warranties, express or implied, with respect to the data. \nTo become an Exchange Participant or inquire about the indices, please contact sales@intcx.com. \nTo unsubscribe from this service, click here unsubscribe. \n?Copyright IntercontinentalExchange, Inc. 2001, All Rights Reserved. ",
         "False",
         "0.1861498544615243"
        ],
        [
         "393475",
         "Message-ID: <26526592.1075853218791.JavaMail.evans@thyme>\nDate: Fri, 11 May 2001 02:25:00 -0700 (PDT)\nFrom: richard.sanders@enron.com\nTo: jw1000mac@yahoo.com\nSubject: Memorandum Re CA Substantive and Procedural Law Re\n Contribution/Indemnity\nMime-Version: 1.0\nContent-Type: text/plain; charset=us-ascii\nContent-Transfer-Encoding: 7bit\nX-From: Richard B Sanders\nX-To: jw1000mac@yahoo.com\nX-cc: \nX-bcc: \nX-Folder: \\Richard_Sanders_Oct2001\\Notes Folders\\All documents\nX-Origin: Sanders-R\nX-FileName: rsanders.nsf\n\n----- Forwarded by Richard B Sanders/HOU/ECT on 05/11/2001 09:24 AM -----\n\n\tshoward@agsk.com\n\t05/03/2001 10:56 PM\n\t\t \n\t\t To: Richard.B.Sanders@enron.com\n\t\t cc: \n\t\t Subject: Memorandum Re CA Substantive and Procedural Law Re \nContribution/Indemnity\n\n\nRichard,\n\nHere is the memorandum.  I can send you a separate hard copy if you want it,\nor you can just print one out.\n\nLet's talk on Monday.  If you want to set a specific time, just send me an\ne-mail.\n\nSteve\n                                                                              \n                                                                              \n                                                                              \n                                                                              \n                                                                              \n                                                                              \n                                                                              \n                                                                              \n             ................................................\n\nALSCHULER GROSSMAN STEIN & KAHAN LLP\nATTORNEYS AT LAW\nwww.agsk.com\n\n2049 Century Park East\nThirty-Ninth Floor\nLos Angeles, CA 90067-3213\nTel 310-277-1226\nFax 310-552-6077\n\nThis transmission is intended only for the use\nof the addressee and may contain information\nthat is privileged, confidential and exempt from\ndisclosure under applicable law. If you are not\nthe intended recipient, or the employee or agent\nresponsible for delivering the message to the\nintended recipient, you are hereby notified that\nany dissemination, distribution or copying of\nthis communication is strictly prohibited.\n\nIf you have received this communication\nin error, please notify us immediately\nvia e-mail at postmaster@agsk.com or\nby telephone at 310-277-1226. Thank you.\n\n...............................................\n - Memorandum Re Contribution-Comparative Indemnity.doc",
         "richard.sanders@enron.com",
         "Memorandum Re CA Substantive and Procedural Law Re\n Contribution/Indemnity",
         "rsanders.nsf\n\n----- Forwarded by Richard B Sanders/HOU/ECT on 05/11/2001 09:24 AM -----\n\n\tshoward@agsk.com\n\t05/03/2001 10:56 PM\n\t\t \n\t\t To: Richard.B.Sanders@enron.com\n\t\t cc: \n\t\t Subject: Memorandum Re CA Substantive and Procedural Law Re \nContribution/Indemnity\n\n\nRichard,\n\nHere is the memorandum.  I can send you a separate hard copy if you want it,\nor you can just print one out.\n\nLet's talk on Monday.  If you want to set a specific time, just send me an\ne-mail.\n\nSteve\n                                                                              \n                                                                              \n                                                                              \n                                                                              \n                                                                              \n                                                                              \n                                                                              \n                                                                              \n             ................................................\n\nALSCHULER GROSSMAN STEIN & KAHAN LLP\nATTORNEYS AT LAW\nwww.agsk.com\n\n2049 Century Park East\nThirty-Ninth Floor\nLos Angeles, CA 90067-3213\nTel 310-277-1226\nFax 310-552-6077\n\nThis transmission is intended only for the use\nof the addressee and may contain information\nthat is privileged, confidential and exempt from\ndisclosure under applicable law. If you are not\nthe intended recipient, or the employee or agent\nresponsible for delivering the message to the\nintended recipient, you are hereby notified that\nany dissemination, distribution or copying of\nthis communication is strictly prohibited.\n\nIf you have received this communication\nin error, please notify us immediately\nvia e-mail at postmaster@agsk.com or\nby telephone at 310-277-1226. Thank you.\n\n...............................................\n - Memorandum Re Contribution-Comparative Indemnity.doc",
         "False",
         "0.12386739577068893"
        ],
        [
         "469280",
         "Message-ID: <28647397.1075841837797.JavaMail.evans@thyme>\nDate: Sun, 1 Apr 2001 18:57:00 -0700 (PDT)\nFrom: enron.announcements@enron.com\nTo: all.worldwide@enron.com\nSubject: eThink About It: 4/2/01\nMime-Version: 1.0\nContent-Type: text/plain; charset=us-ascii\nContent-Transfer-Encoding: 7bit\nX-From: Enron Announcements\nX-To: All Enron Worldwide\nX-cc: \nX-bcc: \nX-Folder: \\kate symes 6-27-02\\Notes Folders\\Discussion threads\nX-Origin: SYMES-K\nX-FileName: kate symes 6-27-02.nsf\n\nThursday, Apr. 5 at 10 a.m. Houston time, join George Wasaff, managing \ndirector of Global Strategic Sourcing (GSS) on eSpeak.  George will answer \nquestions about GSS' plans for fiscal 2001 and major sourcing initiatives, \nincluding the roll-out of iBuyit.\n\nNow, for the part about pre-submitting questions:  If you can't make the live \nevent, be sure to post your question on eSpeak right now!  George will answer \nyour questions during his event, and you can read them in the transcript \nlater.\n\n\nethink.enron.com",
         "enron.announcements@enron.com",
         "eThink About It: 4/2/01",
         "kate symes 6-27-02.nsf\n\nThursday, Apr. 5 at 10 a.m. Houston time, join George Wasaff, managing \ndirector of Global Strategic Sourcing (GSS) on eSpeak.  George will answer \nquestions about GSS' plans for fiscal 2001 and major sourcing initiatives, \nincluding the roll-out of iBuyit.\n\nNow, for the part about pre-submitting questions:  If you can't make the live \nevent, be sure to post your question on eSpeak right now!  George will answer \nyour questions during his event, and you can read them in the transcript \nlater.\n\n\nethink.enron.com",
         "False",
         "0.1174755772148761"
        ]
       ],
       "shape": {
        "columns": 6,
        "rows": 1000
       }
      },
      "text/html": [
       "<div>\n",
       "<style scoped>\n",
       "    .dataframe tbody tr th:only-of-type {\n",
       "        vertical-align: middle;\n",
       "    }\n",
       "\n",
       "    .dataframe tbody tr th {\n",
       "        vertical-align: top;\n",
       "    }\n",
       "\n",
       "    .dataframe thead th {\n",
       "        text-align: right;\n",
       "    }\n",
       "</style>\n",
       "<table border=\"1\" class=\"dataframe\">\n",
       "  <thead>\n",
       "    <tr style=\"text-align: right;\">\n",
       "      <th></th>\n",
       "      <th>email</th>\n",
       "      <th>sender</th>\n",
       "      <th>subject</th>\n",
       "      <th>body</th>\n",
       "      <th>prediction</th>\n",
       "      <th>score</th>\n",
       "    </tr>\n",
       "  </thead>\n",
       "  <tbody>\n",
       "    <tr>\n",
       "      <th>98863</th>\n",
       "      <td>Message-ID: &lt;30559528.1075855169455.JavaMail.e...</td>\n",
       "      <td>noreply@ccomad3.uu.commissioner.com</td>\n",
       "      <td>Put up $5 to win $1 Million!</td>\n",
       "      <td>fermis (Non-Privileged).pst\\n\\n\\t\\n\\t\\n \\t CBS...</td>\n",
       "      <td>False</td>\n",
       "      <td>0.239466</td>\n",
       "    </tr>\n",
       "    <tr>\n",
       "      <th>97422</th>\n",
       "      <td>Message-ID: &lt;19680659.1075840418964.JavaMail.e...</td>\n",
       "      <td>chris.dorland@enron.com</td>\n",
       "      <td>RE: Position and P&amp;L</td>\n",
       "      <td>chris dorland 6-26-02.PST\\n\\nOct Sumas trades\\...</td>\n",
       "      <td>False</td>\n",
       "      <td>0.154439</td>\n",
       "    </tr>\n",
       "    <tr>\n",
       "      <th>448345</th>\n",
       "      <td>Message-ID: &lt;11771876.1075841563440.JavaMail.e...</td>\n",
       "      <td>pete.davis@enron.com</td>\n",
       "      <td>Start Date: 2/3/02; HourAhead hour: 10;\\nCc: a...</td>\n",
       "      <td>geir solberg 6-26-02.PST\\n\\n\\n\\nStart Date: 2/...</td>\n",
       "      <td>False</td>\n",
       "      <td>0.163893</td>\n",
       "    </tr>\n",
       "    <tr>\n",
       "      <th>54646</th>\n",
       "      <td>Message-ID: &lt;12518766.1075853090439.JavaMail.e...</td>\n",
       "      <td>bryant@cheatsheets.net</td>\n",
       "      <td>[Footballguys] Update # 138  10-25 Week 7 Chea...</td>\n",
       "      <td>MCUILLA (Non-Privileged).pst\\n\\nHi Folks,\\n\\nA...</td>\n",
       "      <td>False</td>\n",
       "      <td>0.157376</td>\n",
       "    </tr>\n",
       "    <tr>\n",
       "      <th>45510</th>\n",
       "      <td>Message-ID: &lt;29528344.1075857924287.JavaMail.e...</td>\n",
       "      <td>enron.announcements@enron.com</td>\n",
       "      <td>Remote control your air-conditioner and heater</td>\n",
       "      <td>lcampbel.nsf\\n\\nNewPower to offer another pilo...</td>\n",
       "      <td>False</td>\n",
       "      <td>0.172520</td>\n",
       "    </tr>\n",
       "    <tr>\n",
       "      <th>...</th>\n",
       "      <td>...</td>\n",
       "      <td>...</td>\n",
       "      <td>...</td>\n",
       "      <td>...</td>\n",
       "      <td>...</td>\n",
       "      <td>...</td>\n",
       "    </tr>\n",
       "    <tr>\n",
       "      <th>311648</th>\n",
       "      <td>Message-ID: &lt;14061033.1075845796018.JavaMail.e...</td>\n",
       "      <td>kay.mann@enron.com</td>\n",
       "      <td>GE ContractPayment Summary</td>\n",
       "      <td>kmann.nsf\\n\\nThe latest, greatest...\\n--------...</td>\n",
       "      <td>False</td>\n",
       "      <td>0.105826</td>\n",
       "    </tr>\n",
       "    <tr>\n",
       "      <th>231068</th>\n",
       "      <td>Message-ID: &lt;30988171.1075847650719.JavaMail.e...</td>\n",
       "      <td>mark.schroeder@enron.com</td>\n",
       "      <td>Benefits of competition in electricity\\nCc: jo...</td>\n",
       "      <td>skean.nsf\\n\\nAs we all deal with the fallout f...</td>\n",
       "      <td>False</td>\n",
       "      <td>0.161730</td>\n",
       "    </tr>\n",
       "    <tr>\n",
       "      <th>257975</th>\n",
       "      <td>Message-ID: &lt;8668663.1075840848630.JavaMail.ev...</td>\n",
       "      <td>laura.luce@enron.com</td>\n",
       "      <td>NY Event w/PEC &amp; Keyspan\\nCc: tammie.schoppe@e...</td>\n",
       "      <td>louise kitchen 2-7-02.pst\\n\\nLouise,\\nIt is my...</td>\n",
       "      <td>False</td>\n",
       "      <td>0.124851</td>\n",
       "    </tr>\n",
       "    <tr>\n",
       "      <th>478807</th>\n",
       "      <td>Message-ID: &lt;15334805.1075859980268.JavaMail.e...</td>\n",
       "      <td>fishkinc@hotmail.com</td>\n",
       "      <td></td>\n",
       "      <td>mtaylor.nsf\\n\\nHere's a working draft on a new...</td>\n",
       "      <td>False</td>\n",
       "      <td>0.168301</td>\n",
       "    </tr>\n",
       "    <tr>\n",
       "      <th>321214</th>\n",
       "      <td>Message-ID: &lt;31054485.1075845927977.JavaMail.e...</td>\n",
       "      <td>kay.mann@enron.com</td>\n",
       "      <td></td>\n",
       "      <td>kmann.nsf\\n\\nHere's something to work with:\\n\\...</td>\n",
       "      <td>False</td>\n",
       "      <td>0.116320</td>\n",
       "    </tr>\n",
       "  </tbody>\n",
       "</table>\n",
       "<p>1000 rows × 6 columns</p>\n",
       "</div>"
      ],
      "text/plain": [
       "                                                    email  \\\n",
       "98863   Message-ID: <30559528.1075855169455.JavaMail.e...   \n",
       "97422   Message-ID: <19680659.1075840418964.JavaMail.e...   \n",
       "448345  Message-ID: <11771876.1075841563440.JavaMail.e...   \n",
       "54646   Message-ID: <12518766.1075853090439.JavaMail.e...   \n",
       "45510   Message-ID: <29528344.1075857924287.JavaMail.e...   \n",
       "...                                                   ...   \n",
       "311648  Message-ID: <14061033.1075845796018.JavaMail.e...   \n",
       "231068  Message-ID: <30988171.1075847650719.JavaMail.e...   \n",
       "257975  Message-ID: <8668663.1075840848630.JavaMail.ev...   \n",
       "478807  Message-ID: <15334805.1075859980268.JavaMail.e...   \n",
       "321214  Message-ID: <31054485.1075845927977.JavaMail.e...   \n",
       "\n",
       "                                     sender  \\\n",
       "98863   noreply@ccomad3.uu.commissioner.com   \n",
       "97422               chris.dorland@enron.com   \n",
       "448345                 pete.davis@enron.com   \n",
       "54646                bryant@cheatsheets.net   \n",
       "45510         enron.announcements@enron.com   \n",
       "...                                     ...   \n",
       "311648                   kay.mann@enron.com   \n",
       "231068             mark.schroeder@enron.com   \n",
       "257975                 laura.luce@enron.com   \n",
       "478807                 fishkinc@hotmail.com   \n",
       "321214                   kay.mann@enron.com   \n",
       "\n",
       "                                                  subject  \\\n",
       "98863                        Put up $5 to win $1 Million!   \n",
       "97422                                RE: Position and P&L   \n",
       "448345  Start Date: 2/3/02; HourAhead hour: 10;\\nCc: a...   \n",
       "54646   [Footballguys] Update # 138  10-25 Week 7 Chea...   \n",
       "45510      Remote control your air-conditioner and heater   \n",
       "...                                                   ...   \n",
       "311648                         GE ContractPayment Summary   \n",
       "231068  Benefits of competition in electricity\\nCc: jo...   \n",
       "257975  NY Event w/PEC & Keyspan\\nCc: tammie.schoppe@e...   \n",
       "478807                                                      \n",
       "321214                                                      \n",
       "\n",
       "                                                     body  prediction  \\\n",
       "98863   fermis (Non-Privileged).pst\\n\\n\\t\\n\\t\\n \\t CBS...       False   \n",
       "97422   chris dorland 6-26-02.PST\\n\\nOct Sumas trades\\...       False   \n",
       "448345  geir solberg 6-26-02.PST\\n\\n\\n\\nStart Date: 2/...       False   \n",
       "54646   MCUILLA (Non-Privileged).pst\\n\\nHi Folks,\\n\\nA...       False   \n",
       "45510   lcampbel.nsf\\n\\nNewPower to offer another pilo...       False   \n",
       "...                                                   ...         ...   \n",
       "311648  kmann.nsf\\n\\nThe latest, greatest...\\n--------...       False   \n",
       "231068  skean.nsf\\n\\nAs we all deal with the fallout f...       False   \n",
       "257975  louise kitchen 2-7-02.pst\\n\\nLouise,\\nIt is my...       False   \n",
       "478807  mtaylor.nsf\\n\\nHere's a working draft on a new...       False   \n",
       "321214  kmann.nsf\\n\\nHere's something to work with:\\n\\...       False   \n",
       "\n",
       "           score  \n",
       "98863   0.239466  \n",
       "97422   0.154439  \n",
       "448345  0.163893  \n",
       "54646   0.157376  \n",
       "45510   0.172520  \n",
       "...          ...  \n",
       "311648  0.105826  \n",
       "231068  0.161730  \n",
       "257975  0.124851  \n",
       "478807  0.168301  \n",
       "321214  0.116320  \n",
       "\n",
       "[1000 rows x 6 columns]"
      ]
     },
     "execution_count": 48,
     "metadata": {},
     "output_type": "execute_result"
    }
   ],
   "source": [
    "df_results_new = pd.DataFrame({\n",
    "    'email': df_emails_data_random['message'],\n",
    "    'sender': df_parsed_emails['From'],\n",
    "    'subject': df_parsed_emails['Subject'],\n",
    "    'body': df_parsed_emails['Body'],\n",
    "    'prediction': detector.predict(df_emails_data_random['message']),\n",
    "    'score': detector.predict_proba(df_emails_data_random['message'])[:,1],\n",
    "})\n",
    "df_results_new"
   ]
  },
  {
   "cell_type": "code",
   "execution_count": null,
   "id": "01911bab",
   "metadata": {},
   "outputs": [],
   "source": []
  }
 ],
 "metadata": {
  "kernelspec": {
   "display_name": "venv",
   "language": "python",
   "name": "python3"
  },
  "language_info": {
   "codemirror_mode": {
    "name": "ipython",
    "version": 3
   },
   "file_extension": ".py",
   "mimetype": "text/x-python",
   "name": "python",
   "nbconvert_exporter": "python",
   "pygments_lexer": "ipython3",
   "version": "3.12.12"
  }
 },
 "nbformat": 4,
 "nbformat_minor": 5
}
